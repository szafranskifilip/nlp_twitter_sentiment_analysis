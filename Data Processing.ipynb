{
 "cells": [
  {
   "cell_type": "markdown",
   "metadata": {},
   "source": [
    "### Import Necessary Dependencies"
   ]
  },
  {
   "cell_type": "code",
   "execution_count": 56,
   "metadata": {},
   "outputs": [
    {
     "name": "stderr",
     "output_type": "stream",
     "text": [
      "[nltk_data] Downloading package stopwords to /Users/Filip/nltk_data...\n",
      "[nltk_data]   Package stopwords is already up-to-date!\n",
      "[nltk_data] Downloading package punkt to /Users/Filip/nltk_data...\n",
      "[nltk_data]   Package punkt is already up-to-date!\n"
     ]
    }
   ],
   "source": [
    "#Import libraries\n",
    "\n",
    "import nltk\n",
    "nltk.download('stopwords')\n",
    "nltk.download('punkt')\n",
    "from nltk.corpus import stopwords\n",
    "import string\n",
    "from nltk import word_tokenize, FreqDist\n",
    "from sklearn.feature_extraction.text import TfidfVectorizer, CountVectorizer, TfidfTransformer\n",
    "from sklearn.pipeline import Pipeline\n",
    "from sklearn.metrics import accuracy_score\n",
    "from sklearn.datasets import fetch_20newsgroups\n",
    "from sklearn.ensemble import RandomForestClassifier\n",
    "from sklearn.naive_bayes import MultinomialNB\n",
    "from sklearn.model_selection import train_test_split\n",
    "import matplotlib.pyplot as plt\n",
    "import pandas as pd\n",
    "import numpy as np\n",
    "import seaborn as sns\n",
    "np.random.seed(0)\n",
    "\n",
    "%matplotlib inline\n",
    "plt.style.use('seaborn')\n",
    "\n",
    "import xgboost as xgb\n",
    "\n",
    "import warnings\n",
    "warnings.filterwarnings('ignore')"
   ]
  },
  {
   "cell_type": "markdown",
   "metadata": {},
   "source": [
    "### Read and Load the Dataset"
   ]
  },
  {
   "cell_type": "code",
   "execution_count": 37,
   "metadata": {},
   "outputs": [
    {
     "data": {
      "text/html": [
       "<div>\n",
       "<style scoped>\n",
       "    .dataframe tbody tr th:only-of-type {\n",
       "        vertical-align: middle;\n",
       "    }\n",
       "\n",
       "    .dataframe tbody tr th {\n",
       "        vertical-align: top;\n",
       "    }\n",
       "\n",
       "    .dataframe thead th {\n",
       "        text-align: right;\n",
       "    }\n",
       "</style>\n",
       "<table border=\"1\" class=\"dataframe\">\n",
       "  <thead>\n",
       "    <tr style=\"text-align: right;\">\n",
       "      <th></th>\n",
       "      <th>tweet_text</th>\n",
       "      <th>emotion_in_tweet_is_directed_at</th>\n",
       "      <th>is_there_an_emotion_directed_at_a_brand_or_product</th>\n",
       "    </tr>\n",
       "  </thead>\n",
       "  <tbody>\n",
       "    <tr>\n",
       "      <th>0</th>\n",
       "      <td>.@wesley83 I have a 3G iPhone. After 3 hrs twe...</td>\n",
       "      <td>iPhone</td>\n",
       "      <td>Negative emotion</td>\n",
       "    </tr>\n",
       "    <tr>\n",
       "      <th>1</th>\n",
       "      <td>@jessedee Know about @fludapp ? Awesome iPad/i...</td>\n",
       "      <td>iPad or iPhone App</td>\n",
       "      <td>Positive emotion</td>\n",
       "    </tr>\n",
       "    <tr>\n",
       "      <th>2</th>\n",
       "      <td>@swonderlin Can not wait for #iPad 2 also. The...</td>\n",
       "      <td>iPad</td>\n",
       "      <td>Positive emotion</td>\n",
       "    </tr>\n",
       "    <tr>\n",
       "      <th>3</th>\n",
       "      <td>@sxsw I hope this year's festival isn't as cra...</td>\n",
       "      <td>iPad or iPhone App</td>\n",
       "      <td>Negative emotion</td>\n",
       "    </tr>\n",
       "    <tr>\n",
       "      <th>4</th>\n",
       "      <td>@sxtxstate great stuff on Fri #SXSW: Marissa M...</td>\n",
       "      <td>Google</td>\n",
       "      <td>Positive emotion</td>\n",
       "    </tr>\n",
       "  </tbody>\n",
       "</table>\n",
       "</div>"
      ],
      "text/plain": [
       "                                          tweet_text  \\\n",
       "0  .@wesley83 I have a 3G iPhone. After 3 hrs twe...   \n",
       "1  @jessedee Know about @fludapp ? Awesome iPad/i...   \n",
       "2  @swonderlin Can not wait for #iPad 2 also. The...   \n",
       "3  @sxsw I hope this year's festival isn't as cra...   \n",
       "4  @sxtxstate great stuff on Fri #SXSW: Marissa M...   \n",
       "\n",
       "  emotion_in_tweet_is_directed_at  \\\n",
       "0                          iPhone   \n",
       "1              iPad or iPhone App   \n",
       "2                            iPad   \n",
       "3              iPad or iPhone App   \n",
       "4                          Google   \n",
       "\n",
       "  is_there_an_emotion_directed_at_a_brand_or_product  \n",
       "0                                   Negative emotion  \n",
       "1                                   Positive emotion  \n",
       "2                                   Positive emotion  \n",
       "3                                   Negative emotion  \n",
       "4                                   Positive emotion  "
      ]
     },
     "execution_count": 37,
     "metadata": {},
     "output_type": "execute_result"
    }
   ],
   "source": [
    "# Upload datasets\n",
    "df = pd.read_csv('tweet_product_company.csv', encoding = 'unicode_escape')\n",
    "df.head()"
   ]
  },
  {
   "cell_type": "markdown",
   "metadata": {},
   "source": [
    "### Exploratory Data Analysis"
   ]
  },
  {
   "cell_type": "code",
   "execution_count": 38,
   "metadata": {},
   "outputs": [
    {
     "name": "stdout",
     "output_type": "stream",
     "text": [
      "<class 'pandas.core.frame.DataFrame'>\n",
      "RangeIndex: 9093 entries, 0 to 9092\n",
      "Data columns (total 3 columns):\n",
      " #   Column                                              Non-Null Count  Dtype \n",
      "---  ------                                              --------------  ----- \n",
      " 0   tweet_text                                          9092 non-null   object\n",
      " 1   emotion_in_tweet_is_directed_at                     3291 non-null   object\n",
      " 2   is_there_an_emotion_directed_at_a_brand_or_product  9093 non-null   object\n",
      "dtypes: object(3)\n",
      "memory usage: 213.2+ KB\n"
     ]
    }
   ],
   "source": [
    "df.info()"
   ]
  },
  {
   "cell_type": "code",
   "execution_count": 39,
   "metadata": {},
   "outputs": [
    {
     "data": {
      "text/plain": [
       "10"
      ]
     },
     "execution_count": 39,
     "metadata": {},
     "output_type": "execute_result"
    }
   ],
   "source": [
    "len(df.emotion_in_tweet_is_directed_at.unique())"
   ]
  },
  {
   "cell_type": "code",
   "execution_count": 40,
   "metadata": {},
   "outputs": [
    {
     "data": {
      "text/html": [
       "<div>\n",
       "<style scoped>\n",
       "    .dataframe tbody tr th:only-of-type {\n",
       "        vertical-align: middle;\n",
       "    }\n",
       "\n",
       "    .dataframe tbody tr th {\n",
       "        vertical-align: top;\n",
       "    }\n",
       "\n",
       "    .dataframe thead th {\n",
       "        text-align: right;\n",
       "    }\n",
       "</style>\n",
       "<table border=\"1\" class=\"dataframe\">\n",
       "  <thead>\n",
       "    <tr style=\"text-align: right;\">\n",
       "      <th></th>\n",
       "      <th>tweet_text</th>\n",
       "      <th>product</th>\n",
       "      <th>label</th>\n",
       "    </tr>\n",
       "  </thead>\n",
       "  <tbody>\n",
       "    <tr>\n",
       "      <th>0</th>\n",
       "      <td>.@wesley83 I have a 3G iPhone. After 3 hrs twe...</td>\n",
       "      <td>iPhone</td>\n",
       "      <td>Negative emotion</td>\n",
       "    </tr>\n",
       "    <tr>\n",
       "      <th>1</th>\n",
       "      <td>@jessedee Know about @fludapp ? Awesome iPad/i...</td>\n",
       "      <td>iPad or iPhone App</td>\n",
       "      <td>Positive emotion</td>\n",
       "    </tr>\n",
       "    <tr>\n",
       "      <th>2</th>\n",
       "      <td>@swonderlin Can not wait for #iPad 2 also. The...</td>\n",
       "      <td>iPad</td>\n",
       "      <td>Positive emotion</td>\n",
       "    </tr>\n",
       "    <tr>\n",
       "      <th>3</th>\n",
       "      <td>@sxsw I hope this year's festival isn't as cra...</td>\n",
       "      <td>iPad or iPhone App</td>\n",
       "      <td>Negative emotion</td>\n",
       "    </tr>\n",
       "    <tr>\n",
       "      <th>4</th>\n",
       "      <td>@sxtxstate great stuff on Fri #SXSW: Marissa M...</td>\n",
       "      <td>Google</td>\n",
       "      <td>Positive emotion</td>\n",
       "    </tr>\n",
       "  </tbody>\n",
       "</table>\n",
       "</div>"
      ],
      "text/plain": [
       "                                          tweet_text             product  \\\n",
       "0  .@wesley83 I have a 3G iPhone. After 3 hrs twe...              iPhone   \n",
       "1  @jessedee Know about @fludapp ? Awesome iPad/i...  iPad or iPhone App   \n",
       "2  @swonderlin Can not wait for #iPad 2 also. The...                iPad   \n",
       "3  @sxsw I hope this year's festival isn't as cra...  iPad or iPhone App   \n",
       "4  @sxtxstate great stuff on Fri #SXSW: Marissa M...              Google   \n",
       "\n",
       "              label  \n",
       "0  Negative emotion  \n",
       "1  Positive emotion  \n",
       "2  Positive emotion  \n",
       "3  Negative emotion  \n",
       "4  Positive emotion  "
      ]
     },
     "execution_count": 40,
     "metadata": {},
     "output_type": "execute_result"
    }
   ],
   "source": [
    "df.columns = ['tweet_text', 'product', 'label']\n",
    "df.head()"
   ]
  },
  {
   "cell_type": "code",
   "execution_count": 41,
   "metadata": {},
   "outputs": [
    {
     "data": {
      "text/plain": [
       "'.@wesley83 I have a 3G iPhone. After 3 hrs tweeting at #RISE_Austin, it was dead!  I need to upgrade. Plugin stations at #SXSW.'"
      ]
     },
     "execution_count": 41,
     "metadata": {},
     "output_type": "execute_result"
    }
   ],
   "source": [
    "df.tweet_text[0]"
   ]
  },
  {
   "cell_type": "code",
   "execution_count": 42,
   "metadata": {},
   "outputs": [
    {
     "name": "stdout",
     "output_type": "stream",
     "text": [
      "Column:  product\n",
      "Unique values count: 10\n",
      "Values:  ['iPhone' 'iPad or iPhone App' 'iPad' 'Google' nan 'Android' 'Apple'\n",
      " 'Android App' 'Other Google product or service'\n",
      " 'Other Apple product or service']\n",
      "----------------\n",
      "Column:  label\n",
      "Unique values count: 4\n",
      "Values:  ['Negative emotion' 'Positive emotion'\n",
      " 'No emotion toward brand or product' \"I can't tell\"]\n",
      "----------------\n"
     ]
    }
   ],
   "source": [
    "for column in df.columns[1:]:\n",
    "    print('Column: ', column)\n",
    "    print('Unique values count:', len(df[column].unique()))\n",
    "    print('Values: ', df[column].unique())\n",
    "    print('----------------')"
   ]
  },
  {
   "cell_type": "code",
   "execution_count": 43,
   "metadata": {},
   "outputs": [
    {
     "data": {
      "text/html": [
       "<div>\n",
       "<style scoped>\n",
       "    .dataframe tbody tr th:only-of-type {\n",
       "        vertical-align: middle;\n",
       "    }\n",
       "\n",
       "    .dataframe tbody tr th {\n",
       "        vertical-align: top;\n",
       "    }\n",
       "\n",
       "    .dataframe thead th {\n",
       "        text-align: right;\n",
       "    }\n",
       "</style>\n",
       "<table border=\"1\" class=\"dataframe\">\n",
       "  <thead>\n",
       "    <tr style=\"text-align: right;\">\n",
       "      <th></th>\n",
       "      <th>NaN count</th>\n",
       "      <th>Zero values count</th>\n",
       "      <th>Unique_val count</th>\n",
       "      <th>Data type</th>\n",
       "    </tr>\n",
       "  </thead>\n",
       "  <tbody>\n",
       "    <tr>\n",
       "      <th>product</th>\n",
       "      <td>5802</td>\n",
       "      <td>0</td>\n",
       "      <td>9</td>\n",
       "      <td>object</td>\n",
       "    </tr>\n",
       "    <tr>\n",
       "      <th>tweet_text</th>\n",
       "      <td>1</td>\n",
       "      <td>0</td>\n",
       "      <td>9065</td>\n",
       "      <td>object</td>\n",
       "    </tr>\n",
       "    <tr>\n",
       "      <th>label</th>\n",
       "      <td>0</td>\n",
       "      <td>0</td>\n",
       "      <td>4</td>\n",
       "      <td>object</td>\n",
       "    </tr>\n",
       "  </tbody>\n",
       "</table>\n",
       "</div>"
      ],
      "text/plain": [
       "            NaN count  Zero values count  Unique_val count Data type\n",
       "product          5802                  0                 9    object\n",
       "tweet_text          1                  0              9065    object\n",
       "label               0                  0                 4    object"
      ]
     },
     "execution_count": 43,
     "metadata": {},
     "output_type": "execute_result"
    }
   ],
   "source": [
    "# Create summary of Nan and unique values counts and data types\n",
    "X_info = pd.DataFrame(df.isna().sum(), columns=['NaN count'])\n",
    "\n",
    "unique_val = []\n",
    "types_val = []\n",
    "zero_val = []\n",
    "\n",
    "for column in df.columns:\n",
    "    unique = df[column].nunique()\n",
    "    types = str(df[column].dtype)\n",
    "    zeros = len(df[df[column]==0])\n",
    "    \n",
    "    unique_val.append(unique)\n",
    "    types_val.append(types)\n",
    "    zero_val.append(zeros)\n",
    "\n",
    "X_info['Zero values count'] = zero_val\n",
    "X_info['Unique_val count'] = unique_val\n",
    "X_info['Data type'] = types_val\n",
    "\n",
    "X_info.sort_values(by=['NaN count', 'Zero values count'], ascending=False)"
   ]
  },
  {
   "cell_type": "markdown",
   "metadata": {},
   "source": [
    "### Data Visualization of Target Variables"
   ]
  },
  {
   "cell_type": "code",
   "execution_count": 44,
   "metadata": {},
   "outputs": [
    {
     "data": {
      "image/png": "[encoded data removed]",
      "text/plain": [
       "<Figure size 576x396 with 1 Axes>"
      ]
     },
     "metadata": {},
     "output_type": "display_data"
    }
   ],
   "source": [
    "ax = sns.countplot(x='label', data=df)\n",
    "ax.tick_params(axis='x', rotation=90)"
   ]
  },
  {
   "cell_type": "code",
   "execution_count": 86,
   "metadata": {},
   "outputs": [
    {
     "data": {
      "text/plain": [
       "No emotion toward brand or product    0.592609\n",
       "Positive emotion                      0.327541\n",
       "Negative emotion                      0.062692\n",
       "I can't tell                          0.017158\n",
       "Name: label, dtype: float64"
      ]
     },
     "execution_count": 86,
     "metadata": {},
     "output_type": "execute_result"
    }
   ],
   "source": [
    "df['label'].value_counts(normalize=True)"
   ]
  },
  {
   "cell_type": "markdown",
   "metadata": {},
   "source": [
    "### Cleaning and Preprocessing Data"
   ]
  },
  {
   "cell_type": "markdown",
   "metadata": {},
   "source": [
    "#### Dropping a NaN values for 'tweet_text' column\n",
    "\n",
    "- Do we remove stop words or not?\n",
    "- Do we stem or lemmatize our text data, or leave the words as is?\n",
    "- Is basic tokenization enough, or do we need to support special edge cases through the use of regex?\n",
    "- Do we use the entire vocabulary, or just limit the model to a subset of the most frequently used words? If so, how many?\n",
    "- Do we engineer other features, such as bigrams, or POS tags, or Mutual Information Scores?\n",
    "- What sort of vectorization should we use in our model? Boolean Vectorization? Count Vectorization? TF-IDF? More advanced vectorization strategies such as Word2Vec?"
   ]
  },
  {
   "cell_type": "code",
   "execution_count": 57,
   "metadata": {},
   "outputs": [],
   "source": [
    "df.dropna(subset=['tweet_text'], axis='rows', inplace=True)"
   ]
  },
  {
   "cell_type": "markdown",
   "metadata": {},
   "source": [
    "#### Break apart the data and the labels, and then inspect the class names"
   ]
  },
  {
   "cell_type": "code",
   "execution_count": 58,
   "metadata": {},
   "outputs": [],
   "source": [
    "data = df['tweet_text']\n",
    "target = df['label']\n",
    "label_names = list(target.unique())"
   ]
  },
  {
   "cell_type": "code",
   "execution_count": 59,
   "metadata": {},
   "outputs": [
    {
     "data": {
      "text/plain": [
       "['Negative emotion',\n",
       " 'Positive emotion',\n",
       " 'No emotion toward brand or product',\n",
       " \"I can't tell\"]"
      ]
     },
     "execution_count": 59,
     "metadata": {},
     "output_type": "execute_result"
    }
   ],
   "source": [
    "label_names"
   ]
  },
  {
   "cell_type": "code",
   "execution_count": 60,
   "metadata": {},
   "outputs": [],
   "source": [
    "# Split data into train and test sets\n",
    "X_train, X_test, y_train, y_test = train_test_split(data, target, test_size=0.25, random_state=42)"
   ]
  },
  {
   "cell_type": "markdown",
   "metadata": {},
   "source": [
    "#### Getting a list of all of the english stopwords, and concatenating them with a list of all the punctuation."
   ]
  },
  {
   "cell_type": "code",
   "execution_count": 61,
   "metadata": {},
   "outputs": [],
   "source": [
    "stopwords_list = stopwords.words('english') + list(string.punctuation)\n",
    "stopwords_list += [\"''\", '\"\"', '...', '``']"
   ]
  },
  {
   "cell_type": "markdown",
   "metadata": {},
   "source": [
    "#### Tokenizing our dataset"
   ]
  },
  {
   "cell_type": "code",
   "execution_count": 62,
   "metadata": {},
   "outputs": [],
   "source": [
    "def process_tweet(tweet):\n",
    "    tokens = nltk.word_tokenize(tweet)\n",
    "    stopwords_removed = [token.lower() for token in tokens if token.lower() not in stopwords_list]\n",
    "    return stopwords_removed    "
   ]
  },
  {
   "cell_type": "code",
   "execution_count": 63,
   "metadata": {},
   "outputs": [],
   "source": [
    "processed_data = list(map(process_tweet, X_train))"
   ]
  },
  {
   "cell_type": "code",
   "execution_count": 64,
   "metadata": {},
   "outputs": [
    {
     "data": {
      "text/plain": [
       "[['perfect',\n",
       "  'attention',\n",
       "  'detail',\n",
       "  'rt',\n",
       "  'mention',\n",
       "  'google',\n",
       "  'recreated',\n",
       "  'code',\n",
       "  'pac-man',\n",
       "  'doodle',\n",
       "  'original',\n",
       "  'bugs',\n",
       "  'included',\n",
       "  'sxsw',\n",
       "  'googledoodles'],\n",
       " ['iphone', 'stolen', 'got', 'back', 'sxsw']]"
      ]
     },
     "execution_count": 64,
     "metadata": {},
     "output_type": "execute_result"
    }
   ],
   "source": [
    "processed_data[:2]"
   ]
  },
  {
   "cell_type": "markdown",
   "metadata": {},
   "source": [
    "#### Getting the total vocabulary size of the training dataset"
   ]
  },
  {
   "cell_type": "code",
   "execution_count": 65,
   "metadata": {},
   "outputs": [
    {
     "data": {
      "text/plain": [
       "9333"
      ]
     },
     "execution_count": 65,
     "metadata": {},
     "output_type": "execute_result"
    }
   ],
   "source": [
    "total_vocab = set()\n",
    "for comment in processed_data:\n",
    "    total_vocab.update(comment)\n",
    "len(total_vocab)"
   ]
  },
  {
   "cell_type": "markdown",
   "metadata": {},
   "source": [
    "#### Exploring Data With Frequency Distributions"
   ]
  },
  {
   "cell_type": "markdown",
   "metadata": {},
   "source": [
    "- Creating a frequency distribution to see which words are used the most!"
   ]
  },
  {
   "cell_type": "code",
   "execution_count": 66,
   "metadata": {},
   "outputs": [],
   "source": [
    "tweets_concat = []\n",
    "for tweet in processed_data:\n",
    "    tweets_concat += tweet"
   ]
  },
  {
   "cell_type": "code",
   "execution_count": 67,
   "metadata": {},
   "outputs": [
    {
     "data": {
      "text/plain": [
       "[('sxsw', 7149),\n",
       " ('mention', 5289),\n",
       " ('link', 3211),\n",
       " ('rt', 2194),\n",
       " ('google', 1973),\n",
       " ('ipad', 1824),\n",
       " ('apple', 1739),\n",
       " ('quot', 1256),\n",
       " ('iphone', 1140),\n",
       " ('store', 1127),\n",
       " (\"'s\", 929),\n",
       " ('2', 841),\n",
       " ('new', 802),\n",
       " ('austin', 715),\n",
       " ('amp', 644),\n",
       " ('app', 609),\n",
       " ('launch', 505),\n",
       " ('social', 496),\n",
       " ('circles', 492),\n",
       " ('today', 443),\n",
       " ('android', 438),\n",
       " (\"n't\", 366),\n",
       " ('network', 360),\n",
       " ('ipad2', 354),\n",
       " ('pop-up', 331),\n",
       " ('via', 318),\n",
       " ('line', 306),\n",
       " ('free', 291),\n",
       " ('called', 281),\n",
       " ('get', 277),\n",
       " ('party', 254),\n",
       " ('sxswi', 254),\n",
       " ('mobile', 249),\n",
       " ('one', 236),\n",
       " ('major', 232),\n",
       " ('time', 207),\n",
       " (\"'re\", 206),\n",
       " ('like', 206),\n",
       " (\"'m\", 199),\n",
       " ('opening', 199),\n",
       " ('temporary', 197),\n",
       " ('possibly', 184),\n",
       " ('people', 174),\n",
       " ('apps', 173),\n",
       " ('maps', 170),\n",
       " ('popup', 167),\n",
       " ('downtown', 167),\n",
       " ('day', 166),\n",
       " ('great', 166),\n",
       " ('going', 165)]"
      ]
     },
     "execution_count": 67,
     "metadata": {},
     "output_type": "execute_result"
    }
   ],
   "source": [
    "tweets_freqdist = FreqDist(tweets_concat)\n",
    "tweets_freqdist.most_common(50)"
   ]
  },
  {
   "cell_type": "markdown",
   "metadata": {},
   "source": [
    "At first glance, none of these words seem very informative -- for most of the words represented here, it would be tough to guess if a given word is used equally among all five classes, or is disproportionately represented among a single class."
   ]
  },
  {
   "cell_type": "markdown",
   "metadata": {},
   "source": [
    "#### Vectorizing with TF-IDF"
   ]
  },
  {
   "cell_type": "code",
   "execution_count": 68,
   "metadata": {},
   "outputs": [],
   "source": [
    "from sklearn.feature_extraction.text import TfidfVectorizer\n",
    "vectorizer = TfidfVectorizer()\n",
    "\n",
    "tf_idf_data_train = vectorizer.fit_transform(X_train)\n",
    "tf_idf_data_test = vectorizer.transform(X_test)"
   ]
  },
  {
   "cell_type": "markdown",
   "metadata": {},
   "source": [
    "#### Modeling Data"
   ]
  },
  {
   "cell_type": "code",
   "execution_count": 69,
   "metadata": {},
   "outputs": [
    {
     "data": {
      "text/plain": [
       "(2273, 8643)"
      ]
     },
     "execution_count": 69,
     "metadata": {},
     "output_type": "execute_result"
    }
   ],
   "source": [
    "tf_idf_data_test.shape"
   ]
  },
  {
   "cell_type": "code",
   "execution_count": 70,
   "metadata": {},
   "outputs": [
    {
     "data": {
      "text/plain": [
       "(6819, 8643)"
      ]
     },
     "execution_count": 70,
     "metadata": {},
     "output_type": "execute_result"
    }
   ],
   "source": [
    "tf_idf_data_train.shape"
   ]
  },
  {
   "cell_type": "markdown",
   "metadata": {},
   "source": [
    "Checking out the average number of non-zero columns in the vectors. Vectors mostly filled with zeros are referred to as Sparse Vectors."
   ]
  },
  {
   "cell_type": "code",
   "execution_count": 71,
   "metadata": {},
   "outputs": [
    {
     "name": "stdout",
     "output_type": "stream",
     "text": [
      "Average Number of Non-Zero Elements in Vectorized Tweets: 16.301070538202083\n",
      "Percentage of columns containing 0: 0.9981139568971188\n"
     ]
    }
   ],
   "source": [
    "non_zero_cols = tf_idf_data_train.nnz / float(tf_idf_data_train.shape[0])\n",
    "print(\"Average Number of Non-Zero Elements in Vectorized Tweets: {}\".format(non_zero_cols))\n",
    "\n",
    "percent_sparse = 1 - (non_zero_cols / float(tf_idf_data_train.shape[1]))\n",
    "print('Percentage of columns containing 0: {}'.format(percent_sparse))"
   ]
  },
  {
   "cell_type": "markdown",
   "metadata": {},
   "source": [
    "Average vectorized article contains 16 non-zero columns. This means that 99.8% of each vector is actually zeroes."
   ]
  },
  {
   "cell_type": "code",
   "execution_count": 72,
   "metadata": {},
   "outputs": [],
   "source": [
    "nb_classifier = MultinomialNB()\n",
    "rf_classifier = RandomForestClassifier(n_estimators=100)"
   ]
  },
  {
   "cell_type": "code",
   "execution_count": 73,
   "metadata": {},
   "outputs": [],
   "source": [
    "nb_classifier.fit(tf_idf_data_train, y_train)\n",
    "nb_train_preds = nb_classifier.predict(tf_idf_data_train)\n",
    "nb_test_preds = nb_classifier.predict(tf_idf_data_test)"
   ]
  },
  {
   "cell_type": "code",
   "execution_count": 74,
   "metadata": {},
   "outputs": [],
   "source": [
    "rf_classifier.fit(tf_idf_data_train, y_train)\n",
    "rf_train_preds = rf_classifier.predict(tf_idf_data_train)\n",
    "rf_test_preds = rf_classifier.predict(tf_idf_data_test)"
   ]
  },
  {
   "cell_type": "code",
   "execution_count": 75,
   "metadata": {},
   "outputs": [
    {
     "name": "stdout",
     "output_type": "stream",
     "text": [
      "Multinomial Naive Bayes\n",
      "Training Accuracy: 0.7246 \t\t Testing Accuracy: 0.6282\n",
      "\n",
      "----------------------------------------------------------------------\n",
      "\n",
      "Random Forest\n",
      "Training Accuracy: 0.9962 \t\t Testing Accuracy: 0.6621\n"
     ]
    }
   ],
   "source": [
    "nb_train_score = accuracy_score(y_train, nb_train_preds)\n",
    "nb_test_score = accuracy_score(y_test, nb_test_preds)\n",
    "rf_train_score = accuracy_score(y_train, rf_train_preds)\n",
    "rf_test_score = accuracy_score(y_test, rf_test_preds)\n",
    "\n",
    "print(\"Multinomial Naive Bayes\")\n",
    "print(\"Training Accuracy: {:.4} \\t\\t Testing Accuracy: {:.4}\".format(nb_train_score, nb_test_score))\n",
    "print(\"\")\n",
    "print('-'*70)\n",
    "print(\"\")\n",
    "print('Random Forest')\n",
    "print(\"Training Accuracy: {:.4} \\t\\t Testing Accuracy: {:.4}\".format(rf_train_score, rf_test_score))"
   ]
  },
  {
   "cell_type": "markdown",
   "metadata": {},
   "source": [
    "#### Multinomial Naive Bayes"
   ]
  },
  {
   "cell_type": "code",
   "execution_count": 76,
   "metadata": {},
   "outputs": [
    {
     "name": "stdout",
     "output_type": "stream",
     "text": [
      "accuracy 0.6282446106467224\n",
      "                                    precision    recall  f1-score   support\n",
      "\n",
      "                  Negative emotion       0.00      0.00      0.00        39\n",
      "                  Positive emotion       0.00      0.00      0.00       151\n",
      "No emotion toward brand or product       0.62      0.96      0.75      1320\n",
      "                      I can't tell       0.71      0.21      0.32       763\n",
      "\n",
      "                          accuracy                           0.63      2273\n",
      "                         macro avg       0.33      0.29      0.27      2273\n",
      "                      weighted avg       0.60      0.63      0.54      2273\n",
      "\n",
      "CPU times: user 445 ms, sys: 11.3 ms, total: 456 ms\n",
      "Wall time: 342 ms\n"
     ]
    }
   ],
   "source": [
    "%%time\n",
    "nb = Pipeline([('vect', CountVectorizer()),\n",
    "               ('tfidf', TfidfTransformer()),\n",
    "               ('clf', MultinomialNB()),\n",
    "              ])\n",
    "nb.fit(X_train, y_train)\n",
    "\n",
    "\n",
    "from sklearn.metrics import classification_report\n",
    "y_pred = nb.predict(X_test)\n",
    "\n",
    "print('accuracy %s' % accuracy_score(y_pred, y_test))\n",
    "print(classification_report(y_test, y_pred,target_names=label_names))"
   ]
  },
  {
   "cell_type": "code",
   "execution_count": 84,
   "metadata": {},
   "outputs": [
    {
     "name": "stdout",
     "output_type": "stream",
     "text": [
      "accuracy 0.6282446106467224\n",
      "                                    precision    recall  f1-score   support\n",
      "\n",
      "                  Negative emotion       0.00      0.00      0.00        39\n",
      "                  Positive emotion       0.00      0.00      0.00       151\n",
      "No emotion toward brand or product       0.62      0.96      0.75      1320\n",
      "                      I can't tell       0.71      0.21      0.32       763\n",
      "\n",
      "                          accuracy                           0.63      2273\n",
      "                         macro avg       0.33      0.29      0.27      2273\n",
      "                      weighted avg       0.60      0.63      0.54      2273\n",
      "\n",
      "CPU times: user 456 ms, sys: 40.2 ms, total: 496 ms\n",
      "Wall time: 398 ms\n"
     ]
    }
   ],
   "source": [
    "%%time\n",
    "nb = Pipeline([('tfidf', TfidfVectorizer()),\n",
    "               ('clf', MultinomialNB())])\n",
    "\n",
    "nb.fit(X_train, y_train)\n",
    "\n",
    "\n",
    "from sklearn.metrics import classification_report\n",
    "y_pred = nb.predict(X_test)\n",
    "\n",
    "print('accuracy %s' % accuracy_score(y_pred, y_test))\n",
    "print(classification_report(y_test, y_pred,target_names=label_names))"
   ]
  },
  {
   "cell_type": "markdown",
   "metadata": {},
   "source": [
    "#### Linear Support Vector Machine"
   ]
  },
  {
   "cell_type": "code",
   "execution_count": 186,
   "metadata": {},
   "outputs": [
    {
     "name": "stdout",
     "output_type": "stream",
     "text": [
      "accuracy 0.6141663000439948\n",
      "                                    precision    recall  f1-score   support\n",
      "\n",
      "                  Negative emotion       0.00      0.00      0.00        39\n",
      "                  Positive emotion       0.00      0.00      0.00       151\n",
      "No emotion toward brand or product       0.60      0.99      0.75      1320\n",
      "                      I can't tell       0.82      0.12      0.20       763\n",
      "\n",
      "                          accuracy                           0.61      2273\n",
      "                         macro avg       0.36      0.28      0.24      2273\n",
      "                      weighted avg       0.63      0.61      0.50      2273\n",
      "\n",
      "CPU times: user 486 ms, sys: 12.6 ms, total: 498 ms\n",
      "Wall time: 387 ms\n"
     ]
    }
   ],
   "source": [
    "%%time\n",
    "from sklearn.linear_model import SGDClassifier\n",
    "\n",
    "sgd = Pipeline([('vect', CountVectorizer()),\n",
    "                ('tfidf', TfidfTransformer()),\n",
    "                ('clf', SGDClassifier(loss='hinge', penalty='l2',alpha=1e-3, random_state=42, max_iter=5, tol=None)),\n",
    "               ])\n",
    "sgd.fit(X_train, y_train)\n",
    "\n",
    "\n",
    "\n",
    "y_pred = sgd.predict(X_test)\n",
    "\n",
    "print('accuracy %s' % accuracy_score(y_pred, y_test))\n",
    "print(classification_report(y_test, y_pred,target_names=label_names))"
   ]
  },
  {
   "cell_type": "markdown",
   "metadata": {},
   "source": [
    "#### Logistic Regression"
   ]
  },
  {
   "cell_type": "code",
   "execution_count": 85,
   "metadata": {},
   "outputs": [
    {
     "name": "stdout",
     "output_type": "stream",
     "text": [
      "accuracy 0.6339639243290806\n",
      "                                    precision    recall  f1-score   support\n",
      "\n",
      "                  Negative emotion       0.07      0.03      0.04        39\n",
      "                  Positive emotion       0.45      0.33      0.38       151\n",
      "No emotion toward brand or product       0.70      0.74      0.72      1320\n",
      "                      I can't tell       0.55      0.54      0.54       763\n",
      "\n",
      "                          accuracy                           0.63      2273\n",
      "                         macro avg       0.44      0.41      0.42      2273\n",
      "                      weighted avg       0.62      0.63      0.63      2273\n",
      "\n",
      "CPU times: user 2.18 s, sys: 145 ms, total: 2.32 s\n",
      "Wall time: 2.58 s\n"
     ]
    }
   ],
   "source": [
    "%%time\n",
    "from sklearn.linear_model import LogisticRegression\n",
    "\n",
    "logreg = Pipeline([('vect', CountVectorizer()),\n",
    "                ('tfidf', TfidfTransformer()),\n",
    "                ('clf', LogisticRegression(n_jobs=1, C=1e5)),\n",
    "               ])\n",
    "logreg.fit(X_train, y_train)\n",
    "\n",
    "\n",
    "\n",
    "y_pred = logreg.predict(X_test)\n",
    "\n",
    "print('accuracy %s' % accuracy_score(y_pred, y_test))\n",
    "print(classification_report(y_test, y_pred,target_names=label_names))"
   ]
  },
  {
   "cell_type": "markdown",
   "metadata": {},
   "source": [
    "### Keras"
   ]
  },
  {
   "cell_type": "code",
   "execution_count": 87,
   "metadata": {},
   "outputs": [],
   "source": [
    "import random\n",
    "from sklearn.model_selection import train_test_split\n",
    "from keras.utils.np_utils import to_categorical\n",
    "from sklearn import preprocessing\n",
    "from keras.preprocessing.text import Tokenizer\n",
    "from keras import models\n",
    "from keras import layers\n",
    "from keras import optimizers"
   ]
  },
  {
   "cell_type": "markdown",
   "metadata": {},
   "source": [
    "#### One-hot encoding of the complaints"
   ]
  },
  {
   "cell_type": "markdown",
   "metadata": {},
   "source": [
    "Our first step again is to transform our textual data into a numerical representation. As we saw in some of our previous lessons on NLP, there are many ways to do this. Here, we'll use the Tokenizer() class from the preprocessing.text sub-module of the Keras package.\n",
    "\n",
    "As with our previous work using NLTK, this will transform our text complaints into word vectors. (Note that the method of creating a vector is different from our previous work with NLTK; as you'll see, word order will be preserved as opposed to a bag of words representation). In the below code, we'll only keep the 2,000 most common words and use one-hot encoding."
   ]
  },
  {
   "cell_type": "code",
   "execution_count": 88,
   "metadata": {},
   "outputs": [
    {
     "name": "stdout",
     "output_type": "stream",
     "text": [
      "sequences type: <class 'list'>\n",
      "one_hot_results type: <class 'numpy.ndarray'>\n",
      "Found 10147 unique tokens.\n",
      "Dimensions of our coded results: (9092, 2000)\n"
     ]
    }
   ],
   "source": [
    "# Raw text tweets\n",
    "tweets = df['tweet_text']\n",
    "# Initialize a tokenizer \n",
    "tokenizer = Tokenizer(num_words=2000) \n",
    "\n",
    "# Fit it to the complaints\n",
    "tokenizer.fit_on_texts(tweets) \n",
    "\n",
    "# Generate sequences\n",
    "sequences = tokenizer.texts_to_sequences(tweets) \n",
    "print('sequences type:', type(sequences))\n",
    "\n",
    "# Similar to sequences, but returns a numpy array\n",
    "one_hot_results= tokenizer.texts_to_matrix(tweets, mode='binary') \n",
    "print('one_hot_results type:', type(one_hot_results))\n",
    "\n",
    "# Useful if we wish to decode (more explanation below)\n",
    "word_index = tokenizer.word_index \n",
    "\n",
    "# Tokens are the number of unique words across the corpus\n",
    "print('Found %s unique tokens.' % len(word_index)) \n",
    "\n",
    "# Our coded data\n",
    "print('Dimensions of our coded results:', np.shape(one_hot_results)) "
   ]
  },
  {
   "cell_type": "code",
   "execution_count": 91,
   "metadata": {},
   "outputs": [],
   "source": [
    "reverse_index = dict([(value, key) for (key, value) in word_index.items()])"
   ]
  },
  {
   "cell_type": "code",
   "execution_count": 95,
   "metadata": {},
   "outputs": [
    {
     "name": "stdout",
     "output_type": "stream",
     "text": [
      "Original tweet text:\n",
      "@swonderlin Can not wait for #iPad 2 also. They should sale them down at #SXSW.\n",
      "\n",
      "\n",
      "\n",
      "Decoded tweet from Tokenizer:\n",
      "can not wait for ipad 2 also they should sale them down at sxsw\n"
     ]
    }
   ],
   "source": [
    "comment_idx_to_preview = 2\n",
    "print('Original tweet text:')\n",
    "print(tweets[comment_idx_to_preview])\n",
    "print('\\n\\n')\n",
    "\n",
    "#The reverse_index cell block above must be complete in order for this cell block to successively execute.\n",
    "decoded_review = ' '.join([reverse_index.get(i) for i in sequences[comment_idx_to_preview]])\n",
    "print('Decoded tweet from Tokenizer:')\n",
    "print(decoded_review)"
   ]
  },
  {
   "cell_type": "markdown",
   "metadata": {},
   "source": [
    "#### Convert the Products to Numerical Categories"
   ]
  },
  {
   "cell_type": "markdown",
   "metadata": {},
   "source": [
    "Converting descriptive categories into integers"
   ]
  },
  {
   "cell_type": "code",
   "execution_count": 97,
   "metadata": {},
   "outputs": [
    {
     "name": "stdout",
     "output_type": "stream",
     "text": [
      "Original class labels:\n",
      "[\"I can't tell\", 'Negative emotion', 'No emotion toward brand or product', 'Positive emotion']\n",
      "\n",
      "\n",
      "New emotion labels:\n",
      "[1 3 3 ... 2 2 2]\n",
      "\n",
      "\n",
      "One hot labels; 4 binary columns, one for each of the categories.\n",
      "[[0. 1. 0. 0.]\n",
      " [0. 0. 0. 1.]\n",
      " [0. 0. 0. 1.]\n",
      " ...\n",
      " [0. 0. 1. 0.]\n",
      " [0. 0. 1. 0.]\n",
      " [0. 0. 1. 0.]]\n",
      "\n",
      "\n",
      "One hot labels shape:\n",
      "(9092, 4)\n"
     ]
    }
   ],
   "source": [
    "emotion = df['label']\n",
    "\n",
    "# Initialize\n",
    "le = preprocessing.LabelEncoder() \n",
    "le.fit(emotion)\n",
    "print('Original class labels:')\n",
    "print(list(le.classes_))\n",
    "print('\\n')\n",
    "emotion_cat = le.transform(emotion)  \n",
    "\n",
    "# If you wish to retrieve the original descriptive labels post production\n",
    "# list(le.inverse_transform([0, 1, 3, 3, 0, 6, 4])) \n",
    "\n",
    "print('New emotion labels:')\n",
    "print(emotion_cat)\n",
    "print('\\n')\n",
    "\n",
    "# Each row will be all zeros except for the category for that observation \n",
    "print('One hot labels; 4 binary columns, one for each of the categories.') \n",
    "emotion_onehot = to_categorical(emotion_cat)\n",
    "print(emotion_onehot)\n",
    "print('\\n')\n",
    "\n",
    "print('One hot labels shape:')\n",
    "print(np.shape(emotion_onehot))"
   ]
  },
  {
   "cell_type": "markdown",
   "metadata": {},
   "source": [
    "#### Train-test split"
   ]
  },
  {
   "cell_type": "code",
   "execution_count": 99,
   "metadata": {},
   "outputs": [],
   "source": [
    "# Split data into train and test sets\n",
    "X_train, X_test, y_train, y_test = train_test_split(one_hot_results, emotion_onehot, test_size=0.25, random_state=42)"
   ]
  },
  {
   "cell_type": "markdown",
   "metadata": {},
   "source": [
    "#### Building the network"
   ]
  },
  {
   "cell_type": "code",
   "execution_count": 124,
   "metadata": {},
   "outputs": [],
   "source": [
    "# Initialize a sequential model\n",
    "model = models.Sequential()\n",
    "\n",
    "# Two layers with relu activation\n",
    "model.add(layers.Dense(50, activation='relu', input_shape=(2000,)))\n",
    "model.add(layers.Dropout(0.3))\n",
    "model.add(layers.Dense(25, activation='relu'))\n",
    "model.add(layers.Dropout(0.3))\n",
    "\n",
    "# One layer with softmax activation \n",
    "model.add(layers.Dense(4, activation='softmax'))"
   ]
  },
  {
   "cell_type": "markdown",
   "metadata": {},
   "source": [
    "#### Compiling the model"
   ]
  },
  {
   "cell_type": "code",
   "execution_count": 125,
   "metadata": {},
   "outputs": [],
   "source": [
    "# Compile the model\n",
    "model.compile(optimizer='SGD',\n",
    "              loss='categorical_crossentropy',\n",
    "              metrics=['acc'])"
   ]
  },
  {
   "cell_type": "markdown",
   "metadata": {},
   "source": [
    "#### Training the model"
   ]
  },
  {
   "cell_type": "code",
   "execution_count": 126,
   "metadata": {},
   "outputs": [
    {
     "name": "stdout",
     "output_type": "stream",
     "text": [
      "Epoch 1/250\n",
      "6819/6819 [==============================] - 1s 115us/step - loss: 1.3400 - acc: 0.4423\n",
      "Epoch 2/250\n",
      "6819/6819 [==============================] - 0s 39us/step - loss: 1.2316 - acc: 0.5834\n",
      "Epoch 3/250\n",
      "6819/6819 [==============================] - 0s 39us/step - loss: 1.1456 - acc: 0.5932\n",
      "Epoch 4/250\n",
      "6819/6819 [==============================] - 0s 40us/step - loss: 1.0840 - acc: 0.5941\n",
      "Epoch 5/250\n",
      "6819/6819 [==============================] - 0s 41us/step - loss: 1.0421 - acc: 0.5938\n",
      "Epoch 6/250\n",
      "6819/6819 [==============================] - 0s 39us/step - loss: 1.0086 - acc: 0.5951\n",
      "Epoch 7/250\n",
      "6819/6819 [==============================] - 0s 38us/step - loss: 0.9918 - acc: 0.5942\n",
      "Epoch 8/250\n",
      "6819/6819 [==============================] - 0s 49us/step - loss: 0.9767 - acc: 0.5920\n",
      "Epoch 9/250\n",
      "6819/6819 [==============================] - 0s 43us/step - loss: 0.9648 - acc: 0.5929\n",
      "Epoch 10/250\n",
      "6819/6819 [==============================] - 0s 39us/step - loss: 0.9554 - acc: 0.5903\n",
      "Epoch 11/250\n",
      "6819/6819 [==============================] - 0s 39us/step - loss: 0.9494 - acc: 0.5903\n",
      "Epoch 12/250\n",
      "6819/6819 [==============================] - 0s 44us/step - loss: 0.9418 - acc: 0.5923\n",
      "Epoch 13/250\n",
      "6819/6819 [==============================] - 0s 44us/step - loss: 0.9379 - acc: 0.5903\n",
      "Epoch 14/250\n",
      "6819/6819 [==============================] - 0s 39us/step - loss: 0.9365 - acc: 0.5910\n",
      "Epoch 15/250\n",
      "6819/6819 [==============================] - 0s 42us/step - loss: 0.9351 - acc: 0.5876\n",
      "Epoch 16/250\n",
      "6819/6819 [==============================] - 0s 42us/step - loss: 0.9304 - acc: 0.5901\n",
      "Epoch 17/250\n",
      "6819/6819 [==============================] - 0s 39us/step - loss: 0.9277 - acc: 0.5928\n",
      "Epoch 18/250\n",
      "6819/6819 [==============================] - 0s 39us/step - loss: 0.9287 - acc: 0.5919\n",
      "Epoch 19/250\n",
      "6819/6819 [==============================] - 0s 38us/step - loss: 0.9262 - acc: 0.5923\n",
      "Epoch 20/250\n",
      "6819/6819 [==============================] - 0s 39us/step - loss: 0.9257 - acc: 0.5945\n",
      "Epoch 21/250\n",
      "6819/6819 [==============================] - 0s 41us/step - loss: 0.9224 - acc: 0.5950\n",
      "Epoch 22/250\n",
      "6819/6819 [==============================] - 0s 39us/step - loss: 0.9236 - acc: 0.5910\n",
      "Epoch 23/250\n",
      "6819/6819 [==============================] - 0s 40us/step - loss: 0.9248 - acc: 0.5938\n",
      "Epoch 24/250\n",
      "6819/6819 [==============================] - 0s 43us/step - loss: 0.9181 - acc: 0.5941\n",
      "Epoch 25/250\n",
      "6819/6819 [==============================] - 0s 39us/step - loss: 0.9156 - acc: 0.5958\n",
      "Epoch 26/250\n",
      "6819/6819 [==============================] - 0s 43us/step - loss: 0.9181 - acc: 0.5957\n",
      "Epoch 27/250\n",
      "6819/6819 [==============================] - 0s 39us/step - loss: 0.9144 - acc: 0.5969\n",
      "Epoch 28/250\n",
      "6819/6819 [==============================] - 0s 39us/step - loss: 0.9120 - acc: 0.5936\n",
      "Epoch 29/250\n",
      "6819/6819 [==============================] - 0s 40us/step - loss: 0.9121 - acc: 0.5974\n",
      "Epoch 30/250\n",
      "6819/6819 [==============================] - 0s 39us/step - loss: 0.9094 - acc: 0.5957\n",
      "Epoch 31/250\n",
      "6819/6819 [==============================] - 0s 38us/step - loss: 0.9113 - acc: 0.5980\n",
      "Epoch 32/250\n",
      "6819/6819 [==============================] - 0s 41us/step - loss: 0.9131 - acc: 0.5925\n",
      "Epoch 33/250\n",
      "6819/6819 [==============================] - 0s 37us/step - loss: 0.9071 - acc: 0.5995\n",
      "Epoch 34/250\n",
      "6819/6819 [==============================] - 0s 39us/step - loss: 0.9028 - acc: 0.6018\n",
      "Epoch 35/250\n",
      "6819/6819 [==============================] - 0s 42us/step - loss: 0.9025 - acc: 0.5985\n",
      "Epoch 36/250\n",
      "6819/6819 [==============================] - 0s 41us/step - loss: 0.9060 - acc: 0.5952\n",
      "Epoch 37/250\n",
      "6819/6819 [==============================] - 0s 39us/step - loss: 0.9005 - acc: 0.5974\n",
      "Epoch 38/250\n",
      "6819/6819 [==============================] - 0s 38us/step - loss: 0.9036 - acc: 0.6018\n",
      "Epoch 39/250\n",
      "6819/6819 [==============================] - 0s 40us/step - loss: 0.9005 - acc: 0.6007\n",
      "Epoch 40/250\n",
      "6819/6819 [==============================] - 0s 37us/step - loss: 0.8974 - acc: 0.6042\n",
      "Epoch 41/250\n",
      "6819/6819 [==============================] - 0s 42us/step - loss: 0.8967 - acc: 0.5979\n",
      "Epoch 42/250\n",
      "6819/6819 [==============================] - 0s 38us/step - loss: 0.9013 - acc: 0.6005\n",
      "Epoch 43/250\n",
      "6819/6819 [==============================] - 0s 39us/step - loss: 0.8971 - acc: 0.5999\n",
      "Epoch 44/250\n",
      "6819/6819 [==============================] - 0s 39us/step - loss: 0.8930 - acc: 0.6035\n",
      "Epoch 45/250\n",
      "6819/6819 [==============================] - 0s 53us/step - loss: 0.8973 - acc: 0.5999\n",
      "Epoch 46/250\n",
      "6819/6819 [==============================] - 0s 40us/step - loss: 0.8964 - acc: 0.6010\n",
      "Epoch 47/250\n",
      "6819/6819 [==============================] - 0s 40us/step - loss: 0.8915 - acc: 0.6026\n",
      "Epoch 48/250\n",
      "6819/6819 [==============================] - 0s 39us/step - loss: 0.8904 - acc: 0.6017\n",
      "Epoch 49/250\n",
      "6819/6819 [==============================] - 0s 42us/step - loss: 0.8886 - acc: 0.6054\n",
      "Epoch 50/250\n",
      "6819/6819 [==============================] - 0s 46us/step - loss: 0.8921 - acc: 0.5994\n",
      "Epoch 51/250\n",
      "6819/6819 [==============================] - 0s 46us/step - loss: 0.8914 - acc: 0.6032\n",
      "Epoch 52/250\n",
      "6819/6819 [==============================] - 0s 38us/step - loss: 0.8935 - acc: 0.6014\n",
      "Epoch 53/250\n",
      "6819/6819 [==============================] - 0s 46us/step - loss: 0.8846 - acc: 0.5992\n",
      "Epoch 54/250\n",
      "6819/6819 [==============================] - 0s 42us/step - loss: 0.8872 - acc: 0.6005\n",
      "Epoch 55/250\n",
      "6819/6819 [==============================] - 0s 42us/step - loss: 0.8873 - acc: 0.6021\n",
      "Epoch 56/250\n",
      "6819/6819 [==============================] - 0s 39us/step - loss: 0.8903 - acc: 0.6060\n",
      "Epoch 57/250\n",
      "6819/6819 [==============================] - 0s 54us/step - loss: 0.8910 - acc: 0.6038\n",
      "Epoch 58/250\n",
      "6819/6819 [==============================] - 0s 44us/step - loss: 0.8845 - acc: 0.6083\n",
      "Epoch 59/250\n",
      "6819/6819 [==============================] - 0s 38us/step - loss: 0.8846 - acc: 0.6093\n",
      "Epoch 60/250\n",
      "6819/6819 [==============================] - 0s 41us/step - loss: 0.8842 - acc: 0.6111\n",
      "Epoch 61/250\n",
      "6819/6819 [==============================] - 0s 43us/step - loss: 0.8842 - acc: 0.6084\n",
      "Epoch 62/250\n",
      "6819/6819 [==============================] - 0s 39us/step - loss: 0.8815 - acc: 0.6048\n",
      "Epoch 63/250\n",
      "6819/6819 [==============================] - 0s 42us/step - loss: 0.8803 - acc: 0.6098\n",
      "Epoch 64/250\n",
      "6819/6819 [==============================] - 0s 38us/step - loss: 0.8817 - acc: 0.6090\n",
      "Epoch 65/250\n",
      "6819/6819 [==============================] - 0s 41us/step - loss: 0.8748 - acc: 0.6087\n",
      "Epoch 66/250\n",
      "6819/6819 [==============================] - 0s 39us/step - loss: 0.8736 - acc: 0.6062\n",
      "Epoch 67/250\n",
      "6819/6819 [==============================] - 0s 43us/step - loss: 0.8771 - acc: 0.6130\n",
      "Epoch 68/250\n",
      "6819/6819 [==============================] - 0s 38us/step - loss: 0.8730 - acc: 0.6139\n",
      "Epoch 69/250\n",
      "6819/6819 [==============================] - 0s 40us/step - loss: 0.8730 - acc: 0.6104\n",
      "Epoch 70/250\n",
      "6819/6819 [==============================] - 0s 39us/step - loss: 0.8767 - acc: 0.6070\n",
      "Epoch 71/250\n",
      "6819/6819 [==============================] - 0s 40us/step - loss: 0.8752 - acc: 0.6126\n",
      "Epoch 72/250\n",
      "6819/6819 [==============================] - 0s 40us/step - loss: 0.8715 - acc: 0.6087\n",
      "Epoch 73/250\n",
      "6819/6819 [==============================] - 0s 51us/step - loss: 0.8742 - acc: 0.6162\n",
      "Epoch 74/250\n",
      "6819/6819 [==============================] - 0s 43us/step - loss: 0.8722 - acc: 0.6115\n",
      "Epoch 75/250\n",
      "6819/6819 [==============================] - 0s 38us/step - loss: 0.8690 - acc: 0.6165\n",
      "Epoch 76/250\n",
      "6819/6819 [==============================] - 0s 40us/step - loss: 0.8732 - acc: 0.6136\n",
      "Epoch 77/250\n",
      "6819/6819 [==============================] - 0s 39us/step - loss: 0.8683 - acc: 0.6120\n",
      "Epoch 78/250\n",
      "6819/6819 [==============================] - 0s 41us/step - loss: 0.8705 - acc: 0.6112\n",
      "Epoch 79/250\n",
      "6819/6819 [==============================] - 0s 47us/step - loss: 0.8660 - acc: 0.6180\n",
      "Epoch 80/250\n",
      "6819/6819 [==============================] - 0s 42us/step - loss: 0.8639 - acc: 0.6183\n",
      "Epoch 81/250\n",
      "6819/6819 [==============================] - 0s 51us/step - loss: 0.8642 - acc: 0.6237\n",
      "Epoch 82/250\n",
      "6819/6819 [==============================] - 0s 42us/step - loss: 0.8666 - acc: 0.6162\n",
      "Epoch 83/250\n",
      "6819/6819 [==============================] - 0s 42us/step - loss: 0.8642 - acc: 0.6137\n",
      "Epoch 84/250\n",
      "6819/6819 [==============================] - 0s 46us/step - loss: 0.8639 - acc: 0.6172\n",
      "Epoch 85/250\n",
      "6819/6819 [==============================] - 0s 40us/step - loss: 0.8626 - acc: 0.6164\n",
      "Epoch 86/250\n",
      "6819/6819 [==============================] - 0s 42us/step - loss: 0.8623 - acc: 0.6202\n",
      "Epoch 87/250\n",
      "6819/6819 [==============================] - 0s 42us/step - loss: 0.8609 - acc: 0.6212\n",
      "Epoch 88/250\n",
      "6819/6819 [==============================] - 0s 47us/step - loss: 0.8604 - acc: 0.6183\n",
      "Epoch 89/250\n",
      "6819/6819 [==============================] - 0s 48us/step - loss: 0.8569 - acc: 0.6212\n",
      "Epoch 90/250\n",
      "6819/6819 [==============================] - 1s 89us/step - loss: 0.8615 - acc: 0.6218\n",
      "Epoch 91/250\n",
      "6819/6819 [==============================] - 1s 77us/step - loss: 0.8593 - acc: 0.6231\n",
      "Epoch 92/250\n",
      "6819/6819 [==============================] - 1s 89us/step - loss: 0.8581 - acc: 0.6274: 0s - loss: 0.8573 - acc: 0\n",
      "Epoch 93/250\n",
      "6819/6819 [==============================] - 0s 49us/step - loss: 0.8585 - acc: 0.6174\n",
      "Epoch 94/250\n",
      "6819/6819 [==============================] - 0s 57us/step - loss: 0.8573 - acc: 0.6237\n",
      "Epoch 95/250\n",
      "6819/6819 [==============================] - 0s 47us/step - loss: 0.8532 - acc: 0.6287\n",
      "Epoch 96/250\n",
      "6819/6819 [==============================] - 0s 55us/step - loss: 0.8552 - acc: 0.6258\n",
      "Epoch 97/250\n",
      "6819/6819 [==============================] - 0s 62us/step - loss: 0.8576 - acc: 0.6280\n",
      "Epoch 98/250\n",
      "6819/6819 [==============================] - ETA: 0s - loss: 0.8589 - acc: 0.6250- ETA: 0s - loss: 0.8584 - acc: 0. - 1s 100us/step - loss: 0.8567 - acc: 0.6240\n",
      "Epoch 99/250\n",
      "6819/6819 [==============================] - 1s 128us/step - loss: 0.8490 - acc: 0.6306 0s - loss: 0.8451 - acc:\n",
      "Epoch 100/250\n",
      "6819/6819 [==============================] - 1s 122us/step - loss: 0.8505 - acc: 0.6275\n",
      "Epoch 101/250\n",
      "6819/6819 [==============================] - 1s 84us/step - loss: 0.8503 - acc: 0.6269\n",
      "Epoch 102/250\n",
      "6819/6819 [==============================] - 1s 96us/step - loss: 0.8510 - acc: 0.6312\n",
      "Epoch 103/250\n",
      "6819/6819 [==============================] - 1s 97us/step - loss: 0.8466 - acc: 0.6297\n",
      "Epoch 104/250\n",
      "6819/6819 [==============================] - 0s 70us/step - loss: 0.8466 - acc: 0.6299\n",
      "Epoch 105/250\n",
      "6819/6819 [==============================] - 0s 62us/step - loss: 0.8461 - acc: 0.6307\n",
      "Epoch 106/250\n",
      "6819/6819 [==============================] - 0s 61us/step - loss: 0.8498 - acc: 0.6318\n",
      "Epoch 107/250\n",
      "6819/6819 [==============================] - 1s 131us/step - loss: 0.8469 - acc: 0.6260\n",
      "Epoch 108/250\n",
      "6819/6819 [==============================] - 0s 71us/step - loss: 0.8463 - acc: 0.6334\n",
      "Epoch 109/250\n",
      "6819/6819 [==============================] - 0s 52us/step - loss: 0.8409 - acc: 0.6307\n",
      "Epoch 110/250\n",
      "6819/6819 [==============================] - 0s 48us/step - loss: 0.8443 - acc: 0.6331\n",
      "Epoch 111/250\n",
      "6819/6819 [==============================] - 0s 40us/step - loss: 0.8398 - acc: 0.6370\n",
      "Epoch 112/250\n",
      "6819/6819 [==============================] - 0s 39us/step - loss: 0.8467 - acc: 0.6293\n",
      "Epoch 113/250\n",
      "6819/6819 [==============================] - 0s 48us/step - loss: 0.8386 - acc: 0.6407\n",
      "Epoch 114/250\n",
      "6819/6819 [==============================] - 0s 46us/step - loss: 0.8383 - acc: 0.6378\n",
      "Epoch 115/250\n",
      "6819/6819 [==============================] - 0s 50us/step - loss: 0.8386 - acc: 0.6341\n",
      "Epoch 116/250\n",
      "6819/6819 [==============================] - 0s 48us/step - loss: 0.8388 - acc: 0.6381\n",
      "Epoch 117/250\n",
      "6819/6819 [==============================] - 0s 73us/step - loss: 0.8327 - acc: 0.6414\n",
      "Epoch 118/250\n",
      "6819/6819 [==============================] - 1s 74us/step - loss: 0.8354 - acc: 0.6401\n",
      "Epoch 119/250\n",
      "6819/6819 [==============================] - 0s 50us/step - loss: 0.8329 - acc: 0.6395\n",
      "Epoch 120/250\n",
      "6819/6819 [==============================] - 0s 45us/step - loss: 0.8385 - acc: 0.6350\n",
      "Epoch 121/250\n",
      "6819/6819 [==============================] - 0s 43us/step - loss: 0.8349 - acc: 0.6426\n",
      "Epoch 122/250\n",
      "6819/6819 [==============================] - 0s 43us/step - loss: 0.8309 - acc: 0.6410\n",
      "Epoch 123/250\n",
      "6819/6819 [==============================] - 0s 51us/step - loss: 0.8347 - acc: 0.6388\n",
      "Epoch 124/250\n",
      "6819/6819 [==============================] - 0s 44us/step - loss: 0.8328 - acc: 0.6378\n",
      "Epoch 125/250\n",
      "6819/6819 [==============================] - 0s 72us/step - loss: 0.8244 - acc: 0.6495\n",
      "Epoch 126/250\n",
      "6819/6819 [==============================] - 0s 67us/step - loss: 0.8320 - acc: 0.6407\n",
      "Epoch 127/250\n",
      "6819/6819 [==============================] - 0s 44us/step - loss: 0.8281 - acc: 0.6403\n",
      "Epoch 128/250\n",
      "6819/6819 [==============================] - 0s 41us/step - loss: 0.8268 - acc: 0.6486\n",
      "Epoch 129/250\n",
      "6819/6819 [==============================] - 0s 40us/step - loss: 0.8275 - acc: 0.6477\n",
      "Epoch 130/250\n",
      "6819/6819 [==============================] - 0s 41us/step - loss: 0.8272 - acc: 0.6395\n",
      "Epoch 131/250\n",
      "6819/6819 [==============================] - 0s 46us/step - loss: 0.8281 - acc: 0.6450\n",
      "Epoch 132/250\n",
      "6819/6819 [==============================] - 0s 42us/step - loss: 0.8276 - acc: 0.6450\n",
      "Epoch 133/250\n",
      "6819/6819 [==============================] - 0s 42us/step - loss: 0.8278 - acc: 0.6441\n",
      "Epoch 134/250\n",
      "6819/6819 [==============================] - 0s 43us/step - loss: 0.8204 - acc: 0.6513\n",
      "Epoch 135/250\n",
      "6819/6819 [==============================] - 0s 42us/step - loss: 0.8212 - acc: 0.6491\n",
      "Epoch 136/250\n",
      "6819/6819 [==============================] - 0s 40us/step - loss: 0.8197 - acc: 0.6426\n",
      "Epoch 137/250\n",
      "6819/6819 [==============================] - 0s 40us/step - loss: 0.8182 - acc: 0.6494\n",
      "Epoch 138/250\n",
      "6819/6819 [==============================] - 0s 41us/step - loss: 0.8165 - acc: 0.6542\n",
      "Epoch 139/250\n",
      "6819/6819 [==============================] - 0s 40us/step - loss: 0.8207 - acc: 0.6529\n",
      "Epoch 140/250\n",
      "6819/6819 [==============================] - 0s 43us/step - loss: 0.8192 - acc: 0.6543\n",
      "Epoch 141/250\n",
      "6819/6819 [==============================] - 0s 40us/step - loss: 0.8123 - acc: 0.6568\n",
      "Epoch 142/250\n",
      "6819/6819 [==============================] - 0s 42us/step - loss: 0.8157 - acc: 0.6538\n",
      "Epoch 143/250\n",
      "6819/6819 [==============================] - 0s 42us/step - loss: 0.8156 - acc: 0.6557\n",
      "Epoch 144/250\n",
      "6819/6819 [==============================] - 0s 41us/step - loss: 0.8131 - acc: 0.6560\n",
      "Epoch 145/250\n",
      "6819/6819 [==============================] - 0s 40us/step - loss: 0.8141 - acc: 0.6549\n",
      "Epoch 146/250\n",
      "6819/6819 [==============================] - 0s 40us/step - loss: 0.8131 - acc: 0.6520\n",
      "Epoch 147/250\n",
      "6819/6819 [==============================] - 0s 41us/step - loss: 0.8159 - acc: 0.6524\n",
      "Epoch 148/250\n",
      "6819/6819 [==============================] - 0s 42us/step - loss: 0.8093 - acc: 0.6548\n",
      "Epoch 149/250\n",
      "6819/6819 [==============================] - 0s 41us/step - loss: 0.8089 - acc: 0.6593\n",
      "Epoch 150/250\n",
      "6819/6819 [==============================] - 0s 42us/step - loss: 0.8133 - acc: 0.6535\n",
      "Epoch 151/250\n",
      "6819/6819 [==============================] - 0s 42us/step - loss: 0.8050 - acc: 0.6598\n",
      "Epoch 152/250\n",
      "6819/6819 [==============================] - 1s 98us/step - loss: 0.8088 - acc: 0.6577\n",
      "Epoch 153/250\n",
      "6819/6819 [==============================] - 1s 75us/step - loss: 0.8069 - acc: 0.6573\n",
      "Epoch 154/250\n",
      "6819/6819 [==============================] - 1s 79us/step - loss: 0.8053 - acc: 0.6583\n",
      "Epoch 155/250\n",
      "6819/6819 [==============================] - 0s 71us/step - loss: 0.8097 - acc: 0.6527\n",
      "Epoch 156/250\n",
      "6819/6819 [==============================] - 0s 72us/step - loss: 0.8076 - acc: 0.6545\n",
      "Epoch 157/250\n",
      "6819/6819 [==============================] - 0s 54us/step - loss: 0.8037 - acc: 0.6571\n",
      "Epoch 158/250\n",
      "6819/6819 [==============================] - 0s 44us/step - loss: 0.8032 - acc: 0.6592\n",
      "Epoch 159/250\n",
      "6819/6819 [==============================] - 0s 42us/step - loss: 0.8061 - acc: 0.6564\n",
      "Epoch 160/250\n",
      "6819/6819 [==============================] - 0s 42us/step - loss: 0.8022 - acc: 0.6602\n",
      "Epoch 161/250\n",
      "6819/6819 [==============================] - 0s 41us/step - loss: 0.7980 - acc: 0.6652\n",
      "Epoch 162/250\n",
      "6819/6819 [==============================] - 0s 42us/step - loss: 0.8041 - acc: 0.6634\n",
      "Epoch 163/250\n",
      "6819/6819 [==============================] - 0s 42us/step - loss: 0.7970 - acc: 0.6579\n",
      "Epoch 164/250\n",
      "6819/6819 [==============================] - 0s 40us/step - loss: 0.8033 - acc: 0.6595\n",
      "Epoch 165/250\n",
      "6819/6819 [==============================] - 0s 43us/step - loss: 0.7955 - acc: 0.6648\n",
      "Epoch 166/250\n",
      "6819/6819 [==============================] - 0s 40us/step - loss: 0.7960 - acc: 0.6645\n",
      "Epoch 167/250\n",
      "6819/6819 [==============================] - 0s 40us/step - loss: 0.7959 - acc: 0.6611\n",
      "Epoch 168/250\n",
      "6819/6819 [==============================] - 0s 42us/step - loss: 0.7961 - acc: 0.6677\n",
      "Epoch 169/250\n",
      "6819/6819 [==============================] - 0s 41us/step - loss: 0.7930 - acc: 0.6652\n",
      "Epoch 170/250\n",
      "6819/6819 [==============================] - 0s 46us/step - loss: 0.7939 - acc: 0.6634\n",
      "Epoch 171/250\n",
      "6819/6819 [==============================] - 0s 49us/step - loss: 0.7905 - acc: 0.6717\n",
      "Epoch 172/250\n",
      "6819/6819 [==============================] - 0s 52us/step - loss: 0.7906 - acc: 0.6671\n",
      "Epoch 173/250\n",
      "6819/6819 [==============================] - 0s 45us/step - loss: 0.7903 - acc: 0.6689\n",
      "Epoch 174/250\n",
      "6819/6819 [==============================] - 0s 44us/step - loss: 0.7909 - acc: 0.6696\n",
      "Epoch 175/250\n",
      "6819/6819 [==============================] - 0s 53us/step - loss: 0.7832 - acc: 0.6762\n",
      "Epoch 176/250\n",
      "6819/6819 [==============================] - 0s 49us/step - loss: 0.7887 - acc: 0.6653\n",
      "Epoch 177/250\n",
      "6819/6819 [==============================] - 0s 40us/step - loss: 0.7902 - acc: 0.6620\n",
      "Epoch 178/250\n",
      "6819/6819 [==============================] - 0s 42us/step - loss: 0.7888 - acc: 0.6722\n",
      "Epoch 179/250\n",
      "6819/6819 [==============================] - 0s 42us/step - loss: 0.7842 - acc: 0.6727\n",
      "Epoch 180/250\n",
      "6819/6819 [==============================] - 0s 43us/step - loss: 0.7829 - acc: 0.6722\n",
      "Epoch 181/250\n",
      "6819/6819 [==============================] - 0s 40us/step - loss: 0.7811 - acc: 0.6724\n",
      "Epoch 182/250\n",
      "6819/6819 [==============================] - 0s 41us/step - loss: 0.7824 - acc: 0.6706\n",
      "Epoch 183/250\n",
      "6819/6819 [==============================] - 0s 48us/step - loss: 0.7853 - acc: 0.6706\n",
      "Epoch 184/250\n",
      "6819/6819 [==============================] - 0s 41us/step - loss: 0.7786 - acc: 0.6785\n",
      "Epoch 185/250\n",
      "6819/6819 [==============================] - 0s 41us/step - loss: 0.7807 - acc: 0.6750\n",
      "Epoch 186/250\n",
      "6819/6819 [==============================] - 0s 49us/step - loss: 0.7802 - acc: 0.6750\n",
      "Epoch 187/250\n",
      "6819/6819 [==============================] - 0s 46us/step - loss: 0.7758 - acc: 0.6731\n",
      "Epoch 188/250\n",
      "6819/6819 [==============================] - 0s 59us/step - loss: 0.7749 - acc: 0.6762\n",
      "Epoch 189/250\n",
      "6819/6819 [==============================] - 1s 74us/step - loss: 0.7737 - acc: 0.6778\n",
      "Epoch 190/250\n",
      "6819/6819 [==============================] - 0s 53us/step - loss: 0.7801 - acc: 0.6721\n",
      "Epoch 191/250\n",
      "6819/6819 [==============================] - 0s 54us/step - loss: 0.7760 - acc: 0.6733\n",
      "Epoch 192/250\n",
      "6819/6819 [==============================] - 0s 57us/step - loss: 0.7771 - acc: 0.6761\n",
      "Epoch 193/250\n",
      "6819/6819 [==============================] - 0s 60us/step - loss: 0.7788 - acc: 0.6768\n",
      "Epoch 194/250\n",
      "6819/6819 [==============================] - 0s 69us/step - loss: 0.7747 - acc: 0.6781\n",
      "Epoch 195/250\n",
      "6819/6819 [==============================] - 0s 63us/step - loss: 0.7756 - acc: 0.6739\n",
      "Epoch 196/250\n",
      "6819/6819 [==============================] - 0s 49us/step - loss: 0.7721 - acc: 0.6788\n",
      "Epoch 197/250\n",
      "6819/6819 [==============================] - 0s 44us/step - loss: 0.7644 - acc: 0.6806\n",
      "Epoch 198/250\n",
      "6819/6819 [==============================] - 0s 45us/step - loss: 0.7729 - acc: 0.6791\n",
      "Epoch 199/250\n",
      "6819/6819 [==============================] - 0s 55us/step - loss: 0.7694 - acc: 0.6807\n",
      "Epoch 200/250\n",
      "6819/6819 [==============================] - 0s 51us/step - loss: 0.7665 - acc: 0.6818\n",
      "Epoch 201/250\n",
      "6819/6819 [==============================] - 0s 50us/step - loss: 0.7674 - acc: 0.6824\n",
      "Epoch 202/250\n",
      "6819/6819 [==============================] - 0s 70us/step - loss: 0.7659 - acc: 0.6841\n",
      "Epoch 203/250\n",
      "6819/6819 [==============================] - 0s 50us/step - loss: 0.7646 - acc: 0.6829\n",
      "Epoch 204/250\n",
      "6819/6819 [==============================] - 0s 50us/step - loss: 0.7640 - acc: 0.6809\n",
      "Epoch 205/250\n",
      "6819/6819 [==============================] - 0s 62us/step - loss: 0.7661 - acc: 0.6844\n",
      "Epoch 206/250\n",
      "6819/6819 [==============================] - 0s 58us/step - loss: 0.7612 - acc: 0.6831\n",
      "Epoch 207/250\n",
      "6819/6819 [==============================] - 0s 47us/step - loss: 0.7650 - acc: 0.6832\n",
      "Epoch 208/250\n",
      "6819/6819 [==============================] - 0s 48us/step - loss: 0.7656 - acc: 0.6827\n",
      "Epoch 209/250\n",
      "6819/6819 [==============================] - 0s 45us/step - loss: 0.7606 - acc: 0.6857\n",
      "Epoch 210/250\n",
      "6819/6819 [==============================] - 0s 42us/step - loss: 0.7606 - acc: 0.6828\n",
      "Epoch 211/250\n",
      "6819/6819 [==============================] - 0s 69us/step - loss: 0.7587 - acc: 0.6809\n",
      "Epoch 212/250\n",
      "6819/6819 [==============================] - 0s 69us/step - loss: 0.7584 - acc: 0.6775\n",
      "Epoch 213/250\n",
      "6819/6819 [==============================] - 0s 64us/step - loss: 0.7532 - acc: 0.6901\n",
      "Epoch 214/250\n",
      "6819/6819 [==============================] - 0s 63us/step - loss: 0.7559 - acc: 0.6850\n",
      "Epoch 215/250\n",
      "6819/6819 [==============================] - 0s 46us/step - loss: 0.7544 - acc: 0.6846\n",
      "Epoch 216/250\n",
      "6819/6819 [==============================] - 0s 48us/step - loss: 0.7554 - acc: 0.6919\n",
      "Epoch 217/250\n",
      "6819/6819 [==============================] - 0s 41us/step - loss: 0.7561 - acc: 0.6907\n",
      "Epoch 218/250\n",
      "6819/6819 [==============================] - 0s 47us/step - loss: 0.7501 - acc: 0.6879\n",
      "Epoch 219/250\n",
      "6819/6819 [==============================] - 0s 47us/step - loss: 0.7457 - acc: 0.6907\n",
      "Epoch 220/250\n",
      "6819/6819 [==============================] - 0s 48us/step - loss: 0.7531 - acc: 0.6910\n",
      "Epoch 221/250\n",
      "6819/6819 [==============================] - 0s 42us/step - loss: 0.7516 - acc: 0.6835\n",
      "Epoch 222/250\n",
      "6819/6819 [==============================] - 0s 46us/step - loss: 0.7526 - acc: 0.6900\n",
      "Epoch 223/250\n",
      "6819/6819 [==============================] - 0s 64us/step - loss: 0.7449 - acc: 0.6986\n",
      "Epoch 224/250\n",
      "6819/6819 [==============================] - 0s 44us/step - loss: 0.7530 - acc: 0.6885\n",
      "Epoch 225/250\n",
      "6819/6819 [==============================] - 0s 42us/step - loss: 0.7488 - acc: 0.6913\n",
      "Epoch 226/250\n",
      "6819/6819 [==============================] - 0s 50us/step - loss: 0.7493 - acc: 0.6929\n",
      "Epoch 227/250\n",
      "6819/6819 [==============================] - 0s 68us/step - loss: 0.7458 - acc: 0.6925\n",
      "Epoch 228/250\n",
      "6819/6819 [==============================] - 0s 67us/step - loss: 0.7427 - acc: 0.6948\n",
      "Epoch 229/250\n",
      "6819/6819 [==============================] - 0s 54us/step - loss: 0.7436 - acc: 0.6929\n",
      "Epoch 230/250\n",
      "6819/6819 [==============================] - 0s 62us/step - loss: 0.7458 - acc: 0.6939\n",
      "Epoch 231/250\n",
      "6819/6819 [==============================] - 0s 46us/step - loss: 0.7411 - acc: 0.6945\n",
      "Epoch 232/250\n",
      "6819/6819 [==============================] - 0s 63us/step - loss: 0.7383 - acc: 0.6950\n",
      "Epoch 233/250\n",
      "6819/6819 [==============================] - 0s 52us/step - loss: 0.7416 - acc: 0.6941\n",
      "Epoch 234/250\n",
      "6819/6819 [==============================] - 0s 47us/step - loss: 0.7482 - acc: 0.6932\n",
      "Epoch 235/250\n",
      "6819/6819 [==============================] - 0s 53us/step - loss: 0.7400 - acc: 0.6950\n",
      "Epoch 236/250\n",
      "6819/6819 [==============================] - 0s 59us/step - loss: 0.7358 - acc: 0.6964\n",
      "Epoch 237/250\n",
      "6819/6819 [==============================] - 0s 55us/step - loss: 0.7383 - acc: 0.7011\n",
      "Epoch 238/250\n",
      "6819/6819 [==============================] - 0s 51us/step - loss: 0.7386 - acc: 0.6958\n",
      "Epoch 239/250\n",
      "6819/6819 [==============================] - 0s 56us/step - loss: 0.7342 - acc: 0.7045\n",
      "Epoch 240/250\n",
      "6819/6819 [==============================] - 2s 255us/step - loss: 0.7334 - acc: 0.7045\n",
      "Epoch 241/250\n",
      "6819/6819 [==============================] - 1s 181us/step - loss: 0.7368 - acc: 0.6942\n",
      "Epoch 242/250\n",
      "6819/6819 [==============================] - 1s 112us/step - loss: 0.7319 - acc: 0.7032\n",
      "Epoch 243/250\n",
      "6819/6819 [==============================] - 1s 121us/step - loss: 0.7395 - acc: 0.6920\n",
      "Epoch 244/250\n",
      "6819/6819 [==============================] - 1s 119us/step - loss: 0.7278 - acc: 0.7060\n",
      "Epoch 245/250\n",
      "6819/6819 [==============================] - 0s 65us/step - loss: 0.7259 - acc: 0.7038\n",
      "Epoch 246/250\n",
      "6819/6819 [==============================] - 0s 57us/step - loss: 0.7341 - acc: 0.7010\n",
      "Epoch 247/250\n",
      "6819/6819 [==============================] - 0s 69us/step - loss: 0.7299 - acc: 0.7039\n",
      "Epoch 248/250\n",
      "6819/6819 [==============================] - 0s 58us/step - loss: 0.7248 - acc: 0.6997\n",
      "Epoch 249/250\n",
      "6819/6819 [==============================] - 0s 62us/step - loss: 0.7333 - acc: 0.7002\n",
      "Epoch 250/250\n",
      "6819/6819 [==============================] - 0s 49us/step - loss: 0.7315 - acc: 0.7036\n"
     ]
    }
   ],
   "source": [
    "# Train the model \n",
    "history = model.fit(X_train,\n",
    "                    y_train,\n",
    "                    epochs=250,\n",
    "                    batch_size=256)"
   ]
  },
  {
   "cell_type": "code",
   "execution_count": 108,
   "metadata": {},
   "outputs": [
    {
     "data": {
      "text/plain": [
       "dict_keys(['loss', 'acc'])"
      ]
     },
     "execution_count": 108,
     "metadata": {},
     "output_type": "execute_result"
    }
   ],
   "source": [
    "history_dict = history.history\n",
    "history_dict.keys()"
   ]
  },
  {
   "cell_type": "markdown",
   "metadata": {},
   "source": [
    "#### Plot the results"
   ]
  },
  {
   "cell_type": "code",
   "execution_count": 127,
   "metadata": {},
   "outputs": [
    {
     "data": {
      "image/png": "[encoded data removed]",
      "text/plain": [
       "<Figure size 432x288 with 1 Axes>"
      ]
     },
     "metadata": {
      "needs_background": "light"
     },
     "output_type": "display_data"
    }
   ],
   "source": [
    "history_dict = history.history\n",
    "loss_values = history_dict['loss']\n",
    "\n",
    "epochs = range(1, len(loss_values) + 1)\n",
    "plt.plot(epochs, loss_values, 'g', label='Training loss')\n",
    "\n",
    "plt.title('Training loss')\n",
    "plt.xlabel('Epochs')\n",
    "plt.ylabel('Loss')\n",
    "plt.legend()\n",
    "plt.show()"
   ]
  },
  {
   "cell_type": "code",
   "execution_count": 128,
   "metadata": {},
   "outputs": [
    {
     "data": {
      "image/png": "[encoded data removed]",
      "text/plain": [
       "<Figure size 432x288 with 1 Axes>"
      ]
     },
     "metadata": {
      "needs_background": "light"
     },
     "output_type": "display_data"
    }
   ],
   "source": [
    "# Plot the training accuracy vs the number of epochs\n",
    "\n",
    "acc_values = history_dict['acc'] \n",
    "\n",
    "plt.plot(epochs, acc_values, 'r', label='Training acc')\n",
    "plt.title('Training accuracy')\n",
    "plt.xlabel('Epochs')\n",
    "plt.ylabel('Accuracy')\n",
    "plt.legend()\n",
    "plt.show()"
   ]
  },
  {
   "cell_type": "markdown",
   "metadata": {},
   "source": [
    "#### Make predictions"
   ]
  },
  {
   "cell_type": "code",
   "execution_count": 129,
   "metadata": {},
   "outputs": [],
   "source": [
    "# Output (probability) predictions for the test set \n",
    "y_hat_test = model.predict(X_test) "
   ]
  },
  {
   "cell_type": "code",
   "execution_count": 130,
   "metadata": {},
   "outputs": [
    {
     "name": "stdout",
     "output_type": "stream",
     "text": [
      "6819/6819 [==============================] - 1s 102us/step\n"
     ]
    },
    {
     "data": {
      "text/plain": [
       "[0.6809597329181526, 0.7310456078647606]"
      ]
     },
     "execution_count": 130,
     "metadata": {},
     "output_type": "execute_result"
    }
   ],
   "source": [
    "# Print the loss and accuracy for the training set \n",
    "results_train = model.evaluate(X_train, y_train)\n",
    "results_train"
   ]
  },
  {
   "cell_type": "code",
   "execution_count": 131,
   "metadata": {},
   "outputs": [
    {
     "name": "stdout",
     "output_type": "stream",
     "text": [
      "2273/2273 [==============================] - 0s 72us/step\n"
     ]
    },
    {
     "data": {
      "text/plain": [
       "[0.8123432916006851, 0.6489221293444787]"
      ]
     },
     "execution_count": 131,
     "metadata": {},
     "output_type": "execute_result"
    }
   ],
   "source": [
    "# Print the loss and accuracy for the test set \n",
    "results_test = model.evaluate(X_test, y_test)\n",
    "results_test"
   ]
  },
  {
   "cell_type": "code",
   "execution_count": null,
   "metadata": {},
   "outputs": [],
   "source": []
  },
  {
   "cell_type": "code",
   "execution_count": null,
   "metadata": {},
   "outputs": [],
   "source": []
  }
 ],
 "metadata": {
  "kernelspec": {
   "display_name": "learn-env",
   "language": "python",
   "name": "learn-env"
  },
  "language_info": {
   "codemirror_mode": {
    "name": "ipython",
    "version": 3
   },
   "file_extension": ".py",
   "mimetype": "text/x-python",
   "name": "python",
   "nbconvert_exporter": "python",
   "pygments_lexer": "ipython3",
   "version": "3.6.9"
  }
 },
 "nbformat": 4,
 "nbformat_minor": 4
}
