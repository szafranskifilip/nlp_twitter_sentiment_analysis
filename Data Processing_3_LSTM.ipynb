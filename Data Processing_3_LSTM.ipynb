{
 "cells": [
  {
   "cell_type": "markdown",
   "metadata": {},
   "source": [
    "### Import Necessary Dependencies"
   ]
  },
  {
   "cell_type": "code",
   "execution_count": 1,
   "metadata": {},
   "outputs": [
    {
     "name": "stderr",
     "output_type": "stream",
     "text": [
      "[nltk_data] Downloading package stopwords to /Users/Filip/nltk_data...\n",
      "[nltk_data]   Package stopwords is already up-to-date!\n",
      "[nltk_data] Downloading package punkt to /Users/Filip/nltk_data...\n",
      "[nltk_data]   Package punkt is already up-to-date!\n",
      "Using TensorFlow backend.\n"
     ]
    }
   ],
   "source": [
    "#Import libraries\n",
    "import nltk\n",
    "nltk.download('stopwords')\n",
    "nltk.download('punkt')\n",
    "from nltk.corpus import stopwords\n",
    "from nltk import word_tokenize, FreqDist\n",
    "\n",
    "import string\n",
    "\n",
    "from sklearn.feature_extraction.text import TfidfVectorizer, CountVectorizer, TfidfTransformer\n",
    "from sklearn.pipeline import Pipeline\n",
    "from sklearn.metrics import accuracy_score\n",
    "from sklearn.datasets import fetch_20newsgroups\n",
    "from sklearn.ensemble import RandomForestClassifier\n",
    "from sklearn.naive_bayes import MultinomialNB\n",
    "from sklearn.model_selection import train_test_split\n",
    "from sklearn import preprocessing\n",
    "\n",
    "\n",
    "import matplotlib.pyplot as plt\n",
    "import pandas as pd\n",
    "import numpy as np\n",
    "import seaborn as sns\n",
    "\n",
    "from keras.utils import to_categorical\n",
    "from keras.preprocessing.sequence import pad_sequences\n",
    "from keras.preprocessing.text import Tokenizer\n",
    "from keras import models\n",
    "from keras import layers\n",
    "from keras import optimizers\n",
    "from keras.layers import Dense, Dropout, Embedding, LSTM, GlobalMaxPooling1D, SpatialDropout1D\n",
    "\n",
    "np.random.seed(0)\n",
    "\n",
    "%matplotlib inline\n",
    "plt.style.use('seaborn')\n",
    "\n",
    "import warnings\n",
    "warnings.filterwarnings('ignore')"
   ]
  },
  {
   "cell_type": "markdown",
   "metadata": {},
   "source": [
    "### Read and Load the Dataset"
   ]
  },
  {
   "cell_type": "code",
   "execution_count": 2,
   "metadata": {},
   "outputs": [
    {
     "data": {
      "text/html": [
       "<div>\n",
       "<style scoped>\n",
       "    .dataframe tbody tr th:only-of-type {\n",
       "        vertical-align: middle;\n",
       "    }\n",
       "\n",
       "    .dataframe tbody tr th {\n",
       "        vertical-align: top;\n",
       "    }\n",
       "\n",
       "    .dataframe thead th {\n",
       "        text-align: right;\n",
       "    }\n",
       "</style>\n",
       "<table border=\"1\" class=\"dataframe\">\n",
       "  <thead>\n",
       "    <tr style=\"text-align: right;\">\n",
       "      <th></th>\n",
       "      <th>tweet_text</th>\n",
       "      <th>emotion_in_tweet_is_directed_at</th>\n",
       "      <th>is_there_an_emotion_directed_at_a_brand_or_product</th>\n",
       "    </tr>\n",
       "  </thead>\n",
       "  <tbody>\n",
       "    <tr>\n",
       "      <th>0</th>\n",
       "      <td>.@wesley83 I have a 3G iPhone. After 3 hrs twe...</td>\n",
       "      <td>iPhone</td>\n",
       "      <td>Negative emotion</td>\n",
       "    </tr>\n",
       "    <tr>\n",
       "      <th>1</th>\n",
       "      <td>@jessedee Know about @fludapp ? Awesome iPad/i...</td>\n",
       "      <td>iPad or iPhone App</td>\n",
       "      <td>Positive emotion</td>\n",
       "    </tr>\n",
       "    <tr>\n",
       "      <th>2</th>\n",
       "      <td>@swonderlin Can not wait for #iPad 2 also. The...</td>\n",
       "      <td>iPad</td>\n",
       "      <td>Positive emotion</td>\n",
       "    </tr>\n",
       "    <tr>\n",
       "      <th>3</th>\n",
       "      <td>@sxsw I hope this year's festival isn't as cra...</td>\n",
       "      <td>iPad or iPhone App</td>\n",
       "      <td>Negative emotion</td>\n",
       "    </tr>\n",
       "    <tr>\n",
       "      <th>4</th>\n",
       "      <td>@sxtxstate great stuff on Fri #SXSW: Marissa M...</td>\n",
       "      <td>Google</td>\n",
       "      <td>Positive emotion</td>\n",
       "    </tr>\n",
       "  </tbody>\n",
       "</table>\n",
       "</div>"
      ],
      "text/plain": [
       "                                          tweet_text  \\\n",
       "0  .@wesley83 I have a 3G iPhone. After 3 hrs twe...   \n",
       "1  @jessedee Know about @fludapp ? Awesome iPad/i...   \n",
       "2  @swonderlin Can not wait for #iPad 2 also. The...   \n",
       "3  @sxsw I hope this year's festival isn't as cra...   \n",
       "4  @sxtxstate great stuff on Fri #SXSW: Marissa M...   \n",
       "\n",
       "  emotion_in_tweet_is_directed_at  \\\n",
       "0                          iPhone   \n",
       "1              iPad or iPhone App   \n",
       "2                            iPad   \n",
       "3              iPad or iPhone App   \n",
       "4                          Google   \n",
       "\n",
       "  is_there_an_emotion_directed_at_a_brand_or_product  \n",
       "0                                   Negative emotion  \n",
       "1                                   Positive emotion  \n",
       "2                                   Positive emotion  \n",
       "3                                   Negative emotion  \n",
       "4                                   Positive emotion  "
      ]
     },
     "execution_count": 2,
     "metadata": {},
     "output_type": "execute_result"
    }
   ],
   "source": [
    "# Upload datasets\n",
    "df = pd.read_csv('tweet_product_company.csv', encoding = 'unicode_escape')\n",
    "df.head()"
   ]
  },
  {
   "cell_type": "markdown",
   "metadata": {},
   "source": [
    "### Exploratory Data Analysis"
   ]
  },
  {
   "cell_type": "code",
   "execution_count": 3,
   "metadata": {},
   "outputs": [
    {
     "name": "stdout",
     "output_type": "stream",
     "text": [
      "<class 'pandas.core.frame.DataFrame'>\n",
      "RangeIndex: 9093 entries, 0 to 9092\n",
      "Data columns (total 3 columns):\n",
      " #   Column                                              Non-Null Count  Dtype \n",
      "---  ------                                              --------------  ----- \n",
      " 0   tweet_text                                          9092 non-null   object\n",
      " 1   emotion_in_tweet_is_directed_at                     3291 non-null   object\n",
      " 2   is_there_an_emotion_directed_at_a_brand_or_product  9093 non-null   object\n",
      "dtypes: object(3)\n",
      "memory usage: 213.2+ KB\n"
     ]
    }
   ],
   "source": [
    "df.info()"
   ]
  },
  {
   "cell_type": "code",
   "execution_count": 4,
   "metadata": {},
   "outputs": [
    {
     "data": {
      "text/plain": [
       "10"
      ]
     },
     "execution_count": 4,
     "metadata": {},
     "output_type": "execute_result"
    }
   ],
   "source": [
    "len(df.emotion_in_tweet_is_directed_at.unique())"
   ]
  },
  {
   "cell_type": "code",
   "execution_count": 5,
   "metadata": {},
   "outputs": [
    {
     "data": {
      "text/html": [
       "<div>\n",
       "<style scoped>\n",
       "    .dataframe tbody tr th:only-of-type {\n",
       "        vertical-align: middle;\n",
       "    }\n",
       "\n",
       "    .dataframe tbody tr th {\n",
       "        vertical-align: top;\n",
       "    }\n",
       "\n",
       "    .dataframe thead th {\n",
       "        text-align: right;\n",
       "    }\n",
       "</style>\n",
       "<table border=\"1\" class=\"dataframe\">\n",
       "  <thead>\n",
       "    <tr style=\"text-align: right;\">\n",
       "      <th></th>\n",
       "      <th>tweet_text</th>\n",
       "      <th>product</th>\n",
       "      <th>label</th>\n",
       "    </tr>\n",
       "  </thead>\n",
       "  <tbody>\n",
       "    <tr>\n",
       "      <th>0</th>\n",
       "      <td>.@wesley83 I have a 3G iPhone. After 3 hrs twe...</td>\n",
       "      <td>iPhone</td>\n",
       "      <td>Negative emotion</td>\n",
       "    </tr>\n",
       "    <tr>\n",
       "      <th>1</th>\n",
       "      <td>@jessedee Know about @fludapp ? Awesome iPad/i...</td>\n",
       "      <td>iPad or iPhone App</td>\n",
       "      <td>Positive emotion</td>\n",
       "    </tr>\n",
       "    <tr>\n",
       "      <th>2</th>\n",
       "      <td>@swonderlin Can not wait for #iPad 2 also. The...</td>\n",
       "      <td>iPad</td>\n",
       "      <td>Positive emotion</td>\n",
       "    </tr>\n",
       "    <tr>\n",
       "      <th>3</th>\n",
       "      <td>@sxsw I hope this year's festival isn't as cra...</td>\n",
       "      <td>iPad or iPhone App</td>\n",
       "      <td>Negative emotion</td>\n",
       "    </tr>\n",
       "    <tr>\n",
       "      <th>4</th>\n",
       "      <td>@sxtxstate great stuff on Fri #SXSW: Marissa M...</td>\n",
       "      <td>Google</td>\n",
       "      <td>Positive emotion</td>\n",
       "    </tr>\n",
       "  </tbody>\n",
       "</table>\n",
       "</div>"
      ],
      "text/plain": [
       "                                          tweet_text             product  \\\n",
       "0  .@wesley83 I have a 3G iPhone. After 3 hrs twe...              iPhone   \n",
       "1  @jessedee Know about @fludapp ? Awesome iPad/i...  iPad or iPhone App   \n",
       "2  @swonderlin Can not wait for #iPad 2 also. The...                iPad   \n",
       "3  @sxsw I hope this year's festival isn't as cra...  iPad or iPhone App   \n",
       "4  @sxtxstate great stuff on Fri #SXSW: Marissa M...              Google   \n",
       "\n",
       "              label  \n",
       "0  Negative emotion  \n",
       "1  Positive emotion  \n",
       "2  Positive emotion  \n",
       "3  Negative emotion  \n",
       "4  Positive emotion  "
      ]
     },
     "execution_count": 5,
     "metadata": {},
     "output_type": "execute_result"
    }
   ],
   "source": [
    "df.columns = ['tweet_text', 'product', 'label']\n",
    "df.head()"
   ]
  },
  {
   "cell_type": "code",
   "execution_count": 6,
   "metadata": {},
   "outputs": [
    {
     "name": "stdout",
     "output_type": "stream",
     "text": [
      "Column:  product\n",
      "Unique values count: 10\n",
      "Values:  ['iPhone' 'iPad or iPhone App' 'iPad' 'Google' nan 'Android' 'Apple'\n",
      " 'Android App' 'Other Google product or service'\n",
      " 'Other Apple product or service']\n",
      "----------------\n",
      "Column:  label\n",
      "Unique values count: 4\n",
      "Values:  ['Negative emotion' 'Positive emotion'\n",
      " 'No emotion toward brand or product' \"I can't tell\"]\n",
      "----------------\n"
     ]
    }
   ],
   "source": [
    "for column in df.columns[1:]:\n",
    "    print('Column: ', column)\n",
    "    print('Unique values count:', len(df[column].unique()))\n",
    "    print('Values: ', df[column].unique())\n",
    "    print('----------------')"
   ]
  },
  {
   "cell_type": "code",
   "execution_count": 7,
   "metadata": {},
   "outputs": [
    {
     "data": {
      "text/html": [
       "<div>\n",
       "<style scoped>\n",
       "    .dataframe tbody tr th:only-of-type {\n",
       "        vertical-align: middle;\n",
       "    }\n",
       "\n",
       "    .dataframe tbody tr th {\n",
       "        vertical-align: top;\n",
       "    }\n",
       "\n",
       "    .dataframe thead th {\n",
       "        text-align: right;\n",
       "    }\n",
       "</style>\n",
       "<table border=\"1\" class=\"dataframe\">\n",
       "  <thead>\n",
       "    <tr style=\"text-align: right;\">\n",
       "      <th></th>\n",
       "      <th>NaN count</th>\n",
       "      <th>Zero values count</th>\n",
       "      <th>Unique_val count</th>\n",
       "      <th>Data type</th>\n",
       "    </tr>\n",
       "  </thead>\n",
       "  <tbody>\n",
       "    <tr>\n",
       "      <th>product</th>\n",
       "      <td>5802</td>\n",
       "      <td>0</td>\n",
       "      <td>9</td>\n",
       "      <td>object</td>\n",
       "    </tr>\n",
       "    <tr>\n",
       "      <th>tweet_text</th>\n",
       "      <td>1</td>\n",
       "      <td>0</td>\n",
       "      <td>9065</td>\n",
       "      <td>object</td>\n",
       "    </tr>\n",
       "    <tr>\n",
       "      <th>label</th>\n",
       "      <td>0</td>\n",
       "      <td>0</td>\n",
       "      <td>4</td>\n",
       "      <td>object</td>\n",
       "    </tr>\n",
       "  </tbody>\n",
       "</table>\n",
       "</div>"
      ],
      "text/plain": [
       "            NaN count  Zero values count  Unique_val count Data type\n",
       "product          5802                  0                 9    object\n",
       "tweet_text          1                  0              9065    object\n",
       "label               0                  0                 4    object"
      ]
     },
     "execution_count": 7,
     "metadata": {},
     "output_type": "execute_result"
    }
   ],
   "source": [
    "# Create summary of Nan and unique values counts and data types\n",
    "X_info = pd.DataFrame(df.isna().sum(), columns=['NaN count'])\n",
    "\n",
    "unique_val = []\n",
    "types_val = []\n",
    "zero_val = []\n",
    "\n",
    "for column in df.columns:\n",
    "    unique = df[column].nunique()\n",
    "    types = str(df[column].dtype)\n",
    "    zeros = len(df[df[column]==0])\n",
    "    \n",
    "    unique_val.append(unique)\n",
    "    types_val.append(types)\n",
    "    zero_val.append(zeros)\n",
    "\n",
    "X_info['Zero values count'] = zero_val\n",
    "X_info['Unique_val count'] = unique_val\n",
    "X_info['Data type'] = types_val\n",
    "\n",
    "X_info.sort_values(by=['NaN count', 'Zero values count'], ascending=False)"
   ]
  },
  {
   "cell_type": "markdown",
   "metadata": {},
   "source": [
    "### Data Visualization of Target Variables"
   ]
  },
  {
   "cell_type": "code",
   "execution_count": 8,
   "metadata": {},
   "outputs": [
    {
     "data": {
      "image/png": "[encoded data removed]",
      "text/plain": [
       "<Figure size 432x288 with 1 Axes>"
      ]
     },
     "metadata": {
      "needs_background": "light"
     },
     "output_type": "display_data"
    }
   ],
   "source": [
    "ax = sns.countplot(x='label', data=df)\n",
    "ax.tick_params(axis='x', rotation=90)"
   ]
  },
  {
   "cell_type": "code",
   "execution_count": 9,
   "metadata": {},
   "outputs": [
    {
     "data": {
      "text/plain": [
       "No emotion toward brand or product    0.592654\n",
       "Positive emotion                      0.327505\n",
       "Negative emotion                      0.062686\n",
       "I can't tell                          0.017156\n",
       "Name: label, dtype: float64"
      ]
     },
     "execution_count": 9,
     "metadata": {},
     "output_type": "execute_result"
    }
   ],
   "source": [
    "df['label'].value_counts(normalize=True)"
   ]
  },
  {
   "cell_type": "code",
   "execution_count": 10,
   "metadata": {},
   "outputs": [
    {
     "data": {
      "text/html": [
       "<div>\n",
       "<style scoped>\n",
       "    .dataframe tbody tr th:only-of-type {\n",
       "        vertical-align: middle;\n",
       "    }\n",
       "\n",
       "    .dataframe tbody tr th {\n",
       "        vertical-align: top;\n",
       "    }\n",
       "\n",
       "    .dataframe thead th {\n",
       "        text-align: right;\n",
       "    }\n",
       "</style>\n",
       "<table border=\"1\" class=\"dataframe\">\n",
       "  <thead>\n",
       "    <tr style=\"text-align: right;\">\n",
       "      <th></th>\n",
       "      <th>tweet_text</th>\n",
       "      <th>label</th>\n",
       "    </tr>\n",
       "    <tr>\n",
       "      <th>product</th>\n",
       "      <th></th>\n",
       "      <th></th>\n",
       "    </tr>\n",
       "  </thead>\n",
       "  <tbody>\n",
       "    <tr>\n",
       "      <th>Android</th>\n",
       "      <td>78</td>\n",
       "      <td>78</td>\n",
       "    </tr>\n",
       "    <tr>\n",
       "      <th>Android App</th>\n",
       "      <td>81</td>\n",
       "      <td>81</td>\n",
       "    </tr>\n",
       "    <tr>\n",
       "      <th>Apple</th>\n",
       "      <td>661</td>\n",
       "      <td>661</td>\n",
       "    </tr>\n",
       "    <tr>\n",
       "      <th>Google</th>\n",
       "      <td>430</td>\n",
       "      <td>430</td>\n",
       "    </tr>\n",
       "    <tr>\n",
       "      <th>Other Apple product or service</th>\n",
       "      <td>35</td>\n",
       "      <td>35</td>\n",
       "    </tr>\n",
       "    <tr>\n",
       "      <th>Other Google product or service</th>\n",
       "      <td>293</td>\n",
       "      <td>293</td>\n",
       "    </tr>\n",
       "    <tr>\n",
       "      <th>iPad</th>\n",
       "      <td>946</td>\n",
       "      <td>946</td>\n",
       "    </tr>\n",
       "    <tr>\n",
       "      <th>iPad or iPhone App</th>\n",
       "      <td>470</td>\n",
       "      <td>470</td>\n",
       "    </tr>\n",
       "    <tr>\n",
       "      <th>iPhone</th>\n",
       "      <td>297</td>\n",
       "      <td>297</td>\n",
       "    </tr>\n",
       "  </tbody>\n",
       "</table>\n",
       "</div>"
      ],
      "text/plain": [
       "                                 tweet_text  label\n",
       "product                                           \n",
       "Android                                  78     78\n",
       "Android App                              81     81\n",
       "Apple                                   661    661\n",
       "Google                                  430    430\n",
       "Other Apple product or service           35     35\n",
       "Other Google product or service         293    293\n",
       "iPad                                    946    946\n",
       "iPad or iPhone App                      470    470\n",
       "iPhone                                  297    297"
      ]
     },
     "execution_count": 10,
     "metadata": {},
     "output_type": "execute_result"
    }
   ],
   "source": [
    "df.groupby(by=['product']).count()"
   ]
  },
  {
   "cell_type": "markdown",
   "metadata": {},
   "source": [
    "### Cleaning and Preprocessing Data"
   ]
  },
  {
   "cell_type": "markdown",
   "metadata": {},
   "source": [
    "#### Dropping a NaN values for 'tweet_text' column\n",
    "\n",
    "- Do we remove stop words or not?\n",
    "- Do we stem or lemmatize our text data, or leave the words as is?\n",
    "- Is basic tokenization enough, or do we need to support special edge cases through the use of regex?\n",
    "- Do we use the entire vocabulary, or just limit the model to a subset of the most frequently used words? If so, how many?\n",
    "- Do we engineer other features, such as bigrams, or POS tags, or Mutual Information Scores?\n",
    "- What sort of vectorization should we use in our model? Boolean Vectorization? Count Vectorization? TF-IDF? More advanced vectorization strategies such as Word2Vec?"
   ]
  },
  {
   "cell_type": "code",
   "execution_count": 11,
   "metadata": {},
   "outputs": [],
   "source": [
    "df.dropna(subset=['tweet_text'], axis='rows', inplace=True)"
   ]
  },
  {
   "cell_type": "markdown",
   "metadata": {},
   "source": [
    "#### Break apart the data and the labels, and then inspect the class names"
   ]
  },
  {
   "cell_type": "code",
   "execution_count": 12,
   "metadata": {},
   "outputs": [],
   "source": [
    "data = df.drop(columns=['label','product'])\n",
    "# data = data.to_frame()\n",
    "target = df.drop(columns=['tweet_text','product'])\n",
    "# target = target.to_frame()"
   ]
  },
  {
   "cell_type": "code",
   "execution_count": 13,
   "metadata": {},
   "outputs": [],
   "source": [
    "#change type of column\n",
    "target['label'] = pd.Categorical(target['label'])"
   ]
  },
  {
   "cell_type": "code",
   "execution_count": 14,
   "metadata": {},
   "outputs": [],
   "source": [
    "target['label'] = target['label'].cat.codes"
   ]
  },
  {
   "cell_type": "code",
   "execution_count": 15,
   "metadata": {},
   "outputs": [
    {
     "data": {
      "text/plain": [
       "[1, 3, 2, 0]"
      ]
     },
     "execution_count": 15,
     "metadata": {},
     "output_type": "execute_result"
    }
   ],
   "source": [
    "label_names = list(target['label'].unique())\n",
    "label_names"
   ]
  },
  {
   "cell_type": "code",
   "execution_count": 16,
   "metadata": {},
   "outputs": [],
   "source": [
    "# Split data into train and test sets\n",
    "X_train, X_test, y_train, y_test = train_test_split(data, target, test_size=0.25, random_state=42)"
   ]
  },
  {
   "cell_type": "code",
   "execution_count": 17,
   "metadata": {},
   "outputs": [
    {
     "name": "stdout",
     "output_type": "stream",
     "text": [
      "(6819, 1)\n"
     ]
    },
    {
     "data": {
      "text/html": [
       "<div>\n",
       "<style scoped>\n",
       "    .dataframe tbody tr th:only-of-type {\n",
       "        vertical-align: middle;\n",
       "    }\n",
       "\n",
       "    .dataframe tbody tr th {\n",
       "        vertical-align: top;\n",
       "    }\n",
       "\n",
       "    .dataframe thead th {\n",
       "        text-align: right;\n",
       "    }\n",
       "</style>\n",
       "<table border=\"1\" class=\"dataframe\">\n",
       "  <thead>\n",
       "    <tr style=\"text-align: right;\">\n",
       "      <th></th>\n",
       "      <th>label</th>\n",
       "    </tr>\n",
       "  </thead>\n",
       "  <tbody>\n",
       "    <tr>\n",
       "      <th>8605</th>\n",
       "      <td>1</td>\n",
       "    </tr>\n",
       "    <tr>\n",
       "      <th>1303</th>\n",
       "      <td>2</td>\n",
       "    </tr>\n",
       "    <tr>\n",
       "      <th>8759</th>\n",
       "      <td>3</td>\n",
       "    </tr>\n",
       "    <tr>\n",
       "      <th>5021</th>\n",
       "      <td>2</td>\n",
       "    </tr>\n",
       "    <tr>\n",
       "      <th>3210</th>\n",
       "      <td>2</td>\n",
       "    </tr>\n",
       "    <tr>\n",
       "      <th>...</th>\n",
       "      <td>...</td>\n",
       "    </tr>\n",
       "    <tr>\n",
       "      <th>5735</th>\n",
       "      <td>2</td>\n",
       "    </tr>\n",
       "    <tr>\n",
       "      <th>5192</th>\n",
       "      <td>3</td>\n",
       "    </tr>\n",
       "    <tr>\n",
       "      <th>5391</th>\n",
       "      <td>2</td>\n",
       "    </tr>\n",
       "    <tr>\n",
       "      <th>861</th>\n",
       "      <td>3</td>\n",
       "    </tr>\n",
       "    <tr>\n",
       "      <th>7271</th>\n",
       "      <td>0</td>\n",
       "    </tr>\n",
       "  </tbody>\n",
       "</table>\n",
       "<p>6819 rows × 1 columns</p>\n",
       "</div>"
      ],
      "text/plain": [
       "      label\n",
       "8605      1\n",
       "1303      2\n",
       "8759      3\n",
       "5021      2\n",
       "3210      2\n",
       "...     ...\n",
       "5735      2\n",
       "5192      3\n",
       "5391      2\n",
       "861       3\n",
       "7271      0\n",
       "\n",
       "[6819 rows x 1 columns]"
      ]
     },
     "execution_count": 17,
     "metadata": {},
     "output_type": "execute_result"
    }
   ],
   "source": [
    "print(y_train.shape)\n",
    "y_train"
   ]
  },
  {
   "cell_type": "code",
   "execution_count": 18,
   "metadata": {},
   "outputs": [
    {
     "name": "stdout",
     "output_type": "stream",
     "text": [
      "(6819, 1)\n"
     ]
    },
    {
     "data": {
      "text/html": [
       "<div>\n",
       "<style scoped>\n",
       "    .dataframe tbody tr th:only-of-type {\n",
       "        vertical-align: middle;\n",
       "    }\n",
       "\n",
       "    .dataframe tbody tr th {\n",
       "        vertical-align: top;\n",
       "    }\n",
       "\n",
       "    .dataframe thead th {\n",
       "        text-align: right;\n",
       "    }\n",
       "</style>\n",
       "<table border=\"1\" class=\"dataframe\">\n",
       "  <thead>\n",
       "    <tr style=\"text-align: right;\">\n",
       "      <th></th>\n",
       "      <th>tweet_text</th>\n",
       "    </tr>\n",
       "  </thead>\n",
       "  <tbody>\n",
       "    <tr>\n",
       "      <th>8605</th>\n",
       "      <td>Perfect attention to detail RT @mention Google...</td>\n",
       "    </tr>\n",
       "    <tr>\n",
       "      <th>1303</th>\n",
       "      <td>my iphone was stolen and I got it back !!!!!! ...</td>\n",
       "    </tr>\n",
       "    <tr>\n",
       "      <th>8759</th>\n",
       "      <td>fuck I love Austin. Just left the Youtube Goog...</td>\n",
       "    </tr>\n",
       "    <tr>\n",
       "      <th>5021</th>\n",
       "      <td>Spotted something rare a few minutes ago...a p...</td>\n",
       "    </tr>\n",
       "    <tr>\n",
       "      <th>3210</th>\n",
       "      <td>@mention fyi  RT @mention I'll be at the Austi...</td>\n",
       "    </tr>\n",
       "  </tbody>\n",
       "</table>\n",
       "</div>"
      ],
      "text/plain": [
       "                                             tweet_text\n",
       "8605  Perfect attention to detail RT @mention Google...\n",
       "1303  my iphone was stolen and I got it back !!!!!! ...\n",
       "8759  fuck I love Austin. Just left the Youtube Goog...\n",
       "5021  Spotted something rare a few minutes ago...a p...\n",
       "3210  @mention fyi  RT @mention I'll be at the Austi..."
      ]
     },
     "execution_count": 18,
     "metadata": {},
     "output_type": "execute_result"
    }
   ],
   "source": [
    "print(X_train.shape)\n",
    "X_train.head()"
   ]
  },
  {
   "cell_type": "markdown",
   "metadata": {},
   "source": [
    "#### Check tweet lenghts distrubution and max value"
   ]
  },
  {
   "cell_type": "code",
   "execution_count": 19,
   "metadata": {},
   "outputs": [
    {
     "name": "stdout",
     "output_type": "stream",
     "text": [
      "max phrase len: 33\n"
     ]
    },
    {
     "data": {
      "image/png": "[encoded data removed]",
      "text/plain": [
       "<Figure size 720x576 with 1 Axes>"
      ]
     },
     "metadata": {
      "needs_background": "light"
     },
     "output_type": "display_data"
    }
   ],
   "source": [
    "phrase_len = X_train['tweet_text'].apply(lambda p: len(p.split(' ')))\n",
    "max_phrase_len = phrase_len.max()\n",
    "print('max phrase len: {0}'.format(max_phrase_len))\n",
    "\n",
    "#Plot results\n",
    "plt.figure(figsize = (10, 8))\n",
    "plt.hist(phrase_len, alpha = 0.2, density = True)\n",
    "plt.xlabel('phrase len')\n",
    "plt.ylabel('probability')\n",
    "plt.grid(alpha = 0.25)"
   ]
  },
  {
   "cell_type": "markdown",
   "metadata": {},
   "source": [
    "#### Tokenize tweets"
   ]
  },
  {
   "cell_type": "code",
   "execution_count": 20,
   "metadata": {},
   "outputs": [
    {
     "name": "stdout",
     "output_type": "stream",
     "text": [
      "sequences type: <class 'list'>\n"
     ]
    }
   ],
   "source": [
    "# Raw text tweets\n",
    "tweets_train = X_train['tweet_text']\n",
    "\n",
    "# Initialize a tokenizer \n",
    "tokenizer = Tokenizer(num_words=2000) \n",
    "\n",
    "# Fit it to the complaints\n",
    "tokenizer.fit_on_texts(tweets_train) \n",
    "\n",
    "# Generate sequences\n",
    "sequences = tokenizer.texts_to_sequences(tweets_train) \n",
    "print('sequences type:', type(sequences))"
   ]
  },
  {
   "cell_type": "code",
   "execution_count": 21,
   "metadata": {},
   "outputs": [],
   "source": [
    "# print(tokenizer.word_index)"
   ]
  },
  {
   "cell_type": "code",
   "execution_count": 22,
   "metadata": {},
   "outputs": [],
   "source": [
    "#Truncate and pad input sequences to be all the same lenght vectors\n",
    "X_train = pad_sequences(sequences, maxlen=max_phrase_len)\n",
    "\n",
    "#Convert class vector (integers) to binary class matrix\n",
    "y_train = to_categorical(y_train)"
   ]
  },
  {
   "cell_type": "code",
   "execution_count": 23,
   "metadata": {},
   "outputs": [
    {
     "data": {
      "text/plain": [
       "array([[   0,    0,    0, ..., 1020,    1, 1575],\n",
       "       [   0,    0,    0, ...,   32,  203,    1],\n",
       "       [   0,    0,    0, ...,  525,    1,   25],\n",
       "       ...,\n",
       "       [   0,    0,    0, ...,   17,   43,   12],\n",
       "       [   0,    0,    0, ...,   16,   64,   22],\n",
       "       [   0,    0,    0, ...,   93,   50,    1]], dtype=int32)"
      ]
     },
     "execution_count": 23,
     "metadata": {},
     "output_type": "execute_result"
    }
   ],
   "source": [
    "X_train"
   ]
  },
  {
   "cell_type": "code",
   "execution_count": 24,
   "metadata": {},
   "outputs": [
    {
     "data": {
      "text/plain": [
       "(6819, 33)"
      ]
     },
     "execution_count": 24,
     "metadata": {},
     "output_type": "execute_result"
    }
   ],
   "source": [
    "X_train.shape"
   ]
  },
  {
   "cell_type": "code",
   "execution_count": 25,
   "metadata": {},
   "outputs": [
    {
     "data": {
      "text/plain": [
       "(6819, 4)"
      ]
     },
     "execution_count": 25,
     "metadata": {},
     "output_type": "execute_result"
    }
   ],
   "source": [
    "y_train.shape"
   ]
  },
  {
   "cell_type": "markdown",
   "metadata": {},
   "source": [
    "### LSTM Model 1"
   ]
  },
  {
   "cell_type": "code",
   "execution_count": 26,
   "metadata": {},
   "outputs": [],
   "source": [
    "model_lstm = models.Sequential()\n",
    "\n",
    "model_lstm.add(Embedding(input_dim = 2000, output_dim = 256, input_length = max_phrase_len))\n",
    "model_lstm.add(SpatialDropout1D(0.3))\n",
    "model_lstm.add(LSTM(256, dropout = 0.3, recurrent_dropout = 0.3))\n",
    "model_lstm.add(Dense(256, activation = 'relu'))\n",
    "model_lstm.add(Dropout(0.3))\n",
    "model_lstm.add(Dense(4, activation = 'softmax'))\n",
    "\n",
    "model_lstm.compile(\n",
    "    loss='categorical_crossentropy',\n",
    "    optimizer='Adam',\n",
    "    metrics=['accuracy']\n",
    ")"
   ]
  },
  {
   "cell_type": "code",
   "execution_count": 27,
   "metadata": {},
   "outputs": [
    {
     "name": "stdout",
     "output_type": "stream",
     "text": [
      "Train on 5455 samples, validate on 1364 samples\n",
      "Epoch 1/8\n",
      "5455/5455 [==============================] - 20s 4ms/step - loss: 1.1421 - acc: 0.5621 - val_loss: 0.9254 - val_acc: 0.6070\n",
      "Epoch 2/8\n",
      "5455/5455 [==============================] - 18s 3ms/step - loss: 0.9110 - acc: 0.5901 - val_loss: 0.8857 - val_acc: 0.6070\n",
      "Epoch 3/8\n",
      "5455/5455 [==============================] - 18s 3ms/step - loss: 0.8755 - acc: 0.5960 - val_loss: 0.8668 - val_acc: 0.6100\n",
      "Epoch 4/8\n",
      "5455/5455 [==============================] - 18s 3ms/step - loss: 0.8393 - acc: 0.6082 - val_loss: 0.8656 - val_acc: 0.6026\n",
      "Epoch 5/8\n",
      "5455/5455 [==============================] - 19s 4ms/step - loss: 0.7966 - acc: 0.6411 - val_loss: 0.8402 - val_acc: 0.6305\n",
      "Epoch 6/8\n",
      "5455/5455 [==============================] - 18s 3ms/step - loss: 0.7283 - acc: 0.6790 - val_loss: 0.8292 - val_acc: 0.6312\n",
      "Epoch 7/8\n",
      "5455/5455 [==============================] - 18s 3ms/step - loss: 0.6623 - acc: 0.7219 - val_loss: 0.8618 - val_acc: 0.6371\n",
      "Epoch 8/8\n",
      "5455/5455 [==============================] - 18s 3ms/step - loss: 0.6234 - acc: 0.7448 - val_loss: 0.8838 - val_acc: 0.6474\n"
     ]
    }
   ],
   "source": [
    "history = model_lstm.fit(\n",
    "    X_train,\n",
    "    y_train,\n",
    "    validation_split = 0.2,\n",
    "    epochs = 8,\n",
    "    batch_size = 512\n",
    ")"
   ]
  },
  {
   "cell_type": "markdown",
   "metadata": {},
   "source": [
    "#### Visualize training results"
   ]
  },
  {
   "cell_type": "code",
   "execution_count": 28,
   "metadata": {},
   "outputs": [],
   "source": [
    "def visualize_training_results(results):\n",
    "    history = results.history\n",
    "    plt.figure()\n",
    "    plt.plot(history['val_loss'])\n",
    "    plt.plot(history['loss'])\n",
    "    plt.legend(['val_loss', 'loss'])\n",
    "    plt.title('Loss')\n",
    "    plt.xlabel('Epochs')\n",
    "    plt.ylabel('Loss')\n",
    "    plt.show()\n",
    "    \n",
    "    plt.figure()\n",
    "    plt.plot(history['val_acc'])\n",
    "    plt.plot(history['acc'])\n",
    "    plt.legend(['val_acc', 'acc'])\n",
    "    plt.title('Accuracy')\n",
    "    plt.xlabel('Epochs')\n",
    "    plt.ylabel('Accuracy')\n",
    "    plt.show()"
   ]
  },
  {
   "cell_type": "code",
   "execution_count": 29,
   "metadata": {},
   "outputs": [
    {
     "data": {
      "image/png": "[encoded data removed]",
      "text/plain": [
       "<Figure size 432x288 with 1 Axes>"
      ]
     },
     "metadata": {
      "needs_background": "light"
     },
     "output_type": "display_data"
    },
    {
     "data": {
      "image/png": "[encoded data removed]",
      "text/plain": [
       "<Figure size 432x288 with 1 Axes>"
      ]
     },
     "metadata": {
      "needs_background": "light"
     },
     "output_type": "display_data"
    }
   ],
   "source": [
    "visualize_training_results(history)"
   ]
  },
  {
   "cell_type": "markdown",
   "metadata": {},
   "source": [
    "### LSTM Model 2"
   ]
  },
  {
   "cell_type": "markdown",
   "metadata": {},
   "source": [
    "#### Early Stopping"
   ]
  },
  {
   "cell_type": "code",
   "execution_count": 30,
   "metadata": {},
   "outputs": [],
   "source": [
    "# Import EarlyStopping and ModelCheckpoint\n",
    "from keras.callbacks import EarlyStopping, ModelCheckpoint\n",
    "\n",
    "# Define the callbacks\n",
    "early_stopping = [EarlyStopping(monitor='val_loss', patience=10), \n",
    "                  ModelCheckpoint(filepath='best_model_2.h5', monitor='val_loss', save_best_only=True)]"
   ]
  },
  {
   "cell_type": "code",
   "execution_count": 31,
   "metadata": {},
   "outputs": [],
   "source": [
    "model_lstm_2 = models.Sequential()\n",
    "\n",
    "model_lstm_2.add(Embedding(input_dim = 2000, output_dim = 50, input_length = max_phrase_len))\n",
    "model_lstm_2.add(Dropout(0.3))\n",
    "# model_lstm_2.add(SpatialDropout1D(0.3))\n",
    "model_lstm_2.add(LSTM(50))\n",
    "model_lstm_2.add(Dropout(0.3))\n",
    "model_lstm_2.add(Dense(25, activation = 'relu'))\n",
    "model_lstm_2.add(Dropout(0.3))\n",
    "\n",
    "model_lstm_2.add(Dense(4, activation = 'softmax'))\n",
    "\n",
    "model_lstm_2.compile(\n",
    "    loss='categorical_crossentropy',\n",
    "    optimizer='adam',\n",
    "    metrics=['accuracy']\n",
    ")"
   ]
  },
  {
   "cell_type": "code",
   "execution_count": 32,
   "metadata": {},
   "outputs": [
    {
     "name": "stdout",
     "output_type": "stream",
     "text": [
      "Train on 5455 samples, validate on 1364 samples\n",
      "Epoch 1/32\n",
      "5455/5455 [==============================] - 3s 502us/step - loss: 1.3813 - acc: 0.3716 - val_loss: 1.3615 - val_acc: 0.6070\n",
      "Epoch 2/32\n",
      "5455/5455 [==============================] - 2s 324us/step - loss: 1.3463 - acc: 0.5859 - val_loss: 1.3112 - val_acc: 0.6070\n",
      "Epoch 3/32\n",
      "5455/5455 [==============================] - 2s 315us/step - loss: 1.2849 - acc: 0.5897 - val_loss: 1.1988 - val_acc: 0.6070\n",
      "Epoch 4/32\n",
      "5455/5455 [==============================] - 2s 309us/step - loss: 1.1344 - acc: 0.5879 - val_loss: 0.9467 - val_acc: 0.6070\n",
      "Epoch 5/32\n",
      "5455/5455 [==============================] - 2s 310us/step - loss: 1.0304 - acc: 0.5844 - val_loss: 0.9080 - val_acc: 0.6070\n",
      "Epoch 6/32\n",
      "5455/5455 [==============================] - 2s 308us/step - loss: 0.9803 - acc: 0.5569 - val_loss: 0.9222 - val_acc: 0.6070\n",
      "Epoch 7/32\n",
      "5455/5455 [==============================] - 2s 307us/step - loss: 0.9757 - acc: 0.5397 - val_loss: 0.9123 - val_acc: 0.6070\n",
      "Epoch 8/32\n",
      "5455/5455 [==============================] - 2s 310us/step - loss: 0.9584 - acc: 0.5630 - val_loss: 0.8940 - val_acc: 0.6070\n",
      "Epoch 9/32\n",
      "5455/5455 [==============================] - 2s 305us/step - loss: 0.9487 - acc: 0.5793 - val_loss: 0.8922 - val_acc: 0.6070\n",
      "Epoch 10/32\n",
      "5455/5455 [==============================] - 2s 306us/step - loss: 0.9349 - acc: 0.5835 - val_loss: 0.8904 - val_acc: 0.6070\n",
      "Epoch 11/32\n",
      "5455/5455 [==============================] - 2s 316us/step - loss: 0.9206 - acc: 0.5870 - val_loss: 0.8777 - val_acc: 0.6070\n",
      "Epoch 12/32\n",
      "5455/5455 [==============================] - 2s 311us/step - loss: 0.9022 - acc: 0.5872 - val_loss: 0.8677 - val_acc: 0.6070\n",
      "Epoch 13/32\n",
      "5455/5455 [==============================] - 2s 322us/step - loss: 0.8794 - acc: 0.5905 - val_loss: 0.8617 - val_acc: 0.6092\n",
      "Epoch 14/32\n",
      "5455/5455 [==============================] - 2s 304us/step - loss: 0.8657 - acc: 0.5923 - val_loss: 0.8565 - val_acc: 0.6078\n",
      "Epoch 15/32\n",
      "5455/5455 [==============================] - 2s 306us/step - loss: 0.8519 - acc: 0.6037 - val_loss: 0.8577 - val_acc: 0.6122\n",
      "Epoch 16/32\n",
      "5455/5455 [==============================] - 2s 305us/step - loss: 0.8338 - acc: 0.6086 - val_loss: 0.8535 - val_acc: 0.6173\n",
      "Epoch 17/32\n",
      "5455/5455 [==============================] - 2s 331us/step - loss: 0.8182 - acc: 0.6172 - val_loss: 0.8474 - val_acc: 0.6210\n",
      "Epoch 18/32\n",
      "5455/5455 [==============================] - 2s 305us/step - loss: 0.8081 - acc: 0.6242 - val_loss: 0.8480 - val_acc: 0.6268\n",
      "Epoch 19/32\n",
      "5455/5455 [==============================] - 2s 307us/step - loss: 0.7827 - acc: 0.6394 - val_loss: 0.8530 - val_acc: 0.6239\n",
      "Epoch 20/32\n",
      "5455/5455 [==============================] - 2s 309us/step - loss: 0.7704 - acc: 0.6451 - val_loss: 0.8653 - val_acc: 0.6283\n",
      "Epoch 21/32\n",
      "5455/5455 [==============================] - 2s 321us/step - loss: 0.7545 - acc: 0.6616 - val_loss: 0.8549 - val_acc: 0.6298\n",
      "Epoch 22/32\n",
      "5455/5455 [==============================] - 2s 311us/step - loss: 0.7340 - acc: 0.6775 - val_loss: 0.8607 - val_acc: 0.6129\n",
      "Epoch 23/32\n",
      "5455/5455 [==============================] - 2s 318us/step - loss: 0.7257 - acc: 0.6827 - val_loss: 0.8688 - val_acc: 0.6290\n",
      "Epoch 24/32\n",
      "5455/5455 [==============================] - 2s 324us/step - loss: 0.7115 - acc: 0.6863 - val_loss: 0.8865 - val_acc: 0.6246\n",
      "Epoch 25/32\n",
      "5455/5455 [==============================] - 2s 305us/step - loss: 0.6913 - acc: 0.7056 - val_loss: 0.8977 - val_acc: 0.6210\n",
      "Epoch 26/32\n",
      "5455/5455 [==============================] - 2s 314us/step - loss: 0.6793 - acc: 0.7078 - val_loss: 0.9087 - val_acc: 0.6261\n",
      "Epoch 27/32\n",
      "5455/5455 [==============================] - 2s 313us/step - loss: 0.6679 - acc: 0.7203 - val_loss: 0.9120 - val_acc: 0.6261\n"
     ]
    }
   ],
   "source": [
    "history = model_lstm_2.fit(\n",
    "    X_train,\n",
    "    y_train,\n",
    "    validation_split = 0.2,\n",
    "    callbacks=early_stopping,\n",
    "    epochs = 32,\n",
    "    batch_size = 1000\n",
    ")"
   ]
  },
  {
   "cell_type": "code",
   "execution_count": 33,
   "metadata": {},
   "outputs": [
    {
     "data": {
      "image/png": "[encoded data removed]",
      "text/plain": [
       "<Figure size 432x288 with 1 Axes>"
      ]
     },
     "metadata": {
      "needs_background": "light"
     },
     "output_type": "display_data"
    },
    {
     "data": {
      "image/png": "[encoded data removed]",
      "text/plain": [
       "<Figure size 432x288 with 1 Axes>"
      ]
     },
     "metadata": {
      "needs_background": "light"
     },
     "output_type": "display_data"
    }
   ],
   "source": [
    "visualize_training_results(history)"
   ]
  },
  {
   "cell_type": "markdown",
   "metadata": {},
   "source": [
    "### LSTM Model 3"
   ]
  },
  {
   "cell_type": "code",
   "execution_count": 34,
   "metadata": {},
   "outputs": [],
   "source": [
    "# Define the callbacks\n",
    "early_stopping = [EarlyStopping(monitor='val_loss', patience=10), \n",
    "                  ModelCheckpoint(filepath='best_model_3.h5', monitor='val_loss', save_best_only=True)]"
   ]
  },
  {
   "cell_type": "code",
   "execution_count": 35,
   "metadata": {},
   "outputs": [],
   "source": [
    "model_lstm_3 = models.Sequential()\n",
    "\n",
    "model_lstm_3.add(Embedding(input_dim = 2000, output_dim = 50, input_length = max_phrase_len))\n",
    "model_lstm_3.add(Dropout(0.3))\n",
    "model_lstm_3.add(LSTM(50))\n",
    "model_lstm_3.add(Dropout(0.3))\n",
    "model_lstm_3.add(Dense(25, activation = 'relu'))\n",
    "model_lstm_3.add(Dropout(0.3))\n",
    "\n",
    "model_lstm_3.add(Dense(4, activation = 'softmax'))\n",
    "\n",
    "model_lstm_3.compile(\n",
    "    loss='categorical_crossentropy',\n",
    "    optimizer='adam',\n",
    "    metrics=['accuracy']\n",
    ")"
   ]
  },
  {
   "cell_type": "code",
   "execution_count": 36,
   "metadata": {},
   "outputs": [
    {
     "name": "stdout",
     "output_type": "stream",
     "text": [
      "Train on 5455 samples, validate on 1364 samples\n",
      "Epoch 1/32\n",
      "5455/5455 [==============================] - 3s 530us/step - loss: 1.3726 - acc: 0.4829 - val_loss: 1.3457 - val_acc: 0.6063\n",
      "Epoch 2/32\n",
      "5455/5455 [==============================] - 2s 311us/step - loss: 1.3242 - acc: 0.5863 - val_loss: 1.2767 - val_acc: 0.6070\n",
      "Epoch 3/32\n",
      "5455/5455 [==============================] - 2s 351us/step - loss: 1.2378 - acc: 0.5846 - val_loss: 1.1328 - val_acc: 0.6070\n",
      "Epoch 4/32\n",
      "5455/5455 [==============================] - 2s 317us/step - loss: 1.0643 - acc: 0.5839 - val_loss: 0.9159 - val_acc: 0.6070\n",
      "Epoch 5/32\n",
      "5455/5455 [==============================] - 2s 312us/step - loss: 1.0031 - acc: 0.5842 - val_loss: 0.9032 - val_acc: 0.6070\n",
      "Epoch 6/32\n",
      "5455/5455 [==============================] - 2s 311us/step - loss: 0.9651 - acc: 0.5791 - val_loss: 0.9211 - val_acc: 0.6070\n",
      "Epoch 7/32\n",
      "5455/5455 [==============================] - 2s 321us/step - loss: 0.9586 - acc: 0.5852 - val_loss: 0.8977 - val_acc: 0.6070\n",
      "Epoch 8/32\n",
      "5455/5455 [==============================] - 2s 305us/step - loss: 0.9322 - acc: 0.5885 - val_loss: 0.8843 - val_acc: 0.6070\n",
      "Epoch 9/32\n",
      "5455/5455 [==============================] - 2s 308us/step - loss: 0.9292 - acc: 0.5868 - val_loss: 0.8803 - val_acc: 0.6070\n",
      "Epoch 10/32\n",
      "5455/5455 [==============================] - 2s 309us/step - loss: 0.9131 - acc: 0.5852 - val_loss: 0.8777 - val_acc: 0.6070\n",
      "Epoch 11/32\n",
      "5455/5455 [==============================] - 2s 320us/step - loss: 0.8914 - acc: 0.5912 - val_loss: 0.8659 - val_acc: 0.6070\n",
      "Epoch 12/32\n",
      "5455/5455 [==============================] - 2s 314us/step - loss: 0.8829 - acc: 0.5907 - val_loss: 0.8601 - val_acc: 0.6100\n",
      "Epoch 13/32\n",
      "5455/5455 [==============================] - 2s 307us/step - loss: 0.8668 - acc: 0.5960 - val_loss: 0.8586 - val_acc: 0.6085\n",
      "Epoch 14/32\n",
      "5455/5455 [==============================] - 2s 305us/step - loss: 0.8479 - acc: 0.5974 - val_loss: 0.8525 - val_acc: 0.6056\n",
      "Epoch 15/32\n",
      "5455/5455 [==============================] - 2s 313us/step - loss: 0.8262 - acc: 0.6044 - val_loss: 0.8506 - val_acc: 0.6166\n",
      "Epoch 16/32\n",
      "5455/5455 [==============================] - 2s 312us/step - loss: 0.8100 - acc: 0.6214 - val_loss: 0.8519 - val_acc: 0.6158\n",
      "Epoch 17/32\n",
      "5455/5455 [==============================] - 2s 311us/step - loss: 0.7915 - acc: 0.6286 - val_loss: 0.8450 - val_acc: 0.6254\n",
      "Epoch 18/32\n",
      "5455/5455 [==============================] - 2s 307us/step - loss: 0.7684 - acc: 0.6390 - val_loss: 0.8408 - val_acc: 0.6320\n",
      "Epoch 19/32\n",
      "5455/5455 [==============================] - 2s 308us/step - loss: 0.7388 - acc: 0.6673 - val_loss: 0.8422 - val_acc: 0.6393\n",
      "Epoch 20/32\n",
      "5455/5455 [==============================] - 2s 306us/step - loss: 0.7270 - acc: 0.6819 - val_loss: 0.8469 - val_acc: 0.6408\n",
      "Epoch 21/32\n",
      "5455/5455 [==============================] - 2s 312us/step - loss: 0.6980 - acc: 0.6931 - val_loss: 0.8902 - val_acc: 0.6415\n",
      "Epoch 22/32\n",
      "5455/5455 [==============================] - 2s 315us/step - loss: 0.6825 - acc: 0.7069 - val_loss: 0.8747 - val_acc: 0.6378\n",
      "Epoch 23/32\n",
      "5455/5455 [==============================] - 2s 308us/step - loss: 0.6638 - acc: 0.7162 - val_loss: 0.8674 - val_acc: 0.6540\n",
      "Epoch 24/32\n",
      "5455/5455 [==============================] - 2s 306us/step - loss: 0.6321 - acc: 0.7331 - val_loss: 0.8792 - val_acc: 0.6342\n",
      "Epoch 25/32\n",
      "5455/5455 [==============================] - 2s 306us/step - loss: 0.6183 - acc: 0.7441 - val_loss: 0.8727 - val_acc: 0.6371\n",
      "Epoch 26/32\n",
      "5455/5455 [==============================] - 2s 310us/step - loss: 0.6089 - acc: 0.7478 - val_loss: 0.8928 - val_acc: 0.6217\n",
      "Epoch 27/32\n",
      "5455/5455 [==============================] - 2s 315us/step - loss: 0.5901 - acc: 0.7622 - val_loss: 0.9090 - val_acc: 0.6268\n",
      "Epoch 28/32\n",
      "5455/5455 [==============================] - 2s 312us/step - loss: 0.5758 - acc: 0.7677 - val_loss: 0.9083 - val_acc: 0.6540\n"
     ]
    }
   ],
   "source": [
    "history_3 = model_lstm_3.fit(\n",
    "    X_train,\n",
    "    y_train,\n",
    "    validation_split = 0.2,\n",
    "    callbacks=early_stopping,\n",
    "    epochs = 32,\n",
    "    batch_size = 1000\n",
    ")"
   ]
  },
  {
   "cell_type": "code",
   "execution_count": 37,
   "metadata": {},
   "outputs": [
    {
     "data": {
      "image/png": "[encoded data removed]",
      "text/plain": [
       "<Figure size 432x288 with 1 Axes>"
      ]
     },
     "metadata": {
      "needs_background": "light"
     },
     "output_type": "display_data"
    },
    {
     "data": {
      "image/png": "[encoded data removed]",
      "text/plain": [
       "<Figure size 432x288 with 1 Axes>"
      ]
     },
     "metadata": {
      "needs_background": "light"
     },
     "output_type": "display_data"
    }
   ],
   "source": [
    "visualize_training_results(history_3)"
   ]
  },
  {
   "cell_type": "markdown",
   "metadata": {},
   "source": [
    "### LSTM Model 4"
   ]
  },
  {
   "cell_type": "markdown",
   "metadata": {},
   "source": [
    "#### Further clean up of tweets' content and removal of stopwords"
   ]
  },
  {
   "cell_type": "code",
   "execution_count": 38,
   "metadata": {},
   "outputs": [],
   "source": [
    "# Define the callbacks\n",
    "early_stopping = [EarlyStopping(monitor='val_loss', patience=10), \n",
    "                  ModelCheckpoint(filepath='best_model_4.h5', monitor='val_loss', save_best_only=True)]"
   ]
  },
  {
   "cell_type": "code",
   "execution_count": 39,
   "metadata": {},
   "outputs": [],
   "source": [
    "# #### Getting a list of all of the english stopwords, and concatenating them with a list of all the punctuation.\n",
    "stopwords_list = stopwords.words('english') + list(string.punctuation)\n",
    "stopwords_list += [\"''\", '\"\"', '...', '``']"
   ]
  },
  {
   "cell_type": "code",
   "execution_count": 40,
   "metadata": {},
   "outputs": [],
   "source": [
    "# Split data into train and test sets\n",
    "X_train, X_test, y_train, y_test = train_test_split(data, target, test_size=0.25, random_state=42)"
   ]
  },
  {
   "cell_type": "code",
   "execution_count": 41,
   "metadata": {},
   "outputs": [],
   "source": [
    "def process_tweet(tweet):\n",
    "    tokens = nltk.word_tokenize(tweet)\n",
    "    stopwords_removed = [token.lower() for token in tokens if token.lower() not in stopwords_list]\n",
    "    return stopwords_removed"
   ]
  },
  {
   "cell_type": "code",
   "execution_count": 42,
   "metadata": {},
   "outputs": [],
   "source": [
    "processed_data = X_train.applymap(process_tweet)"
   ]
  },
  {
   "cell_type": "code",
   "execution_count": 43,
   "metadata": {},
   "outputs": [
    {
     "data": {
      "text/html": [
       "<div>\n",
       "<style scoped>\n",
       "    .dataframe tbody tr th:only-of-type {\n",
       "        vertical-align: middle;\n",
       "    }\n",
       "\n",
       "    .dataframe tbody tr th {\n",
       "        vertical-align: top;\n",
       "    }\n",
       "\n",
       "    .dataframe thead th {\n",
       "        text-align: right;\n",
       "    }\n",
       "</style>\n",
       "<table border=\"1\" class=\"dataframe\">\n",
       "  <thead>\n",
       "    <tr style=\"text-align: right;\">\n",
       "      <th></th>\n",
       "      <th>tweet_text</th>\n",
       "    </tr>\n",
       "  </thead>\n",
       "  <tbody>\n",
       "    <tr>\n",
       "      <th>8605</th>\n",
       "      <td>perfect attention detail rt mention google rec...</td>\n",
       "    </tr>\n",
       "    <tr>\n",
       "      <th>1303</th>\n",
       "      <td>iphone stolen got back sxsw</td>\n",
       "    </tr>\n",
       "    <tr>\n",
       "      <th>8759</th>\n",
       "      <td>fuck love austin left youtube google party mag...</td>\n",
       "    </tr>\n",
       "    <tr>\n",
       "      <th>5021</th>\n",
       "      <td>spotted something rare minutes ago phone made ...</td>\n",
       "    </tr>\n",
       "    <tr>\n",
       "      <th>3210</th>\n",
       "      <td>mention fyi rt mention 'll austin convention c...</td>\n",
       "    </tr>\n",
       "    <tr>\n",
       "      <th>...</th>\n",
       "      <td>...</td>\n",
       "    </tr>\n",
       "    <tr>\n",
       "      <th>5735</th>\n",
       "      <td>rt mention notatsxsw sxsw 's link free downloa...</td>\n",
       "    </tr>\n",
       "    <tr>\n",
       "      <th>5192</th>\n",
       "      <td>rt mention quot future local contextual discov...</td>\n",
       "    </tr>\n",
       "    <tr>\n",
       "      <th>5391</th>\n",
       "      <td>rt mention android may gaining market share 'd...</td>\n",
       "    </tr>\n",
       "    <tr>\n",
       "      <th>861</th>\n",
       "      <td>mention love mention mention sxsw quot apple c...</td>\n",
       "    </tr>\n",
       "    <tr>\n",
       "      <th>7271</th>\n",
       "      <td>anyone know status ipad 2s austin pop-up store...</td>\n",
       "    </tr>\n",
       "  </tbody>\n",
       "</table>\n",
       "<p>6819 rows × 1 columns</p>\n",
       "</div>"
      ],
      "text/plain": [
       "                                             tweet_text\n",
       "8605  perfect attention detail rt mention google rec...\n",
       "1303                        iphone stolen got back sxsw\n",
       "8759  fuck love austin left youtube google party mag...\n",
       "5021  spotted something rare minutes ago phone made ...\n",
       "3210  mention fyi rt mention 'll austin convention c...\n",
       "...                                                 ...\n",
       "5735  rt mention notatsxsw sxsw 's link free downloa...\n",
       "5192  rt mention quot future local contextual discov...\n",
       "5391  rt mention android may gaining market share 'd...\n",
       "861   mention love mention mention sxsw quot apple c...\n",
       "7271  anyone know status ipad 2s austin pop-up store...\n",
       "\n",
       "[6819 rows x 1 columns]"
      ]
     },
     "execution_count": 43,
     "metadata": {},
     "output_type": "execute_result"
    }
   ],
   "source": [
    "processed_data['tweet_text'] = processed_data['tweet_text'].apply(lambda x: ' '.join(map(str, x)))\n",
    "processed_data"
   ]
  },
  {
   "cell_type": "markdown",
   "metadata": {},
   "source": [
    "#### Tokenize tweets"
   ]
  },
  {
   "cell_type": "code",
   "execution_count": 44,
   "metadata": {},
   "outputs": [
    {
     "name": "stdout",
     "output_type": "stream",
     "text": [
      "sequences type: <class 'list'>\n"
     ]
    }
   ],
   "source": [
    "# Raw text tweets\n",
    "tweets_train = processed_data['tweet_text']\n",
    "\n",
    "# Initialize a tokenizer \n",
    "tokenizer = Tokenizer(num_words=2000) \n",
    "\n",
    "# Fit it to the complaints\n",
    "tokenizer.fit_on_texts(tweets_train) \n",
    "\n",
    "# Generate sequences\n",
    "train_sequences = tokenizer.texts_to_sequences(tweets_train) \n",
    "print('sequences type:', type(sequences))"
   ]
  },
  {
   "cell_type": "code",
   "execution_count": 45,
   "metadata": {},
   "outputs": [],
   "source": [
    "#Truncate and pad input sequences to be all the same lenght vectors\n",
    "X_train = pad_sequences(train_sequences, maxlen=max_phrase_len)\n",
    "\n",
    "y_train = to_categorical(y_train)"
   ]
  },
  {
   "cell_type": "code",
   "execution_count": 46,
   "metadata": {},
   "outputs": [],
   "source": [
    "model_lstm_4 = models.Sequential()\n",
    "\n",
    "model_lstm_4.add(Embedding(input_dim = 2000, output_dim = 50, input_length = max_phrase_len))\n",
    "model_lstm_4.add(Dropout(0.3))\n",
    "model_lstm_4.add(LSTM(50))\n",
    "model_lstm_4.add(Dropout(0.3))\n",
    "model_lstm_4.add(Dense(5, activation = 'relu'))\n",
    "model_lstm_4.add(Dropout(0.3))\n",
    "\n",
    "model_lstm_4.add(Dense(4, activation = 'softmax'))\n",
    "\n",
    "model_lstm_4.compile(\n",
    "    loss='categorical_crossentropy',\n",
    "    optimizer='adam',\n",
    "    metrics=['accuracy']\n",
    ")"
   ]
  },
  {
   "cell_type": "code",
   "execution_count": 47,
   "metadata": {},
   "outputs": [
    {
     "name": "stdout",
     "output_type": "stream",
     "text": [
      "Train on 5455 samples, validate on 1364 samples\n",
      "Epoch 1/45\n",
      "5455/5455 [==============================] - 3s 574us/step - loss: 1.3795 - acc: 0.4108 - val_loss: 1.3615 - val_acc: 0.6041\n",
      "Epoch 2/45\n",
      "5455/5455 [==============================] - 2s 328us/step - loss: 1.3410 - acc: 0.5368 - val_loss: 1.2959 - val_acc: 0.6070\n",
      "Epoch 3/45\n",
      "5455/5455 [==============================] - 2s 325us/step - loss: 1.2152 - acc: 0.5234 - val_loss: 1.0064 - val_acc: 0.6070\n",
      "Epoch 4/45\n",
      "5455/5455 [==============================] - 2s 323us/step - loss: 1.0634 - acc: 0.5219 - val_loss: 0.9153 - val_acc: 0.6070\n",
      "Epoch 5/45\n",
      "5455/5455 [==============================] - 2s 318us/step - loss: 1.0383 - acc: 0.5327 - val_loss: 0.9254 - val_acc: 0.6070\n",
      "Epoch 6/45\n",
      "5455/5455 [==============================] - 2s 324us/step - loss: 1.0301 - acc: 0.5472 - val_loss: 0.9286 - val_acc: 0.6070\n",
      "Epoch 7/45\n",
      "5455/5455 [==============================] - 2s 325us/step - loss: 1.0354 - acc: 0.5331 - val_loss: 0.9275 - val_acc: 0.6070\n",
      "Epoch 8/45\n",
      "5455/5455 [==============================] - 2s 319us/step - loss: 1.0207 - acc: 0.5434 - val_loss: 0.9237 - val_acc: 0.6070\n",
      "Epoch 9/45\n",
      "5455/5455 [==============================] - 2s 326us/step - loss: 1.0090 - acc: 0.5426 - val_loss: 0.9164 - val_acc: 0.6070\n",
      "Epoch 10/45\n",
      "5455/5455 [==============================] - 2s 325us/step - loss: 1.0008 - acc: 0.5382 - val_loss: 0.9118 - val_acc: 0.6070\n",
      "Epoch 11/45\n",
      "5455/5455 [==============================] - 2s 324us/step - loss: 1.0045 - acc: 0.5393 - val_loss: 0.9102 - val_acc: 0.6070\n",
      "Epoch 12/45\n",
      "5455/5455 [==============================] - 2s 350us/step - loss: 1.0053 - acc: 0.5358 - val_loss: 0.9072 - val_acc: 0.6070\n",
      "Epoch 13/45\n",
      "5455/5455 [==============================] - 2s 319us/step - loss: 0.9885 - acc: 0.5344 - val_loss: 0.9019 - val_acc: 0.6070\n",
      "Epoch 14/45\n",
      "5455/5455 [==============================] - 2s 318us/step - loss: 0.9716 - acc: 0.5386 - val_loss: 0.8952 - val_acc: 0.6100\n",
      "Epoch 15/45\n",
      "5455/5455 [==============================] - 2s 325us/step - loss: 0.9356 - acc: 0.5450 - val_loss: 0.8711 - val_acc: 0.6188\n",
      "Epoch 16/45\n",
      "5455/5455 [==============================] - 2s 329us/step - loss: 0.9345 - acc: 0.5531 - val_loss: 0.8572 - val_acc: 0.6210\n",
      "Epoch 17/45\n",
      "5455/5455 [==============================] - 2s 346us/step - loss: 0.9178 - acc: 0.5439 - val_loss: 0.8505 - val_acc: 0.6224\n",
      "Epoch 18/45\n",
      "5455/5455 [==============================] - 2s 336us/step - loss: 0.8939 - acc: 0.5589 - val_loss: 0.8530 - val_acc: 0.6349\n",
      "Epoch 19/45\n",
      "5455/5455 [==============================] - 2s 327us/step - loss: 0.8884 - acc: 0.5962 - val_loss: 0.8546 - val_acc: 0.6400\n",
      "Epoch 20/45\n",
      "5455/5455 [==============================] - 2s 321us/step - loss: 0.8780 - acc: 0.5989 - val_loss: 0.8535 - val_acc: 0.6188\n",
      "Epoch 21/45\n",
      "5455/5455 [==============================] - 2s 330us/step - loss: 0.8664 - acc: 0.5960 - val_loss: 0.8516 - val_acc: 0.6173\n",
      "Epoch 22/45\n",
      "5455/5455 [==============================] - 2s 321us/step - loss: 0.8479 - acc: 0.6042 - val_loss: 0.8490 - val_acc: 0.6246\n",
      "Epoch 23/45\n",
      "5455/5455 [==============================] - 2s 324us/step - loss: 0.8278 - acc: 0.6359 - val_loss: 0.8548 - val_acc: 0.6415\n",
      "Epoch 24/45\n",
      "5455/5455 [==============================] - 2s 318us/step - loss: 0.8126 - acc: 0.6671 - val_loss: 0.8475 - val_acc: 0.6496\n",
      "Epoch 25/45\n",
      "5455/5455 [==============================] - 2s 319us/step - loss: 0.7787 - acc: 0.6709 - val_loss: 0.8523 - val_acc: 0.6474\n",
      "Epoch 26/45\n",
      "5455/5455 [==============================] - 2s 335us/step - loss: 0.7807 - acc: 0.6735 - val_loss: 0.8644 - val_acc: 0.6488\n",
      "Epoch 27/45\n",
      "5455/5455 [==============================] - 2s 328us/step - loss: 0.7634 - acc: 0.6737 - val_loss: 0.8702 - val_acc: 0.6496\n",
      "Epoch 28/45\n",
      "5455/5455 [==============================] - 2s 331us/step - loss: 0.7462 - acc: 0.6818 - val_loss: 0.8788 - val_acc: 0.6503\n",
      "Epoch 29/45\n",
      "5455/5455 [==============================] - 2s 347us/step - loss: 0.7377 - acc: 0.6871 - val_loss: 0.8779 - val_acc: 0.6422\n",
      "Epoch 30/45\n",
      "5455/5455 [==============================] - 2s 351us/step - loss: 0.7257 - acc: 0.6873 - val_loss: 0.8815 - val_acc: 0.6525\n",
      "Epoch 31/45\n",
      "5455/5455 [==============================] - 2s 349us/step - loss: 0.7125 - acc: 0.7001 - val_loss: 0.8950 - val_acc: 0.6547\n",
      "Epoch 32/45\n",
      "5455/5455 [==============================] - 2s 334us/step - loss: 0.6976 - acc: 0.6953 - val_loss: 0.9135 - val_acc: 0.6430\n",
      "Epoch 33/45\n",
      "5455/5455 [==============================] - 2s 337us/step - loss: 0.6916 - acc: 0.7017 - val_loss: 0.8988 - val_acc: 0.6613\n",
      "Epoch 34/45\n",
      "5455/5455 [==============================] - 2s 369us/step - loss: 0.6829 - acc: 0.6984 - val_loss: 0.9397 - val_acc: 0.6613\n"
     ]
    }
   ],
   "source": [
    "history_4 = model_lstm_4.fit(\n",
    "    X_train,\n",
    "    y_train,\n",
    "    validation_split = 0.2,\n",
    "    callbacks=early_stopping,\n",
    "    epochs = 45,\n",
    "    batch_size = 700\n",
    ")"
   ]
  },
  {
   "cell_type": "code",
   "execution_count": 48,
   "metadata": {},
   "outputs": [
    {
     "data": {
      "image/png": "[encoded data removed]",
      "text/plain": [
       "<Figure size 432x288 with 1 Axes>"
      ]
     },
     "metadata": {
      "needs_background": "light"
     },
     "output_type": "display_data"
    },
    {
     "data": {
      "image/png": "[encoded data removed]",
      "text/plain": [
       "<Figure size 432x288 with 1 Axes>"
      ]
     },
     "metadata": {
      "needs_background": "light"
     },
     "output_type": "display_data"
    }
   ],
   "source": [
    "visualize_training_results(history_4)"
   ]
  },
  {
   "cell_type": "markdown",
   "metadata": {},
   "source": [
    "### Final LMST Model"
   ]
  },
  {
   "cell_type": "code",
   "execution_count": 49,
   "metadata": {},
   "outputs": [],
   "source": [
    "# Split data into train and test sets\n",
    "X_train, X_test, y_train, y_test = train_test_split(data, target, test_size=0.25, random_state=42)"
   ]
  },
  {
   "cell_type": "code",
   "execution_count": 50,
   "metadata": {},
   "outputs": [],
   "source": [
    "train_processed_data = X_train.applymap(process_tweet)\n",
    "test_processed_data = X_test.applymap(process_tweet)"
   ]
  },
  {
   "cell_type": "code",
   "execution_count": 51,
   "metadata": {},
   "outputs": [
    {
     "data": {
      "text/html": [
       "<div>\n",
       "<style scoped>\n",
       "    .dataframe tbody tr th:only-of-type {\n",
       "        vertical-align: middle;\n",
       "    }\n",
       "\n",
       "    .dataframe tbody tr th {\n",
       "        vertical-align: top;\n",
       "    }\n",
       "\n",
       "    .dataframe thead th {\n",
       "        text-align: right;\n",
       "    }\n",
       "</style>\n",
       "<table border=\"1\" class=\"dataframe\">\n",
       "  <thead>\n",
       "    <tr style=\"text-align: right;\">\n",
       "      <th></th>\n",
       "      <th>tweet_text</th>\n",
       "    </tr>\n",
       "  </thead>\n",
       "  <tbody>\n",
       "    <tr>\n",
       "      <th>8605</th>\n",
       "      <td>perfect attention detail rt mention google rec...</td>\n",
       "    </tr>\n",
       "    <tr>\n",
       "      <th>1303</th>\n",
       "      <td>iphone stolen got back sxsw</td>\n",
       "    </tr>\n",
       "    <tr>\n",
       "      <th>8759</th>\n",
       "      <td>fuck love austin left youtube google party mag...</td>\n",
       "    </tr>\n",
       "    <tr>\n",
       "      <th>5021</th>\n",
       "      <td>spotted something rare minutes ago phone made ...</td>\n",
       "    </tr>\n",
       "    <tr>\n",
       "      <th>3210</th>\n",
       "      <td>mention fyi rt mention 'll austin convention c...</td>\n",
       "    </tr>\n",
       "  </tbody>\n",
       "</table>\n",
       "</div>"
      ],
      "text/plain": [
       "                                             tweet_text\n",
       "8605  perfect attention detail rt mention google rec...\n",
       "1303                        iphone stolen got back sxsw\n",
       "8759  fuck love austin left youtube google party mag...\n",
       "5021  spotted something rare minutes ago phone made ...\n",
       "3210  mention fyi rt mention 'll austin convention c..."
      ]
     },
     "execution_count": 51,
     "metadata": {},
     "output_type": "execute_result"
    }
   ],
   "source": [
    "train_processed_data['tweet_text'] = train_processed_data['tweet_text'].apply(lambda x: ' '.join(map(str, x)))\n",
    "test_processed_data['tweet_text'] = test_processed_data['tweet_text'].apply(lambda x: ' '.join(map(str, x)))\n",
    "\n",
    "train_processed_data.head()"
   ]
  },
  {
   "cell_type": "code",
   "execution_count": 52,
   "metadata": {},
   "outputs": [
    {
     "data": {
      "text/html": [
       "<div>\n",
       "<style scoped>\n",
       "    .dataframe tbody tr th:only-of-type {\n",
       "        vertical-align: middle;\n",
       "    }\n",
       "\n",
       "    .dataframe tbody tr th {\n",
       "        vertical-align: top;\n",
       "    }\n",
       "\n",
       "    .dataframe thead th {\n",
       "        text-align: right;\n",
       "    }\n",
       "</style>\n",
       "<table border=\"1\" class=\"dataframe\">\n",
       "  <thead>\n",
       "    <tr style=\"text-align: right;\">\n",
       "      <th></th>\n",
       "      <th>tweet_text</th>\n",
       "    </tr>\n",
       "  </thead>\n",
       "  <tbody>\n",
       "    <tr>\n",
       "      <th>7169</th>\n",
       "      <td>google close launching new social network circ...</td>\n",
       "    </tr>\n",
       "    <tr>\n",
       "      <th>2089</th>\n",
       "      <td>iphone charging sxsw link</td>\n",
       "    </tr>\n",
       "    <tr>\n",
       "      <th>2303</th>\n",
       "      <td>walk lady bird lake lovely google maps travel ...</td>\n",
       "    </tr>\n",
       "    <tr>\n",
       "      <th>928</th>\n",
       "      <td>ûï mention rumor apple popup store downtown a...</td>\n",
       "    </tr>\n",
       "    <tr>\n",
       "      <th>5895</th>\n",
       "      <td>rt mention google launch major new social netw...</td>\n",
       "    </tr>\n",
       "  </tbody>\n",
       "</table>\n",
       "</div>"
      ],
      "text/plain": [
       "                                             tweet_text\n",
       "7169  google close launching new social network circ...\n",
       "2089                          iphone charging sxsw link\n",
       "2303  walk lady bird lake lovely google maps travel ...\n",
       "928   ûï mention rumor apple popup store downtown a...\n",
       "5895  rt mention google launch major new social netw..."
      ]
     },
     "execution_count": 52,
     "metadata": {},
     "output_type": "execute_result"
    }
   ],
   "source": [
    "test_processed_data.head()"
   ]
  },
  {
   "cell_type": "code",
   "execution_count": 53,
   "metadata": {},
   "outputs": [
    {
     "name": "stdout",
     "output_type": "stream",
     "text": [
      "sequences type: <class 'list'>\n"
     ]
    }
   ],
   "source": [
    "# Raw text tweets\n",
    "tweets_train = train_processed_data['tweet_text']\n",
    "tweets_test = test_processed_data['tweet_text']\n",
    "\n",
    "# Initialize a tokenizer \n",
    "tokenizer = Tokenizer(num_words=2000) \n",
    "\n",
    "# Fit it to the tweets train\n",
    "tokenizer.fit_on_texts(tweets_train)\n",
    "# Generate sequences\n",
    "train_sequences = tokenizer.texts_to_sequences(tweets_train)\n",
    "\n",
    "# Fit it to the tweets test\n",
    "tokenizer.fit_on_texts(tweets_test) \n",
    "# Generate sequences\n",
    "test_sequences = tokenizer.texts_to_sequences(tweets_test) \n",
    "\n",
    "print('sequences type:', type(train_sequences))"
   ]
  },
  {
   "cell_type": "code",
   "execution_count": 54,
   "metadata": {},
   "outputs": [],
   "source": [
    "#Truncate and pad input sequences to be all the same lenght vectors\n",
    "X_train = pad_sequences(train_sequences, maxlen=max_phrase_len)\n",
    "X_test = pad_sequences(test_sequences, maxlen=max_phrase_len)\n",
    "\n",
    "y_train = to_categorical(y_train)\n",
    "y_test = to_categorical(y_test)"
   ]
  },
  {
   "cell_type": "code",
   "execution_count": 55,
   "metadata": {},
   "outputs": [
    {
     "data": {
      "text/plain": [
       "(2273, 33)"
      ]
     },
     "execution_count": 55,
     "metadata": {},
     "output_type": "execute_result"
    }
   ],
   "source": [
    "X_test.shape"
   ]
  },
  {
   "cell_type": "code",
   "execution_count": 56,
   "metadata": {},
   "outputs": [
    {
     "data": {
      "text/plain": [
       "(2273, 4)"
      ]
     },
     "execution_count": 56,
     "metadata": {},
     "output_type": "execute_result"
    }
   ],
   "source": [
    "y_test.shape"
   ]
  },
  {
   "cell_type": "code",
   "execution_count": 57,
   "metadata": {},
   "outputs": [],
   "source": [
    "model_lstm_final = models.Sequential()\n",
    "\n",
    "model_lstm_final.add(Embedding(input_dim = 2000, output_dim = 50, input_length = max_phrase_len))\n",
    "model_lstm_final.add(Dropout(0.3))\n",
    "model_lstm_final.add(LSTM(50))\n",
    "model_lstm_final.add(Dropout(0.3))\n",
    "model_lstm_final.add(Dense(5, activation = 'relu'))\n",
    "model_lstm_final.add(Dropout(0.3))\n",
    "\n",
    "model_lstm_final.add(Dense(4, activation = 'softmax'))\n",
    "\n",
    "model_lstm_final.compile(\n",
    "    loss='categorical_crossentropy',\n",
    "    optimizer='adam',\n",
    "    metrics=['accuracy']\n",
    ")"
   ]
  },
  {
   "cell_type": "code",
   "execution_count": 58,
   "metadata": {},
   "outputs": [
    {
     "name": "stdout",
     "output_type": "stream",
     "text": [
      "Epoch 1/30\n",
      "6819/6819 [==============================] - 3s 484us/step - loss: 1.3681 - acc: 0.5216\n",
      "Epoch 2/30\n",
      "6819/6819 [==============================] - 2s 305us/step - loss: 1.2663 - acc: 0.5885\n",
      "Epoch 3/30\n",
      "6819/6819 [==============================] - 2s 315us/step - loss: 1.1518 - acc: 0.5470\n",
      "Epoch 4/30\n",
      "6819/6819 [==============================] - 2s 301us/step - loss: 1.1220 - acc: 0.5678\n",
      "Epoch 5/30\n",
      "6819/6819 [==============================] - 2s 298us/step - loss: 1.0973 - acc: 0.5777\n",
      "Epoch 6/30\n",
      "6819/6819 [==============================] - 2s 298us/step - loss: 1.0824 - acc: 0.5697\n",
      "Epoch 7/30\n",
      "6819/6819 [==============================] - 2s 298us/step - loss: 1.0584 - acc: 0.5693\n",
      "Epoch 8/30\n",
      "6819/6819 [==============================] - 2s 327us/step - loss: 1.0232 - acc: 0.5765\n",
      "Epoch 9/30\n",
      "6819/6819 [==============================] - 2s 310us/step - loss: 0.9931 - acc: 0.5782\n",
      "Epoch 10/30\n",
      "6819/6819 [==============================] - 2s 297us/step - loss: 0.9466 - acc: 0.6105\n",
      "Epoch 11/30\n",
      "6819/6819 [==============================] - 2s 297us/step - loss: 0.9212 - acc: 0.6208\n",
      "Epoch 12/30\n",
      "6819/6819 [==============================] - 2s 303us/step - loss: 0.8919 - acc: 0.6368\n",
      "Epoch 13/30\n",
      "6819/6819 [==============================] - 2s 302us/step - loss: 0.8698 - acc: 0.6554\n",
      "Epoch 14/30\n",
      "6819/6819 [==============================] - 2s 306us/step - loss: 0.8466 - acc: 0.6700\n",
      "Epoch 15/30\n",
      "6819/6819 [==============================] - 2s 307us/step - loss: 0.8286 - acc: 0.6731\n",
      "Epoch 16/30\n",
      "6819/6819 [==============================] - 2s 307us/step - loss: 0.8123 - acc: 0.6850\n",
      "Epoch 17/30\n",
      "6819/6819 [==============================] - 2s 310us/step - loss: 0.8160 - acc: 0.6794\n",
      "Epoch 18/30\n",
      "6819/6819 [==============================] - 2s 300us/step - loss: 0.7866 - acc: 0.6872\n",
      "Epoch 19/30\n",
      "6819/6819 [==============================] - 2s 298us/step - loss: 0.7736 - acc: 0.7036\n",
      "Epoch 20/30\n",
      "6819/6819 [==============================] - 2s 302us/step - loss: 0.7717 - acc: 0.7004\n",
      "Epoch 21/30\n",
      "6819/6819 [==============================] - 2s 298us/step - loss: 0.7567 - acc: 0.7098\n",
      "Epoch 22/30\n",
      "6819/6819 [==============================] - 2s 298us/step - loss: 0.7446 - acc: 0.7101\n",
      "Epoch 23/30\n",
      "6819/6819 [==============================] - 2s 306us/step - loss: 0.7340 - acc: 0.7089\n",
      "Epoch 24/30\n",
      "6819/6819 [==============================] - 2s 300us/step - loss: 0.7319 - acc: 0.7193\n",
      "Epoch 25/30\n",
      "6819/6819 [==============================] - 2s 306us/step - loss: 0.7355 - acc: 0.7183\n",
      "Epoch 26/30\n",
      "6819/6819 [==============================] - 2s 309us/step - loss: 0.7206 - acc: 0.7212\n",
      "Epoch 27/30\n",
      "6819/6819 [==============================] - 2s 300us/step - loss: 0.7181 - acc: 0.7208\n",
      "Epoch 28/30\n",
      "6819/6819 [==============================] - 2s 304us/step - loss: 0.7064 - acc: 0.7266\n",
      "Epoch 29/30\n",
      "6819/6819 [==============================] - 2s 297us/step - loss: 0.7043 - acc: 0.7230\n",
      "Epoch 30/30\n",
      "6819/6819 [==============================] - 2s 296us/step - loss: 0.6910 - acc: 0.7281\n"
     ]
    }
   ],
   "source": [
    "history_final = model_lstm_final.fit(\n",
    "    X_train,\n",
    "    y_train,\n",
    "#     validation_split = 0.2,\n",
    "    callbacks=early_stopping,\n",
    "    epochs = 30,\n",
    "    batch_size = 700\n",
    ")"
   ]
  },
  {
   "cell_type": "markdown",
   "metadata": {},
   "source": [
    "#### Make predictions"
   ]
  },
  {
   "cell_type": "code",
   "execution_count": 59,
   "metadata": {},
   "outputs": [],
   "source": [
    "# Output (probability) predictions for the test set \n",
    "y_hat_test = model_lstm_final.predict(X_test) "
   ]
  },
  {
   "cell_type": "code",
   "execution_count": 60,
   "metadata": {},
   "outputs": [
    {
     "name": "stdout",
     "output_type": "stream",
     "text": [
      "6819/6819 [==============================] - 2s 333us/step\n"
     ]
    },
    {
     "data": {
      "text/plain": [
       "[0.5884089549452456, 0.7945446546458135]"
      ]
     },
     "execution_count": 60,
     "metadata": {},
     "output_type": "execute_result"
    }
   ],
   "source": [
    "# Print the loss and accuracy for the training set \n",
    "results_train = model_lstm_final.evaluate(X_train, y_train)\n",
    "results_train"
   ]
  },
  {
   "cell_type": "code",
   "execution_count": 61,
   "metadata": {},
   "outputs": [
    {
     "name": "stdout",
     "output_type": "stream",
     "text": [
      "2273/2273 [==============================] - 1s 302us/step\n"
     ]
    },
    {
     "data": {
      "text/plain": [
       "[1.254975650602115, 0.5587329520457545]"
      ]
     },
     "execution_count": 61,
     "metadata": {},
     "output_type": "execute_result"
    }
   ],
   "source": [
    "# Print the loss and accuracy for the test set \n",
    "results_test = model_lstm_final.evaluate(X_test, y_test)\n",
    "results_test"
   ]
  },
  {
   "cell_type": "markdown",
   "metadata": {},
   "source": [
    "### Best saved model evaluation"
   ]
  },
  {
   "cell_type": "code",
   "execution_count": 62,
   "metadata": {},
   "outputs": [],
   "source": [
    "from keras.models import load_model\n",
    "saved_model = load_model('best_model_2.h5')"
   ]
  },
  {
   "cell_type": "code",
   "execution_count": 63,
   "metadata": {},
   "outputs": [
    {
     "name": "stdout",
     "output_type": "stream",
     "text": [
      "6819/6819 [==============================] - 2s 337us/step\n",
      "Training Loss: 0.96 \n",
      "Training Accuracy: 0.592\n",
      "----------\n",
      "2273/2273 [==============================] - 1s 290us/step\n",
      "Test Loss: 0.985 \n",
      "Test Accuracy: 0.575\n"
     ]
    }
   ],
   "source": [
    "results_train = saved_model.evaluate(X_train, y_train)\n",
    "print(f'Training Loss: {results_train[0]:.3} \\nTraining Accuracy: {results_train[1]:.3}')\n",
    "\n",
    "print('----------')\n",
    "\n",
    "results_test = saved_model.evaluate(X_test, y_test)\n",
    "print(f'Test Loss: {results_test[0]:.3} \\nTest Accuracy: {results_test[1]:.3}')"
   ]
  },
  {
   "cell_type": "code",
   "execution_count": 64,
   "metadata": {},
   "outputs": [
    {
     "name": "stdout",
     "output_type": "stream",
     "text": [
      "6819/6819 [==============================] - 3s 406us/step\n",
      "Training Loss: 0.991 \n",
      "Training Accuracy: 0.582\n",
      "----------\n",
      "2273/2273 [==============================] - 1s 333us/step\n",
      "Test Loss: 1.02 \n",
      "Test Accuracy: 0.56\n"
     ]
    }
   ],
   "source": [
    "saved_model = load_model('best_model_3.h5')\n",
    "results_train = saved_model.evaluate(X_train, y_train)\n",
    "print(f'Training Loss: {results_train[0]:.3} \\nTraining Accuracy: {results_train[1]:.3}')\n",
    "\n",
    "print('----------')\n",
    "\n",
    "results_test = saved_model.evaluate(X_test, y_test)\n",
    "print(f'Test Loss: {results_test[0]:.3} \\nTest Accuracy: {results_test[1]:.3}')"
   ]
  },
  {
   "cell_type": "code",
   "execution_count": 65,
   "metadata": {},
   "outputs": [
    {
     "name": "stdout",
     "output_type": "stream",
     "text": [
      "6819/6819 [==============================] - 3s 377us/step\n",
      "Training Loss: 0.714 \n",
      "Training Accuracy: 0.719\n",
      "----------\n",
      "2273/2273 [==============================] - 1s 308us/step\n",
      "Test Loss: 1.0 \n",
      "Test Accuracy: 0.572\n"
     ]
    }
   ],
   "source": [
    "saved_model = load_model('best_model_4.h5')\n",
    "results_train = saved_model.evaluate(X_train, y_train)\n",
    "print(f'Training Loss: {results_train[0]:.3} \\nTraining Accuracy: {results_train[1]:.3}')\n",
    "\n",
    "print('----------')\n",
    "\n",
    "results_test = saved_model.evaluate(X_test, y_test)\n",
    "print(f'Test Loss: {results_test[0]:.3} \\nTest Accuracy: {results_test[1]:.3}')"
   ]
  }
 ],
 "metadata": {
  "kernelspec": {
   "display_name": "learn-env",
   "language": "python",
   "name": "learn-env"
  },
  "language_info": {
   "codemirror_mode": {
    "name": "ipython",
    "version": 3
   },
   "file_extension": ".py",
   "mimetype": "text/x-python",
   "name": "python",
   "nbconvert_exporter": "python",
   "pygments_lexer": "ipython3",
   "version": "3.6.9"
  }
 },
 "nbformat": 4,
 "nbformat_minor": 4
}
