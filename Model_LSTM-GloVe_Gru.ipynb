{
 "cells": [
  {
   "cell_type": "markdown",
   "metadata": {},
   "source": [
    "### Import Necessary Dependencies"
   ]
  },
  {
   "cell_type": "code",
   "execution_count": 165,
   "metadata": {},
   "outputs": [
    {
     "name": "stderr",
     "output_type": "stream",
     "text": [
      "[nltk_data] Downloading package stopwords to /Users/Filip/nltk_data...\n",
      "[nltk_data]   Package stopwords is already up-to-date!\n",
      "[nltk_data] Downloading package punkt to /Users/Filip/nltk_data...\n",
      "[nltk_data]   Package punkt is already up-to-date!\n"
     ]
    }
   ],
   "source": [
    "#Import libraries\n",
    "import nltk\n",
    "nltk.download('stopwords')\n",
    "nltk.download('punkt')\n",
    "from nltk.corpus import stopwords\n",
    "from nltk import word_tokenize, FreqDist\n",
    "\n",
    "import string\n",
    "\n",
    "from sklearn.feature_extraction.text import TfidfVectorizer, CountVectorizer, TfidfTransformer\n",
    "from sklearn.pipeline import Pipeline\n",
    "from sklearn.metrics import accuracy_score\n",
    "from sklearn.datasets import fetch_20newsgroups\n",
    "from sklearn.ensemble import RandomForestClassifier\n",
    "from sklearn.naive_bayes import MultinomialNB\n",
    "from sklearn.model_selection import train_test_split\n",
    "from sklearn import preprocessing\n",
    "from sklearn.utils.multiclass import unique_labels\n",
    "\n",
    "\n",
    "import matplotlib.pyplot as plt\n",
    "import pandas as pd\n",
    "import numpy as np\n",
    "import seaborn as sns\n",
    "\n",
    "from keras.utils import to_categorical\n",
    "from keras.preprocessing.sequence import pad_sequences\n",
    "from keras.preprocessing.text import Tokenizer\n",
    "from keras import models\n",
    "from keras import layers\n",
    "from keras import optimizers\n",
    "from keras.layers import Dense, Dropout, Embedding, LSTM, GlobalMaxPooling1D, SpatialDropout1D\n",
    "\n",
    "import gensim\n",
    "from gensim.models import Word2Vec\n",
    "\n",
    "np.random.seed(0)\n",
    "\n",
    "%matplotlib inline\n",
    "plt.style.use('seaborn')\n",
    "\n",
    "import warnings\n",
    "warnings.filterwarnings('ignore')"
   ]
  },
  {
   "cell_type": "markdown",
   "metadata": {},
   "source": [
    "### Read and Load the Dataset"
   ]
  },
  {
   "cell_type": "code",
   "execution_count": 3,
   "metadata": {},
   "outputs": [
    {
     "data": {
      "text/html": [
       "<div>\n",
       "<style scoped>\n",
       "    .dataframe tbody tr th:only-of-type {\n",
       "        vertical-align: middle;\n",
       "    }\n",
       "\n",
       "    .dataframe tbody tr th {\n",
       "        vertical-align: top;\n",
       "    }\n",
       "\n",
       "    .dataframe thead th {\n",
       "        text-align: right;\n",
       "    }\n",
       "</style>\n",
       "<table border=\"1\" class=\"dataframe\">\n",
       "  <thead>\n",
       "    <tr style=\"text-align: right;\">\n",
       "      <th></th>\n",
       "      <th>tweet_text</th>\n",
       "      <th>emotion_in_tweet_is_directed_at</th>\n",
       "      <th>is_there_an_emotion_directed_at_a_brand_or_product</th>\n",
       "    </tr>\n",
       "  </thead>\n",
       "  <tbody>\n",
       "    <tr>\n",
       "      <th>0</th>\n",
       "      <td>.@wesley83 I have a 3G iPhone. After 3 hrs twe...</td>\n",
       "      <td>iPhone</td>\n",
       "      <td>Negative emotion</td>\n",
       "    </tr>\n",
       "    <tr>\n",
       "      <th>1</th>\n",
       "      <td>@jessedee Know about @fludapp ? Awesome iPad/i...</td>\n",
       "      <td>iPad or iPhone App</td>\n",
       "      <td>Positive emotion</td>\n",
       "    </tr>\n",
       "    <tr>\n",
       "      <th>2</th>\n",
       "      <td>@swonderlin Can not wait for #iPad 2 also. The...</td>\n",
       "      <td>iPad</td>\n",
       "      <td>Positive emotion</td>\n",
       "    </tr>\n",
       "    <tr>\n",
       "      <th>3</th>\n",
       "      <td>@sxsw I hope this year's festival isn't as cra...</td>\n",
       "      <td>iPad or iPhone App</td>\n",
       "      <td>Negative emotion</td>\n",
       "    </tr>\n",
       "    <tr>\n",
       "      <th>4</th>\n",
       "      <td>@sxtxstate great stuff on Fri #SXSW: Marissa M...</td>\n",
       "      <td>Google</td>\n",
       "      <td>Positive emotion</td>\n",
       "    </tr>\n",
       "  </tbody>\n",
       "</table>\n",
       "</div>"
      ],
      "text/plain": [
       "                                          tweet_text  \\\n",
       "0  .@wesley83 I have a 3G iPhone. After 3 hrs twe...   \n",
       "1  @jessedee Know about @fludapp ? Awesome iPad/i...   \n",
       "2  @swonderlin Can not wait for #iPad 2 also. The...   \n",
       "3  @sxsw I hope this year's festival isn't as cra...   \n",
       "4  @sxtxstate great stuff on Fri #SXSW: Marissa M...   \n",
       "\n",
       "  emotion_in_tweet_is_directed_at  \\\n",
       "0                          iPhone   \n",
       "1              iPad or iPhone App   \n",
       "2                            iPad   \n",
       "3              iPad or iPhone App   \n",
       "4                          Google   \n",
       "\n",
       "  is_there_an_emotion_directed_at_a_brand_or_product  \n",
       "0                                   Negative emotion  \n",
       "1                                   Positive emotion  \n",
       "2                                   Positive emotion  \n",
       "3                                   Negative emotion  \n",
       "4                                   Positive emotion  "
      ]
     },
     "execution_count": 3,
     "metadata": {},
     "output_type": "execute_result"
    }
   ],
   "source": [
    "# Upload datasets\n",
    "df = pd.read_csv('tweet_product_company.csv', encoding = 'unicode_escape')\n",
    "df.head()"
   ]
  },
  {
   "cell_type": "markdown",
   "metadata": {},
   "source": [
    "### Exploratory Data Analysis"
   ]
  },
  {
   "cell_type": "code",
   "execution_count": 4,
   "metadata": {},
   "outputs": [
    {
     "name": "stdout",
     "output_type": "stream",
     "text": [
      "<class 'pandas.core.frame.DataFrame'>\n",
      "RangeIndex: 9093 entries, 0 to 9092\n",
      "Data columns (total 3 columns):\n",
      " #   Column                                              Non-Null Count  Dtype \n",
      "---  ------                                              --------------  ----- \n",
      " 0   tweet_text                                          9092 non-null   object\n",
      " 1   emotion_in_tweet_is_directed_at                     3291 non-null   object\n",
      " 2   is_there_an_emotion_directed_at_a_brand_or_product  9093 non-null   object\n",
      "dtypes: object(3)\n",
      "memory usage: 213.2+ KB\n"
     ]
    }
   ],
   "source": [
    "df.info()"
   ]
  },
  {
   "cell_type": "code",
   "execution_count": 5,
   "metadata": {},
   "outputs": [
    {
     "data": {
      "text/plain": [
       "10"
      ]
     },
     "execution_count": 5,
     "metadata": {},
     "output_type": "execute_result"
    }
   ],
   "source": [
    "len(df.emotion_in_tweet_is_directed_at.unique())"
   ]
  },
  {
   "cell_type": "code",
   "execution_count": 6,
   "metadata": {},
   "outputs": [
    {
     "data": {
      "text/html": [
       "<div>\n",
       "<style scoped>\n",
       "    .dataframe tbody tr th:only-of-type {\n",
       "        vertical-align: middle;\n",
       "    }\n",
       "\n",
       "    .dataframe tbody tr th {\n",
       "        vertical-align: top;\n",
       "    }\n",
       "\n",
       "    .dataframe thead th {\n",
       "        text-align: right;\n",
       "    }\n",
       "</style>\n",
       "<table border=\"1\" class=\"dataframe\">\n",
       "  <thead>\n",
       "    <tr style=\"text-align: right;\">\n",
       "      <th></th>\n",
       "      <th>tweet_text</th>\n",
       "      <th>product</th>\n",
       "      <th>label</th>\n",
       "    </tr>\n",
       "  </thead>\n",
       "  <tbody>\n",
       "    <tr>\n",
       "      <th>0</th>\n",
       "      <td>.@wesley83 I have a 3G iPhone. After 3 hrs twe...</td>\n",
       "      <td>iPhone</td>\n",
       "      <td>Negative emotion</td>\n",
       "    </tr>\n",
       "    <tr>\n",
       "      <th>1</th>\n",
       "      <td>@jessedee Know about @fludapp ? Awesome iPad/i...</td>\n",
       "      <td>iPad or iPhone App</td>\n",
       "      <td>Positive emotion</td>\n",
       "    </tr>\n",
       "    <tr>\n",
       "      <th>2</th>\n",
       "      <td>@swonderlin Can not wait for #iPad 2 also. The...</td>\n",
       "      <td>iPad</td>\n",
       "      <td>Positive emotion</td>\n",
       "    </tr>\n",
       "    <tr>\n",
       "      <th>3</th>\n",
       "      <td>@sxsw I hope this year's festival isn't as cra...</td>\n",
       "      <td>iPad or iPhone App</td>\n",
       "      <td>Negative emotion</td>\n",
       "    </tr>\n",
       "    <tr>\n",
       "      <th>4</th>\n",
       "      <td>@sxtxstate great stuff on Fri #SXSW: Marissa M...</td>\n",
       "      <td>Google</td>\n",
       "      <td>Positive emotion</td>\n",
       "    </tr>\n",
       "  </tbody>\n",
       "</table>\n",
       "</div>"
      ],
      "text/plain": [
       "                                          tweet_text             product  \\\n",
       "0  .@wesley83 I have a 3G iPhone. After 3 hrs twe...              iPhone   \n",
       "1  @jessedee Know about @fludapp ? Awesome iPad/i...  iPad or iPhone App   \n",
       "2  @swonderlin Can not wait for #iPad 2 also. The...                iPad   \n",
       "3  @sxsw I hope this year's festival isn't as cra...  iPad or iPhone App   \n",
       "4  @sxtxstate great stuff on Fri #SXSW: Marissa M...              Google   \n",
       "\n",
       "              label  \n",
       "0  Negative emotion  \n",
       "1  Positive emotion  \n",
       "2  Positive emotion  \n",
       "3  Negative emotion  \n",
       "4  Positive emotion  "
      ]
     },
     "execution_count": 6,
     "metadata": {},
     "output_type": "execute_result"
    }
   ],
   "source": [
    "df.columns = ['tweet_text', 'product', 'label']\n",
    "df.head()"
   ]
  },
  {
   "cell_type": "code",
   "execution_count": 7,
   "metadata": {},
   "outputs": [
    {
     "name": "stdout",
     "output_type": "stream",
     "text": [
      "Column:  product\n",
      "Unique values count: 10\n",
      "Values:  ['iPhone' 'iPad or iPhone App' 'iPad' 'Google' nan 'Android' 'Apple'\n",
      " 'Android App' 'Other Google product or service'\n",
      " 'Other Apple product or service']\n",
      "----------------\n",
      "Column:  label\n",
      "Unique values count: 4\n",
      "Values:  ['Negative emotion' 'Positive emotion'\n",
      " 'No emotion toward brand or product' \"I can't tell\"]\n",
      "----------------\n"
     ]
    }
   ],
   "source": [
    "for column in df.columns[1:]:\n",
    "    print('Column: ', column)\n",
    "    print('Unique values count:', len(df[column].unique()))\n",
    "    print('Values: ', df[column].unique())\n",
    "    print('----------------')"
   ]
  },
  {
   "cell_type": "markdown",
   "metadata": {},
   "source": [
    "Combine labels \"I can't tell\" and 'No emotion toward brand or product' to one category \"Neutral emotion\""
   ]
  },
  {
   "cell_type": "code",
   "execution_count": 8,
   "metadata": {},
   "outputs": [],
   "source": [
    "df['label'][df['label'] == \"I can't tell\"] = 'Neutral emotion'\n",
    "df['label'][df['label'] == 'No emotion toward brand or product'] = 'Neutral emotion'"
   ]
  },
  {
   "cell_type": "code",
   "execution_count": 9,
   "metadata": {},
   "outputs": [
    {
     "name": "stdout",
     "output_type": "stream",
     "text": [
      "Column:  product\n",
      "Unique values count: 10\n",
      "Values:  ['iPhone' 'iPad or iPhone App' 'iPad' 'Google' nan 'Android' 'Apple'\n",
      " 'Android App' 'Other Google product or service'\n",
      " 'Other Apple product or service']\n",
      "----------------\n",
      "Column:  label\n",
      "Unique values count: 3\n",
      "Values:  ['Negative emotion' 'Positive emotion' 'Neutral emotion']\n",
      "----------------\n"
     ]
    }
   ],
   "source": [
    "for column in df.columns[1:]:\n",
    "    print('Column: ', column)\n",
    "    print('Unique values count:', len(df[column].unique()))\n",
    "    print('Values: ', df[column].unique())\n",
    "    print('----------------')"
   ]
  },
  {
   "cell_type": "code",
   "execution_count": 10,
   "metadata": {},
   "outputs": [
    {
     "data": {
      "text/html": [
       "<div>\n",
       "<style scoped>\n",
       "    .dataframe tbody tr th:only-of-type {\n",
       "        vertical-align: middle;\n",
       "    }\n",
       "\n",
       "    .dataframe tbody tr th {\n",
       "        vertical-align: top;\n",
       "    }\n",
       "\n",
       "    .dataframe thead th {\n",
       "        text-align: right;\n",
       "    }\n",
       "</style>\n",
       "<table border=\"1\" class=\"dataframe\">\n",
       "  <thead>\n",
       "    <tr style=\"text-align: right;\">\n",
       "      <th></th>\n",
       "      <th>NaN count</th>\n",
       "      <th>Zero values count</th>\n",
       "      <th>Unique_val count</th>\n",
       "      <th>Data type</th>\n",
       "    </tr>\n",
       "  </thead>\n",
       "  <tbody>\n",
       "    <tr>\n",
       "      <th>product</th>\n",
       "      <td>5802</td>\n",
       "      <td>0</td>\n",
       "      <td>9</td>\n",
       "      <td>object</td>\n",
       "    </tr>\n",
       "    <tr>\n",
       "      <th>tweet_text</th>\n",
       "      <td>1</td>\n",
       "      <td>0</td>\n",
       "      <td>9065</td>\n",
       "      <td>object</td>\n",
       "    </tr>\n",
       "    <tr>\n",
       "      <th>label</th>\n",
       "      <td>0</td>\n",
       "      <td>0</td>\n",
       "      <td>3</td>\n",
       "      <td>object</td>\n",
       "    </tr>\n",
       "  </tbody>\n",
       "</table>\n",
       "</div>"
      ],
      "text/plain": [
       "            NaN count  Zero values count  Unique_val count Data type\n",
       "product          5802                  0                 9    object\n",
       "tweet_text          1                  0              9065    object\n",
       "label               0                  0                 3    object"
      ]
     },
     "execution_count": 10,
     "metadata": {},
     "output_type": "execute_result"
    }
   ],
   "source": [
    "# Create summary of Nan and unique values counts and data types\n",
    "X_info = pd.DataFrame(df.isna().sum(), columns=['NaN count'])\n",
    "\n",
    "unique_val = []\n",
    "types_val = []\n",
    "zero_val = []\n",
    "\n",
    "for column in df.columns:\n",
    "    unique = df[column].nunique()\n",
    "    types = str(df[column].dtype)\n",
    "    zeros = len(df[df[column]==0])\n",
    "    \n",
    "    unique_val.append(unique)\n",
    "    types_val.append(types)\n",
    "    zero_val.append(zeros)\n",
    "\n",
    "X_info['Zero values count'] = zero_val\n",
    "X_info['Unique_val count'] = unique_val\n",
    "X_info['Data type'] = types_val\n",
    "\n",
    "X_info.sort_values(by=['NaN count', 'Zero values count'], ascending=False)"
   ]
  },
  {
   "cell_type": "markdown",
   "metadata": {},
   "source": [
    "### Data Visualization of Target Variables"
   ]
  },
  {
   "cell_type": "code",
   "execution_count": 168,
   "metadata": {},
   "outputs": [
    {
     "data": {
      "image/png": "[encoded data removed]",
      "text/plain": [
       "<Figure size 576x396 with 1 Axes>"
      ]
     },
     "metadata": {},
     "output_type": "display_data"
    }
   ],
   "source": [
    "ax = sns.countplot(x='label', data=df)\n",
    "ax.tick_params(axis='x', rotation=90)"
   ]
  },
  {
   "cell_type": "code",
   "execution_count": 12,
   "metadata": {},
   "outputs": [
    {
     "data": {
      "text/plain": [
       "Neutral emotion     0.609810\n",
       "Positive emotion    0.327505\n",
       "Negative emotion    0.062686\n",
       "Name: label, dtype: float64"
      ]
     },
     "execution_count": 12,
     "metadata": {},
     "output_type": "execute_result"
    }
   ],
   "source": [
    "df['label'].value_counts(normalize=True)"
   ]
  },
  {
   "cell_type": "code",
   "execution_count": 190,
   "metadata": {},
   "outputs": [
    {
     "name": "stdout",
     "output_type": "stream",
     "text": [
      "{'Neutral emotion': 0.6097668279806423, 'Positive emotion': 0.327540695116586, 'Negative emotion': 0.06269247690277167}\n"
     ]
    }
   ],
   "source": [
    "#Class weight to address class imbalance\n",
    "class_weights = df['label'].value_counts(normalize=True).to_dict()\n",
    "print(class_weights)"
   ]
  },
  {
   "cell_type": "code",
   "execution_count": 13,
   "metadata": {},
   "outputs": [
    {
     "data": {
      "text/html": [
       "<div>\n",
       "<style scoped>\n",
       "    .dataframe tbody tr th:only-of-type {\n",
       "        vertical-align: middle;\n",
       "    }\n",
       "\n",
       "    .dataframe tbody tr th {\n",
       "        vertical-align: top;\n",
       "    }\n",
       "\n",
       "    .dataframe thead th {\n",
       "        text-align: right;\n",
       "    }\n",
       "</style>\n",
       "<table border=\"1\" class=\"dataframe\">\n",
       "  <thead>\n",
       "    <tr style=\"text-align: right;\">\n",
       "      <th></th>\n",
       "      <th>tweet_text</th>\n",
       "      <th>label</th>\n",
       "    </tr>\n",
       "    <tr>\n",
       "      <th>product</th>\n",
       "      <th></th>\n",
       "      <th></th>\n",
       "    </tr>\n",
       "  </thead>\n",
       "  <tbody>\n",
       "    <tr>\n",
       "      <th>Android</th>\n",
       "      <td>78</td>\n",
       "      <td>78</td>\n",
       "    </tr>\n",
       "    <tr>\n",
       "      <th>Android App</th>\n",
       "      <td>81</td>\n",
       "      <td>81</td>\n",
       "    </tr>\n",
       "    <tr>\n",
       "      <th>Apple</th>\n",
       "      <td>661</td>\n",
       "      <td>661</td>\n",
       "    </tr>\n",
       "    <tr>\n",
       "      <th>Google</th>\n",
       "      <td>430</td>\n",
       "      <td>430</td>\n",
       "    </tr>\n",
       "    <tr>\n",
       "      <th>Other Apple product or service</th>\n",
       "      <td>35</td>\n",
       "      <td>35</td>\n",
       "    </tr>\n",
       "    <tr>\n",
       "      <th>Other Google product or service</th>\n",
       "      <td>293</td>\n",
       "      <td>293</td>\n",
       "    </tr>\n",
       "    <tr>\n",
       "      <th>iPad</th>\n",
       "      <td>946</td>\n",
       "      <td>946</td>\n",
       "    </tr>\n",
       "    <tr>\n",
       "      <th>iPad or iPhone App</th>\n",
       "      <td>470</td>\n",
       "      <td>470</td>\n",
       "    </tr>\n",
       "    <tr>\n",
       "      <th>iPhone</th>\n",
       "      <td>297</td>\n",
       "      <td>297</td>\n",
       "    </tr>\n",
       "  </tbody>\n",
       "</table>\n",
       "</div>"
      ],
      "text/plain": [
       "                                 tweet_text  label\n",
       "product                                           \n",
       "Android                                  78     78\n",
       "Android App                              81     81\n",
       "Apple                                   661    661\n",
       "Google                                  430    430\n",
       "Other Apple product or service           35     35\n",
       "Other Google product or service         293    293\n",
       "iPad                                    946    946\n",
       "iPad or iPhone App                      470    470\n",
       "iPhone                                  297    297"
      ]
     },
     "execution_count": 13,
     "metadata": {},
     "output_type": "execute_result"
    }
   ],
   "source": [
    "df.groupby(by=['product']).count()"
   ]
  },
  {
   "cell_type": "markdown",
   "metadata": {},
   "source": [
    "### Cleaning and Preprocessing Data"
   ]
  },
  {
   "cell_type": "code",
   "execution_count": 14,
   "metadata": {},
   "outputs": [],
   "source": [
    "df.dropna(subset=['tweet_text'], axis='rows', inplace=True)"
   ]
  },
  {
   "cell_type": "markdown",
   "metadata": {},
   "source": [
    "#### Break apart the data and the labels, and then inspect the class names"
   ]
  },
  {
   "cell_type": "code",
   "execution_count": 180,
   "metadata": {},
   "outputs": [],
   "source": [
    "data = df.drop(columns=['label','product'])\n",
    "target = df.drop(columns=['tweet_text','product'])"
   ]
  },
  {
   "cell_type": "code",
   "execution_count": 181,
   "metadata": {},
   "outputs": [
    {
     "name": "stdout",
     "output_type": "stream",
     "text": [
      "{0: 'Negative emotion', 1: 'Neutral emotion', 2: 'Positive emotion'}\n"
     ]
    }
   ],
   "source": [
    "c = target.label.astype('category')\n",
    "label_names = dict(enumerate(c.cat.categories))\n",
    "print (label_names)"
   ]
  },
  {
   "cell_type": "code",
   "execution_count": 183,
   "metadata": {},
   "outputs": [],
   "source": [
    "#change type of column\n",
    "target['label'] = pd.Categorical(target['label'])"
   ]
  },
  {
   "cell_type": "code",
   "execution_count": 184,
   "metadata": {},
   "outputs": [],
   "source": [
    "target['label'] = target['label'].cat.codes"
   ]
  },
  {
   "cell_type": "code",
   "execution_count": 192,
   "metadata": {},
   "outputs": [
    {
     "name": "stdout",
     "output_type": "stream",
     "text": [
      "{1: 0.6097668279806423, 2: 0.327540695116586, 0: 0.06269247690277167}\n"
     ]
    }
   ],
   "source": [
    "#Class weight dictionary after converiting to categorical to address class imbalance\n",
    "class_weights = target['label'].value_counts(normalize=True).to_dict()\n",
    "print(class_weights)"
   ]
  },
  {
   "cell_type": "code",
   "execution_count": 24,
   "metadata": {},
   "outputs": [],
   "source": [
    "# #### Getting a list of all of the english stopwords, and concatenating \n",
    "# them with a list of all the punctuation.\n",
    "stopwords_list = stopwords.words('english') + list(string.punctuation)\n",
    "stopwords_list += [\"''\", '\"\"', '...', '``']"
   ]
  },
  {
   "cell_type": "code",
   "execution_count": 25,
   "metadata": {},
   "outputs": [],
   "source": [
    "def process_tweet(tweet):\n",
    "    tokens = nltk.word_tokenize(tweet)\n",
    "    stopwords_removed = [token.lower() for token in tokens if token.lower() not in stopwords_list]\n",
    "    return stopwords_removed"
   ]
  },
  {
   "cell_type": "markdown",
   "metadata": {},
   "source": [
    "#### Check tweet lenghts distrubution and max value"
   ]
  },
  {
   "cell_type": "code",
   "execution_count": 29,
   "metadata": {},
   "outputs": [],
   "source": [
    "# Convert training data into tensors to feed into neural net\n",
    "# create tokenizer\n",
    "t = Tokenizer()\n",
    "t.fit_on_texts(data['tweet_text'])"
   ]
  },
  {
   "cell_type": "code",
   "execution_count": 30,
   "metadata": {},
   "outputs": [],
   "source": [
    "# Find number of unique words in our tweets\n",
    "vocab_size = len(t.word_index) + 1"
   ]
  },
  {
   "cell_type": "code",
   "execution_count": 31,
   "metadata": {},
   "outputs": [],
   "source": [
    "# integer encode everything\n",
    "sequences = t.texts_to_sequences(data['tweet_text'])"
   ]
  },
  {
   "cell_type": "code",
   "execution_count": 32,
   "metadata": {},
   "outputs": [],
   "source": [
    "# Find longest tweet in sequences\n",
    "def max_tweet():\n",
    "    for i in range(1, len(sequences)):\n",
    "        max_length = len(sequences[0])\n",
    "        if len(sequences[i]) > max_length:\n",
    "            max_length = len(sequences[i])\n",
    "    return max_length"
   ]
  },
  {
   "cell_type": "code",
   "execution_count": 33,
   "metadata": {},
   "outputs": [
    {
     "data": {
      "text/plain": [
       "24"
      ]
     },
     "execution_count": 33,
     "metadata": {},
     "output_type": "execute_result"
    }
   ],
   "source": [
    "max_tweet_len = max_tweet()\n",
    "max_tweet_len"
   ]
  },
  {
   "cell_type": "code",
   "execution_count": 34,
   "metadata": {},
   "outputs": [],
   "source": [
    "#Truncate and pad input sequences to be all the same lenght vectors\n",
    "padded_data = pad_sequences(sequences, maxlen=max_tweet_len)"
   ]
  },
  {
   "cell_type": "code",
   "execution_count": 35,
   "metadata": {},
   "outputs": [
    {
     "data": {
      "text/plain": [
       "array([[5869,   23,   51, ..., 3955,    6,    1],\n",
       "       [   0,    0, 5870, ..., 3956,    6,    1],\n",
       "       [   0,    0,    0, ...,  208,    6,    1],\n",
       "       ...,\n",
       "       [   0,    0,  110, ...,   16,    1, 2452],\n",
       "       [   0,  157,  687, ...,  143, 2546,    1],\n",
       "       [   0,    0,    0, ...,    6,    1,    4]], dtype=int32)"
      ]
     },
     "execution_count": 35,
     "metadata": {},
     "output_type": "execute_result"
    }
   ],
   "source": [
    "padded_data"
   ]
  },
  {
   "cell_type": "code",
   "execution_count": 155,
   "metadata": {},
   "outputs": [],
   "source": [
    "X_train, X_test, y_train, y_test = train_test_split(padded_data, target, test_size = 0.2, random_state = 0)"
   ]
  },
  {
   "cell_type": "code",
   "execution_count": 156,
   "metadata": {},
   "outputs": [],
   "source": [
    "y_train = to_categorical(y_train)\n",
    "y_test = to_categorical(y_test)"
   ]
  },
  {
   "cell_type": "code",
   "execution_count": 157,
   "metadata": {},
   "outputs": [
    {
     "name": "stdout",
     "output_type": "stream",
     "text": [
      "X_train size: (7273, 24)\n",
      "y_train size: (7273, 3)\n",
      "X_test size: (1819, 24)\n",
      "y_test size: (1819, 3)\n"
     ]
    }
   ],
   "source": [
    "# Size of train and test datasets\n",
    "print('X_train size:', X_train.shape)\n",
    "print('y_train size:', y_train.shape)\n",
    "print('X_test size:', X_test.shape)\n",
    "print('y_test size:', y_test.shape)"
   ]
  },
  {
   "cell_type": "markdown",
   "metadata": {},
   "source": [
    "### Pre-trained word embedding"
   ]
  },
  {
   "cell_type": "code",
   "execution_count": null,
   "metadata": {},
   "outputs": [],
   "source": [
    "# load the whole embedding into memory\n",
    "# https://machinelearningmastery.com/use-word-embedding-layers-deep-learning-keras/\n",
    "# 50 dimensional version (embedding dimension)\n",
    "embeddings_index = dict()\n",
    "f = open('glove/glove.twitter.27B.50d.txt')\n",
    "for line in f:\n",
    "    values = line.split()\n",
    "    word = values[0]\n",
    "    coefs = np.asarray(values[1:], dtype='float32')\n",
    "    embeddings_index[word] = coefs\n",
    "f.close()\n",
    "print('Loaded %s word vectors.' % len(embeddings_index))"
   ]
  },
  {
   "cell_type": "code",
   "execution_count": 59,
   "metadata": {},
   "outputs": [],
   "source": [
    "import pickle\n",
    "\n",
    "# with open('embeddings_index.pickle', 'wb') as handle:\n",
    "#     pickle.dump(embeddings_index, handle, protocol=pickle.HIGHEST_PROTOCOL)\n",
    "\n",
    "with open('embeddings_index.pickle', 'rb') as handle:\n",
    "    embeddings_index = pickle.load(handle)"
   ]
  },
  {
   "cell_type": "code",
   "execution_count": 41,
   "metadata": {},
   "outputs": [],
   "source": [
    "###### Because we're using GloVE, need to create a word embedding/word context matrix\n",
    "# Create a matrix of weights for words in the training set\n",
    "# One embedding for each word in the training set\n",
    "\n",
    "# Get all unique words in our training set: Tokenizer index\n",
    "# Find the corresponding weight vector in GloVe embedding\n",
    "\n",
    "# Define size of embedding matrix: number of unique words x embedding dim (100)\n",
    "embedding_matrix = np.zeros((vocab_size, 50))\n",
    "\n",
    "# fill in matrix\n",
    "for word, i in t.word_index.items():  # dictionary\n",
    "    embedding_vector = embeddings_index.get(word) # gets embedded vector of word from GloVe\n",
    "    if embedding_vector is not None:\n",
    "        # add to matrix\n",
    "        embedding_matrix[i] = embedding_vector # each row of matrix"
   ]
  },
  {
   "cell_type": "code",
   "execution_count": 42,
   "metadata": {},
   "outputs": [
    {
     "data": {
      "text/plain": [
       "array([[ 0.        ,  0.        ,  0.        , ...,  0.        ,\n",
       "         0.        ,  0.        ],\n",
       "       [ 0.32527   ,  1.20930004,  0.15962   , ..., -1.10020006,\n",
       "        -0.91891003,  0.48025   ],\n",
       "       [ 1.21739995,  1.01839995, -0.60869998, ..., -0.88479   ,\n",
       "         0.58089   , -0.09434   ],\n",
       "       ...,\n",
       "       [ 0.        ,  0.        ,  0.        , ...,  0.        ,\n",
       "         0.        ,  0.        ],\n",
       "       [ 0.        ,  0.        ,  0.        , ...,  0.        ,\n",
       "         0.        ,  0.        ],\n",
       "       [ 0.        ,  0.        ,  0.        , ...,  0.        ,\n",
       "         0.        ,  0.        ]])"
      ]
     },
     "execution_count": 42,
     "metadata": {},
     "output_type": "execute_result"
    }
   ],
   "source": [
    "embedding_matrix"
   ]
  },
  {
   "cell_type": "code",
   "execution_count": 43,
   "metadata": {},
   "outputs": [],
   "source": [
    "# input is vocab_size, output is 50\n",
    "# weights from embedding matrix, set trainable = False\n",
    "tweet_num = max_tweet_len\n",
    "embedding_layer = Embedding(input_dim=vocab_size, output_dim=50, weights=[embedding_matrix],\n",
    "                           input_length = tweet_num, trainable=False)"
   ]
  },
  {
   "cell_type": "markdown",
   "metadata": {},
   "source": [
    "### Build Neural Net"
   ]
  },
  {
   "cell_type": "code",
   "execution_count": 44,
   "metadata": {},
   "outputs": [],
   "source": [
    "from keras.models import Sequential\n",
    "from keras.layers import Dense\n",
    "from keras.layers import Flatten\n",
    "from keras.layers import LSTM\n",
    "from keras.layers import GRU\n",
    "from keras.layers import BatchNormalization"
   ]
  },
  {
   "cell_type": "code",
   "execution_count": 48,
   "metadata": {},
   "outputs": [],
   "source": [
    "def visualize_training_results(results):\n",
    "    history = results.history\n",
    "    plt.figure()\n",
    "    plt.plot(history['val_loss'])\n",
    "    plt.plot(history['loss'])\n",
    "    plt.legend(['val_loss', 'loss'])\n",
    "    plt.title('Loss')\n",
    "    plt.xlabel('Epochs')\n",
    "    plt.ylabel('Loss')\n",
    "    plt.show()\n",
    "    \n",
    "    plt.figure()\n",
    "    plt.plot(history['val_acc'])\n",
    "    plt.plot(history['acc'])\n",
    "    plt.legend(['val_acc', 'acc'])\n",
    "    plt.title('Accuracy')\n",
    "    plt.xlabel('Epochs')\n",
    "    plt.ylabel('Accuracy')\n",
    "    plt.show()"
   ]
  },
  {
   "cell_type": "markdown",
   "metadata": {},
   "source": [
    "#### Model 1: Simple LSTM Model with regularization, increase dimensionality"
   ]
  },
  {
   "cell_type": "code",
   "execution_count": 193,
   "metadata": {},
   "outputs": [
    {
     "name": "stdout",
     "output_type": "stream",
     "text": [
      "_________________________________________________________________\n",
      "Layer (type)                 Output Shape              Param #   \n",
      "=================================================================\n",
      "embedding_1 (Embedding)      (None, 24, 50)            507400    \n",
      "_________________________________________________________________\n",
      "lstm_13 (LSTM)               (None, 256)               314368    \n",
      "_________________________________________________________________\n",
      "dense_9 (Dense)              (None, 3)                 771       \n",
      "=================================================================\n",
      "Total params: 822,539\n",
      "Trainable params: 315,139\n",
      "Non-trainable params: 507,400\n",
      "_________________________________________________________________\n"
     ]
    }
   ],
   "source": [
    "lstm_mod1 = Sequential()\n",
    "lstm_mod1.add(embedding_layer)\n",
    "lstm_mod1.add(LSTM(256, \n",
    "               dropout = 0.2, \n",
    "               recurrent_dropout = 0.5))\n",
    "lstm_mod1.add(Dense(3, activation='softmax'))\n",
    "lstm_mod1.compile(optimizer='adam', loss='categorical_crossentropy', metrics=['acc'])\n",
    "lstm_mod1.summary()"
   ]
  },
  {
   "cell_type": "code",
   "execution_count": 196,
   "metadata": {},
   "outputs": [
    {
     "name": "stdout",
     "output_type": "stream",
     "text": [
      "Train on 5818 samples, validate on 1455 samples\n",
      "Epoch 1/100\n",
      "5818/5818 [==============================] - 13s 2ms/step - loss: 0.3052 - acc: 0.6040 - val_loss: 0.2773 - val_acc: 0.6034\n",
      "Epoch 2/100\n",
      "5818/5818 [==============================] - 9s 2ms/step - loss: 0.2732 - acc: 0.6121 - val_loss: 0.2718 - val_acc: 0.6034\n",
      "Epoch 3/100\n",
      "5818/5818 [==============================] - 9s 2ms/step - loss: 0.2717 - acc: 0.6129 - val_loss: 0.2737 - val_acc: 0.6048\n",
      "Epoch 4/100\n",
      "5818/5818 [==============================] - 8s 1ms/step - loss: 0.2700 - acc: 0.6121 - val_loss: 0.2728 - val_acc: 0.6034\n",
      "Epoch 5/100\n",
      "5818/5818 [==============================] - 9s 2ms/step - loss: 0.2671 - acc: 0.6157 - val_loss: 0.2672 - val_acc: 0.6055\n",
      "Epoch 6/100\n",
      "5818/5818 [==============================] - 12s 2ms/step - loss: 0.2627 - acc: 0.6195 - val_loss: 0.2610 - val_acc: 0.6062\n",
      "Epoch 7/100\n",
      "5818/5818 [==============================] - 13s 2ms/step - loss: 0.2600 - acc: 0.6251 - val_loss: 0.2591 - val_acc: 0.6110\n",
      "Epoch 8/100\n",
      "5818/5818 [==============================] - 13s 2ms/step - loss: 0.2587 - acc: 0.6253 - val_loss: 0.2593 - val_acc: 0.6096\n",
      "Epoch 9/100\n",
      "5818/5818 [==============================] - 12s 2ms/step - loss: 0.2574 - acc: 0.6244 - val_loss: 0.2570 - val_acc: 0.6117\n",
      "Epoch 10/100\n",
      "5818/5818 [==============================] - 10s 2ms/step - loss: 0.2568 - acc: 0.6263 - val_loss: 0.2608 - val_acc: 0.6062\n",
      "Epoch 11/100\n",
      "5818/5818 [==============================] - 11s 2ms/step - loss: 0.2540 - acc: 0.6265 - val_loss: 0.2540 - val_acc: 0.6151\n",
      "Epoch 12/100\n",
      "5818/5818 [==============================] - 10s 2ms/step - loss: 0.2533 - acc: 0.6308 - val_loss: 0.2529 - val_acc: 0.6137\n",
      "Epoch 13/100\n",
      "5818/5818 [==============================] - 10s 2ms/step - loss: 0.2522 - acc: 0.6358 - val_loss: 0.2555 - val_acc: 0.6103\n",
      "Epoch 14/100\n",
      "5818/5818 [==============================] - 10s 2ms/step - loss: 0.2505 - acc: 0.6475 - val_loss: 0.2593 - val_acc: 0.6089\n",
      "Epoch 15/100\n",
      "5818/5818 [==============================] - 9s 2ms/step - loss: 0.2494 - acc: 0.6421 - val_loss: 0.2521 - val_acc: 0.6192\n",
      "Epoch 16/100\n",
      "5818/5818 [==============================] - 9s 2ms/step - loss: 0.2473 - acc: 0.6446 - val_loss: 0.2503 - val_acc: 0.6357\n",
      "Epoch 17/100\n",
      "5818/5818 [==============================] - 11s 2ms/step - loss: 0.2475 - acc: 0.6435 - val_loss: 0.2495 - val_acc: 0.6337\n",
      "Epoch 18/100\n",
      "5818/5818 [==============================] - 11s 2ms/step - loss: 0.2462 - acc: 0.6485 - val_loss: 0.2481 - val_acc: 0.6289\n",
      "Epoch 19/100\n",
      "5818/5818 [==============================] - 10s 2ms/step - loss: 0.2422 - acc: 0.6537 - val_loss: 0.2480 - val_acc: 0.6385\n",
      "Epoch 20/100\n",
      "5818/5818 [==============================] - 13s 2ms/step - loss: 0.2410 - acc: 0.6583 - val_loss: 0.2471 - val_acc: 0.6351\n",
      "Epoch 21/100\n",
      "5818/5818 [==============================] - 12s 2ms/step - loss: 0.2391 - acc: 0.6545 - val_loss: 0.2481 - val_acc: 0.6440\n",
      "Epoch 22/100\n",
      "5818/5818 [==============================] - 10s 2ms/step - loss: 0.2387 - acc: 0.6655 - val_loss: 0.2483 - val_acc: 0.6426\n",
      "Epoch 23/100\n",
      "5818/5818 [==============================] - 9s 2ms/step - loss: 0.2384 - acc: 0.6588 - val_loss: 0.2501 - val_acc: 0.6412\n",
      "Epoch 24/100\n",
      "5818/5818 [==============================] - 9s 2ms/step - loss: 0.2354 - acc: 0.6662 - val_loss: 0.2448 - val_acc: 0.6522\n",
      "Epoch 25/100\n",
      "5818/5818 [==============================] - 9s 2ms/step - loss: 0.2377 - acc: 0.6657 - val_loss: 0.2428 - val_acc: 0.6495\n",
      "Epoch 26/100\n",
      "5818/5818 [==============================] - 12s 2ms/step - loss: 0.2356 - acc: 0.6652 - val_loss: 0.2430 - val_acc: 0.6488\n",
      "Epoch 27/100\n",
      "5818/5818 [==============================] - 15s 3ms/step - loss: 0.2323 - acc: 0.6691 - val_loss: 0.2431 - val_acc: 0.6433\n",
      "Epoch 28/100\n",
      "5818/5818 [==============================] - 14s 2ms/step - loss: 0.2296 - acc: 0.6777 - val_loss: 0.2468 - val_acc: 0.6653\n",
      "Epoch 29/100\n",
      "5818/5818 [==============================] - 13s 2ms/step - loss: 0.2323 - acc: 0.6781 - val_loss: 0.2418 - val_acc: 0.6632\n",
      "Epoch 30/100\n",
      "5818/5818 [==============================] - 12s 2ms/step - loss: 0.2290 - acc: 0.6739 - val_loss: 0.2475 - val_acc: 0.6749\n",
      "Epoch 31/100\n",
      "5818/5818 [==============================] - 14s 2ms/step - loss: 0.2289 - acc: 0.6782 - val_loss: 0.2428 - val_acc: 0.6701\n",
      "Epoch 32/100\n",
      "5818/5818 [==============================] - 15s 3ms/step - loss: 0.2257 - acc: 0.6863 - val_loss: 0.2416 - val_acc: 0.6687\n",
      "Epoch 33/100\n",
      "5818/5818 [==============================] - 17s 3ms/step - loss: 0.2248 - acc: 0.6831 - val_loss: 0.2410 - val_acc: 0.6625\n",
      "Epoch 34/100\n",
      "5818/5818 [==============================] - 17s 3ms/step - loss: 0.2234 - acc: 0.6880 - val_loss: 0.2387 - val_acc: 0.6653\n",
      "Epoch 35/100\n",
      "5818/5818 [==============================] - 12s 2ms/step - loss: 0.2211 - acc: 0.6891 - val_loss: 0.2409 - val_acc: 0.6625\n",
      "Epoch 36/100\n",
      "5818/5818 [==============================] - 13s 2ms/step - loss: 0.2195 - acc: 0.6930 - val_loss: 0.2431 - val_acc: 0.6722\n",
      "Epoch 37/100\n",
      "5818/5818 [==============================] - 10s 2ms/step - loss: 0.2192 - acc: 0.6953 - val_loss: 0.2429 - val_acc: 0.6577\n",
      "Epoch 38/100\n",
      "5818/5818 [==============================] - 10s 2ms/step - loss: 0.2172 - acc: 0.6990 - val_loss: 0.2412 - val_acc: 0.6660\n",
      "Epoch 39/100\n",
      "5818/5818 [==============================] - 13s 2ms/step - loss: 0.2127 - acc: 0.7023 - val_loss: 0.2405 - val_acc: 0.6653\n",
      "Epoch 40/100\n",
      "5818/5818 [==============================] - 11s 2ms/step - loss: 0.2130 - acc: 0.7064 - val_loss: 0.2444 - val_acc: 0.6564\n",
      "Epoch 41/100\n",
      "5818/5818 [==============================] - 10s 2ms/step - loss: 0.2146 - acc: 0.7047 - val_loss: 0.2388 - val_acc: 0.6735\n",
      "Epoch 42/100\n",
      "5818/5818 [==============================] - 11s 2ms/step - loss: 0.2084 - acc: 0.7081 - val_loss: 0.2430 - val_acc: 0.6715\n",
      "Epoch 43/100\n",
      "5818/5818 [==============================] - 11s 2ms/step - loss: 0.2049 - acc: 0.7178 - val_loss: 0.2431 - val_acc: 0.6742\n",
      "Epoch 44/100\n",
      "5818/5818 [==============================] - 9s 2ms/step - loss: 0.2061 - acc: 0.7143 - val_loss: 0.2389 - val_acc: 0.6701\n",
      "Epoch 45/100\n",
      "5818/5818 [==============================] - 9s 2ms/step - loss: 0.2048 - acc: 0.7210 - val_loss: 0.2408 - val_acc: 0.6619\n",
      "Epoch 46/100\n",
      "5818/5818 [==============================] - 9s 1ms/step - loss: 0.2033 - acc: 0.7207 - val_loss: 0.2400 - val_acc: 0.6715\n",
      "Epoch 47/100\n",
      "5818/5818 [==============================] - 9s 2ms/step - loss: 0.2039 - acc: 0.7171 - val_loss: 0.2381 - val_acc: 0.6701\n",
      "Epoch 48/100\n",
      "5818/5818 [==============================] - 9s 1ms/step - loss: 0.2018 - acc: 0.7197 - val_loss: 0.2390 - val_acc: 0.6667\n",
      "Epoch 49/100\n",
      "5818/5818 [==============================] - 9s 1ms/step - loss: 0.1975 - acc: 0.7267 - val_loss: 0.2408 - val_acc: 0.6729\n",
      "Epoch 50/100\n",
      "5818/5818 [==============================] - 9s 1ms/step - loss: 0.1972 - acc: 0.7314 - val_loss: 0.2396 - val_acc: 0.6646\n",
      "Epoch 51/100\n",
      "5818/5818 [==============================] - 11s 2ms/step - loss: 0.1937 - acc: 0.7303 - val_loss: 0.2418 - val_acc: 0.6797\n",
      "Epoch 52/100\n",
      "5818/5818 [==============================] - 11s 2ms/step - loss: 0.1938 - acc: 0.7348 - val_loss: 0.2391 - val_acc: 0.6742\n",
      "Epoch 53/100\n",
      "5818/5818 [==============================] - 12s 2ms/step - loss: 0.1913 - acc: 0.7394 - val_loss: 0.2420 - val_acc: 0.6639\n",
      "Epoch 54/100\n",
      "5818/5818 [==============================] - 11s 2ms/step - loss: 0.1892 - acc: 0.7369 - val_loss: 0.2445 - val_acc: 0.6619\n",
      "Epoch 55/100\n",
      "5818/5818 [==============================] - 11s 2ms/step - loss: 0.1896 - acc: 0.7394 - val_loss: 0.2474 - val_acc: 0.6619\n",
      "Epoch 56/100\n",
      "5818/5818 [==============================] - 11s 2ms/step - loss: 0.1876 - acc: 0.7420 - val_loss: 0.2452 - val_acc: 0.6838\n",
      "Epoch 57/100\n",
      "5818/5818 [==============================] - 10s 2ms/step - loss: 0.1847 - acc: 0.7472 - val_loss: 0.2423 - val_acc: 0.6735\n",
      "Epoch 58/100\n",
      "5818/5818 [==============================] - 10s 2ms/step - loss: 0.1817 - acc: 0.7516 - val_loss: 0.2431 - val_acc: 0.6742\n",
      "Epoch 59/100\n",
      "5818/5818 [==============================] - 10s 2ms/step - loss: 0.1828 - acc: 0.7473 - val_loss: 0.2426 - val_acc: 0.6674\n",
      "Epoch 60/100\n",
      "5818/5818 [==============================] - 9s 2ms/step - loss: 0.1769 - acc: 0.7602 - val_loss: 0.2485 - val_acc: 0.6749\n",
      "Epoch 61/100\n",
      "5818/5818 [==============================] - 10s 2ms/step - loss: 0.1762 - acc: 0.7604 - val_loss: 0.2465 - val_acc: 0.6784\n",
      "Epoch 62/100\n",
      "5818/5818 [==============================] - 10s 2ms/step - loss: 0.1758 - acc: 0.7628 - val_loss: 0.2491 - val_acc: 0.6735\n",
      "Epoch 63/100\n",
      "5818/5818 [==============================] - 12s 2ms/step - loss: 0.1744 - acc: 0.7609 - val_loss: 0.2495 - val_acc: 0.6818\n",
      "Epoch 64/100\n",
      "5818/5818 [==============================] - 11s 2ms/step - loss: 0.1695 - acc: 0.7697 - val_loss: 0.2466 - val_acc: 0.6756\n",
      "Epoch 65/100\n",
      "5818/5818 [==============================] - 10s 2ms/step - loss: 0.1678 - acc: 0.7735 - val_loss: 0.2500 - val_acc: 0.6756\n",
      "Epoch 66/100\n",
      "5818/5818 [==============================] - 10s 2ms/step - loss: 0.1647 - acc: 0.7723 - val_loss: 0.2501 - val_acc: 0.6790\n",
      "Epoch 67/100\n",
      "5818/5818 [==============================] - 10s 2ms/step - loss: 0.1670 - acc: 0.7705 - val_loss: 0.2493 - val_acc: 0.6790\n",
      "Epoch 68/100\n",
      "5818/5818 [==============================] - 10s 2ms/step - loss: 0.1634 - acc: 0.7759 - val_loss: 0.2551 - val_acc: 0.6818\n",
      "Epoch 69/100\n",
      "5818/5818 [==============================] - 11s 2ms/step - loss: 0.1615 - acc: 0.7788 - val_loss: 0.2570 - val_acc: 0.6866\n",
      "Epoch 70/100\n",
      "5818/5818 [==============================] - 10s 2ms/step - loss: 0.1627 - acc: 0.7774 - val_loss: 0.2563 - val_acc: 0.6880\n",
      "Epoch 71/100\n",
      "5818/5818 [==============================] - 9s 2ms/step - loss: 0.1556 - acc: 0.7874 - val_loss: 0.2640 - val_acc: 0.6770\n",
      "Epoch 72/100\n",
      "5818/5818 [==============================] - 9s 2ms/step - loss: 0.1550 - acc: 0.7869 - val_loss: 0.2663 - val_acc: 0.6742\n",
      "Epoch 73/100\n",
      "5818/5818 [==============================] - 10s 2ms/step - loss: 0.1573 - acc: 0.7846 - val_loss: 0.2626 - val_acc: 0.6770\n",
      "Epoch 74/100\n",
      "5818/5818 [==============================] - 9s 2ms/step - loss: 0.1526 - acc: 0.7905 - val_loss: 0.2593 - val_acc: 0.6866\n",
      "Epoch 75/100\n",
      "5818/5818 [==============================] - 9s 2ms/step - loss: 0.1496 - acc: 0.7953 - val_loss: 0.2634 - val_acc: 0.6777\n",
      "Epoch 76/100\n",
      "5818/5818 [==============================] - 9s 2ms/step - loss: 0.1504 - acc: 0.7905 - val_loss: 0.2665 - val_acc: 0.6832\n",
      "Epoch 77/100\n",
      "5818/5818 [==============================] - 9s 2ms/step - loss: 0.1485 - acc: 0.7972 - val_loss: 0.2691 - val_acc: 0.6804\n",
      "Epoch 78/100\n",
      "5818/5818 [==============================] - 9s 1ms/step - loss: 0.1427 - acc: 0.8065 - val_loss: 0.2719 - val_acc: 0.6873\n",
      "Epoch 79/100\n",
      "5818/5818 [==============================] - 9s 1ms/step - loss: 0.1448 - acc: 0.8032 - val_loss: 0.2759 - val_acc: 0.6804\n",
      "Epoch 80/100\n",
      "5818/5818 [==============================] - 9s 2ms/step - loss: 0.1428 - acc: 0.8015 - val_loss: 0.2687 - val_acc: 0.6914\n",
      "Epoch 81/100\n",
      "5818/5818 [==============================] - 10s 2ms/step - loss: 0.1406 - acc: 0.8051 - val_loss: 0.2693 - val_acc: 0.6845\n",
      "Epoch 82/100\n",
      "5818/5818 [==============================] - 10s 2ms/step - loss: 0.1388 - acc: 0.8094 - val_loss: 0.2679 - val_acc: 0.6873\n",
      "Epoch 83/100\n",
      "5818/5818 [==============================] - 11s 2ms/step - loss: 0.1354 - acc: 0.8111 - val_loss: 0.2829 - val_acc: 0.6866\n",
      "Epoch 84/100\n",
      "5818/5818 [==============================] - 10s 2ms/step - loss: 0.1350 - acc: 0.8164 - val_loss: 0.2810 - val_acc: 0.6887\n",
      "Epoch 85/100\n",
      "5818/5818 [==============================] - 9s 2ms/step - loss: 0.1317 - acc: 0.8206 - val_loss: 0.2878 - val_acc: 0.6893\n",
      "Epoch 86/100\n",
      "5818/5818 [==============================] - 9s 2ms/step - loss: 0.1324 - acc: 0.8149 - val_loss: 0.2826 - val_acc: 0.6818\n",
      "Epoch 87/100\n",
      "5818/5818 [==============================] - 9s 2ms/step - loss: 0.1271 - acc: 0.8247 - val_loss: 0.2959 - val_acc: 0.6838\n",
      "Epoch 88/100\n",
      "5818/5818 [==============================] - 8s 1ms/step - loss: 0.1279 - acc: 0.8194 - val_loss: 0.3069 - val_acc: 0.6818\n",
      "Epoch 89/100\n",
      "5818/5818 [==============================] - 9s 2ms/step - loss: 0.1297 - acc: 0.8218 - val_loss: 0.2939 - val_acc: 0.6777\n",
      "Epoch 90/100\n",
      "5818/5818 [==============================] - 9s 2ms/step - loss: 0.1270 - acc: 0.8240 - val_loss: 0.3000 - val_acc: 0.6852\n",
      "Epoch 91/100\n",
      "5818/5818 [==============================] - 9s 1ms/step - loss: 0.1239 - acc: 0.8242 - val_loss: 0.2964 - val_acc: 0.6935\n",
      "Epoch 92/100\n",
      "5818/5818 [==============================] - 9s 2ms/step - loss: 0.1242 - acc: 0.8279 - val_loss: 0.3046 - val_acc: 0.6921\n",
      "Epoch 93/100\n",
      "5818/5818 [==============================] - 9s 1ms/step - loss: 0.1243 - acc: 0.8266 - val_loss: 0.2937 - val_acc: 0.6914\n",
      "Epoch 94/100\n",
      "5818/5818 [==============================] - 9s 2ms/step - loss: 0.1201 - acc: 0.8322 - val_loss: 0.2958 - val_acc: 0.6818\n",
      "Epoch 95/100\n",
      "5818/5818 [==============================] - 9s 2ms/step - loss: 0.1228 - acc: 0.8307 - val_loss: 0.2976 - val_acc: 0.6832\n",
      "Epoch 96/100\n",
      "5818/5818 [==============================] - 14s 2ms/step - loss: 0.1240 - acc: 0.8243 - val_loss: 0.3079 - val_acc: 0.6790\n",
      "Epoch 97/100\n",
      "5818/5818 [==============================] - 13s 2ms/step - loss: 0.1215 - acc: 0.8273 - val_loss: 0.2982 - val_acc: 0.6887\n",
      "Epoch 98/100\n",
      "5818/5818 [==============================] - 14s 2ms/step - loss: 0.1152 - acc: 0.8393 - val_loss: 0.3010 - val_acc: 0.6804\n",
      "Epoch 99/100\n",
      "5818/5818 [==============================] - 11s 2ms/step - loss: 0.1132 - acc: 0.8422 - val_loss: 0.3099 - val_acc: 0.6845\n",
      "Epoch 100/100\n",
      "5818/5818 [==============================] - 9s 2ms/step - loss: 0.1118 - acc: 0.8414 - val_loss: 0.3186 - val_acc: 0.6859\n"
     ]
    }
   ],
   "source": [
    "history_1 = lstm_mod1.fit(X_train, y_train,\n",
    "                    validation_split = 0.2, class_weight=class_weights,\n",
    "                    epochs=100, batch_size=256)"
   ]
  },
  {
   "cell_type": "code",
   "execution_count": 197,
   "metadata": {},
   "outputs": [
    {
     "data": {
      "image/png": "[encoded data removed]",
      "text/plain": [
       "<Figure size 576x396 with 1 Axes>"
      ]
     },
     "metadata": {},
     "output_type": "display_data"
    },
    {
     "data": {
      "image/png": "[encoded data removed]",
      "text/plain": [
       "<Figure size 576x396 with 1 Axes>"
      ]
     },
     "metadata": {},
     "output_type": "display_data"
    }
   ],
   "source": [
    "visualize_training_results(history_1)"
   ]
  },
  {
   "cell_type": "code",
   "execution_count": 198,
   "metadata": {},
   "outputs": [
    {
     "name": "stdout",
     "output_type": "stream",
     "text": [
      "Training Accuracy: 0.8525\n",
      "Testing Accuracy:  0.6734\n"
     ]
    }
   ],
   "source": [
    "# Find train and test accuracy\n",
    "loss, accuracy = lstm_mod1.evaluate(X_train, y_train, verbose=False)\n",
    "print(\"Training Accuracy: {:.4f}\".format(accuracy))\n",
    "loss, accuracy = lstm_mod1.evaluate(X_test, y_test, verbose=False)\n",
    "print(\"Testing Accuracy:  {:.4f}\".format(accuracy))\n",
    "#0.90/0.66"
   ]
  },
  {
   "cell_type": "markdown",
   "metadata": {},
   "source": [
    "### Model 2: LSTM with regularization, reduce dimensionality"
   ]
  },
  {
   "cell_type": "code",
   "execution_count": 207,
   "metadata": {},
   "outputs": [
    {
     "name": "stdout",
     "output_type": "stream",
     "text": [
      "_________________________________________________________________\n",
      "Layer (type)                 Output Shape              Param #   \n",
      "=================================================================\n",
      "embedding_1 (Embedding)      (None, 24, 50)            507400    \n",
      "_________________________________________________________________\n",
      "dropout_10 (Dropout)         (None, 24, 50)            0         \n",
      "_________________________________________________________________\n",
      "lstm_16 (LSTM)               (None, 100)               60400     \n",
      "_________________________________________________________________\n",
      "dense_12 (Dense)             (None, 3)                 303       \n",
      "=================================================================\n",
      "Total params: 568,103\n",
      "Trainable params: 60,703\n",
      "Non-trainable params: 507,400\n",
      "_________________________________________________________________\n"
     ]
    }
   ],
   "source": [
    "lstm_mod2 = Sequential()\n",
    "lstm_mod2.add(embedding_layer)\n",
    "lstm_mod2.add(Dropout(0.3))\n",
    "lstm_mod2.add(LSTM(100, \n",
    "               dropout = 0.3, \n",
    "               recurrent_dropout = 0.5))\n",
    "lstm_mod2.add(Dense(3, activation='softmax'))\n",
    "lstm_mod2.compile(optimizer='adam', loss='categorical_crossentropy', metrics=['acc'])\n",
    "lstm_mod2.summary()"
   ]
  },
  {
   "cell_type": "code",
   "execution_count": 208,
   "metadata": {},
   "outputs": [],
   "source": [
    "# Import EarlyStopping and ModelCheckpoint\n",
    "from keras.callbacks import EarlyStopping, ModelCheckpoint\n",
    "\n",
    "# Define the callbacks\n",
    "early_stopping = [EarlyStopping(monitor='val_loss', patience=15), \n",
    "                  ModelCheckpoint(filepath='best_model_lstm.h5', monitor='val_loss', save_best_only=True)]"
   ]
  },
  {
   "cell_type": "code",
   "execution_count": 209,
   "metadata": {},
   "outputs": [
    {
     "name": "stdout",
     "output_type": "stream",
     "text": [
      "Train on 5818 samples, validate on 1455 samples\n",
      "Epoch 1/200\n",
      "5818/5818 [==============================] - 6s 998us/step - loss: 0.3933 - acc: 0.5608 - val_loss: 0.3211 - val_acc: 0.6034\n",
      "Epoch 2/200\n",
      "5818/5818 [==============================] - 3s 466us/step - loss: 0.2906 - acc: 0.6119 - val_loss: 0.2774 - val_acc: 0.6034\n",
      "Epoch 3/200\n",
      "5818/5818 [==============================] - 3s 484us/step - loss: 0.2782 - acc: 0.6129 - val_loss: 0.2823 - val_acc: 0.6034\n",
      "Epoch 4/200\n",
      "5818/5818 [==============================] - 3s 467us/step - loss: 0.2767 - acc: 0.6126 - val_loss: 0.2762 - val_acc: 0.6034\n",
      "Epoch 5/200\n",
      "5818/5818 [==============================] - 3s 473us/step - loss: 0.2746 - acc: 0.6122 - val_loss: 0.2759 - val_acc: 0.6034\n",
      "Epoch 6/200\n",
      "5818/5818 [==============================] - 3s 470us/step - loss: 0.2736 - acc: 0.6128 - val_loss: 0.2747 - val_acc: 0.6034\n",
      "Epoch 7/200\n",
      "5818/5818 [==============================] - 3s 475us/step - loss: 0.2732 - acc: 0.6129 - val_loss: 0.2735 - val_acc: 0.6034\n",
      "Epoch 8/200\n",
      "5818/5818 [==============================] - 3s 517us/step - loss: 0.2710 - acc: 0.6129 - val_loss: 0.2730 - val_acc: 0.6034\n",
      "Epoch 9/200\n",
      "5818/5818 [==============================] - 3s 465us/step - loss: 0.2716 - acc: 0.6126 - val_loss: 0.2723 - val_acc: 0.6034\n",
      "Epoch 10/200\n",
      "5818/5818 [==============================] - 3s 529us/step - loss: 0.2721 - acc: 0.6129 - val_loss: 0.2703 - val_acc: 0.6034\n",
      "Epoch 11/200\n",
      "5818/5818 [==============================] - 3s 457us/step - loss: 0.2687 - acc: 0.6131 - val_loss: 0.2711 - val_acc: 0.6034\n",
      "Epoch 12/200\n",
      "5818/5818 [==============================] - 3s 498us/step - loss: 0.2701 - acc: 0.6133 - val_loss: 0.2676 - val_acc: 0.6041\n",
      "Epoch 13/200\n",
      "5818/5818 [==============================] - 3s 471us/step - loss: 0.2678 - acc: 0.6136 - val_loss: 0.2672 - val_acc: 0.6034\n",
      "Epoch 14/200\n",
      "5818/5818 [==============================] - 3s 496us/step - loss: 0.2673 - acc: 0.6138 - val_loss: 0.2667 - val_acc: 0.6034\n",
      "Epoch 15/200\n",
      "5818/5818 [==============================] - 3s 523us/step - loss: 0.2669 - acc: 0.6133 - val_loss: 0.2650 - val_acc: 0.6041\n",
      "Epoch 16/200\n",
      "5818/5818 [==============================] - 3s 469us/step - loss: 0.2637 - acc: 0.6160 - val_loss: 0.2635 - val_acc: 0.6034\n",
      "Epoch 17/200\n",
      "5818/5818 [==============================] - 3s 482us/step - loss: 0.2655 - acc: 0.6143 - val_loss: 0.2659 - val_acc: 0.6048\n",
      "Epoch 18/200\n",
      "5818/5818 [==============================] - 3s 463us/step - loss: 0.2642 - acc: 0.6169 - val_loss: 0.2628 - val_acc: 0.6055\n",
      "Epoch 19/200\n",
      "5818/5818 [==============================] - 3s 462us/step - loss: 0.2629 - acc: 0.6169 - val_loss: 0.2618 - val_acc: 0.6041\n",
      "Epoch 20/200\n",
      "5818/5818 [==============================] - 3s 473us/step - loss: 0.2629 - acc: 0.6198 - val_loss: 0.2601 - val_acc: 0.6055\n",
      "Epoch 21/200\n",
      "5818/5818 [==============================] - 3s 465us/step - loss: 0.2645 - acc: 0.6158 - val_loss: 0.2634 - val_acc: 0.6041\n",
      "Epoch 22/200\n",
      "5818/5818 [==============================] - 3s 474us/step - loss: 0.2638 - acc: 0.6165 - val_loss: 0.2599 - val_acc: 0.6069\n",
      "Epoch 23/200\n",
      "5818/5818 [==============================] - 3s 474us/step - loss: 0.2606 - acc: 0.6177 - val_loss: 0.2601 - val_acc: 0.6055\n",
      "Epoch 24/200\n",
      "5818/5818 [==============================] - 3s 496us/step - loss: 0.2623 - acc: 0.6184 - val_loss: 0.2615 - val_acc: 0.6048\n",
      "Epoch 25/200\n",
      "5818/5818 [==============================] - 3s 470us/step - loss: 0.2630 - acc: 0.6203 - val_loss: 0.2650 - val_acc: 0.6041\n",
      "Epoch 26/200\n",
      "5818/5818 [==============================] - 3s 491us/step - loss: 0.2608 - acc: 0.6212 - val_loss: 0.2589 - val_acc: 0.6062\n",
      "Epoch 27/200\n",
      "5818/5818 [==============================] - 3s 458us/step - loss: 0.2617 - acc: 0.6148 - val_loss: 0.2572 - val_acc: 0.6069\n",
      "Epoch 28/200\n",
      "5818/5818 [==============================] - 3s 486us/step - loss: 0.2589 - acc: 0.6205 - val_loss: 0.2567 - val_acc: 0.6048\n",
      "Epoch 29/200\n",
      "5818/5818 [==============================] - 3s 471us/step - loss: 0.2584 - acc: 0.6205 - val_loss: 0.2554 - val_acc: 0.6082\n",
      "Epoch 30/200\n",
      "5818/5818 [==============================] - 3s 463us/step - loss: 0.2595 - acc: 0.6191 - val_loss: 0.2548 - val_acc: 0.6103\n",
      "Epoch 31/200\n",
      "5818/5818 [==============================] - 3s 481us/step - loss: 0.2567 - acc: 0.6243 - val_loss: 0.2545 - val_acc: 0.6096\n",
      "Epoch 32/200\n",
      "5818/5818 [==============================] - 3s 512us/step - loss: 0.2557 - acc: 0.6258 - val_loss: 0.2544 - val_acc: 0.6096\n",
      "Epoch 33/200\n",
      "5818/5818 [==============================] - 3s 475us/step - loss: 0.2571 - acc: 0.6260 - val_loss: 0.2537 - val_acc: 0.6076\n",
      "Epoch 34/200\n",
      "5818/5818 [==============================] - 3s 466us/step - loss: 0.2558 - acc: 0.6250 - val_loss: 0.2531 - val_acc: 0.6110\n",
      "Epoch 35/200\n",
      "5818/5818 [==============================] - 3s 490us/step - loss: 0.2553 - acc: 0.6279 - val_loss: 0.2532 - val_acc: 0.6124\n",
      "Epoch 36/200\n",
      "5818/5818 [==============================] - 3s 466us/step - loss: 0.2550 - acc: 0.6296 - val_loss: 0.2528 - val_acc: 0.6124\n",
      "Epoch 37/200\n",
      "5818/5818 [==============================] - 4s 659us/step - loss: 0.2536 - acc: 0.6318 - val_loss: 0.2525 - val_acc: 0.6179\n",
      "Epoch 38/200\n",
      "5818/5818 [==============================] - 4s 704us/step - loss: 0.2522 - acc: 0.6323 - val_loss: 0.2522 - val_acc: 0.6234\n",
      "Epoch 39/200\n",
      "5818/5818 [==============================] - 3s 590us/step - loss: 0.2548 - acc: 0.6339 - val_loss: 0.2519 - val_acc: 0.6117\n",
      "Epoch 40/200\n",
      "5818/5818 [==============================] - 3s 539us/step - loss: 0.2546 - acc: 0.6308 - val_loss: 0.2534 - val_acc: 0.6096\n",
      "Epoch 41/200\n",
      "5818/5818 [==============================] - 3s 570us/step - loss: 0.2535 - acc: 0.6287 - val_loss: 0.2519 - val_acc: 0.6124\n",
      "Epoch 42/200\n",
      "5818/5818 [==============================] - 3s 531us/step - loss: 0.2529 - acc: 0.6318 - val_loss: 0.2506 - val_acc: 0.6137\n",
      "Epoch 43/200\n",
      "5818/5818 [==============================] - 4s 768us/step - loss: 0.2523 - acc: 0.6354 - val_loss: 0.2508 - val_acc: 0.6151\n",
      "Epoch 44/200\n",
      "5818/5818 [==============================] - 3s 584us/step - loss: 0.2528 - acc: 0.6323 - val_loss: 0.2508 - val_acc: 0.6151\n",
      "Epoch 45/200\n",
      "5818/5818 [==============================] - 3s 466us/step - loss: 0.2524 - acc: 0.6358 - val_loss: 0.2490 - val_acc: 0.6234\n",
      "Epoch 46/200\n",
      "5818/5818 [==============================] - 3s 474us/step - loss: 0.2512 - acc: 0.6356 - val_loss: 0.2486 - val_acc: 0.6227\n",
      "Epoch 47/200\n",
      "5818/5818 [==============================] - 3s 484us/step - loss: 0.2495 - acc: 0.6389 - val_loss: 0.2483 - val_acc: 0.6220\n",
      "Epoch 48/200\n",
      "5818/5818 [==============================] - 3s 539us/step - loss: 0.2496 - acc: 0.6404 - val_loss: 0.2482 - val_acc: 0.6296\n",
      "Epoch 49/200\n",
      "5818/5818 [==============================] - 3s 535us/step - loss: 0.2487 - acc: 0.6446 - val_loss: 0.2482 - val_acc: 0.6261\n",
      "Epoch 50/200\n",
      "5818/5818 [==============================] - 3s 482us/step - loss: 0.2493 - acc: 0.6439 - val_loss: 0.2477 - val_acc: 0.6302\n",
      "Epoch 51/200\n",
      "5818/5818 [==============================] - 3s 459us/step - loss: 0.2480 - acc: 0.6437 - val_loss: 0.2468 - val_acc: 0.6337\n",
      "Epoch 52/200\n",
      "5818/5818 [==============================] - 3s 467us/step - loss: 0.2490 - acc: 0.6406 - val_loss: 0.2480 - val_acc: 0.6172\n",
      "Epoch 53/200\n",
      "5818/5818 [==============================] - 3s 543us/step - loss: 0.2482 - acc: 0.6421 - val_loss: 0.2475 - val_acc: 0.6192\n",
      "Epoch 54/200\n",
      "5818/5818 [==============================] - 3s 472us/step - loss: 0.2487 - acc: 0.6413 - val_loss: 0.2473 - val_acc: 0.6179\n",
      "Epoch 55/200\n",
      "5818/5818 [==============================] - 3s 462us/step - loss: 0.2490 - acc: 0.6432 - val_loss: 0.2457 - val_acc: 0.6351\n",
      "Epoch 56/200\n",
      "5818/5818 [==============================] - 3s 479us/step - loss: 0.2467 - acc: 0.6411 - val_loss: 0.2465 - val_acc: 0.6378\n",
      "Epoch 57/200\n",
      "5818/5818 [==============================] - 3s 544us/step - loss: 0.2481 - acc: 0.6442 - val_loss: 0.2461 - val_acc: 0.6261\n",
      "Epoch 58/200\n",
      "5818/5818 [==============================] - 3s 466us/step - loss: 0.2487 - acc: 0.6437 - val_loss: 0.2458 - val_acc: 0.6241\n",
      "Epoch 59/200\n",
      "5818/5818 [==============================] - 3s 501us/step - loss: 0.2479 - acc: 0.6442 - val_loss: 0.2452 - val_acc: 0.6357\n",
      "Epoch 60/200\n",
      "5818/5818 [==============================] - 3s 473us/step - loss: 0.2468 - acc: 0.6482 - val_loss: 0.2456 - val_acc: 0.6481\n",
      "Epoch 61/200\n",
      "5818/5818 [==============================] - 3s 483us/step - loss: 0.2466 - acc: 0.6471 - val_loss: 0.2475 - val_acc: 0.6543\n",
      "Epoch 62/200\n",
      "5818/5818 [==============================] - 3s 465us/step - loss: 0.2461 - acc: 0.6454 - val_loss: 0.2450 - val_acc: 0.6447\n",
      "Epoch 63/200\n",
      "5818/5818 [==============================] - 3s 464us/step - loss: 0.2432 - acc: 0.6506 - val_loss: 0.2442 - val_acc: 0.6426\n",
      "Epoch 64/200\n",
      "5818/5818 [==============================] - 3s 479us/step - loss: 0.2434 - acc: 0.6507 - val_loss: 0.2454 - val_acc: 0.6502\n",
      "Epoch 65/200\n",
      "5818/5818 [==============================] - 3s 507us/step - loss: 0.2446 - acc: 0.6501 - val_loss: 0.2461 - val_acc: 0.6557\n",
      "Epoch 66/200\n",
      "5818/5818 [==============================] - 3s 470us/step - loss: 0.2445 - acc: 0.6514 - val_loss: 0.2430 - val_acc: 0.6419\n",
      "Epoch 67/200\n",
      "5818/5818 [==============================] - 3s 482us/step - loss: 0.2432 - acc: 0.6530 - val_loss: 0.2432 - val_acc: 0.6419\n",
      "Epoch 68/200\n",
      "5818/5818 [==============================] - 3s 473us/step - loss: 0.2419 - acc: 0.6528 - val_loss: 0.2433 - val_acc: 0.6467\n",
      "Epoch 69/200\n",
      "5818/5818 [==============================] - 3s 462us/step - loss: 0.2431 - acc: 0.6488 - val_loss: 0.2431 - val_acc: 0.6495\n",
      "Epoch 70/200\n",
      "5818/5818 [==============================] - 3s 459us/step - loss: 0.2436 - acc: 0.6509 - val_loss: 0.2430 - val_acc: 0.6495\n",
      "Epoch 71/200\n",
      "5818/5818 [==============================] - 3s 467us/step - loss: 0.2400 - acc: 0.6576 - val_loss: 0.2417 - val_acc: 0.6495\n",
      "Epoch 72/200\n",
      "5818/5818 [==============================] - 3s 499us/step - loss: 0.2402 - acc: 0.6561 - val_loss: 0.2418 - val_acc: 0.6495\n",
      "Epoch 73/200\n",
      "5818/5818 [==============================] - 3s 464us/step - loss: 0.2409 - acc: 0.6535 - val_loss: 0.2430 - val_acc: 0.6605\n",
      "Epoch 74/200\n",
      "5818/5818 [==============================] - 3s 473us/step - loss: 0.2422 - acc: 0.6537 - val_loss: 0.2421 - val_acc: 0.6515\n",
      "Epoch 75/200\n",
      "5818/5818 [==============================] - 3s 482us/step - loss: 0.2407 - acc: 0.6538 - val_loss: 0.2416 - val_acc: 0.6564\n",
      "Epoch 76/200\n",
      "5818/5818 [==============================] - 3s 475us/step - loss: 0.2396 - acc: 0.6550 - val_loss: 0.2416 - val_acc: 0.6488\n",
      "Epoch 77/200\n",
      "5818/5818 [==============================] - 3s 468us/step - loss: 0.2390 - acc: 0.6549 - val_loss: 0.2423 - val_acc: 0.6570\n",
      "Epoch 78/200\n",
      "5818/5818 [==============================] - 3s 481us/step - loss: 0.2385 - acc: 0.6568 - val_loss: 0.2413 - val_acc: 0.6515\n",
      "Epoch 79/200\n",
      "5818/5818 [==============================] - 3s 507us/step - loss: 0.2396 - acc: 0.6545 - val_loss: 0.2419 - val_acc: 0.6433\n",
      "Epoch 80/200\n",
      "5818/5818 [==============================] - 3s 469us/step - loss: 0.2391 - acc: 0.6638 - val_loss: 0.2409 - val_acc: 0.6460\n",
      "Epoch 81/200\n",
      "5818/5818 [==============================] - 3s 459us/step - loss: 0.2382 - acc: 0.6580 - val_loss: 0.2416 - val_acc: 0.6646\n",
      "Epoch 82/200\n",
      "5818/5818 [==============================] - 3s 479us/step - loss: 0.2396 - acc: 0.6564 - val_loss: 0.2492 - val_acc: 0.6680\n",
      "Epoch 83/200\n",
      "5818/5818 [==============================] - 3s 464us/step - loss: 0.2403 - acc: 0.6605 - val_loss: 0.2404 - val_acc: 0.6515\n",
      "Epoch 84/200\n",
      "5818/5818 [==============================] - 3s 463us/step - loss: 0.2397 - acc: 0.6578 - val_loss: 0.2423 - val_acc: 0.6667\n",
      "Epoch 85/200\n",
      "5818/5818 [==============================] - 3s 468us/step - loss: 0.2361 - acc: 0.6593 - val_loss: 0.2406 - val_acc: 0.6543\n",
      "Epoch 86/200\n",
      "5818/5818 [==============================] - 3s 581us/step - loss: 0.2374 - acc: 0.6631 - val_loss: 0.2401 - val_acc: 0.6502\n",
      "Epoch 87/200\n",
      "5818/5818 [==============================] - 3s 546us/step - loss: 0.2371 - acc: 0.6640 - val_loss: 0.2418 - val_acc: 0.6467\n",
      "Epoch 88/200\n",
      "5818/5818 [==============================] - 3s 472us/step - loss: 0.2369 - acc: 0.6628 - val_loss: 0.2398 - val_acc: 0.6529\n",
      "Epoch 89/200\n",
      "5818/5818 [==============================] - 3s 474us/step - loss: 0.2360 - acc: 0.6571 - val_loss: 0.2413 - val_acc: 0.6605\n",
      "Epoch 90/200\n",
      "5818/5818 [==============================] - 3s 490us/step - loss: 0.2352 - acc: 0.6678 - val_loss: 0.2394 - val_acc: 0.6564\n",
      "Epoch 91/200\n",
      "5818/5818 [==============================] - 4s 607us/step - loss: 0.2358 - acc: 0.6667 - val_loss: 0.2399 - val_acc: 0.6529\n",
      "Epoch 92/200\n",
      "5818/5818 [==============================] - 4s 654us/step - loss: 0.2344 - acc: 0.6683 - val_loss: 0.2415 - val_acc: 0.6460\n",
      "Epoch 93/200\n",
      "5818/5818 [==============================] - 5s 777us/step - loss: 0.2362 - acc: 0.6679 - val_loss: 0.2411 - val_acc: 0.6419\n",
      "Epoch 94/200\n",
      "5818/5818 [==============================] - 4s 712us/step - loss: 0.2362 - acc: 0.6650 - val_loss: 0.2389 - val_acc: 0.6495\n",
      "Epoch 95/200\n",
      "5818/5818 [==============================] - 3s 580us/step - loss: 0.2357 - acc: 0.6672 - val_loss: 0.2401 - val_acc: 0.6550\n",
      "Epoch 96/200\n",
      "5818/5818 [==============================] - 3s 478us/step - loss: 0.2338 - acc: 0.6707 - val_loss: 0.2395 - val_acc: 0.6577\n",
      "Epoch 97/200\n",
      "5818/5818 [==============================] - 3s 535us/step - loss: 0.2341 - acc: 0.6638 - val_loss: 0.2434 - val_acc: 0.6660\n",
      "Epoch 98/200\n",
      "5818/5818 [==============================] - 3s 508us/step - loss: 0.2331 - acc: 0.6746 - val_loss: 0.2403 - val_acc: 0.6584\n",
      "Epoch 99/200\n",
      "5818/5818 [==============================] - 3s 511us/step - loss: 0.2314 - acc: 0.6739 - val_loss: 0.2408 - val_acc: 0.6598\n",
      "Epoch 100/200\n",
      "5818/5818 [==============================] - 3s 466us/step - loss: 0.2317 - acc: 0.6731 - val_loss: 0.2402 - val_acc: 0.6502\n",
      "Epoch 101/200\n",
      "5818/5818 [==============================] - 3s 474us/step - loss: 0.2310 - acc: 0.6751 - val_loss: 0.2394 - val_acc: 0.6522\n",
      "Epoch 102/200\n",
      "5818/5818 [==============================] - 3s 524us/step - loss: 0.2342 - acc: 0.6696 - val_loss: 0.2395 - val_acc: 0.6570\n",
      "Epoch 103/200\n",
      "5818/5818 [==============================] - 3s 521us/step - loss: 0.2347 - acc: 0.6672 - val_loss: 0.2412 - val_acc: 0.6577\n",
      "Epoch 104/200\n",
      "5818/5818 [==============================] - 3s 474us/step - loss: 0.2327 - acc: 0.6674 - val_loss: 0.2427 - val_acc: 0.6660\n",
      "Epoch 105/200\n",
      "5818/5818 [==============================] - 3s 482us/step - loss: 0.2308 - acc: 0.6688 - val_loss: 0.2426 - val_acc: 0.6660\n",
      "Epoch 106/200\n",
      "5818/5818 [==============================] - 3s 488us/step - loss: 0.2301 - acc: 0.6684 - val_loss: 0.2438 - val_acc: 0.6687\n",
      "Epoch 107/200\n",
      "5818/5818 [==============================] - 3s 502us/step - loss: 0.2297 - acc: 0.6776 - val_loss: 0.2401 - val_acc: 0.6612\n",
      "Epoch 108/200\n",
      "5818/5818 [==============================] - 3s 469us/step - loss: 0.2301 - acc: 0.6753 - val_loss: 0.2391 - val_acc: 0.6612\n",
      "Epoch 109/200\n",
      "5818/5818 [==============================] - 3s 462us/step - loss: 0.2279 - acc: 0.6791 - val_loss: 0.2407 - val_acc: 0.6674\n"
     ]
    }
   ],
   "source": [
    "history_2 = lstm_mod2.fit(X_train, y_train,\n",
    "                    validation_split = 0.2, \n",
    "                    class_weight=class_weights,\n",
    "                    callbacks=early_stopping,\n",
    "                    epochs=200, batch_size=500)"
   ]
  },
  {
   "cell_type": "code",
   "execution_count": 210,
   "metadata": {},
   "outputs": [
    {
     "data": {
      "image/png": "[encoded data removed]",
      "text/plain": [
       "<Figure size 576x396 with 1 Axes>"
      ]
     },
     "metadata": {},
     "output_type": "display_data"
    },
    {
     "data": {
      "image/png": "[encoded data removed]",
      "text/plain": [
       "<Figure size 576x396 with 1 Axes>"
      ]
     },
     "metadata": {},
     "output_type": "display_data"
    }
   ],
   "source": [
    "visualize_training_results(history_2)"
   ]
  },
  {
   "cell_type": "code",
   "execution_count": 211,
   "metadata": {},
   "outputs": [
    {
     "name": "stdout",
     "output_type": "stream",
     "text": [
      "Training Accuracy: 0.7100\n",
      "Testing Accuracy:  0.6756\n"
     ]
    }
   ],
   "source": [
    "# Find train and test accuracy\n",
    "loss, accuracy = lstm_mod2.evaluate(X_train, y_train, verbose=False)\n",
    "print(\"Training Accuracy: {:.4f}\".format(accuracy))\n",
    "loss, accuracy = lstm_mod2.evaluate(X_test, y_test, verbose=False)\n",
    "print(\"Testing Accuracy:  {:.4f}\".format(accuracy))"
   ]
  },
  {
   "cell_type": "markdown",
   "metadata": {},
   "source": [
    "### Model 3: LSTM Layer Stacking"
   ]
  },
  {
   "cell_type": "code",
   "execution_count": 212,
   "metadata": {},
   "outputs": [
    {
     "name": "stdout",
     "output_type": "stream",
     "text": [
      "_________________________________________________________________\n",
      "Layer (type)                 Output Shape              Param #   \n",
      "=================================================================\n",
      "embedding_1 (Embedding)      (None, 24, 50)            507400    \n",
      "_________________________________________________________________\n",
      "dropout_11 (Dropout)         (None, 24, 50)            0         \n",
      "_________________________________________________________________\n",
      "lstm_17 (LSTM)               (None, 24, 80)            41920     \n",
      "_________________________________________________________________\n",
      "lstm_18 (LSTM)               (None, 20)                8080      \n",
      "_________________________________________________________________\n",
      "dense_13 (Dense)             (None, 3)                 63        \n",
      "=================================================================\n",
      "Total params: 557,463\n",
      "Trainable params: 50,063\n",
      "Non-trainable params: 507,400\n",
      "_________________________________________________________________\n"
     ]
    }
   ],
   "source": [
    "lstm_mod3 = Sequential()\n",
    "lstm_mod3.add(embedding_layer)\n",
    "lstm_mod3.add(Dropout(0.3))\n",
    "lstm_mod3.add(LSTM(80, \n",
    "               dropout = 0.3, \n",
    "               recurrent_dropout = 0.5,\n",
    "               return_sequences = True))\n",
    "lstm_mod3.add(LSTM(20, \n",
    "               dropout = 0.3, \n",
    "               recurrent_dropout = 0.5))\n",
    "\n",
    "lstm_mod3.add(Dense(3, activation='softmax'))\n",
    "lstm_mod3.compile(optimizer='adam', loss='categorical_crossentropy', metrics=['acc'])\n",
    "lstm_mod3.summary()"
   ]
  },
  {
   "cell_type": "code",
   "execution_count": 213,
   "metadata": {},
   "outputs": [],
   "source": [
    "# Import EarlyStopping and ModelCheckpoint\n",
    "from keras.callbacks import EarlyStopping, ModelCheckpoint\n",
    "\n",
    "# Define the callbacks\n",
    "early_stopping = [EarlyStopping(monitor='val_loss', patience=15), \n",
    "                  ModelCheckpoint(filepath='best_model_lstm.h5', monitor='val_loss', save_best_only=True)]"
   ]
  },
  {
   "cell_type": "code",
   "execution_count": 214,
   "metadata": {
    "collapsed": true,
    "jupyter": {
     "outputs_hidden": true
    }
   },
   "outputs": [
    {
     "name": "stdout",
     "output_type": "stream",
     "text": [
      "Train on 5818 samples, validate on 1455 samples\n",
      "Epoch 1/200\n",
      "5818/5818 [==============================] - 8s 1ms/step - loss: 0.3893 - acc: 0.5657 - val_loss: 0.3000 - val_acc: 0.6034\n",
      "Epoch 2/200\n",
      "5818/5818 [==============================] - 3s 554us/step - loss: 0.2923 - acc: 0.6126 - val_loss: 0.2806 - val_acc: 0.6034\n",
      "Epoch 3/200\n",
      "5818/5818 [==============================] - 3s 565us/step - loss: 0.2792 - acc: 0.6124 - val_loss: 0.2781 - val_acc: 0.6034\n",
      "Epoch 4/200\n",
      "5818/5818 [==============================] - 3s 572us/step - loss: 0.2772 - acc: 0.6126 - val_loss: 0.2778 - val_acc: 0.6034\n",
      "Epoch 5/200\n",
      "5818/5818 [==============================] - 4s 610us/step - loss: 0.2760 - acc: 0.6126 - val_loss: 0.2771 - val_acc: 0.6034\n",
      "Epoch 6/200\n",
      "5818/5818 [==============================] - 3s 570us/step - loss: 0.2760 - acc: 0.6126 - val_loss: 0.2763 - val_acc: 0.6034\n",
      "Epoch 7/200\n",
      "5818/5818 [==============================] - 3s 556us/step - loss: 0.2759 - acc: 0.6126 - val_loss: 0.2752 - val_acc: 0.6034\n",
      "Epoch 8/200\n",
      "5818/5818 [==============================] - 3s 573us/step - loss: 0.2742 - acc: 0.6126 - val_loss: 0.2738 - val_acc: 0.6034\n",
      "Epoch 9/200\n",
      "5818/5818 [==============================] - 3s 559us/step - loss: 0.2737 - acc: 0.6126 - val_loss: 0.2733 - val_acc: 0.6034\n",
      "Epoch 10/200\n",
      "5818/5818 [==============================] - 3s 593us/step - loss: 0.2734 - acc: 0.6126 - val_loss: 0.2710 - val_acc: 0.6034\n",
      "Epoch 11/200\n",
      "5818/5818 [==============================] - 3s 565us/step - loss: 0.2721 - acc: 0.6126 - val_loss: 0.2694 - val_acc: 0.6034\n",
      "Epoch 12/200\n",
      "5818/5818 [==============================] - 3s 549us/step - loss: 0.2709 - acc: 0.6126 - val_loss: 0.2693 - val_acc: 0.6034\n",
      "Epoch 13/200\n",
      "5818/5818 [==============================] - 3s 566us/step - loss: 0.2690 - acc: 0.6126 - val_loss: 0.2668 - val_acc: 0.6034\n",
      "Epoch 14/200\n",
      "5818/5818 [==============================] - 3s 555us/step - loss: 0.2689 - acc: 0.6128 - val_loss: 0.2653 - val_acc: 0.6034\n",
      "Epoch 15/200\n",
      "5818/5818 [==============================] - 3s 541us/step - loss: 0.2682 - acc: 0.6129 - val_loss: 0.2650 - val_acc: 0.6034\n",
      "Epoch 16/200\n",
      "5818/5818 [==============================] - 3s 584us/step - loss: 0.2672 - acc: 0.6124 - val_loss: 0.2636 - val_acc: 0.6034\n",
      "Epoch 17/200\n",
      "5818/5818 [==============================] - 3s 557us/step - loss: 0.2675 - acc: 0.6129 - val_loss: 0.2628 - val_acc: 0.6034\n",
      "Epoch 18/200\n",
      "5818/5818 [==============================] - 3s 566us/step - loss: 0.2648 - acc: 0.6126 - val_loss: 0.2625 - val_acc: 0.6034\n",
      "Epoch 19/200\n",
      "5818/5818 [==============================] - 3s 568us/step - loss: 0.2658 - acc: 0.6131 - val_loss: 0.2622 - val_acc: 0.6034\n",
      "Epoch 20/200\n",
      "5818/5818 [==============================] - 3s 548us/step - loss: 0.2643 - acc: 0.6131 - val_loss: 0.2609 - val_acc: 0.6034\n",
      "Epoch 21/200\n",
      "5818/5818 [==============================] - 3s 565us/step - loss: 0.2630 - acc: 0.6133 - val_loss: 0.2602 - val_acc: 0.6048\n",
      "Epoch 22/200\n",
      "5818/5818 [==============================] - 3s 559us/step - loss: 0.2647 - acc: 0.6138 - val_loss: 0.2603 - val_acc: 0.6034\n",
      "Epoch 23/200\n",
      "5818/5818 [==============================] - 3s 572us/step - loss: 0.2625 - acc: 0.6124 - val_loss: 0.2593 - val_acc: 0.6034\n",
      "Epoch 24/200\n",
      "5818/5818 [==============================] - 3s 563us/step - loss: 0.2637 - acc: 0.6136 - val_loss: 0.2588 - val_acc: 0.6041\n",
      "Epoch 25/200\n",
      "5818/5818 [==============================] - 3s 555us/step - loss: 0.2619 - acc: 0.6148 - val_loss: 0.2590 - val_acc: 0.6034\n",
      "Epoch 26/200\n",
      "5818/5818 [==============================] - 3s 549us/step - loss: 0.2631 - acc: 0.6131 - val_loss: 0.2583 - val_acc: 0.6027\n",
      "Epoch 27/200\n",
      "5818/5818 [==============================] - 3s 554us/step - loss: 0.2608 - acc: 0.6153 - val_loss: 0.2571 - val_acc: 0.6041\n",
      "Epoch 28/200\n",
      "5818/5818 [==============================] - 3s 593us/step - loss: 0.2609 - acc: 0.6167 - val_loss: 0.2568 - val_acc: 0.6034\n",
      "Epoch 29/200\n",
      "5818/5818 [==============================] - 3s 549us/step - loss: 0.2601 - acc: 0.6165 - val_loss: 0.2565 - val_acc: 0.6048\n",
      "Epoch 30/200\n",
      "5818/5818 [==============================] - 3s 553us/step - loss: 0.2594 - acc: 0.6153 - val_loss: 0.2561 - val_acc: 0.6055\n",
      "Epoch 31/200\n",
      "5818/5818 [==============================] - 3s 580us/step - loss: 0.2587 - acc: 0.6193 - val_loss: 0.2568 - val_acc: 0.6144\n",
      "Epoch 32/200\n",
      "5818/5818 [==============================] - 3s 537us/step - loss: 0.2587 - acc: 0.6198 - val_loss: 0.2555 - val_acc: 0.6048\n",
      "Epoch 33/200\n",
      "5818/5818 [==============================] - 3s 552us/step - loss: 0.2588 - acc: 0.6188 - val_loss: 0.2550 - val_acc: 0.6076\n",
      "Epoch 34/200\n",
      "5818/5818 [==============================] - 3s 566us/step - loss: 0.2589 - acc: 0.6191 - val_loss: 0.2555 - val_acc: 0.6213\n",
      "Epoch 35/200\n",
      "5818/5818 [==============================] - 3s 595us/step - loss: 0.2577 - acc: 0.6208 - val_loss: 0.2535 - val_acc: 0.6172\n",
      "Epoch 36/200\n",
      "5818/5818 [==============================] - 3s 551us/step - loss: 0.2581 - acc: 0.6205 - val_loss: 0.2548 - val_acc: 0.6261\n",
      "Epoch 37/200\n",
      "5818/5818 [==============================] - 5s 841us/step - loss: 0.2576 - acc: 0.6236 - val_loss: 0.2531 - val_acc: 0.6213\n",
      "Epoch 38/200\n",
      "5818/5818 [==============================] - 5s 783us/step - loss: 0.2552 - acc: 0.6281 - val_loss: 0.2527 - val_acc: 0.6179\n",
      "Epoch 39/200\n",
      "5818/5818 [==============================] - 4s 644us/step - loss: 0.2550 - acc: 0.6277 - val_loss: 0.2526 - val_acc: 0.6206\n",
      "Epoch 40/200\n",
      "5818/5818 [==============================] - 4s 646us/step - loss: 0.2560 - acc: 0.6287 - val_loss: 0.2522 - val_acc: 0.6227\n",
      "Epoch 41/200\n",
      "5818/5818 [==============================] - 3s 551us/step - loss: 0.2561 - acc: 0.6258 - val_loss: 0.2522 - val_acc: 0.6110\n",
      "Epoch 42/200\n",
      "5818/5818 [==============================] - 3s 559us/step - loss: 0.2533 - acc: 0.6281 - val_loss: 0.2507 - val_acc: 0.6289\n",
      "Epoch 43/200\n",
      "5818/5818 [==============================] - 3s 563us/step - loss: 0.2545 - acc: 0.6342 - val_loss: 0.2501 - val_acc: 0.6296\n",
      "Epoch 44/200\n",
      "5818/5818 [==============================] - 4s 635us/step - loss: 0.2533 - acc: 0.6317 - val_loss: 0.2508 - val_acc: 0.6378\n",
      "Epoch 45/200\n",
      "5818/5818 [==============================] - 3s 570us/step - loss: 0.2536 - acc: 0.6301 - val_loss: 0.2497 - val_acc: 0.6399\n",
      "Epoch 46/200\n",
      "5818/5818 [==============================] - 4s 644us/step - loss: 0.2520 - acc: 0.6339 - val_loss: 0.2509 - val_acc: 0.6481\n",
      "Epoch 47/200\n",
      "5818/5818 [==============================] - 4s 639us/step - loss: 0.2521 - acc: 0.6353 - val_loss: 0.2492 - val_acc: 0.6323\n",
      "Epoch 48/200\n",
      "5818/5818 [==============================] - 3s 545us/step - loss: 0.2517 - acc: 0.6358 - val_loss: 0.2488 - val_acc: 0.6392\n",
      "Epoch 49/200\n",
      "5818/5818 [==============================] - 3s 548us/step - loss: 0.2516 - acc: 0.6339 - val_loss: 0.2488 - val_acc: 0.6357\n",
      "Epoch 50/200\n",
      "5818/5818 [==============================] - 3s 542us/step - loss: 0.2526 - acc: 0.6360 - val_loss: 0.2488 - val_acc: 0.6337\n",
      "Epoch 51/200\n",
      "5818/5818 [==============================] - 3s 533us/step - loss: 0.2513 - acc: 0.6394 - val_loss: 0.2493 - val_acc: 0.6268\n",
      "Epoch 52/200\n",
      "5818/5818 [==============================] - 3s 548us/step - loss: 0.2497 - acc: 0.6423 - val_loss: 0.2488 - val_acc: 0.6357\n",
      "Epoch 53/200\n",
      "5818/5818 [==============================] - 4s 616us/step - loss: 0.2488 - acc: 0.6421 - val_loss: 0.2479 - val_acc: 0.6419\n",
      "Epoch 54/200\n",
      "5818/5818 [==============================] - 3s 552us/step - loss: 0.2509 - acc: 0.6420 - val_loss: 0.2474 - val_acc: 0.6392\n",
      "Epoch 55/200\n",
      "5818/5818 [==============================] - 3s 550us/step - loss: 0.2489 - acc: 0.6366 - val_loss: 0.2467 - val_acc: 0.6522\n",
      "Epoch 56/200\n",
      "5818/5818 [==============================] - 3s 558us/step - loss: 0.2486 - acc: 0.6444 - val_loss: 0.2478 - val_acc: 0.6591\n",
      "Epoch 57/200\n",
      "5818/5818 [==============================] - 3s 543us/step - loss: 0.2501 - acc: 0.6392 - val_loss: 0.2462 - val_acc: 0.6467\n",
      "Epoch 58/200\n",
      "5818/5818 [==============================] - 3s 553us/step - loss: 0.2463 - acc: 0.6464 - val_loss: 0.2454 - val_acc: 0.6509\n",
      "Epoch 59/200\n",
      "5818/5818 [==============================] - 3s 579us/step - loss: 0.2483 - acc: 0.6430 - val_loss: 0.2459 - val_acc: 0.6529\n",
      "Epoch 60/200\n",
      "5818/5818 [==============================] - 3s 550us/step - loss: 0.2460 - acc: 0.6556 - val_loss: 0.2462 - val_acc: 0.6447\n",
      "Epoch 61/200\n",
      "5818/5818 [==============================] - 3s 547us/step - loss: 0.2462 - acc: 0.6466 - val_loss: 0.2456 - val_acc: 0.6557\n",
      "Epoch 62/200\n",
      "5818/5818 [==============================] - 3s 541us/step - loss: 0.2463 - acc: 0.6495 - val_loss: 0.2461 - val_acc: 0.6426\n",
      "Epoch 63/200\n",
      "5818/5818 [==============================] - 3s 562us/step - loss: 0.2467 - acc: 0.6466 - val_loss: 0.2452 - val_acc: 0.6474\n",
      "Epoch 64/200\n",
      "5818/5818 [==============================] - 3s 547us/step - loss: 0.2478 - acc: 0.6420 - val_loss: 0.2450 - val_acc: 0.6502\n",
      "Epoch 65/200\n",
      "5818/5818 [==============================] - 3s 590us/step - loss: 0.2460 - acc: 0.6487 - val_loss: 0.2454 - val_acc: 0.6570\n",
      "Epoch 66/200\n",
      "5818/5818 [==============================] - 3s 557us/step - loss: 0.2443 - acc: 0.6514 - val_loss: 0.2446 - val_acc: 0.6536\n",
      "Epoch 67/200\n",
      "5818/5818 [==============================] - 3s 553us/step - loss: 0.2448 - acc: 0.6531 - val_loss: 0.2443 - val_acc: 0.6591\n",
      "Epoch 68/200\n",
      "5818/5818 [==============================] - 3s 549us/step - loss: 0.2438 - acc: 0.6535 - val_loss: 0.2440 - val_acc: 0.6584\n",
      "Epoch 69/200\n",
      "5818/5818 [==============================] - 3s 575us/step - loss: 0.2450 - acc: 0.6490 - val_loss: 0.2452 - val_acc: 0.6639\n",
      "Epoch 70/200\n",
      "5818/5818 [==============================] - 3s 551us/step - loss: 0.2452 - acc: 0.6507 - val_loss: 0.2456 - val_acc: 0.6577\n",
      "Epoch 71/200\n",
      "5818/5818 [==============================] - 3s 547us/step - loss: 0.2419 - acc: 0.6543 - val_loss: 0.2442 - val_acc: 0.6612\n",
      "Epoch 72/200\n",
      "5818/5818 [==============================] - 3s 549us/step - loss: 0.2425 - acc: 0.6585 - val_loss: 0.2430 - val_acc: 0.6591\n",
      "Epoch 73/200\n",
      "5818/5818 [==============================] - 3s 540us/step - loss: 0.2425 - acc: 0.6506 - val_loss: 0.2444 - val_acc: 0.6639\n",
      "Epoch 74/200\n",
      "5818/5818 [==============================] - 3s 531us/step - loss: 0.2435 - acc: 0.6540 - val_loss: 0.2439 - val_acc: 0.6522\n",
      "Epoch 75/200\n",
      "5818/5818 [==============================] - 3s 539us/step - loss: 0.2437 - acc: 0.6566 - val_loss: 0.2437 - val_acc: 0.6529\n",
      "Epoch 76/200\n",
      "5818/5818 [==============================] - 3s 541us/step - loss: 0.2427 - acc: 0.6511 - val_loss: 0.2430 - val_acc: 0.6557\n",
      "Epoch 77/200\n",
      "5818/5818 [==============================] - 3s 579us/step - loss: 0.2395 - acc: 0.6580 - val_loss: 0.2442 - val_acc: 0.6694\n",
      "Epoch 78/200\n",
      "5818/5818 [==============================] - 3s 546us/step - loss: 0.2419 - acc: 0.6597 - val_loss: 0.2428 - val_acc: 0.6543\n",
      "Epoch 79/200\n",
      "5818/5818 [==============================] - 3s 563us/step - loss: 0.2404 - acc: 0.6537 - val_loss: 0.2457 - val_acc: 0.6790\n",
      "Epoch 80/200\n",
      "5818/5818 [==============================] - 3s 533us/step - loss: 0.2414 - acc: 0.6525 - val_loss: 0.2434 - val_acc: 0.6667\n",
      "Epoch 81/200\n",
      "5818/5818 [==============================] - 3s 545us/step - loss: 0.2378 - acc: 0.6602 - val_loss: 0.2453 - val_acc: 0.6687\n",
      "Epoch 82/200\n",
      "5818/5818 [==============================] - 3s 545us/step - loss: 0.2410 - acc: 0.6556 - val_loss: 0.2442 - val_acc: 0.6708\n",
      "Epoch 83/200\n",
      "5818/5818 [==============================] - 3s 576us/step - loss: 0.2379 - acc: 0.6635 - val_loss: 0.2456 - val_acc: 0.6722\n",
      "Epoch 84/200\n",
      "5818/5818 [==============================] - 3s 538us/step - loss: 0.2409 - acc: 0.6609 - val_loss: 0.2418 - val_acc: 0.6619\n",
      "Epoch 85/200\n",
      "5818/5818 [==============================] - 3s 576us/step - loss: 0.2407 - acc: 0.6561 - val_loss: 0.2417 - val_acc: 0.6577\n",
      "Epoch 86/200\n",
      "5818/5818 [==============================] - 3s 556us/step - loss: 0.2420 - acc: 0.6542 - val_loss: 0.2412 - val_acc: 0.6680\n",
      "Epoch 87/200\n",
      "5818/5818 [==============================] - 4s 742us/step - loss: 0.2365 - acc: 0.6657 - val_loss: 0.2414 - val_acc: 0.6625\n",
      "Epoch 88/200\n",
      "5818/5818 [==============================] - 4s 750us/step - loss: 0.2392 - acc: 0.6628 - val_loss: 0.2423 - val_acc: 0.6625\n",
      "Epoch 89/200\n",
      "5818/5818 [==============================] - 5s 905us/step - loss: 0.2395 - acc: 0.6611 - val_loss: 0.2415 - val_acc: 0.6632\n",
      "Epoch 90/200\n",
      "5818/5818 [==============================] - 4s 674us/step - loss: 0.2385 - acc: 0.6617 - val_loss: 0.2412 - val_acc: 0.6632\n",
      "Epoch 91/200\n",
      "5818/5818 [==============================] - 3s 596us/step - loss: 0.2397 - acc: 0.6624 - val_loss: 0.2407 - val_acc: 0.6667\n",
      "Epoch 92/200\n",
      "5818/5818 [==============================] - 4s 637us/step - loss: 0.2356 - acc: 0.6633 - val_loss: 0.2414 - val_acc: 0.6667\n",
      "Epoch 93/200\n",
      "5818/5818 [==============================] - 3s 538us/step - loss: 0.2385 - acc: 0.6629 - val_loss: 0.2409 - val_acc: 0.6639\n",
      "Epoch 94/200\n",
      "5818/5818 [==============================] - 3s 567us/step - loss: 0.2380 - acc: 0.6621 - val_loss: 0.2402 - val_acc: 0.6660\n",
      "Epoch 95/200\n",
      "5818/5818 [==============================] - 3s 590us/step - loss: 0.2363 - acc: 0.6629 - val_loss: 0.2416 - val_acc: 0.6667\n",
      "Epoch 96/200\n",
      "5818/5818 [==============================] - 4s 636us/step - loss: 0.2383 - acc: 0.6652 - val_loss: 0.2398 - val_acc: 0.6722\n",
      "Epoch 97/200\n",
      "5818/5818 [==============================] - 3s 543us/step - loss: 0.2358 - acc: 0.6686 - val_loss: 0.2405 - val_acc: 0.6701\n",
      "Epoch 98/200\n",
      "5818/5818 [==============================] - 3s 537us/step - loss: 0.2350 - acc: 0.6652 - val_loss: 0.2437 - val_acc: 0.6715\n",
      "Epoch 99/200\n",
      "5818/5818 [==============================] - 3s 567us/step - loss: 0.2365 - acc: 0.6623 - val_loss: 0.2395 - val_acc: 0.6735\n",
      "Epoch 100/200\n",
      "5818/5818 [==============================] - 3s 557us/step - loss: 0.2358 - acc: 0.6681 - val_loss: 0.2397 - val_acc: 0.6742\n",
      "Epoch 101/200\n",
      "5818/5818 [==============================] - 3s 552us/step - loss: 0.2368 - acc: 0.6643 - val_loss: 0.2391 - val_acc: 0.6722\n",
      "Epoch 102/200\n",
      "5818/5818 [==============================] - 3s 544us/step - loss: 0.2361 - acc: 0.6681 - val_loss: 0.2422 - val_acc: 0.6694\n",
      "Epoch 103/200\n",
      "5818/5818 [==============================] - 3s 533us/step - loss: 0.2365 - acc: 0.6672 - val_loss: 0.2419 - val_acc: 0.6735\n",
      "Epoch 104/200\n",
      "5818/5818 [==============================] - 3s 579us/step - loss: 0.2382 - acc: 0.6635 - val_loss: 0.2384 - val_acc: 0.6708\n",
      "Epoch 105/200\n",
      "5818/5818 [==============================] - 4s 607us/step - loss: 0.2342 - acc: 0.6736 - val_loss: 0.2399 - val_acc: 0.6660\n",
      "Epoch 106/200\n",
      "5818/5818 [==============================] - 3s 545us/step - loss: 0.2322 - acc: 0.6762 - val_loss: 0.2384 - val_acc: 0.6674\n",
      "Epoch 107/200\n",
      "5818/5818 [==============================] - 4s 611us/step - loss: 0.2341 - acc: 0.6693 - val_loss: 0.2400 - val_acc: 0.6715\n",
      "Epoch 108/200\n",
      "5818/5818 [==============================] - 4s 619us/step - loss: 0.2333 - acc: 0.6727 - val_loss: 0.2384 - val_acc: 0.6701\n",
      "Epoch 109/200\n",
      "5818/5818 [==============================] - 3s 578us/step - loss: 0.2316 - acc: 0.6832 - val_loss: 0.2395 - val_acc: 0.6715\n",
      "Epoch 110/200\n",
      "5818/5818 [==============================] - 3s 555us/step - loss: 0.2330 - acc: 0.6757 - val_loss: 0.2386 - val_acc: 0.6701\n",
      "Epoch 111/200\n",
      "5818/5818 [==============================] - 3s 597us/step - loss: 0.2321 - acc: 0.6721 - val_loss: 0.2402 - val_acc: 0.6708\n",
      "Epoch 112/200\n",
      "5818/5818 [==============================] - 3s 563us/step - loss: 0.2332 - acc: 0.6705 - val_loss: 0.2405 - val_acc: 0.6729\n",
      "Epoch 113/200\n",
      "5818/5818 [==============================] - 3s 545us/step - loss: 0.2339 - acc: 0.6748 - val_loss: 0.2385 - val_acc: 0.6735\n",
      "Epoch 114/200\n",
      "5818/5818 [==============================] - 3s 598us/step - loss: 0.2322 - acc: 0.6760 - val_loss: 0.2381 - val_acc: 0.6735\n",
      "Epoch 115/200\n",
      "5818/5818 [==============================] - 3s 578us/step - loss: 0.2324 - acc: 0.6691 - val_loss: 0.2381 - val_acc: 0.6756\n",
      "Epoch 116/200\n",
      "5818/5818 [==============================] - 3s 559us/step - loss: 0.2316 - acc: 0.6710 - val_loss: 0.2399 - val_acc: 0.6749\n",
      "Epoch 117/200\n",
      "5818/5818 [==============================] - 3s 588us/step - loss: 0.2340 - acc: 0.6729 - val_loss: 0.2392 - val_acc: 0.6694\n",
      "Epoch 118/200\n",
      "5818/5818 [==============================] - 4s 627us/step - loss: 0.2329 - acc: 0.6708 - val_loss: 0.2372 - val_acc: 0.6756\n",
      "Epoch 119/200\n",
      "5818/5818 [==============================] - 3s 575us/step - loss: 0.2321 - acc: 0.6763 - val_loss: 0.2370 - val_acc: 0.6742\n",
      "Epoch 120/200\n",
      "5818/5818 [==============================] - 3s 572us/step - loss: 0.2321 - acc: 0.6695 - val_loss: 0.2371 - val_acc: 0.6722\n",
      "Epoch 121/200\n",
      "5818/5818 [==============================] - 3s 569us/step - loss: 0.2323 - acc: 0.6710 - val_loss: 0.2382 - val_acc: 0.6701\n",
      "Epoch 122/200\n",
      "5818/5818 [==============================] - 3s 560us/step - loss: 0.2311 - acc: 0.6755 - val_loss: 0.2373 - val_acc: 0.6708\n",
      "Epoch 123/200\n",
      "5818/5818 [==============================] - 4s 641us/step - loss: 0.2301 - acc: 0.6839 - val_loss: 0.2377 - val_acc: 0.6694\n",
      "Epoch 124/200\n",
      "5818/5818 [==============================] - 4s 657us/step - loss: 0.2293 - acc: 0.6798 - val_loss: 0.2376 - val_acc: 0.6708\n",
      "Epoch 125/200\n",
      "5818/5818 [==============================] - 4s 682us/step - loss: 0.2274 - acc: 0.6805 - val_loss: 0.2389 - val_acc: 0.6735\n",
      "Epoch 126/200\n",
      "5818/5818 [==============================] - 4s 635us/step - loss: 0.2295 - acc: 0.6815 - val_loss: 0.2419 - val_acc: 0.6749\n",
      "Epoch 127/200\n",
      "5818/5818 [==============================] - 4s 608us/step - loss: 0.2284 - acc: 0.6769 - val_loss: 0.2394 - val_acc: 0.6722\n",
      "Epoch 128/200\n",
      "5818/5818 [==============================] - 4s 626us/step - loss: 0.2307 - acc: 0.6767 - val_loss: 0.2376 - val_acc: 0.6722\n",
      "Epoch 129/200\n",
      "5818/5818 [==============================] - 4s 672us/step - loss: 0.2306 - acc: 0.6753 - val_loss: 0.2369 - val_acc: 0.6687\n",
      "Epoch 130/200\n",
      "5818/5818 [==============================] - 5s 802us/step - loss: 0.2270 - acc: 0.6824 - val_loss: 0.2413 - val_acc: 0.6784\n",
      "Epoch 131/200\n",
      "5818/5818 [==============================] - 5s 890us/step - loss: 0.2287 - acc: 0.6843 - val_loss: 0.2368 - val_acc: 0.6708\n",
      "Epoch 132/200\n",
      "5818/5818 [==============================] - 5s 796us/step - loss: 0.2317 - acc: 0.6722 - val_loss: 0.2363 - val_acc: 0.6749\n",
      "Epoch 133/200\n",
      "5818/5818 [==============================] - 4s 637us/step - loss: 0.2262 - acc: 0.6856 - val_loss: 0.2373 - val_acc: 0.6701\n",
      "Epoch 134/200\n",
      "5818/5818 [==============================] - 4s 633us/step - loss: 0.2289 - acc: 0.6781 - val_loss: 0.2364 - val_acc: 0.6715\n",
      "Epoch 135/200\n",
      "5818/5818 [==============================] - 4s 608us/step - loss: 0.2306 - acc: 0.6812 - val_loss: 0.2358 - val_acc: 0.6729\n",
      "Epoch 136/200\n",
      "5818/5818 [==============================] - 4s 641us/step - loss: 0.2260 - acc: 0.6796 - val_loss: 0.2382 - val_acc: 0.6784\n",
      "Epoch 137/200\n",
      "5818/5818 [==============================] - 4s 617us/step - loss: 0.2262 - acc: 0.6841 - val_loss: 0.2374 - val_acc: 0.6763\n",
      "Epoch 138/200\n",
      "5818/5818 [==============================] - 4s 628us/step - loss: 0.2281 - acc: 0.6767 - val_loss: 0.2366 - val_acc: 0.6742\n",
      "Epoch 139/200\n",
      "5818/5818 [==============================] - 4s 630us/step - loss: 0.2251 - acc: 0.6851 - val_loss: 0.2380 - val_acc: 0.6756\n",
      "Epoch 140/200\n",
      "5818/5818 [==============================] - 3s 576us/step - loss: 0.2264 - acc: 0.6853 - val_loss: 0.2372 - val_acc: 0.6735\n",
      "Epoch 141/200\n",
      "5818/5818 [==============================] - 4s 643us/step - loss: 0.2254 - acc: 0.6880 - val_loss: 0.2367 - val_acc: 0.6749\n",
      "Epoch 142/200\n",
      "5818/5818 [==============================] - 4s 606us/step - loss: 0.2264 - acc: 0.6856 - val_loss: 0.2372 - val_acc: 0.6742\n",
      "Epoch 143/200\n",
      "5818/5818 [==============================] - 3s 557us/step - loss: 0.2265 - acc: 0.6870 - val_loss: 0.2380 - val_acc: 0.6742\n",
      "Epoch 144/200\n",
      "5818/5818 [==============================] - 4s 615us/step - loss: 0.2270 - acc: 0.6824 - val_loss: 0.2379 - val_acc: 0.6784\n",
      "Epoch 145/200\n",
      "5818/5818 [==============================] - 3s 570us/step - loss: 0.2243 - acc: 0.6918 - val_loss: 0.2369 - val_acc: 0.6756\n",
      "Epoch 146/200\n",
      "5818/5818 [==============================] - 3s 567us/step - loss: 0.2271 - acc: 0.6793 - val_loss: 0.2378 - val_acc: 0.6804\n",
      "Epoch 147/200\n",
      "5818/5818 [==============================] - 3s 583us/step - loss: 0.2269 - acc: 0.6825 - val_loss: 0.2377 - val_acc: 0.6756\n",
      "Epoch 148/200\n",
      "5818/5818 [==============================] - 3s 570us/step - loss: 0.2220 - acc: 0.6966 - val_loss: 0.2390 - val_acc: 0.6784\n",
      "Epoch 149/200\n",
      "5818/5818 [==============================] - 3s 556us/step - loss: 0.2239 - acc: 0.6915 - val_loss: 0.2359 - val_acc: 0.6770\n",
      "Epoch 150/200\n",
      "5818/5818 [==============================] - 3s 560us/step - loss: 0.2253 - acc: 0.6856 - val_loss: 0.2358 - val_acc: 0.6784\n"
     ]
    }
   ],
   "source": [
    "history_3 = lstm_mod3.fit(X_train, y_train,\n",
    "                    validation_split = 0.2,\n",
    "                    callbacks=early_stopping, \n",
    "                    class_weight=class_weights,\n",
    "                    epochs=200, batch_size=500)"
   ]
  },
  {
   "cell_type": "code",
   "execution_count": 215,
   "metadata": {},
   "outputs": [
    {
     "data": {
      "image/png": "[encoded data removed]",
      "text/plain": [
       "<Figure size 576x396 with 1 Axes>"
      ]
     },
     "metadata": {},
     "output_type": "display_data"
    },
    {
     "data": {
      "image/png": "[encoded data removed]",
      "text/plain": [
       "<Figure size 576x396 with 1 Axes>"
      ]
     },
     "metadata": {},
     "output_type": "display_data"
    }
   ],
   "source": [
    "visualize_training_results(history_3)"
   ]
  },
  {
   "cell_type": "code",
   "execution_count": 216,
   "metadata": {},
   "outputs": [
    {
     "name": "stdout",
     "output_type": "stream",
     "text": [
      "Training Accuracy: 0.7210\n",
      "Testing Accuracy:  0.6905\n"
     ]
    }
   ],
   "source": [
    "# Find train and test accuracy\n",
    "loss, accuracy = lstm_mod3.evaluate(X_train, y_train, verbose=False)\n",
    "print(\"Training Accuracy: {:.4f}\".format(accuracy))\n",
    "loss, accuracy = lstm_mod3.evaluate(X_test, y_test, verbose=False)\n",
    "print(\"Testing Accuracy:  {:.4f}\".format(accuracy))"
   ]
  },
  {
   "cell_type": "code",
   "execution_count": 217,
   "metadata": {},
   "outputs": [],
   "source": [
    "y_pred = lstm_mod3.predict(X_test)\n",
    "y_pred = np.argmax(y_pred, axis=1)"
   ]
  },
  {
   "cell_type": "code",
   "execution_count": 218,
   "metadata": {},
   "outputs": [
    {
     "data": {
      "text/plain": [
       "array([1, 1, 1, ..., 1, 1, 1])"
      ]
     },
     "execution_count": 218,
     "metadata": {},
     "output_type": "execute_result"
    }
   ],
   "source": [
    "y_pred"
   ]
  },
  {
   "cell_type": "code",
   "execution_count": 219,
   "metadata": {},
   "outputs": [
    {
     "data": {
      "text/plain": [
       "array([1, 1, 1, ..., 2, 2, 2])"
      ]
     },
     "execution_count": 219,
     "metadata": {},
     "output_type": "execute_result"
    }
   ],
   "source": [
    "Y_test = np.argmax(y_test, axis=1)\n",
    "Y_test"
   ]
  },
  {
   "cell_type": "markdown",
   "metadata": {},
   "source": [
    "#### Plot confusion matrix"
   ]
  },
  {
   "cell_type": "code",
   "execution_count": 163,
   "metadata": {},
   "outputs": [],
   "source": [
    "class_names = np.array(['Negative', 'Positive', 'Neutral'])"
   ]
  },
  {
   "cell_type": "code",
   "execution_count": 220,
   "metadata": {},
   "outputs": [],
   "source": [
    "def plot_confusion_matrix(y_true, y_pred, classes,\n",
    "                          normalize=False,\n",
    "                          title=None,\n",
    "                          cmap=plt.cm.Blues):\n",
    "    \"\"\"\n",
    "    This function prints and plots the confusion matrix.\n",
    "    Normalization can be applied by setting `normalize=True`.\n",
    "    \"\"\"\n",
    "    if not title:\n",
    "        if normalize:\n",
    "            title = 'Normalized confusion matrix'\n",
    "        else:\n",
    "            title = 'Confusion matrix, without normalization'\n",
    "\n",
    "    # Compute confusion matrix\n",
    "    cm = confusion_matrix(y_true, y_pred)\n",
    "    # Only use the labels that appear in the data\n",
    "    classes = classes[unique_labels(y_true, y_pred)]\n",
    "    if normalize:\n",
    "        cm = cm.astype('float') / cm.sum(axis=1)[:, np.newaxis]\n",
    "        print(\"Normalized confusion matrix\")\n",
    "    else:\n",
    "        print('Confusion matrix, without normalization')\n",
    "\n",
    "    print(cm)\n",
    "\n",
    "    fig, ax = plt.subplots()\n",
    "    plt.grid(False)\n",
    "    im = ax.imshow(cm, interpolation='nearest', cmap=cmap)\n",
    "    ax.figure.colorbar(im, ax=ax)\n",
    "    # We want to show all ticks...\n",
    "    ax.set(xticks=np.arange(cm.shape[1]),\n",
    "           yticks=np.arange(cm.shape[0]),\n",
    "           # ... and label them with the respective list entries\n",
    "           xticklabels=classes, yticklabels=classes,\n",
    "           title=title,\n",
    "           ylabel='True label',\n",
    "           xlabel='Predicted label')\n",
    "\n",
    "    # Rotate the tick labels and set their alignment.\n",
    "    plt.setp(ax.get_xticklabels(), rotation=45, ha=\"right\",\n",
    "             rotation_mode=\"anchor\")\n",
    "\n",
    "    # Loop over data dimensions and create text annotations.\n",
    "    fmt = '.2f' if normalize else 'd'\n",
    "    thresh = cm.max() / 2.\n",
    "    for i in range(cm.shape[0]):\n",
    "        for j in range(cm.shape[1]):\n",
    "            ax.text(j, i, format(cm[i, j], fmt),\n",
    "                    ha=\"center\", va=\"center\",\n",
    "                    color=\"white\" if cm[i, j] > thresh else \"black\")\n",
    "    fig.tight_layout()\n",
    "    return ax"
   ]
  },
  {
   "cell_type": "code",
   "execution_count": 221,
   "metadata": {},
   "outputs": [
    {
     "name": "stdout",
     "output_type": "stream",
     "text": [
      "Confusion matrix, without normalization\n",
      "[[   0   97   16]\n",
      " [   0 1046   56]\n",
      " [   0  394  210]]\n",
      "Normalized confusion matrix\n",
      "[[0.   0.86 0.14]\n",
      " [0.   0.95 0.05]\n",
      " [0.   0.65 0.35]]\n"
     ]
    },
    {
     "data": {
      "image/png": "[encoded data removed]",
      "text/plain": [
       "<Figure size 576x396 with 2 Axes>"
      ]
     },
     "metadata": {},
     "output_type": "display_data"
    },
    {
     "data": {
      "image/png": "[encoded data removed]",
      "text/plain": [
       "<Figure size 576x396 with 2 Axes>"
      ]
     },
     "metadata": {},
     "output_type": "display_data"
    }
   ],
   "source": [
    "np.set_printoptions(precision=2)\n",
    "\n",
    "# Plot non-normalized confusion matrix\n",
    "plot_confusion_matrix(Y_test, y_pred, classes=class_names,\n",
    "                      title='Confusion matrix, without normalization')\n",
    "\n",
    "# Plot normalized confusion matrix\n",
    "plot_confusion_matrix(Y_test, y_pred, classes=class_names, normalize=True,\n",
    "                      title='Normalized confusion matrix')\n",
    "\n",
    "plt.show()"
   ]
  },
  {
   "cell_type": "markdown",
   "metadata": {},
   "source": [
    "### Model 4: GRU Layer Stacking"
   ]
  },
  {
   "cell_type": "code",
   "execution_count": 225,
   "metadata": {},
   "outputs": [
    {
     "name": "stdout",
     "output_type": "stream",
     "text": [
      "_________________________________________________________________\n",
      "Layer (type)                 Output Shape              Param #   \n",
      "=================================================================\n",
      "embedding_1 (Embedding)      (None, 24, 50)            507400    \n",
      "_________________________________________________________________\n",
      "gru_11 (GRU)                 (None, 24, 64)            22080     \n",
      "_________________________________________________________________\n",
      "gru_12 (GRU)                 (None, 32)                9312      \n",
      "_________________________________________________________________\n",
      "dense_15 (Dense)             (None, 3)                 99        \n",
      "=================================================================\n",
      "Total params: 538,891\n",
      "Trainable params: 31,491\n",
      "Non-trainable params: 507,400\n",
      "_________________________________________________________________\n"
     ]
    }
   ],
   "source": [
    "# GRU Model 2: reduce number of epochs\n",
    "model_4 = Sequential()\n",
    "model_4.add(embedding_layer)\n",
    "# model_4.add(Dropout(0.3))\n",
    "model_4.add(GRU(64, \n",
    "               dropout = 0.3, \n",
    "               recurrent_dropout = 0.5,\n",
    "                 return_sequences = True))\n",
    "model_4.add(GRU(32,\n",
    "                dropout = 0.3,\n",
    "                recurrent_dropout = 0.5))\n",
    "model_4.add(Dense(3, activation='softmax'))\n",
    "model_4.compile(optimizer='adam', loss='categorical_crossentropy', metrics=['acc'])\n",
    "model_4.summary()"
   ]
  },
  {
   "cell_type": "code",
   "execution_count": 226,
   "metadata": {},
   "outputs": [],
   "source": [
    "# Define the callbacks\n",
    "early_stopping = [EarlyStopping(monitor='val_loss', patience=15), \n",
    "                  ModelCheckpoint(filepath='best_model_gru.h5', monitor='val_loss', save_best_only=True)]"
   ]
  },
  {
   "cell_type": "code",
   "execution_count": 227,
   "metadata": {
    "collapsed": true,
    "jupyter": {
     "outputs_hidden": true
    }
   },
   "outputs": [
    {
     "name": "stdout",
     "output_type": "stream",
     "text": [
      "Train on 5818 samples, validate on 1455 samples\n",
      "Epoch 1/200\n",
      "5818/5818 [==============================] - 6s 1ms/step - loss: 0.4337 - acc: 0.5002 - val_loss: 0.2942 - val_acc: 0.6034\n",
      "Epoch 2/200\n",
      "5818/5818 [==============================] - 3s 431us/step - loss: 0.3072 - acc: 0.6119 - val_loss: 0.2933 - val_acc: 0.6034\n",
      "Epoch 3/200\n",
      "5818/5818 [==============================] - 2s 386us/step - loss: 0.2862 - acc: 0.6128 - val_loss: 0.2801 - val_acc: 0.6034\n",
      "Epoch 4/200\n",
      "5818/5818 [==============================] - 2s 395us/step - loss: 0.2826 - acc: 0.6129 - val_loss: 0.2811 - val_acc: 0.6034\n",
      "Epoch 5/200\n",
      "5818/5818 [==============================] - 2s 370us/step - loss: 0.2792 - acc: 0.6126 - val_loss: 0.2809 - val_acc: 0.6034\n",
      "Epoch 6/200\n",
      "5818/5818 [==============================] - 3s 458us/step - loss: 0.2788 - acc: 0.6124 - val_loss: 0.2783 - val_acc: 0.6034\n",
      "Epoch 7/200\n",
      "5818/5818 [==============================] - 2s 391us/step - loss: 0.2769 - acc: 0.6126 - val_loss: 0.2774 - val_acc: 0.6034\n",
      "Epoch 8/200\n",
      "5818/5818 [==============================] - 2s 376us/step - loss: 0.2772 - acc: 0.6126 - val_loss: 0.2766 - val_acc: 0.6034\n",
      "Epoch 9/200\n",
      "5818/5818 [==============================] - 2s 377us/step - loss: 0.2751 - acc: 0.6124 - val_loss: 0.2751 - val_acc: 0.6034\n",
      "Epoch 10/200\n",
      "5818/5818 [==============================] - 3s 436us/step - loss: 0.2746 - acc: 0.6128 - val_loss: 0.2752 - val_acc: 0.6034\n",
      "Epoch 11/200\n",
      "5818/5818 [==============================] - 2s 371us/step - loss: 0.2744 - acc: 0.6126 - val_loss: 0.2734 - val_acc: 0.6034\n",
      "Epoch 12/200\n",
      "5818/5818 [==============================] - 2s 373us/step - loss: 0.2739 - acc: 0.6121 - val_loss: 0.2728 - val_acc: 0.6034\n",
      "Epoch 13/200\n",
      "5818/5818 [==============================] - 2s 390us/step - loss: 0.2735 - acc: 0.6131 - val_loss: 0.2716 - val_acc: 0.6034\n",
      "Epoch 14/200\n",
      "5818/5818 [==============================] - 2s 387us/step - loss: 0.2720 - acc: 0.6131 - val_loss: 0.2706 - val_acc: 0.6034\n",
      "Epoch 15/200\n",
      "5818/5818 [==============================] - 2s 380us/step - loss: 0.2704 - acc: 0.6131 - val_loss: 0.2701 - val_acc: 0.6034\n",
      "Epoch 16/200\n",
      "5818/5818 [==============================] - 2s 372us/step - loss: 0.2695 - acc: 0.6126 - val_loss: 0.2678 - val_acc: 0.6034\n",
      "Epoch 17/200\n",
      "5818/5818 [==============================] - 2s 390us/step - loss: 0.2683 - acc: 0.6126 - val_loss: 0.2662 - val_acc: 0.6027\n",
      "Epoch 18/200\n",
      "5818/5818 [==============================] - 2s 419us/step - loss: 0.2662 - acc: 0.6172 - val_loss: 0.2682 - val_acc: 0.6034\n",
      "Epoch 19/200\n",
      "5818/5818 [==============================] - 2s 400us/step - loss: 0.2655 - acc: 0.6167 - val_loss: 0.2646 - val_acc: 0.6034\n",
      "Epoch 20/200\n",
      "5818/5818 [==============================] - 3s 488us/step - loss: 0.2657 - acc: 0.6177 - val_loss: 0.2664 - val_acc: 0.6027\n",
      "Epoch 21/200\n",
      "5818/5818 [==============================] - 2s 410us/step - loss: 0.2649 - acc: 0.6176 - val_loss: 0.2622 - val_acc: 0.6027\n",
      "Epoch 22/200\n",
      "5818/5818 [==============================] - 2s 390us/step - loss: 0.2644 - acc: 0.6195 - val_loss: 0.2621 - val_acc: 0.6034\n",
      "Epoch 23/200\n",
      "5818/5818 [==============================] - 2s 378us/step - loss: 0.2623 - acc: 0.6224 - val_loss: 0.2605 - val_acc: 0.6062\n",
      "Epoch 24/200\n",
      "5818/5818 [==============================] - 2s 381us/step - loss: 0.2623 - acc: 0.6189 - val_loss: 0.2588 - val_acc: 0.6069\n",
      "Epoch 25/200\n",
      "5818/5818 [==============================] - 2s 379us/step - loss: 0.2606 - acc: 0.6248 - val_loss: 0.2591 - val_acc: 0.6069\n",
      "Epoch 26/200\n",
      "5818/5818 [==============================] - 2s 367us/step - loss: 0.2607 - acc: 0.6236 - val_loss: 0.2574 - val_acc: 0.6089\n",
      "Epoch 27/200\n",
      "5818/5818 [==============================] - 2s 378us/step - loss: 0.2623 - acc: 0.6222 - val_loss: 0.2570 - val_acc: 0.6069\n",
      "Epoch 28/200\n",
      "5818/5818 [==============================] - 2s 367us/step - loss: 0.2587 - acc: 0.6226 - val_loss: 0.2567 - val_acc: 0.6069\n",
      "Epoch 29/200\n",
      "5818/5818 [==============================] - 2s 412us/step - loss: 0.2590 - acc: 0.6239 - val_loss: 0.2561 - val_acc: 0.6096\n",
      "Epoch 30/200\n",
      "5818/5818 [==============================] - 2s 376us/step - loss: 0.2569 - acc: 0.6262 - val_loss: 0.2553 - val_acc: 0.6165\n",
      "Epoch 31/200\n",
      "5818/5818 [==============================] - 2s 383us/step - loss: 0.2560 - acc: 0.6286 - val_loss: 0.2553 - val_acc: 0.6096\n",
      "Epoch 32/200\n",
      "5818/5818 [==============================] - 2s 372us/step - loss: 0.2553 - acc: 0.6332 - val_loss: 0.2530 - val_acc: 0.6186\n",
      "Epoch 33/200\n",
      "5818/5818 [==============================] - 2s 372us/step - loss: 0.2554 - acc: 0.6325 - val_loss: 0.2525 - val_acc: 0.6206\n",
      "Epoch 34/200\n",
      "5818/5818 [==============================] - 2s 383us/step - loss: 0.2563 - acc: 0.6311 - val_loss: 0.2525 - val_acc: 0.6165\n",
      "Epoch 35/200\n",
      "5818/5818 [==============================] - 2s 367us/step - loss: 0.2536 - acc: 0.6382 - val_loss: 0.2521 - val_acc: 0.6158\n",
      "Epoch 36/200\n",
      "5818/5818 [==============================] - 2s 390us/step - loss: 0.2544 - acc: 0.6351 - val_loss: 0.2515 - val_acc: 0.6192\n",
      "Epoch 37/200\n",
      "5818/5818 [==============================] - 2s 376us/step - loss: 0.2521 - acc: 0.6384 - val_loss: 0.2510 - val_acc: 0.6227\n",
      "Epoch 38/200\n",
      "5818/5818 [==============================] - 2s 381us/step - loss: 0.2526 - acc: 0.6409 - val_loss: 0.2513 - val_acc: 0.6206\n",
      "Epoch 39/200\n",
      "5818/5818 [==============================] - 2s 402us/step - loss: 0.2520 - acc: 0.6397 - val_loss: 0.2504 - val_acc: 0.6220\n",
      "Epoch 40/200\n",
      "5818/5818 [==============================] - 2s 372us/step - loss: 0.2517 - acc: 0.6385 - val_loss: 0.2502 - val_acc: 0.6392\n",
      "Epoch 41/200\n",
      "5818/5818 [==============================] - 2s 412us/step - loss: 0.2529 - acc: 0.6403 - val_loss: 0.2491 - val_acc: 0.6323\n",
      "Epoch 42/200\n",
      "5818/5818 [==============================] - 2s 392us/step - loss: 0.2517 - acc: 0.6375 - val_loss: 0.2489 - val_acc: 0.6296\n",
      "Epoch 43/200\n",
      "5818/5818 [==============================] - 2s 379us/step - loss: 0.2496 - acc: 0.6449 - val_loss: 0.2488 - val_acc: 0.6296\n",
      "Epoch 44/200\n",
      "5818/5818 [==============================] - 2s 383us/step - loss: 0.2492 - acc: 0.6439 - val_loss: 0.2479 - val_acc: 0.6412\n",
      "Epoch 45/200\n",
      "5818/5818 [==============================] - 2s 376us/step - loss: 0.2500 - acc: 0.6411 - val_loss: 0.2479 - val_acc: 0.6323\n",
      "Epoch 46/200\n",
      "5818/5818 [==============================] - 2s 385us/step - loss: 0.2501 - acc: 0.6454 - val_loss: 0.2476 - val_acc: 0.6330\n",
      "Epoch 47/200\n",
      "5818/5818 [==============================] - 2s 372us/step - loss: 0.2481 - acc: 0.6430 - val_loss: 0.2474 - val_acc: 0.6364\n",
      "Epoch 48/200\n",
      "5818/5818 [==============================] - 4s 665us/step - loss: 0.2475 - acc: 0.6502 - val_loss: 0.2478 - val_acc: 0.6302\n",
      "Epoch 49/200\n",
      "5818/5818 [==============================] - 3s 592us/step - loss: 0.2487 - acc: 0.6475 - val_loss: 0.2466 - val_acc: 0.6405\n",
      "Epoch 50/200\n",
      "5818/5818 [==============================] - 2s 424us/step - loss: 0.2494 - acc: 0.6475 - val_loss: 0.2462 - val_acc: 0.6399\n",
      "Epoch 51/200\n",
      "5818/5818 [==============================] - 3s 484us/step - loss: 0.2483 - acc: 0.6497 - val_loss: 0.2463 - val_acc: 0.6364\n",
      "Epoch 52/200\n",
      "5818/5818 [==============================] - 3s 483us/step - loss: 0.2447 - acc: 0.6439 - val_loss: 0.2458 - val_acc: 0.6433\n",
      "Epoch 53/200\n",
      "5818/5818 [==============================] - 2s 378us/step - loss: 0.2445 - acc: 0.6533 - val_loss: 0.2461 - val_acc: 0.6426\n",
      "Epoch 54/200\n",
      "5818/5818 [==============================] - 2s 385us/step - loss: 0.2447 - acc: 0.6516 - val_loss: 0.2454 - val_acc: 0.6522\n",
      "Epoch 55/200\n",
      "5818/5818 [==============================] - 2s 402us/step - loss: 0.2457 - acc: 0.6569 - val_loss: 0.2461 - val_acc: 0.6399\n",
      "Epoch 56/200\n",
      "5818/5818 [==============================] - 2s 370us/step - loss: 0.2442 - acc: 0.6552 - val_loss: 0.2453 - val_acc: 0.6502\n",
      "Epoch 57/200\n",
      "5818/5818 [==============================] - 2s 405us/step - loss: 0.2435 - acc: 0.6568 - val_loss: 0.2451 - val_acc: 0.6481\n",
      "Epoch 58/200\n",
      "5818/5818 [==============================] - 2s 373us/step - loss: 0.2437 - acc: 0.6561 - val_loss: 0.2449 - val_acc: 0.6467\n",
      "Epoch 59/200\n",
      "5818/5818 [==============================] - 2s 392us/step - loss: 0.2419 - acc: 0.6611 - val_loss: 0.2449 - val_acc: 0.6467\n",
      "Epoch 60/200\n",
      "5818/5818 [==============================] - 2s 387us/step - loss: 0.2439 - acc: 0.6576 - val_loss: 0.2442 - val_acc: 0.6522\n",
      "Epoch 61/200\n",
      "5818/5818 [==============================] - 2s 379us/step - loss: 0.2415 - acc: 0.6569 - val_loss: 0.2444 - val_acc: 0.6474\n",
      "Epoch 62/200\n",
      "5818/5818 [==============================] - 2s 363us/step - loss: 0.2405 - acc: 0.6581 - val_loss: 0.2439 - val_acc: 0.6522\n",
      "Epoch 63/200\n",
      "5818/5818 [==============================] - 2s 393us/step - loss: 0.2395 - acc: 0.6669 - val_loss: 0.2442 - val_acc: 0.6509\n",
      "Epoch 64/200\n",
      "5818/5818 [==============================] - 2s 382us/step - loss: 0.2421 - acc: 0.6631 - val_loss: 0.2437 - val_acc: 0.6570\n",
      "Epoch 65/200\n",
      "5818/5818 [==============================] - 2s 387us/step - loss: 0.2409 - acc: 0.6624 - val_loss: 0.2438 - val_acc: 0.6509\n",
      "Epoch 66/200\n",
      "5818/5818 [==============================] - 2s 383us/step - loss: 0.2391 - acc: 0.6684 - val_loss: 0.2433 - val_acc: 0.6536\n",
      "Epoch 67/200\n",
      "5818/5818 [==============================] - 2s 379us/step - loss: 0.2411 - acc: 0.6604 - val_loss: 0.2435 - val_acc: 0.6536\n",
      "Epoch 68/200\n",
      "5818/5818 [==============================] - 2s 414us/step - loss: 0.2393 - acc: 0.6633 - val_loss: 0.2428 - val_acc: 0.6550\n",
      "Epoch 69/200\n",
      "5818/5818 [==============================] - 2s 388us/step - loss: 0.2402 - acc: 0.6660 - val_loss: 0.2438 - val_acc: 0.6536\n",
      "Epoch 70/200\n",
      "5818/5818 [==============================] - 2s 376us/step - loss: 0.2400 - acc: 0.6655 - val_loss: 0.2427 - val_acc: 0.6564\n",
      "Epoch 71/200\n",
      "5818/5818 [==============================] - 2s 386us/step - loss: 0.2393 - acc: 0.6650 - val_loss: 0.2424 - val_acc: 0.6577\n",
      "Epoch 72/200\n",
      "5818/5818 [==============================] - 2s 383us/step - loss: 0.2367 - acc: 0.6664 - val_loss: 0.2423 - val_acc: 0.6543\n",
      "Epoch 73/200\n",
      "5818/5818 [==============================] - 2s 389us/step - loss: 0.2365 - acc: 0.6643 - val_loss: 0.2425 - val_acc: 0.6577\n",
      "Epoch 74/200\n",
      "5818/5818 [==============================] - 2s 381us/step - loss: 0.2363 - acc: 0.6727 - val_loss: 0.2425 - val_acc: 0.6605\n",
      "Epoch 75/200\n",
      "5818/5818 [==============================] - 2s 371us/step - loss: 0.2381 - acc: 0.6664 - val_loss: 0.2416 - val_acc: 0.6605\n",
      "Epoch 76/200\n",
      "5818/5818 [==============================] - 2s 369us/step - loss: 0.2386 - acc: 0.6641 - val_loss: 0.2412 - val_acc: 0.6605\n",
      "Epoch 77/200\n",
      "5818/5818 [==============================] - 3s 433us/step - loss: 0.2378 - acc: 0.6655 - val_loss: 0.2408 - val_acc: 0.6632\n",
      "Epoch 78/200\n",
      "5818/5818 [==============================] - 2s 384us/step - loss: 0.2382 - acc: 0.6648 - val_loss: 0.2407 - val_acc: 0.6612\n",
      "Epoch 79/200\n",
      "5818/5818 [==============================] - 2s 389us/step - loss: 0.2367 - acc: 0.6681 - val_loss: 0.2406 - val_acc: 0.6646\n",
      "Epoch 80/200\n",
      "5818/5818 [==============================] - 2s 376us/step - loss: 0.2350 - acc: 0.6733 - val_loss: 0.2408 - val_acc: 0.6605\n",
      "Epoch 81/200\n",
      "5818/5818 [==============================] - 2s 429us/step - loss: 0.2350 - acc: 0.6702 - val_loss: 0.2407 - val_acc: 0.6591\n",
      "Epoch 82/200\n",
      "5818/5818 [==============================] - 2s 425us/step - loss: 0.2325 - acc: 0.6765 - val_loss: 0.2417 - val_acc: 0.6632\n",
      "Epoch 83/200\n",
      "5818/5818 [==============================] - 3s 461us/step - loss: 0.2345 - acc: 0.6727 - val_loss: 0.2408 - val_acc: 0.6598\n",
      "Epoch 84/200\n",
      "5818/5818 [==============================] - 2s 367us/step - loss: 0.2359 - acc: 0.6688 - val_loss: 0.2403 - val_acc: 0.6619\n",
      "Epoch 85/200\n",
      "5818/5818 [==============================] - 3s 450us/step - loss: 0.2340 - acc: 0.6727 - val_loss: 0.2400 - val_acc: 0.6632\n",
      "Epoch 86/200\n",
      "5818/5818 [==============================] - 3s 471us/step - loss: 0.2342 - acc: 0.6715 - val_loss: 0.2396 - val_acc: 0.6680\n",
      "Epoch 87/200\n",
      "5818/5818 [==============================] - 2s 396us/step - loss: 0.2314 - acc: 0.6765 - val_loss: 0.2394 - val_acc: 0.6680\n",
      "Epoch 88/200\n",
      "5818/5818 [==============================] - 2s 401us/step - loss: 0.2293 - acc: 0.6844 - val_loss: 0.2394 - val_acc: 0.6660\n",
      "Epoch 89/200\n",
      "5818/5818 [==============================] - 2s 392us/step - loss: 0.2303 - acc: 0.6772 - val_loss: 0.2396 - val_acc: 0.6674\n",
      "Epoch 90/200\n",
      "5818/5818 [==============================] - 2s 389us/step - loss: 0.2304 - acc: 0.6858 - val_loss: 0.2401 - val_acc: 0.6674\n",
      "Epoch 91/200\n",
      "5818/5818 [==============================] - 2s 425us/step - loss: 0.2279 - acc: 0.6849 - val_loss: 0.2395 - val_acc: 0.6632\n",
      "Epoch 92/200\n",
      "5818/5818 [==============================] - 2s 380us/step - loss: 0.2305 - acc: 0.6839 - val_loss: 0.2393 - val_acc: 0.6639\n",
      "Epoch 93/200\n",
      "5818/5818 [==============================] - 2s 385us/step - loss: 0.2310 - acc: 0.6841 - val_loss: 0.2398 - val_acc: 0.6653\n",
      "Epoch 94/200\n",
      "5818/5818 [==============================] - 2s 403us/step - loss: 0.2301 - acc: 0.6782 - val_loss: 0.2390 - val_acc: 0.6667\n",
      "Epoch 95/200\n",
      "5818/5818 [==============================] - 2s 395us/step - loss: 0.2314 - acc: 0.6763 - val_loss: 0.2390 - val_acc: 0.6667\n",
      "Epoch 96/200\n",
      "5818/5818 [==============================] - 3s 455us/step - loss: 0.2291 - acc: 0.6791 - val_loss: 0.2383 - val_acc: 0.6687\n",
      "Epoch 97/200\n",
      "5818/5818 [==============================] - 3s 503us/step - loss: 0.2297 - acc: 0.6856 - val_loss: 0.2401 - val_acc: 0.6660\n",
      "Epoch 98/200\n",
      "5818/5818 [==============================] - 5s 825us/step - loss: 0.2283 - acc: 0.6806 - val_loss: 0.2382 - val_acc: 0.6680\n",
      "Epoch 99/200\n",
      "5818/5818 [==============================] - 5s 790us/step - loss: 0.2296 - acc: 0.6805 - val_loss: 0.2380 - val_acc: 0.6660\n",
      "Epoch 100/200\n",
      "5818/5818 [==============================] - 3s 491us/step - loss: 0.2263 - acc: 0.6849 - val_loss: 0.2385 - val_acc: 0.6667\n",
      "Epoch 101/200\n",
      "5818/5818 [==============================] - 3s 478us/step - loss: 0.2262 - acc: 0.6932 - val_loss: 0.2384 - val_acc: 0.6639\n",
      "Epoch 102/200\n",
      "5818/5818 [==============================] - 2s 428us/step - loss: 0.2284 - acc: 0.6863 - val_loss: 0.2383 - val_acc: 0.6674\n",
      "Epoch 103/200\n",
      "5818/5818 [==============================] - 3s 448us/step - loss: 0.2257 - acc: 0.6865 - val_loss: 0.2380 - val_acc: 0.6646\n",
      "Epoch 104/200\n",
      "5818/5818 [==============================] - 2s 398us/step - loss: 0.2268 - acc: 0.6884 - val_loss: 0.2383 - val_acc: 0.6667\n",
      "Epoch 105/200\n",
      "5818/5818 [==============================] - 3s 433us/step - loss: 0.2249 - acc: 0.6942 - val_loss: 0.2377 - val_acc: 0.6680\n",
      "Epoch 106/200\n",
      "5818/5818 [==============================] - 2s 412us/step - loss: 0.2270 - acc: 0.6870 - val_loss: 0.2377 - val_acc: 0.6735\n",
      "Epoch 107/200\n",
      "5818/5818 [==============================] - 2s 407us/step - loss: 0.2293 - acc: 0.6818 - val_loss: 0.2372 - val_acc: 0.6639\n",
      "Epoch 108/200\n",
      "5818/5818 [==============================] - 2s 406us/step - loss: 0.2256 - acc: 0.6925 - val_loss: 0.2424 - val_acc: 0.6612\n",
      "Epoch 109/200\n",
      "5818/5818 [==============================] - 2s 423us/step - loss: 0.2254 - acc: 0.6884 - val_loss: 0.2375 - val_acc: 0.6674\n",
      "Epoch 110/200\n",
      "5818/5818 [==============================] - 2s 428us/step - loss: 0.2239 - acc: 0.6896 - val_loss: 0.2375 - val_acc: 0.6694\n",
      "Epoch 111/200\n",
      "5818/5818 [==============================] - 3s 444us/step - loss: 0.2231 - acc: 0.7009 - val_loss: 0.2378 - val_acc: 0.6694\n",
      "Epoch 112/200\n",
      "5818/5818 [==============================] - 3s 441us/step - loss: 0.2221 - acc: 0.6934 - val_loss: 0.2377 - val_acc: 0.6694\n",
      "Epoch 113/200\n",
      "5818/5818 [==============================] - 2s 415us/step - loss: 0.2205 - acc: 0.6961 - val_loss: 0.2378 - val_acc: 0.6674\n",
      "Epoch 114/200\n",
      "5818/5818 [==============================] - 2s 402us/step - loss: 0.2219 - acc: 0.6971 - val_loss: 0.2370 - val_acc: 0.6715\n",
      "Epoch 115/200\n",
      "5818/5818 [==============================] - 2s 400us/step - loss: 0.2212 - acc: 0.6953 - val_loss: 0.2371 - val_acc: 0.6694\n",
      "Epoch 116/200\n",
      "5818/5818 [==============================] - 2s 396us/step - loss: 0.2221 - acc: 0.6953 - val_loss: 0.2366 - val_acc: 0.6680\n",
      "Epoch 117/200\n",
      "5818/5818 [==============================] - 2s 401us/step - loss: 0.2204 - acc: 0.6978 - val_loss: 0.2378 - val_acc: 0.6701\n",
      "Epoch 118/200\n",
      "5818/5818 [==============================] - 2s 394us/step - loss: 0.2217 - acc: 0.6987 - val_loss: 0.2381 - val_acc: 0.6680\n",
      "Epoch 119/200\n",
      "5818/5818 [==============================] - 2s 401us/step - loss: 0.2209 - acc: 0.6999 - val_loss: 0.2377 - val_acc: 0.6674\n",
      "Epoch 120/200\n",
      "5818/5818 [==============================] - 3s 433us/step - loss: 0.2222 - acc: 0.6935 - val_loss: 0.2365 - val_acc: 0.6660\n",
      "Epoch 121/200\n",
      "5818/5818 [==============================] - 2s 405us/step - loss: 0.2218 - acc: 0.6982 - val_loss: 0.2360 - val_acc: 0.6674\n",
      "Epoch 122/200\n",
      "5818/5818 [==============================] - 2s 399us/step - loss: 0.2198 - acc: 0.6973 - val_loss: 0.2361 - val_acc: 0.6687\n",
      "Epoch 123/200\n",
      "5818/5818 [==============================] - 2s 400us/step - loss: 0.2179 - acc: 0.7013 - val_loss: 0.2360 - val_acc: 0.6694\n",
      "Epoch 124/200\n",
      "5818/5818 [==============================] - 2s 403us/step - loss: 0.2204 - acc: 0.6951 - val_loss: 0.2365 - val_acc: 0.6694\n",
      "Epoch 125/200\n",
      "5818/5818 [==============================] - 2s 402us/step - loss: 0.2202 - acc: 0.6977 - val_loss: 0.2370 - val_acc: 0.6701\n",
      "Epoch 126/200\n",
      "5818/5818 [==============================] - 2s 407us/step - loss: 0.2184 - acc: 0.7002 - val_loss: 0.2361 - val_acc: 0.6687\n",
      "Epoch 127/200\n",
      "5818/5818 [==============================] - 2s 398us/step - loss: 0.2180 - acc: 0.7026 - val_loss: 0.2364 - val_acc: 0.6701\n",
      "Epoch 128/200\n",
      "5818/5818 [==============================] - 2s 419us/step - loss: 0.2188 - acc: 0.7052 - val_loss: 0.2367 - val_acc: 0.6708\n",
      "Epoch 129/200\n",
      "5818/5818 [==============================] - 2s 402us/step - loss: 0.2153 - acc: 0.7020 - val_loss: 0.2359 - val_acc: 0.6722\n",
      "Epoch 130/200\n",
      "5818/5818 [==============================] - 2s 413us/step - loss: 0.2166 - acc: 0.7049 - val_loss: 0.2362 - val_acc: 0.6701\n",
      "Epoch 131/200\n",
      "5818/5818 [==============================] - 3s 457us/step - loss: 0.2177 - acc: 0.7026 - val_loss: 0.2358 - val_acc: 0.6729\n",
      "Epoch 132/200\n",
      "5818/5818 [==============================] - 5s 793us/step - loss: 0.2158 - acc: 0.7044 - val_loss: 0.2358 - val_acc: 0.6729\n",
      "Epoch 133/200\n",
      "5818/5818 [==============================] - 3s 563us/step - loss: 0.2175 - acc: 0.7018 - val_loss: 0.2357 - val_acc: 0.6722\n",
      "Epoch 134/200\n",
      "5818/5818 [==============================] - 3s 444us/step - loss: 0.2168 - acc: 0.7049 - val_loss: 0.2356 - val_acc: 0.6722\n",
      "Epoch 135/200\n",
      "5818/5818 [==============================] - 3s 441us/step - loss: 0.2148 - acc: 0.7069 - val_loss: 0.2354 - val_acc: 0.6735\n",
      "Epoch 136/200\n",
      "5818/5818 [==============================] - 3s 472us/step - loss: 0.2170 - acc: 0.6992 - val_loss: 0.2360 - val_acc: 0.6735\n",
      "Epoch 137/200\n",
      "5818/5818 [==============================] - 3s 446us/step - loss: 0.2141 - acc: 0.7078 - val_loss: 0.2354 - val_acc: 0.6722\n",
      "Epoch 138/200\n",
      "5818/5818 [==============================] - 2s 428us/step - loss: 0.2137 - acc: 0.7095 - val_loss: 0.2360 - val_acc: 0.6694\n",
      "Epoch 139/200\n",
      "5818/5818 [==============================] - 2s 405us/step - loss: 0.2162 - acc: 0.7083 - val_loss: 0.2362 - val_acc: 0.6667\n",
      "Epoch 140/200\n",
      "5818/5818 [==============================] - 2s 396us/step - loss: 0.2165 - acc: 0.7033 - val_loss: 0.2358 - val_acc: 0.6694\n",
      "Epoch 141/200\n",
      "5818/5818 [==============================] - 2s 378us/step - loss: 0.2120 - acc: 0.7123 - val_loss: 0.2368 - val_acc: 0.6667\n",
      "Epoch 142/200\n",
      "5818/5818 [==============================] - 2s 375us/step - loss: 0.2148 - acc: 0.7080 - val_loss: 0.2367 - val_acc: 0.6818\n",
      "Epoch 143/200\n",
      "5818/5818 [==============================] - 2s 421us/step - loss: 0.2121 - acc: 0.7088 - val_loss: 0.2360 - val_acc: 0.6763\n",
      "Epoch 144/200\n",
      "5818/5818 [==============================] - 2s 393us/step - loss: 0.2143 - acc: 0.7102 - val_loss: 0.2368 - val_acc: 0.6674\n",
      "Epoch 145/200\n",
      "5818/5818 [==============================] - 2s 409us/step - loss: 0.2136 - acc: 0.7128 - val_loss: 0.2357 - val_acc: 0.6722\n",
      "Epoch 146/200\n",
      "5818/5818 [==============================] - 2s 386us/step - loss: 0.2119 - acc: 0.7097 - val_loss: 0.2357 - val_acc: 0.6784\n",
      "Epoch 147/200\n",
      "5818/5818 [==============================] - 2s 419us/step - loss: 0.2119 - acc: 0.7107 - val_loss: 0.2350 - val_acc: 0.6722\n",
      "Epoch 148/200\n",
      "5818/5818 [==============================] - 2s 400us/step - loss: 0.2108 - acc: 0.7167 - val_loss: 0.2362 - val_acc: 0.6722\n",
      "Epoch 149/200\n",
      "5818/5818 [==============================] - 2s 413us/step - loss: 0.2117 - acc: 0.7133 - val_loss: 0.2353 - val_acc: 0.6756\n",
      "Epoch 150/200\n",
      "5818/5818 [==============================] - 2s 409us/step - loss: 0.2107 - acc: 0.7075 - val_loss: 0.2349 - val_acc: 0.6708\n",
      "Epoch 151/200\n",
      "5818/5818 [==============================] - 2s 396us/step - loss: 0.2082 - acc: 0.7118 - val_loss: 0.2348 - val_acc: 0.6708\n",
      "Epoch 152/200\n",
      "5818/5818 [==============================] - 2s 388us/step - loss: 0.2121 - acc: 0.7085 - val_loss: 0.2351 - val_acc: 0.6701\n",
      "Epoch 153/200\n",
      "5818/5818 [==============================] - 2s 396us/step - loss: 0.2070 - acc: 0.7178 - val_loss: 0.2358 - val_acc: 0.6729\n",
      "Epoch 154/200\n",
      "5818/5818 [==============================] - 2s 394us/step - loss: 0.2086 - acc: 0.7126 - val_loss: 0.2361 - val_acc: 0.6756\n",
      "Epoch 155/200\n",
      "5818/5818 [==============================] - 2s 386us/step - loss: 0.2083 - acc: 0.7193 - val_loss: 0.2365 - val_acc: 0.6708\n",
      "Epoch 156/200\n",
      "5818/5818 [==============================] - 2s 381us/step - loss: 0.2134 - acc: 0.7126 - val_loss: 0.2397 - val_acc: 0.6866\n",
      "Epoch 157/200\n",
      "5818/5818 [==============================] - 3s 433us/step - loss: 0.2107 - acc: 0.7107 - val_loss: 0.2357 - val_acc: 0.6701\n",
      "Epoch 158/200\n",
      "5818/5818 [==============================] - 2s 393us/step - loss: 0.2117 - acc: 0.7104 - val_loss: 0.2348 - val_acc: 0.6742\n",
      "Epoch 159/200\n",
      "5818/5818 [==============================] - 2s 378us/step - loss: 0.2088 - acc: 0.7143 - val_loss: 0.2346 - val_acc: 0.6770\n",
      "Epoch 160/200\n",
      "5818/5818 [==============================] - 2s 411us/step - loss: 0.2095 - acc: 0.7149 - val_loss: 0.2352 - val_acc: 0.6784\n",
      "Epoch 161/200\n",
      "5818/5818 [==============================] - 2s 385us/step - loss: 0.2111 - acc: 0.7154 - val_loss: 0.2358 - val_acc: 0.6715\n",
      "Epoch 162/200\n",
      "5818/5818 [==============================] - 2s 412us/step - loss: 0.2078 - acc: 0.7133 - val_loss: 0.2359 - val_acc: 0.6790\n",
      "Epoch 163/200\n",
      "5818/5818 [==============================] - 3s 430us/step - loss: 0.2095 - acc: 0.7164 - val_loss: 0.2363 - val_acc: 0.6729\n",
      "Epoch 164/200\n",
      "5818/5818 [==============================] - 2s 406us/step - loss: 0.2085 - acc: 0.7161 - val_loss: 0.2355 - val_acc: 0.6729\n",
      "Epoch 165/200\n",
      "5818/5818 [==============================] - 2s 385us/step - loss: 0.2101 - acc: 0.7088 - val_loss: 0.2352 - val_acc: 0.6742\n",
      "Epoch 166/200\n",
      "5818/5818 [==============================] - 2s 410us/step - loss: 0.2069 - acc: 0.7176 - val_loss: 0.2350 - val_acc: 0.6742\n",
      "Epoch 167/200\n",
      "5818/5818 [==============================] - 2s 378us/step - loss: 0.2061 - acc: 0.7173 - val_loss: 0.2347 - val_acc: 0.6777\n",
      "Epoch 168/200\n",
      "5818/5818 [==============================] - 2s 378us/step - loss: 0.2069 - acc: 0.7167 - val_loss: 0.2355 - val_acc: 0.6749\n",
      "Epoch 169/200\n",
      "5818/5818 [==============================] - 2s 385us/step - loss: 0.2083 - acc: 0.7205 - val_loss: 0.2359 - val_acc: 0.6687\n",
      "Epoch 170/200\n",
      "5818/5818 [==============================] - 2s 393us/step - loss: 0.2043 - acc: 0.7219 - val_loss: 0.2357 - val_acc: 0.6729\n",
      "Epoch 171/200\n",
      "5818/5818 [==============================] - 2s 408us/step - loss: 0.2065 - acc: 0.7185 - val_loss: 0.2357 - val_acc: 0.6777\n",
      "Epoch 172/200\n",
      "5818/5818 [==============================] - 3s 461us/step - loss: 0.2080 - acc: 0.7185 - val_loss: 0.2373 - val_acc: 0.6838\n",
      "Epoch 173/200\n",
      "5818/5818 [==============================] - 2s 415us/step - loss: 0.2083 - acc: 0.7204 - val_loss: 0.2345 - val_acc: 0.6770\n",
      "Epoch 174/200\n",
      "5818/5818 [==============================] - 2s 388us/step - loss: 0.2067 - acc: 0.7236 - val_loss: 0.2360 - val_acc: 0.6729\n",
      "Epoch 175/200\n",
      "5818/5818 [==============================] - 2s 399us/step - loss: 0.2049 - acc: 0.7250 - val_loss: 0.2352 - val_acc: 0.6804\n",
      "Epoch 176/200\n",
      "5818/5818 [==============================] - 2s 379us/step - loss: 0.2051 - acc: 0.7152 - val_loss: 0.2351 - val_acc: 0.6784\n",
      "Epoch 177/200\n",
      "5818/5818 [==============================] - 2s 389us/step - loss: 0.2060 - acc: 0.7217 - val_loss: 0.2343 - val_acc: 0.6770\n",
      "Epoch 178/200\n",
      "5818/5818 [==============================] - 2s 402us/step - loss: 0.2056 - acc: 0.7212 - val_loss: 0.2339 - val_acc: 0.6804\n",
      "Epoch 179/200\n",
      "5818/5818 [==============================] - 2s 400us/step - loss: 0.2044 - acc: 0.7259 - val_loss: 0.2357 - val_acc: 0.6756\n",
      "Epoch 180/200\n",
      "5818/5818 [==============================] - 2s 386us/step - loss: 0.2045 - acc: 0.7214 - val_loss: 0.2367 - val_acc: 0.6845\n",
      "Epoch 181/200\n",
      "5818/5818 [==============================] - 2s 418us/step - loss: 0.2061 - acc: 0.7178 - val_loss: 0.2354 - val_acc: 0.6804\n",
      "Epoch 182/200\n",
      "5818/5818 [==============================] - 2s 382us/step - loss: 0.2026 - acc: 0.7248 - val_loss: 0.2352 - val_acc: 0.6784\n",
      "Epoch 183/200\n",
      "5818/5818 [==============================] - 3s 440us/step - loss: 0.2042 - acc: 0.7190 - val_loss: 0.2347 - val_acc: 0.6832\n",
      "Epoch 184/200\n",
      "5818/5818 [==============================] - 2s 379us/step - loss: 0.2005 - acc: 0.7272 - val_loss: 0.2353 - val_acc: 0.6790\n",
      "Epoch 185/200\n",
      "5818/5818 [==============================] - 2s 384us/step - loss: 0.2032 - acc: 0.7245 - val_loss: 0.2359 - val_acc: 0.6804\n",
      "Epoch 186/200\n",
      "5818/5818 [==============================] - 2s 418us/step - loss: 0.2054 - acc: 0.7200 - val_loss: 0.2375 - val_acc: 0.6880\n",
      "Epoch 187/200\n",
      "5818/5818 [==============================] - 2s 400us/step - loss: 0.2049 - acc: 0.7253 - val_loss: 0.2360 - val_acc: 0.6729\n",
      "Epoch 188/200\n",
      "5818/5818 [==============================] - 2s 378us/step - loss: 0.2021 - acc: 0.7252 - val_loss: 0.2342 - val_acc: 0.6804\n",
      "Epoch 189/200\n",
      "5818/5818 [==============================] - 2s 405us/step - loss: 0.2055 - acc: 0.7214 - val_loss: 0.2349 - val_acc: 0.6797\n",
      "Epoch 190/200\n",
      "5818/5818 [==============================] - 2s 427us/step - loss: 0.2019 - acc: 0.7250 - val_loss: 0.2359 - val_acc: 0.6735\n",
      "Epoch 191/200\n",
      "5818/5818 [==============================] - 2s 429us/step - loss: 0.2050 - acc: 0.7248 - val_loss: 0.2357 - val_acc: 0.6784\n",
      "Epoch 192/200\n",
      "5818/5818 [==============================] - 2s 391us/step - loss: 0.2021 - acc: 0.7216 - val_loss: 0.2363 - val_acc: 0.6859\n",
      "Epoch 193/200\n",
      "5818/5818 [==============================] - 2s 380us/step - loss: 0.2037 - acc: 0.7222 - val_loss: 0.2354 - val_acc: 0.6777\n"
     ]
    }
   ],
   "source": [
    "history_4 = model_4.fit(X_train, y_train,\n",
    "                    validation_split = 0.2,\n",
    "                    callbacks=early_stopping, \n",
    "                    class_weight=class_weights,\n",
    "                    epochs=200, batch_size=600)"
   ]
  },
  {
   "cell_type": "code",
   "execution_count": 228,
   "metadata": {},
   "outputs": [
    {
     "data": {
      "image/png": "[encoded data removed]",
      "text/plain": [
       "<Figure size 576x396 with 1 Axes>"
      ]
     },
     "metadata": {},
     "output_type": "display_data"
    },
    {
     "data": {
      "image/png": "[encoded data removed]",
      "text/plain": [
       "<Figure size 576x396 with 1 Axes>"
      ]
     },
     "metadata": {},
     "output_type": "display_data"
    }
   ],
   "source": [
    "visualize_training_results(history_4)"
   ]
  },
  {
   "cell_type": "code",
   "execution_count": 229,
   "metadata": {},
   "outputs": [
    {
     "name": "stdout",
     "output_type": "stream",
     "text": [
      "Training Accuracy: 0.7459\n",
      "Testing Accuracy:  0.6954\n"
     ]
    }
   ],
   "source": [
    "# Find train and test accuracy\n",
    "loss, accuracy = model_4.evaluate(X_train, y_train, verbose=False)\n",
    "print(\"Training Accuracy: {:.4f}\".format(accuracy))\n",
    "loss, accuracy = model_4.evaluate(X_test, y_test, verbose=False)\n",
    "print(\"Testing Accuracy:  {:.4f}\".format(accuracy))"
   ]
  },
  {
   "cell_type": "markdown",
   "metadata": {},
   "source": [
    "### Testing other classification models"
   ]
  },
  {
   "cell_type": "markdown",
   "metadata": {},
   "source": [
    "Since our data contains tweets and not just words, we’ll have to figure out a way to use the word vectors from GloVe model to create vector representation for an entire tweet. There is a simple solution to this problem, we can simply take mean of all the word vectors present in the tweet. The length of the resultant vector will be the same, i.e. 50. We will repeat the same process for all the tweets in our data and obtain their vectors. Now we have 200 word2vec features for our data.\n",
    "\n",
    "We will use the below function to create a vector for each tweet by taking the average of the vectors of the words present in the tweet."
   ]
  },
  {
   "cell_type": "code",
   "execution_count": 138,
   "metadata": {},
   "outputs": [],
   "source": [
    "class GloVeVectorizer(object):\n",
    "    \n",
    "    def __init__(self, w2v):\n",
    "        # Takes in a dictionary of words and vectors as input\n",
    "        self.w2v = w2v\n",
    "        if len(w2v) == 0:\n",
    "            self.dimensions = 0\n",
    "        else:\n",
    "            self.dimensions = len(w2v[next(iter(embeddings_index))])\n",
    "    \n",
    "    # Note: Even though it doesn't do anything, it's required that this object implement a fit method or else\n",
    "    # it can't be used in a scikit-learn pipeline  \n",
    "    def fit(self, X, y):\n",
    "        return self\n",
    "            \n",
    "    def transform(self, X):\n",
    "        return np.array([\n",
    "            np.mean([self.w2v[w] for w in words if w in self.w2v]\n",
    "                   or [np.zeros(self.dimensions)], axis=0) for words in X])"
   ]
  },
  {
   "cell_type": "code",
   "execution_count": 80,
   "metadata": {},
   "outputs": [],
   "source": [
    "from sklearn.ensemble import RandomForestClassifier\n",
    "from sklearn.svm import SVC\n",
    "from sklearn.linear_model import LogisticRegression\n",
    "from sklearn.pipeline import Pipeline\n",
    "from sklearn.model_selection import cross_val_score\n",
    "\n",
    "rf =  Pipeline([('Random Forest', RandomForestClassifier(n_estimators=100, verbose=True))])\n",
    "svc = Pipeline([('Support Vector Machine', SVC())])\n",
    "lr = Pipeline([('Logistic Regression', LogisticRegression())])"
   ]
  },
  {
   "cell_type": "code",
   "execution_count": 81,
   "metadata": {},
   "outputs": [],
   "source": [
    "models = [('Random Forest', rf),\n",
    "          ('Support Vector Machine', svc),\n",
    "          ('Logistic Regression', lr)]"
   ]
  },
  {
   "cell_type": "code",
   "execution_count": 85,
   "metadata": {},
   "outputs": [
    {
     "name": "stderr",
     "output_type": "stream",
     "text": [
      "[Parallel(n_jobs=1)]: Using backend SequentialBackend with 1 concurrent workers.\n",
      "[Parallel(n_jobs=1)]: Done 100 out of 100 | elapsed:    1.3s finished\n",
      "[Parallel(n_jobs=1)]: Using backend SequentialBackend with 1 concurrent workers.\n",
      "[Parallel(n_jobs=1)]: Done 100 out of 100 | elapsed:    0.1s finished\n",
      "[Parallel(n_jobs=1)]: Using backend SequentialBackend with 1 concurrent workers.\n",
      "[Parallel(n_jobs=1)]: Done 100 out of 100 | elapsed:    1.1s finished\n",
      "[Parallel(n_jobs=1)]: Using backend SequentialBackend with 1 concurrent workers.\n",
      "[Parallel(n_jobs=1)]: Done 100 out of 100 | elapsed:    0.1s finished\n"
     ]
    }
   ],
   "source": [
    "# ⏰ This cell may take several minutes to run\n",
    "scores = [(name, cross_val_score(model, padded_data, target, cv=2).mean()) for name, model, in models]"
   ]
  },
  {
   "cell_type": "code",
   "execution_count": 86,
   "metadata": {},
   "outputs": [
    {
     "data": {
      "text/plain": [
       "[('Random Forest', 0.62384513858337),\n",
       " ('Support Vector Machine', 0.605917289925209),\n",
       " ('Logistic Regression', 0.6055873295204576)]"
      ]
     },
     "execution_count": 86,
     "metadata": {},
     "output_type": "execute_result"
    }
   ],
   "source": [
    "scores"
   ]
  },
  {
   "cell_type": "code",
   "execution_count": 91,
   "metadata": {},
   "outputs": [],
   "source": [
    "rf =  Pipeline([('Word2Vec Vectorizer', GloVeVectorizer(embeddings_index)),\n",
    "              ('Random Forest', RandomForestClassifier(n_estimators=100, verbose=True))])\n",
    "svc = Pipeline([('Word2Vec Vectorizer', GloVeVectorizer(embeddings_index)),\n",
    "                ('Support Vector Machine', SVC())])\n",
    "lr = Pipeline([('Word2Vec Vectorizer', GloVeVectorizer(embeddings_index)),\n",
    "              ('Logistic Regression', LogisticRegression())])"
   ]
  },
  {
   "cell_type": "code",
   "execution_count": 92,
   "metadata": {},
   "outputs": [],
   "source": [
    "models = [('Random Forest', rf),\n",
    "          ('Support Vector Machine', svc),\n",
    "          ('Logistic Regression', lr)]"
   ]
  },
  {
   "cell_type": "code",
   "execution_count": 93,
   "metadata": {},
   "outputs": [
    {
     "name": "stderr",
     "output_type": "stream",
     "text": [
      "[Parallel(n_jobs=1)]: Using backend SequentialBackend with 1 concurrent workers.\n",
      "[Parallel(n_jobs=1)]: Done 100 out of 100 | elapsed:    0.2s finished\n",
      "[Parallel(n_jobs=1)]: Using backend SequentialBackend with 1 concurrent workers.\n",
      "[Parallel(n_jobs=1)]: Done 100 out of 100 | elapsed:    0.0s finished\n",
      "[Parallel(n_jobs=1)]: Using backend SequentialBackend with 1 concurrent workers.\n",
      "[Parallel(n_jobs=1)]: Done 100 out of 100 | elapsed:    0.2s finished\n",
      "[Parallel(n_jobs=1)]: Using backend SequentialBackend with 1 concurrent workers.\n",
      "[Parallel(n_jobs=1)]: Done 100 out of 100 | elapsed:    0.0s finished\n"
     ]
    }
   ],
   "source": [
    "# ⏰ This cell may take several minutes to run\n",
    "scores = [(name, cross_val_score(model, padded_data, target, cv=2).mean()) for name, model, in models]"
   ]
  },
  {
   "cell_type": "code",
   "execution_count": 94,
   "metadata": {},
   "outputs": [
    {
     "data": {
      "text/plain": [
       "[('Random Forest', 0.6097668279806423),\n",
       " ('Support Vector Machine', 0.6097668279806423),\n",
       " ('Logistic Regression', 0.6097668279806423)]"
      ]
     },
     "execution_count": 94,
     "metadata": {},
     "output_type": "execute_result"
    }
   ],
   "source": [
    "scores"
   ]
  },
  {
   "cell_type": "markdown",
   "metadata": {},
   "source": [
    "### Make predictions"
   ]
  },
  {
   "cell_type": "code",
   "execution_count": 185,
   "metadata": {},
   "outputs": [
    {
     "data": {
      "text/plain": [
       "{0: 'Negative emotion', 1: 'Neutral emotion', 2: 'Positive emotion'}"
      ]
     },
     "execution_count": 185,
     "metadata": {},
     "output_type": "execute_result"
    }
   ],
   "source": [
    "label_names"
   ]
  },
  {
   "cell_type": "code",
   "execution_count": 187,
   "metadata": {},
   "outputs": [
    {
     "name": "stdout",
     "output_type": "stream",
     "text": [
      "[[0.04 0.47 0.49]] [ 2 ] Positive emotion\n"
     ]
    }
   ],
   "source": [
    "new_tweet = ['Your service is good']\n",
    "seq = t.texts_to_sequences(new_tweet)\n",
    "padded = pad_sequences(seq, maxlen=max_tweet_len)\n",
    "pred = lstm_mod3.predict(padded)\n",
    "print(pred, \"[\", np.argmax(pred), \"]\", label[np.argmax(pred)])"
   ]
  },
  {
   "cell_type": "code",
   "execution_count": 144,
   "metadata": {},
   "outputs": [
    {
     "name": "stdout",
     "output_type": "stream",
     "text": [
      "[[0.06434713 0.36554193 0.5701109 ]] [ 2 ] Positive emotion\n"
     ]
    }
   ],
   "source": [
    "new_tweet = ['I love iphone']\n",
    "seq = t.texts_to_sequences(new_tweet)\n",
    "padded = pad_sequences(seq, maxlen=max_tweet_len)\n",
    "pred = lstm_mod3.predict(padded)\n",
    "print(pred, \"[\", np.argmax(pred), \"]\", label[np.argmax(pred)])"
   ]
  },
  {
   "cell_type": "markdown",
   "metadata": {},
   "source": [
    "### Summary"
   ]
  },
  {
   "cell_type": "markdown",
   "metadata": {},
   "source": [
    "#### General Architecture\n",
    "The inputs for each of the following models are our training data which consists of 7,273 with 20% withheld for validation. Each one of these observations contains 50 “features” which correspond to each word in the tweet. Any 0’s indicate the absence of a word.\n",
    "\n",
    "Each model ends with a dense layer with 3 nodes, because we have 3 possible labels: positive, neutral, or negative. Because we one-hot encoded our labels, we use softmax for this multiclass classification problem to get a probability for each class. Additionally, we use accuracy as our metric, because this is a classification problem. When we use the predict method from Keras, we get a 3 element row vector for each input. Each element corresponds to a probability of one of the 3 labels. Therefore, the label with the highest probability is the predicted outcome.\n",
    "We compile each model with adam and categorical crossentropy.\n",
    "\n",
    "#### Incorporating the GloVe \n",
    "GloVe is defined to be an “unsupervised learning algorithm for obtaining vector representations for words”. Pre-trained word vectors data was downloaded from the Standford University website. The models specifically use the 50 -dimensional embeddings of 1.2M words from 2B tweets. This is represented in a txt file that was parsed to create an index that maps words to their vector representation. Using GloVe data improved the accuracy of the model about 3-4%.\n",
    "\n",
    "#### Best model\n",
    "All models perform quite well, however, Model 3 with two stacked LSTM layers, seems to have the best train/validation accuracy based on the training/validation results plot (history_3). \n",
    "\n",
    "All models have some difficulties with predicting negative emotions due to the class imbalance - small amount of negative labels in the original dataset. In order to mitigate the class imbalace, we passed the pass the class_wieght argument to the fit() functions. This improved the results and reduced overfitting.\n",
    "\n",
    "Other models performance was significatly lower than NN."
   ]
  },
  {
   "cell_type": "code",
   "execution_count": null,
   "metadata": {},
   "outputs": [],
   "source": [
    "#"
   ]
  }
 ],
 "metadata": {
  "kernelspec": {
   "display_name": "learn-env",
   "language": "python",
   "name": "learn-env"
  },
  "language_info": {
   "codemirror_mode": {
    "name": "ipython",
    "version": 3
   },
   "file_extension": ".py",
   "mimetype": "text/x-python",
   "name": "python",
   "nbconvert_exporter": "python",
   "pygments_lexer": "ipython3",
   "version": "3.6.9"
  }
 },
 "nbformat": 4,
 "nbformat_minor": 4
}
