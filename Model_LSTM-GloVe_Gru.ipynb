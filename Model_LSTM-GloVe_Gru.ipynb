{
 "cells": [
  {
   "cell_type": "markdown",
   "metadata": {},
   "source": [
    "### Import Necessary Dependencies"
   ]
  },
  {
   "cell_type": "code",
   "execution_count": 165,
   "metadata": {},
   "outputs": [
    {
     "name": "stderr",
     "output_type": "stream",
     "text": [
      "[nltk_data] Downloading package stopwords to /Users/Filip/nltk_data...\n",
      "[nltk_data]   Package stopwords is already up-to-date!\n",
      "[nltk_data] Downloading package punkt to /Users/Filip/nltk_data...\n",
      "[nltk_data]   Package punkt is already up-to-date!\n"
     ]
    }
   ],
   "source": [
    "#Import libraries\n",
    "import nltk\n",
    "nltk.download('stopwords')\n",
    "nltk.download('punkt')\n",
    "from nltk.corpus import stopwords\n",
    "from nltk import word_tokenize, FreqDist\n",
    "\n",
    "import string\n",
    "\n",
    "from sklearn.feature_extraction.text import TfidfVectorizer, CountVectorizer, TfidfTransformer\n",
    "from sklearn.pipeline import Pipeline\n",
    "from sklearn.metrics import accuracy_score\n",
    "from sklearn.datasets import fetch_20newsgroups\n",
    "from sklearn.ensemble import RandomForestClassifier\n",
    "from sklearn.naive_bayes import MultinomialNB\n",
    "from sklearn.model_selection import train_test_split\n",
    "from sklearn import preprocessing\n",
    "from sklearn.utils.multiclass import unique_labels\n",
    "\n",
    "\n",
    "import matplotlib.pyplot as plt\n",
    "import pandas as pd\n",
    "import numpy as np\n",
    "import seaborn as sns\n",
    "\n",
    "from keras.utils import to_categorical\n",
    "from keras.preprocessing.sequence import pad_sequences\n",
    "from keras.preprocessing.text import Tokenizer\n",
    "from keras import models\n",
    "from keras import layers\n",
    "from keras import optimizers\n",
    "from keras.layers import Dense, Dropout, Embedding, LSTM, GlobalMaxPooling1D, SpatialDropout1D\n",
    "\n",
    "import gensim\n",
    "from gensim.models import Word2Vec\n",
    "\n",
    "np.random.seed(0)\n",
    "\n",
    "%matplotlib inline\n",
    "plt.style.use('seaborn')\n",
    "\n",
    "import warnings\n",
    "warnings.filterwarnings('ignore')"
   ]
  },
  {
   "cell_type": "markdown",
   "metadata": {},
   "source": [
    "### Read and Load the Dataset"
   ]
  },
  {
   "cell_type": "code",
   "execution_count": 3,
   "metadata": {},
   "outputs": [
    {
     "data": {
      "text/html": [
       "<div>\n",
       "<style scoped>\n",
       "    .dataframe tbody tr th:only-of-type {\n",
       "        vertical-align: middle;\n",
       "    }\n",
       "\n",
       "    .dataframe tbody tr th {\n",
       "        vertical-align: top;\n",
       "    }\n",
       "\n",
       "    .dataframe thead th {\n",
       "        text-align: right;\n",
       "    }\n",
       "</style>\n",
       "<table border=\"1\" class=\"dataframe\">\n",
       "  <thead>\n",
       "    <tr style=\"text-align: right;\">\n",
       "      <th></th>\n",
       "      <th>tweet_text</th>\n",
       "      <th>emotion_in_tweet_is_directed_at</th>\n",
       "      <th>is_there_an_emotion_directed_at_a_brand_or_product</th>\n",
       "    </tr>\n",
       "  </thead>\n",
       "  <tbody>\n",
       "    <tr>\n",
       "      <th>0</th>\n",
       "      <td>.@wesley83 I have a 3G iPhone. After 3 hrs twe...</td>\n",
       "      <td>iPhone</td>\n",
       "      <td>Negative emotion</td>\n",
       "    </tr>\n",
       "    <tr>\n",
       "      <th>1</th>\n",
       "      <td>@jessedee Know about @fludapp ? Awesome iPad/i...</td>\n",
       "      <td>iPad or iPhone App</td>\n",
       "      <td>Positive emotion</td>\n",
       "    </tr>\n",
       "    <tr>\n",
       "      <th>2</th>\n",
       "      <td>@swonderlin Can not wait for #iPad 2 also. The...</td>\n",
       "      <td>iPad</td>\n",
       "      <td>Positive emotion</td>\n",
       "    </tr>\n",
       "    <tr>\n",
       "      <th>3</th>\n",
       "      <td>@sxsw I hope this year's festival isn't as cra...</td>\n",
       "      <td>iPad or iPhone App</td>\n",
       "      <td>Negative emotion</td>\n",
       "    </tr>\n",
       "    <tr>\n",
       "      <th>4</th>\n",
       "      <td>@sxtxstate great stuff on Fri #SXSW: Marissa M...</td>\n",
       "      <td>Google</td>\n",
       "      <td>Positive emotion</td>\n",
       "    </tr>\n",
       "  </tbody>\n",
       "</table>\n",
       "</div>"
      ],
      "text/plain": [
       "                                          tweet_text  \\\n",
       "0  .@wesley83 I have a 3G iPhone. After 3 hrs twe...   \n",
       "1  @jessedee Know about @fludapp ? Awesome iPad/i...   \n",
       "2  @swonderlin Can not wait for #iPad 2 also. The...   \n",
       "3  @sxsw I hope this year's festival isn't as cra...   \n",
       "4  @sxtxstate great stuff on Fri #SXSW: Marissa M...   \n",
       "\n",
       "  emotion_in_tweet_is_directed_at  \\\n",
       "0                          iPhone   \n",
       "1              iPad or iPhone App   \n",
       "2                            iPad   \n",
       "3              iPad or iPhone App   \n",
       "4                          Google   \n",
       "\n",
       "  is_there_an_emotion_directed_at_a_brand_or_product  \n",
       "0                                   Negative emotion  \n",
       "1                                   Positive emotion  \n",
       "2                                   Positive emotion  \n",
       "3                                   Negative emotion  \n",
       "4                                   Positive emotion  "
      ]
     },
     "execution_count": 3,
     "metadata": {},
     "output_type": "execute_result"
    }
   ],
   "source": [
    "# Upload datasets\n",
    "df = pd.read_csv('tweet_product_company.csv', encoding = 'unicode_escape')\n",
    "df.head()"
   ]
  },
  {
   "cell_type": "markdown",
   "metadata": {},
   "source": [
    "### Exploratory Data Analysis"
   ]
  },
  {
   "cell_type": "code",
   "execution_count": 4,
   "metadata": {},
   "outputs": [
    {
     "name": "stdout",
     "output_type": "stream",
     "text": [
      "<class 'pandas.core.frame.DataFrame'>\n",
      "RangeIndex: 9093 entries, 0 to 9092\n",
      "Data columns (total 3 columns):\n",
      " #   Column                                              Non-Null Count  Dtype \n",
      "---  ------                                              --------------  ----- \n",
      " 0   tweet_text                                          9092 non-null   object\n",
      " 1   emotion_in_tweet_is_directed_at                     3291 non-null   object\n",
      " 2   is_there_an_emotion_directed_at_a_brand_or_product  9093 non-null   object\n",
      "dtypes: object(3)\n",
      "memory usage: 213.2+ KB\n"
     ]
    }
   ],
   "source": [
    "df.info()"
   ]
  },
  {
   "cell_type": "code",
   "execution_count": 5,
   "metadata": {},
   "outputs": [
    {
     "data": {
      "text/plain": [
       "10"
      ]
     },
     "execution_count": 5,
     "metadata": {},
     "output_type": "execute_result"
    }
   ],
   "source": [
    "len(df.emotion_in_tweet_is_directed_at.unique())"
   ]
  },
  {
   "cell_type": "code",
   "execution_count": 6,
   "metadata": {},
   "outputs": [
    {
     "data": {
      "text/html": [
       "<div>\n",
       "<style scoped>\n",
       "    .dataframe tbody tr th:only-of-type {\n",
       "        vertical-align: middle;\n",
       "    }\n",
       "\n",
       "    .dataframe tbody tr th {\n",
       "        vertical-align: top;\n",
       "    }\n",
       "\n",
       "    .dataframe thead th {\n",
       "        text-align: right;\n",
       "    }\n",
       "</style>\n",
       "<table border=\"1\" class=\"dataframe\">\n",
       "  <thead>\n",
       "    <tr style=\"text-align: right;\">\n",
       "      <th></th>\n",
       "      <th>tweet_text</th>\n",
       "      <th>product</th>\n",
       "      <th>label</th>\n",
       "    </tr>\n",
       "  </thead>\n",
       "  <tbody>\n",
       "    <tr>\n",
       "      <th>0</th>\n",
       "      <td>.@wesley83 I have a 3G iPhone. After 3 hrs twe...</td>\n",
       "      <td>iPhone</td>\n",
       "      <td>Negative emotion</td>\n",
       "    </tr>\n",
       "    <tr>\n",
       "      <th>1</th>\n",
       "      <td>@jessedee Know about @fludapp ? Awesome iPad/i...</td>\n",
       "      <td>iPad or iPhone App</td>\n",
       "      <td>Positive emotion</td>\n",
       "    </tr>\n",
       "    <tr>\n",
       "      <th>2</th>\n",
       "      <td>@swonderlin Can not wait for #iPad 2 also. The...</td>\n",
       "      <td>iPad</td>\n",
       "      <td>Positive emotion</td>\n",
       "    </tr>\n",
       "    <tr>\n",
       "      <th>3</th>\n",
       "      <td>@sxsw I hope this year's festival isn't as cra...</td>\n",
       "      <td>iPad or iPhone App</td>\n",
       "      <td>Negative emotion</td>\n",
       "    </tr>\n",
       "    <tr>\n",
       "      <th>4</th>\n",
       "      <td>@sxtxstate great stuff on Fri #SXSW: Marissa M...</td>\n",
       "      <td>Google</td>\n",
       "      <td>Positive emotion</td>\n",
       "    </tr>\n",
       "  </tbody>\n",
       "</table>\n",
       "</div>"
      ],
      "text/plain": [
       "                                          tweet_text             product  \\\n",
       "0  .@wesley83 I have a 3G iPhone. After 3 hrs twe...              iPhone   \n",
       "1  @jessedee Know about @fludapp ? Awesome iPad/i...  iPad or iPhone App   \n",
       "2  @swonderlin Can not wait for #iPad 2 also. The...                iPad   \n",
       "3  @sxsw I hope this year's festival isn't as cra...  iPad or iPhone App   \n",
       "4  @sxtxstate great stuff on Fri #SXSW: Marissa M...              Google   \n",
       "\n",
       "              label  \n",
       "0  Negative emotion  \n",
       "1  Positive emotion  \n",
       "2  Positive emotion  \n",
       "3  Negative emotion  \n",
       "4  Positive emotion  "
      ]
     },
     "execution_count": 6,
     "metadata": {},
     "output_type": "execute_result"
    }
   ],
   "source": [
    "df.columns = ['tweet_text', 'product', 'label']\n",
    "df.head()"
   ]
  },
  {
   "cell_type": "code",
   "execution_count": 7,
   "metadata": {},
   "outputs": [
    {
     "name": "stdout",
     "output_type": "stream",
     "text": [
      "Column:  product\n",
      "Unique values count: 10\n",
      "Values:  ['iPhone' 'iPad or iPhone App' 'iPad' 'Google' nan 'Android' 'Apple'\n",
      " 'Android App' 'Other Google product or service'\n",
      " 'Other Apple product or service']\n",
      "----------------\n",
      "Column:  label\n",
      "Unique values count: 4\n",
      "Values:  ['Negative emotion' 'Positive emotion'\n",
      " 'No emotion toward brand or product' \"I can't tell\"]\n",
      "----------------\n"
     ]
    }
   ],
   "source": [
    "for column in df.columns[1:]:\n",
    "    print('Column: ', column)\n",
    "    print('Unique values count:', len(df[column].unique()))\n",
    "    print('Values: ', df[column].unique())\n",
    "    print('----------------')"
   ]
  },
  {
   "cell_type": "markdown",
   "metadata": {},
   "source": [
    "Combine labels \"I can't tell\" and 'No emotion toward brand or product' to one category \"Neutral emotion\""
   ]
  },
  {
   "cell_type": "code",
   "execution_count": 8,
   "metadata": {},
   "outputs": [],
   "source": [
    "df['label'][df['label'] == \"I can't tell\"] = 'Neutral emotion'\n",
    "df['label'][df['label'] == 'No emotion toward brand or product'] = 'Neutral emotion'"
   ]
  },
  {
   "cell_type": "code",
   "execution_count": 9,
   "metadata": {},
   "outputs": [
    {
     "name": "stdout",
     "output_type": "stream",
     "text": [
      "Column:  product\n",
      "Unique values count: 10\n",
      "Values:  ['iPhone' 'iPad or iPhone App' 'iPad' 'Google' nan 'Android' 'Apple'\n",
      " 'Android App' 'Other Google product or service'\n",
      " 'Other Apple product or service']\n",
      "----------------\n",
      "Column:  label\n",
      "Unique values count: 3\n",
      "Values:  ['Negative emotion' 'Positive emotion' 'Neutral emotion']\n",
      "----------------\n"
     ]
    }
   ],
   "source": [
    "for column in df.columns[1:]:\n",
    "    print('Column: ', column)\n",
    "    print('Unique values count:', len(df[column].unique()))\n",
    "    print('Values: ', df[column].unique())\n",
    "    print('----------------')"
   ]
  },
  {
   "cell_type": "code",
   "execution_count": 10,
   "metadata": {},
   "outputs": [
    {
     "data": {
      "text/html": [
       "<div>\n",
       "<style scoped>\n",
       "    .dataframe tbody tr th:only-of-type {\n",
       "        vertical-align: middle;\n",
       "    }\n",
       "\n",
       "    .dataframe tbody tr th {\n",
       "        vertical-align: top;\n",
       "    }\n",
       "\n",
       "    .dataframe thead th {\n",
       "        text-align: right;\n",
       "    }\n",
       "</style>\n",
       "<table border=\"1\" class=\"dataframe\">\n",
       "  <thead>\n",
       "    <tr style=\"text-align: right;\">\n",
       "      <th></th>\n",
       "      <th>NaN count</th>\n",
       "      <th>Zero values count</th>\n",
       "      <th>Unique_val count</th>\n",
       "      <th>Data type</th>\n",
       "    </tr>\n",
       "  </thead>\n",
       "  <tbody>\n",
       "    <tr>\n",
       "      <th>product</th>\n",
       "      <td>5802</td>\n",
       "      <td>0</td>\n",
       "      <td>9</td>\n",
       "      <td>object</td>\n",
       "    </tr>\n",
       "    <tr>\n",
       "      <th>tweet_text</th>\n",
       "      <td>1</td>\n",
       "      <td>0</td>\n",
       "      <td>9065</td>\n",
       "      <td>object</td>\n",
       "    </tr>\n",
       "    <tr>\n",
       "      <th>label</th>\n",
       "      <td>0</td>\n",
       "      <td>0</td>\n",
       "      <td>3</td>\n",
       "      <td>object</td>\n",
       "    </tr>\n",
       "  </tbody>\n",
       "</table>\n",
       "</div>"
      ],
      "text/plain": [
       "            NaN count  Zero values count  Unique_val count Data type\n",
       "product          5802                  0                 9    object\n",
       "tweet_text          1                  0              9065    object\n",
       "label               0                  0                 3    object"
      ]
     },
     "execution_count": 10,
     "metadata": {},
     "output_type": "execute_result"
    }
   ],
   "source": [
    "# Create summary of Nan and unique values counts and data types\n",
    "X_info = pd.DataFrame(df.isna().sum(), columns=['NaN count'])\n",
    "\n",
    "unique_val = []\n",
    "types_val = []\n",
    "zero_val = []\n",
    "\n",
    "for column in df.columns:\n",
    "    unique = df[column].nunique()\n",
    "    types = str(df[column].dtype)\n",
    "    zeros = len(df[df[column]==0])\n",
    "    \n",
    "    unique_val.append(unique)\n",
    "    types_val.append(types)\n",
    "    zero_val.append(zeros)\n",
    "\n",
    "X_info['Zero values count'] = zero_val\n",
    "X_info['Unique_val count'] = unique_val\n",
    "X_info['Data type'] = types_val\n",
    "\n",
    "X_info.sort_values(by=['NaN count', 'Zero values count'], ascending=False)"
   ]
  },
  {
   "cell_type": "markdown",
   "metadata": {},
   "source": [
    "### Data Visualization of Target Variables"
   ]
  },
  {
   "cell_type": "code",
   "execution_count": 168,
   "metadata": {},
   "outputs": [
    {
     "data": {
      "image/png": "[encoded data removed]",
      "text/plain": [
       "<Figure size 576x396 with 1 Axes>"
      ]
     },
     "metadata": {},
     "output_type": "display_data"
    }
   ],
   "source": [
    "ax = sns.countplot(x='label', data=df)\n",
    "ax.tick_params(axis='x', rotation=90)"
   ]
  },
  {
   "cell_type": "code",
   "execution_count": 12,
   "metadata": {},
   "outputs": [
    {
     "data": {
      "text/plain": [
       "Neutral emotion     0.609810\n",
       "Positive emotion    0.327505\n",
       "Negative emotion    0.062686\n",
       "Name: label, dtype: float64"
      ]
     },
     "execution_count": 12,
     "metadata": {},
     "output_type": "execute_result"
    }
   ],
   "source": [
    "df['label'].value_counts(normalize=True)"
   ]
  },
  {
   "cell_type": "code",
   "execution_count": 13,
   "metadata": {},
   "outputs": [
    {
     "data": {
      "text/html": [
       "<div>\n",
       "<style scoped>\n",
       "    .dataframe tbody tr th:only-of-type {\n",
       "        vertical-align: middle;\n",
       "    }\n",
       "\n",
       "    .dataframe tbody tr th {\n",
       "        vertical-align: top;\n",
       "    }\n",
       "\n",
       "    .dataframe thead th {\n",
       "        text-align: right;\n",
       "    }\n",
       "</style>\n",
       "<table border=\"1\" class=\"dataframe\">\n",
       "  <thead>\n",
       "    <tr style=\"text-align: right;\">\n",
       "      <th></th>\n",
       "      <th>tweet_text</th>\n",
       "      <th>label</th>\n",
       "    </tr>\n",
       "    <tr>\n",
       "      <th>product</th>\n",
       "      <th></th>\n",
       "      <th></th>\n",
       "    </tr>\n",
       "  </thead>\n",
       "  <tbody>\n",
       "    <tr>\n",
       "      <th>Android</th>\n",
       "      <td>78</td>\n",
       "      <td>78</td>\n",
       "    </tr>\n",
       "    <tr>\n",
       "      <th>Android App</th>\n",
       "      <td>81</td>\n",
       "      <td>81</td>\n",
       "    </tr>\n",
       "    <tr>\n",
       "      <th>Apple</th>\n",
       "      <td>661</td>\n",
       "      <td>661</td>\n",
       "    </tr>\n",
       "    <tr>\n",
       "      <th>Google</th>\n",
       "      <td>430</td>\n",
       "      <td>430</td>\n",
       "    </tr>\n",
       "    <tr>\n",
       "      <th>Other Apple product or service</th>\n",
       "      <td>35</td>\n",
       "      <td>35</td>\n",
       "    </tr>\n",
       "    <tr>\n",
       "      <th>Other Google product or service</th>\n",
       "      <td>293</td>\n",
       "      <td>293</td>\n",
       "    </tr>\n",
       "    <tr>\n",
       "      <th>iPad</th>\n",
       "      <td>946</td>\n",
       "      <td>946</td>\n",
       "    </tr>\n",
       "    <tr>\n",
       "      <th>iPad or iPhone App</th>\n",
       "      <td>470</td>\n",
       "      <td>470</td>\n",
       "    </tr>\n",
       "    <tr>\n",
       "      <th>iPhone</th>\n",
       "      <td>297</td>\n",
       "      <td>297</td>\n",
       "    </tr>\n",
       "  </tbody>\n",
       "</table>\n",
       "</div>"
      ],
      "text/plain": [
       "                                 tweet_text  label\n",
       "product                                           \n",
       "Android                                  78     78\n",
       "Android App                              81     81\n",
       "Apple                                   661    661\n",
       "Google                                  430    430\n",
       "Other Apple product or service           35     35\n",
       "Other Google product or service         293    293\n",
       "iPad                                    946    946\n",
       "iPad or iPhone App                      470    470\n",
       "iPhone                                  297    297"
      ]
     },
     "execution_count": 13,
     "metadata": {},
     "output_type": "execute_result"
    }
   ],
   "source": [
    "df.groupby(by=['product']).count()"
   ]
  },
  {
   "cell_type": "markdown",
   "metadata": {},
   "source": [
    "### Cleaning and Preprocessing Data"
   ]
  },
  {
   "cell_type": "code",
   "execution_count": 14,
   "metadata": {},
   "outputs": [],
   "source": [
    "df.dropna(subset=['tweet_text'], axis='rows', inplace=True)"
   ]
  },
  {
   "cell_type": "markdown",
   "metadata": {},
   "source": [
    "#### Break apart the data and the labels, and then inspect the class names"
   ]
  },
  {
   "cell_type": "code",
   "execution_count": 15,
   "metadata": {},
   "outputs": [],
   "source": [
    "data = df.drop(columns=['label','product'])\n",
    "target = df.drop(columns=['tweet_text','product'])"
   ]
  },
  {
   "cell_type": "code",
   "execution_count": 16,
   "metadata": {},
   "outputs": [],
   "source": [
    "#change type of column\n",
    "target['label'] = pd.Categorical(target['label'])"
   ]
  },
  {
   "cell_type": "code",
   "execution_count": 17,
   "metadata": {},
   "outputs": [],
   "source": [
    "target['label'] = target['label'].cat.codes"
   ]
  },
  {
   "cell_type": "code",
   "execution_count": 18,
   "metadata": {},
   "outputs": [
    {
     "data": {
      "text/plain": [
       "[0, 2, 1]"
      ]
     },
     "execution_count": 18,
     "metadata": {},
     "output_type": "execute_result"
    }
   ],
   "source": [
    "label_names = list(target['label'].unique())\n",
    "label_names"
   ]
  },
  {
   "cell_type": "code",
   "execution_count": 24,
   "metadata": {},
   "outputs": [],
   "source": [
    "# #### Getting a list of all of the english stopwords, and concatenating \n",
    "# them with a list of all the punctuation.\n",
    "stopwords_list = stopwords.words('english') + list(string.punctuation)\n",
    "stopwords_list += [\"''\", '\"\"', '...', '``']"
   ]
  },
  {
   "cell_type": "code",
   "execution_count": 25,
   "metadata": {},
   "outputs": [],
   "source": [
    "def process_tweet(tweet):\n",
    "    tokens = nltk.word_tokenize(tweet)\n",
    "    stopwords_removed = [token.lower() for token in tokens if token.lower() not in stopwords_list]\n",
    "    return stopwords_removed"
   ]
  },
  {
   "cell_type": "markdown",
   "metadata": {},
   "source": [
    "#### Check tweet lenghts distrubution and max value"
   ]
  },
  {
   "cell_type": "code",
   "execution_count": 29,
   "metadata": {},
   "outputs": [],
   "source": [
    "# Convert training data into tensors to feed into neural net\n",
    "# create tokenizer\n",
    "t = Tokenizer()\n",
    "t.fit_on_texts(data['tweet_text'])"
   ]
  },
  {
   "cell_type": "code",
   "execution_count": 30,
   "metadata": {},
   "outputs": [],
   "source": [
    "# Find number of unique words in our tweets\n",
    "vocab_size = len(t.word_index) + 1"
   ]
  },
  {
   "cell_type": "code",
   "execution_count": 31,
   "metadata": {},
   "outputs": [],
   "source": [
    "# integer encode everything\n",
    "sequences = t.texts_to_sequences(data['tweet_text'])"
   ]
  },
  {
   "cell_type": "code",
   "execution_count": 32,
   "metadata": {},
   "outputs": [],
   "source": [
    "# Find longest tweet in sequences\n",
    "def max_tweet():\n",
    "    for i in range(1, len(sequences)):\n",
    "        max_length = len(sequences[0])\n",
    "        if len(sequences[i]) > max_length:\n",
    "            max_length = len(sequences[i])\n",
    "    return max_length"
   ]
  },
  {
   "cell_type": "code",
   "execution_count": 33,
   "metadata": {},
   "outputs": [
    {
     "data": {
      "text/plain": [
       "24"
      ]
     },
     "execution_count": 33,
     "metadata": {},
     "output_type": "execute_result"
    }
   ],
   "source": [
    "max_tweet_len = max_tweet()\n",
    "max_tweet_len"
   ]
  },
  {
   "cell_type": "code",
   "execution_count": 34,
   "metadata": {},
   "outputs": [],
   "source": [
    "#Truncate and pad input sequences to be all the same lenght vectors\n",
    "padded_data = pad_sequences(sequences, maxlen=max_tweet_len)"
   ]
  },
  {
   "cell_type": "code",
   "execution_count": 35,
   "metadata": {},
   "outputs": [
    {
     "data": {
      "text/plain": [
       "array([[5869,   23,   51, ..., 3955,    6,    1],\n",
       "       [   0,    0, 5870, ..., 3956,    6,    1],\n",
       "       [   0,    0,    0, ...,  208,    6,    1],\n",
       "       ...,\n",
       "       [   0,    0,  110, ...,   16,    1, 2452],\n",
       "       [   0,  157,  687, ...,  143, 2546,    1],\n",
       "       [   0,    0,    0, ...,    6,    1,    4]], dtype=int32)"
      ]
     },
     "execution_count": 35,
     "metadata": {},
     "output_type": "execute_result"
    }
   ],
   "source": [
    "padded_data"
   ]
  },
  {
   "cell_type": "code",
   "execution_count": 155,
   "metadata": {},
   "outputs": [],
   "source": [
    "X_train, X_test, y_train, y_test = train_test_split(padded_data, target, test_size = 0.2, random_state = 0)"
   ]
  },
  {
   "cell_type": "code",
   "execution_count": 156,
   "metadata": {},
   "outputs": [],
   "source": [
    "y_train = to_categorical(y_train)\n",
    "y_test = to_categorical(y_test)"
   ]
  },
  {
   "cell_type": "code",
   "execution_count": 157,
   "metadata": {},
   "outputs": [
    {
     "name": "stdout",
     "output_type": "stream",
     "text": [
      "X_train size: (7273, 24)\n",
      "y_train size: (7273, 3)\n",
      "X_test size: (1819, 24)\n",
      "y_test size: (1819, 3)\n"
     ]
    }
   ],
   "source": [
    "# Size of train and test datasets\n",
    "print('X_train size:', X_train.shape)\n",
    "print('y_train size:', y_train.shape)\n",
    "print('X_test size:', X_test.shape)\n",
    "print('y_test size:', y_test.shape)"
   ]
  },
  {
   "cell_type": "markdown",
   "metadata": {},
   "source": [
    "### Pre-trained word embedding"
   ]
  },
  {
   "cell_type": "code",
   "execution_count": null,
   "metadata": {},
   "outputs": [],
   "source": [
    "# load the whole embedding into memory\n",
    "# https://machinelearningmastery.com/use-word-embedding-layers-deep-learning-keras/\n",
    "# 50 dimensional version (embedding dimension)\n",
    "embeddings_index = dict()\n",
    "f = open('glove/glove.twitter.27B.50d.txt')\n",
    "for line in f:\n",
    "    values = line.split()\n",
    "    word = values[0]\n",
    "    coefs = np.asarray(values[1:], dtype='float32')\n",
    "    embeddings_index[word] = coefs\n",
    "f.close()\n",
    "print('Loaded %s word vectors.' % len(embeddings_index))"
   ]
  },
  {
   "cell_type": "code",
   "execution_count": 59,
   "metadata": {},
   "outputs": [],
   "source": [
    "import pickle\n",
    "\n",
    "# with open('embeddings_index.pickle', 'wb') as handle:\n",
    "#     pickle.dump(embeddings_index, handle, protocol=pickle.HIGHEST_PROTOCOL)\n",
    "\n",
    "with open('embeddings_index.pickle', 'rb') as handle:\n",
    "    embeddings_index = pickle.load(handle)"
   ]
  },
  {
   "cell_type": "code",
   "execution_count": 41,
   "metadata": {},
   "outputs": [],
   "source": [
    "###### Because we're using GloVE, need to create a word embedding/word context matrix\n",
    "# Create a matrix of weights for words in the training set\n",
    "# One embedding for each word in the training set\n",
    "\n",
    "# Get all unique words in our training set: Tokenizer index\n",
    "# Find the corresponding weight vector in GloVe embedding\n",
    "\n",
    "# Define size of embedding matrix: number of unique words x embedding dim (100)\n",
    "embedding_matrix = np.zeros((vocab_size, 50))\n",
    "\n",
    "# fill in matrix\n",
    "for word, i in t.word_index.items():  # dictionary\n",
    "    embedding_vector = embeddings_index.get(word) # gets embedded vector of word from GloVe\n",
    "    if embedding_vector is not None:\n",
    "        # add to matrix\n",
    "        embedding_matrix[i] = embedding_vector # each row of matrix"
   ]
  },
  {
   "cell_type": "code",
   "execution_count": 42,
   "metadata": {},
   "outputs": [
    {
     "data": {
      "text/plain": [
       "array([[ 0.        ,  0.        ,  0.        , ...,  0.        ,\n",
       "         0.        ,  0.        ],\n",
       "       [ 0.32527   ,  1.20930004,  0.15962   , ..., -1.10020006,\n",
       "        -0.91891003,  0.48025   ],\n",
       "       [ 1.21739995,  1.01839995, -0.60869998, ..., -0.88479   ,\n",
       "         0.58089   , -0.09434   ],\n",
       "       ...,\n",
       "       [ 0.        ,  0.        ,  0.        , ...,  0.        ,\n",
       "         0.        ,  0.        ],\n",
       "       [ 0.        ,  0.        ,  0.        , ...,  0.        ,\n",
       "         0.        ,  0.        ],\n",
       "       [ 0.        ,  0.        ,  0.        , ...,  0.        ,\n",
       "         0.        ,  0.        ]])"
      ]
     },
     "execution_count": 42,
     "metadata": {},
     "output_type": "execute_result"
    }
   ],
   "source": [
    "embedding_matrix"
   ]
  },
  {
   "cell_type": "code",
   "execution_count": 43,
   "metadata": {},
   "outputs": [],
   "source": [
    "# input is vocab_size, output is 50\n",
    "# weights from embedding matrix, set trainable = False\n",
    "tweet_num = max_tweet_len\n",
    "embedding_layer = Embedding(input_dim=vocab_size, output_dim=50, weights=[embedding_matrix],\n",
    "                           input_length = tweet_num, trainable=False)"
   ]
  },
  {
   "cell_type": "markdown",
   "metadata": {},
   "source": [
    "### Build Neural Net"
   ]
  },
  {
   "cell_type": "code",
   "execution_count": 44,
   "metadata": {},
   "outputs": [],
   "source": [
    "from keras.models import Sequential\n",
    "from keras.layers import Dense\n",
    "from keras.layers import Flatten\n",
    "from keras.layers import LSTM\n",
    "from keras.layers import GRU\n",
    "from keras.layers import BatchNormalization"
   ]
  },
  {
   "cell_type": "code",
   "execution_count": 48,
   "metadata": {},
   "outputs": [],
   "source": [
    "def visualize_training_results(results):\n",
    "    history = results.history\n",
    "    plt.figure()\n",
    "    plt.plot(history['val_loss'])\n",
    "    plt.plot(history['loss'])\n",
    "    plt.legend(['val_loss', 'loss'])\n",
    "    plt.title('Loss')\n",
    "    plt.xlabel('Epochs')\n",
    "    plt.ylabel('Loss')\n",
    "    plt.show()\n",
    "    \n",
    "    plt.figure()\n",
    "    plt.plot(history['val_acc'])\n",
    "    plt.plot(history['acc'])\n",
    "    plt.legend(['val_acc', 'acc'])\n",
    "    plt.title('Accuracy')\n",
    "    plt.xlabel('Epochs')\n",
    "    plt.ylabel('Accuracy')\n",
    "    plt.show()"
   ]
  },
  {
   "cell_type": "markdown",
   "metadata": {},
   "source": [
    "#### Model 1: Simple LSTM Model with regularization, increase dimensionality"
   ]
  },
  {
   "cell_type": "code",
   "execution_count": 780,
   "metadata": {},
   "outputs": [
    {
     "name": "stdout",
     "output_type": "stream",
     "text": [
      "_________________________________________________________________\n",
      "Layer (type)                 Output Shape              Param #   \n",
      "=================================================================\n",
      "embedding_10 (Embedding)     (None, 24, 50)            507400    \n",
      "_________________________________________________________________\n",
      "lstm_57 (LSTM)               (None, 256)               314368    \n",
      "_________________________________________________________________\n",
      "dense_102 (Dense)            (None, 3)                 771       \n",
      "=================================================================\n",
      "Total params: 822,539\n",
      "Trainable params: 315,139\n",
      "Non-trainable params: 507,400\n",
      "_________________________________________________________________\n"
     ]
    }
   ],
   "source": [
    "lstm_mod1 = Sequential()\n",
    "lstm_mod1.add(embedding_layer)\n",
    "lstm_mod1.add(LSTM(256, \n",
    "               dropout = 0.2, \n",
    "               recurrent_dropout = 0.5))\n",
    "lstm_mod1.add(Dense(3, activation='softmax'))\n",
    "lstm_mod1.compile(optimizer='adam', loss='categorical_crossentropy', metrics=['acc'])\n",
    "lstm_mod1.summary()"
   ]
  },
  {
   "cell_type": "code",
   "execution_count": 785,
   "metadata": {
    "collapsed": true,
    "jupyter": {
     "outputs_hidden": true
    }
   },
   "outputs": [
    {
     "name": "stdout",
     "output_type": "stream",
     "text": [
      "Train on 5818 samples, validate on 1455 samples\n",
      "Epoch 1/100\n",
      "5818/5818 [==============================] - 19s 3ms/step - loss: 0.8725 - acc: 0.5911 - val_loss: 0.8182 - val_acc: 0.6076\n",
      "Epoch 2/100\n",
      "5818/5818 [==============================] - 10s 2ms/step - loss: 0.8123 - acc: 0.6136 - val_loss: 0.7991 - val_acc: 0.6076\n",
      "Epoch 3/100\n",
      "5818/5818 [==============================] - 12s 2ms/step - loss: 0.7942 - acc: 0.6234 - val_loss: 0.7913 - val_acc: 0.6110\n",
      "Epoch 4/100\n",
      "5818/5818 [==============================] - 11s 2ms/step - loss: 0.7827 - acc: 0.6299 - val_loss: 0.7793 - val_acc: 0.6316\n",
      "Epoch 5/100\n",
      "5818/5818 [==============================] - 9s 2ms/step - loss: 0.7716 - acc: 0.6250 - val_loss: 0.7685 - val_acc: 0.6296\n",
      "Epoch 6/100\n",
      "5818/5818 [==============================] - 10s 2ms/step - loss: 0.7691 - acc: 0.6341 - val_loss: 0.7848 - val_acc: 0.6110\n",
      "Epoch 7/100\n",
      "5818/5818 [==============================] - 9s 2ms/step - loss: 0.7657 - acc: 0.6365 - val_loss: 0.7746 - val_acc: 0.6179\n",
      "Epoch 8/100\n",
      "5818/5818 [==============================] - 10s 2ms/step - loss: 0.7516 - acc: 0.6432 - val_loss: 0.7606 - val_acc: 0.6426\n",
      "Epoch 9/100\n",
      "5818/5818 [==============================] - 9s 2ms/step - loss: 0.7485 - acc: 0.6430 - val_loss: 0.7596 - val_acc: 0.6495\n",
      "Epoch 10/100\n",
      "5818/5818 [==============================] - 9s 2ms/step - loss: 0.7508 - acc: 0.6487 - val_loss: 0.7575 - val_acc: 0.6419\n",
      "Epoch 11/100\n",
      "5818/5818 [==============================] - 10s 2ms/step - loss: 0.7462 - acc: 0.6497 - val_loss: 0.7622 - val_acc: 0.6296\n",
      "Epoch 12/100\n",
      "5818/5818 [==============================] - 9s 2ms/step - loss: 0.7456 - acc: 0.6451 - val_loss: 0.7558 - val_acc: 0.6543\n",
      "Epoch 13/100\n",
      "5818/5818 [==============================] - 9s 2ms/step - loss: 0.7393 - acc: 0.6459 - val_loss: 0.7544 - val_acc: 0.6474\n",
      "Epoch 14/100\n",
      "5818/5818 [==============================] - 9s 2ms/step - loss: 0.7313 - acc: 0.6590 - val_loss: 0.7525 - val_acc: 0.6412\n",
      "Epoch 15/100\n",
      "5818/5818 [==============================] - 9s 2ms/step - loss: 0.7227 - acc: 0.6650 - val_loss: 0.7530 - val_acc: 0.6392\n",
      "Epoch 16/100\n",
      "5818/5818 [==============================] - 10s 2ms/step - loss: 0.7226 - acc: 0.6640 - val_loss: 0.7631 - val_acc: 0.6371\n",
      "Epoch 17/100\n",
      "5818/5818 [==============================] - 9s 2ms/step - loss: 0.7147 - acc: 0.6626 - val_loss: 0.7418 - val_acc: 0.6570\n",
      "Epoch 18/100\n",
      "5818/5818 [==============================] - 9s 2ms/step - loss: 0.7169 - acc: 0.6660 - val_loss: 0.7548 - val_acc: 0.6481\n",
      "Epoch 19/100\n",
      "5818/5818 [==============================] - 9s 2ms/step - loss: 0.7168 - acc: 0.6605 - val_loss: 0.7376 - val_acc: 0.6543\n",
      "Epoch 20/100\n",
      "5818/5818 [==============================] - 10s 2ms/step - loss: 0.7024 - acc: 0.6736 - val_loss: 0.7412 - val_acc: 0.6536\n",
      "Epoch 21/100\n",
      "5818/5818 [==============================] - 10s 2ms/step - loss: 0.7003 - acc: 0.6758 - val_loss: 0.7409 - val_acc: 0.6454\n",
      "Epoch 22/100\n",
      "5818/5818 [==============================] - 9s 2ms/step - loss: 0.6930 - acc: 0.6757 - val_loss: 0.7391 - val_acc: 0.6564\n",
      "Epoch 23/100\n",
      "5818/5818 [==============================] - 9s 2ms/step - loss: 0.6900 - acc: 0.6784 - val_loss: 0.7329 - val_acc: 0.6584\n",
      "Epoch 24/100\n",
      "5818/5818 [==============================] - 9s 2ms/step - loss: 0.6803 - acc: 0.6846 - val_loss: 0.7340 - val_acc: 0.6557\n",
      "Epoch 25/100\n",
      "5818/5818 [==============================] - 9s 2ms/step - loss: 0.6773 - acc: 0.6918 - val_loss: 0.7322 - val_acc: 0.6667\n",
      "Epoch 26/100\n",
      "5818/5818 [==============================] - 10s 2ms/step - loss: 0.6671 - acc: 0.6901 - val_loss: 0.7201 - val_acc: 0.6598\n",
      "Epoch 27/100\n",
      "5818/5818 [==============================] - 14s 2ms/step - loss: 0.6659 - acc: 0.6942 - val_loss: 0.7225 - val_acc: 0.6674\n",
      "Epoch 28/100\n",
      "5818/5818 [==============================] - 11s 2ms/step - loss: 0.6508 - acc: 0.7042 - val_loss: 0.7208 - val_acc: 0.6735\n",
      "Epoch 29/100\n",
      "5818/5818 [==============================] - 10s 2ms/step - loss: 0.6526 - acc: 0.7030 - val_loss: 0.7142 - val_acc: 0.6701\n",
      "Epoch 30/100\n",
      "5818/5818 [==============================] - 10s 2ms/step - loss: 0.6448 - acc: 0.7081 - val_loss: 0.7124 - val_acc: 0.6825\n",
      "Epoch 31/100\n",
      "5818/5818 [==============================] - 10s 2ms/step - loss: 0.6421 - acc: 0.7112 - val_loss: 0.7165 - val_acc: 0.6790\n",
      "Epoch 32/100\n",
      "5818/5818 [==============================] - 9s 2ms/step - loss: 0.6426 - acc: 0.7092 - val_loss: 0.7160 - val_acc: 0.6708\n",
      "Epoch 33/100\n",
      "5818/5818 [==============================] - 10s 2ms/step - loss: 0.6333 - acc: 0.7128 - val_loss: 0.7215 - val_acc: 0.6845\n",
      "Epoch 34/100\n",
      "5818/5818 [==============================] - 9s 2ms/step - loss: 0.6138 - acc: 0.7267 - val_loss: 0.7241 - val_acc: 0.6852\n",
      "Epoch 35/100\n",
      "5818/5818 [==============================] - 10s 2ms/step - loss: 0.6182 - acc: 0.7214 - val_loss: 0.7156 - val_acc: 0.6880\n",
      "Epoch 36/100\n",
      "5818/5818 [==============================] - 10s 2ms/step - loss: 0.6164 - acc: 0.7265 - val_loss: 0.7116 - val_acc: 0.6866\n",
      "Epoch 37/100\n",
      "5818/5818 [==============================] - 11s 2ms/step - loss: 0.6086 - acc: 0.7274 - val_loss: 0.7251 - val_acc: 0.6832\n",
      "Epoch 38/100\n",
      "5818/5818 [==============================] - 10s 2ms/step - loss: 0.6064 - acc: 0.7233 - val_loss: 0.7160 - val_acc: 0.6893\n",
      "Epoch 39/100\n",
      "5818/5818 [==============================] - 10s 2ms/step - loss: 0.5934 - acc: 0.7382 - val_loss: 0.7356 - val_acc: 0.6838\n",
      "Epoch 40/100\n",
      "5818/5818 [==============================] - 10s 2ms/step - loss: 0.5822 - acc: 0.7384 - val_loss: 0.7211 - val_acc: 0.6811\n",
      "Epoch 41/100\n",
      "5818/5818 [==============================] - 10s 2ms/step - loss: 0.5815 - acc: 0.7398 - val_loss: 0.7192 - val_acc: 0.6859\n",
      "Epoch 42/100\n",
      "5818/5818 [==============================] - 10s 2ms/step - loss: 0.5682 - acc: 0.7444 - val_loss: 0.7284 - val_acc: 0.6790\n",
      "Epoch 43/100\n",
      "5818/5818 [==============================] - 10s 2ms/step - loss: 0.5688 - acc: 0.7441 - val_loss: 0.7395 - val_acc: 0.6845\n",
      "Epoch 44/100\n",
      "5818/5818 [==============================] - 9s 2ms/step - loss: 0.5675 - acc: 0.7456 - val_loss: 0.7270 - val_acc: 0.6811\n",
      "Epoch 45/100\n",
      "5818/5818 [==============================] - 10s 2ms/step - loss: 0.5613 - acc: 0.7487 - val_loss: 0.7320 - val_acc: 0.6866\n",
      "Epoch 46/100\n",
      "5818/5818 [==============================] - 9s 2ms/step - loss: 0.5503 - acc: 0.7492 - val_loss: 0.7332 - val_acc: 0.6777\n",
      "Epoch 47/100\n",
      "5818/5818 [==============================] - 9s 2ms/step - loss: 0.5408 - acc: 0.7573 - val_loss: 0.7392 - val_acc: 0.6797\n",
      "Epoch 48/100\n",
      "5818/5818 [==============================] - 14s 2ms/step - loss: 0.5320 - acc: 0.7626 - val_loss: 0.7351 - val_acc: 0.6852\n",
      "Epoch 49/100\n",
      "5818/5818 [==============================] - 11s 2ms/step - loss: 0.5258 - acc: 0.7661 - val_loss: 0.7365 - val_acc: 0.6832\n",
      "Epoch 50/100\n",
      "5818/5818 [==============================] - 11s 2ms/step - loss: 0.5262 - acc: 0.7735 - val_loss: 0.7284 - val_acc: 0.6811\n",
      "Epoch 51/100\n",
      "5818/5818 [==============================] - 10s 2ms/step - loss: 0.5158 - acc: 0.7791 - val_loss: 0.7446 - val_acc: 0.6790\n",
      "Epoch 52/100\n",
      "5818/5818 [==============================] - 10s 2ms/step - loss: 0.5075 - acc: 0.7784 - val_loss: 0.7406 - val_acc: 0.6818\n",
      "Epoch 53/100\n",
      "5818/5818 [==============================] - 10s 2ms/step - loss: 0.4971 - acc: 0.7814 - val_loss: 0.7572 - val_acc: 0.6797\n",
      "Epoch 54/100\n",
      "5818/5818 [==============================] - 9s 2ms/step - loss: 0.4967 - acc: 0.7834 - val_loss: 0.7488 - val_acc: 0.6859\n",
      "Epoch 55/100\n",
      "5818/5818 [==============================] - 9s 2ms/step - loss: 0.4990 - acc: 0.7857 - val_loss: 0.7478 - val_acc: 0.6811\n",
      "Epoch 56/100\n",
      "5818/5818 [==============================] - 9s 2ms/step - loss: 0.4841 - acc: 0.7979 - val_loss: 0.7572 - val_acc: 0.6804\n",
      "Epoch 57/100\n",
      "5818/5818 [==============================] - 10s 2ms/step - loss: 0.4733 - acc: 0.7967 - val_loss: 0.7728 - val_acc: 0.6948\n",
      "Epoch 58/100\n",
      "5818/5818 [==============================] - 10s 2ms/step - loss: 0.4711 - acc: 0.7891 - val_loss: 0.7582 - val_acc: 0.6873\n",
      "Epoch 59/100\n",
      "5818/5818 [==============================] - 12s 2ms/step - loss: 0.4724 - acc: 0.7989 - val_loss: 0.7609 - val_acc: 0.6852\n",
      "Epoch 60/100\n",
      "5818/5818 [==============================] - 11s 2ms/step - loss: 0.4480 - acc: 0.8097 - val_loss: 0.7773 - val_acc: 0.6838\n",
      "Epoch 61/100\n",
      "5818/5818 [==============================] - 11s 2ms/step - loss: 0.4611 - acc: 0.8022 - val_loss: 0.7656 - val_acc: 0.6955\n",
      "Epoch 62/100\n",
      "5818/5818 [==============================] - 11s 2ms/step - loss: 0.4475 - acc: 0.8101 - val_loss: 0.7671 - val_acc: 0.6818\n",
      "Epoch 63/100\n",
      "5818/5818 [==============================] - 10s 2ms/step - loss: 0.4421 - acc: 0.8139 - val_loss: 0.7909 - val_acc: 0.6935\n",
      "Epoch 64/100\n",
      "5818/5818 [==============================] - 10s 2ms/step - loss: 0.4446 - acc: 0.8176 - val_loss: 0.8265 - val_acc: 0.6763\n",
      "Epoch 65/100\n",
      "5818/5818 [==============================] - 10s 2ms/step - loss: 0.4468 - acc: 0.8120 - val_loss: 0.7749 - val_acc: 0.6852\n",
      "Epoch 66/100\n",
      "5818/5818 [==============================] - 11s 2ms/step - loss: 0.4263 - acc: 0.8154 - val_loss: 0.7844 - val_acc: 0.6873\n",
      "Epoch 67/100\n",
      "5818/5818 [==============================] - 10s 2ms/step - loss: 0.4199 - acc: 0.8245 - val_loss: 0.8062 - val_acc: 0.6962\n",
      "Epoch 68/100\n",
      "5818/5818 [==============================] - 14s 2ms/step - loss: 0.4199 - acc: 0.8223 - val_loss: 0.7890 - val_acc: 0.6873\n",
      "Epoch 69/100\n",
      "5818/5818 [==============================] - 10s 2ms/step - loss: 0.4063 - acc: 0.8288 - val_loss: 0.8056 - val_acc: 0.6852\n",
      "Epoch 70/100\n",
      "5818/5818 [==============================] - 9s 2ms/step - loss: 0.3993 - acc: 0.8367 - val_loss: 0.8324 - val_acc: 0.6866\n",
      "Epoch 71/100\n",
      "5818/5818 [==============================] - 9s 2ms/step - loss: 0.3903 - acc: 0.8377 - val_loss: 0.8207 - val_acc: 0.6838\n",
      "Epoch 72/100\n",
      "5818/5818 [==============================] - 9s 2ms/step - loss: 0.3919 - acc: 0.8362 - val_loss: 0.8378 - val_acc: 0.6880\n",
      "Epoch 73/100\n",
      "5818/5818 [==============================] - 9s 2ms/step - loss: 0.3945 - acc: 0.8393 - val_loss: 0.8289 - val_acc: 0.6832\n",
      "Epoch 74/100\n",
      "5818/5818 [==============================] - 10s 2ms/step - loss: 0.3776 - acc: 0.8432 - val_loss: 0.8433 - val_acc: 0.6838\n",
      "Epoch 75/100\n",
      "5818/5818 [==============================] - 10s 2ms/step - loss: 0.3724 - acc: 0.8467 - val_loss: 0.8488 - val_acc: 0.6873\n",
      "Epoch 76/100\n",
      "5818/5818 [==============================] - 11s 2ms/step - loss: 0.3735 - acc: 0.8414 - val_loss: 0.8479 - val_acc: 0.6887\n",
      "Epoch 77/100\n",
      "5818/5818 [==============================] - 10s 2ms/step - loss: 0.3615 - acc: 0.8517 - val_loss: 0.8601 - val_acc: 0.6942\n",
      "Epoch 78/100\n",
      "5818/5818 [==============================] - 10s 2ms/step - loss: 0.3674 - acc: 0.8448 - val_loss: 0.8608 - val_acc: 0.6852\n",
      "Epoch 79/100\n",
      "5818/5818 [==============================] - 12s 2ms/step - loss: 0.3514 - acc: 0.8520 - val_loss: 0.8565 - val_acc: 0.6832\n",
      "Epoch 80/100\n",
      "5818/5818 [==============================] - 10s 2ms/step - loss: 0.3499 - acc: 0.8548 - val_loss: 0.8584 - val_acc: 0.6887\n",
      "Epoch 81/100\n",
      "5818/5818 [==============================] - 9s 2ms/step - loss: 0.3449 - acc: 0.8549 - val_loss: 0.8794 - val_acc: 0.6866\n",
      "Epoch 82/100\n",
      "5818/5818 [==============================] - 9s 2ms/step - loss: 0.3409 - acc: 0.8601 - val_loss: 0.8620 - val_acc: 0.6893\n",
      "Epoch 83/100\n",
      "5818/5818 [==============================] - 9s 2ms/step - loss: 0.3325 - acc: 0.8592 - val_loss: 0.8846 - val_acc: 0.6873\n",
      "Epoch 84/100\n",
      "5818/5818 [==============================] - 9s 2ms/step - loss: 0.3296 - acc: 0.8651 - val_loss: 0.8769 - val_acc: 0.6866\n",
      "Epoch 85/100\n",
      "5818/5818 [==============================] - 9s 2ms/step - loss: 0.3245 - acc: 0.8637 - val_loss: 0.9049 - val_acc: 0.6866\n",
      "Epoch 86/100\n",
      "5818/5818 [==============================] - 9s 2ms/step - loss: 0.3289 - acc: 0.8652 - val_loss: 0.9099 - val_acc: 0.6804\n",
      "Epoch 87/100\n",
      "5818/5818 [==============================] - 9s 2ms/step - loss: 0.3214 - acc: 0.8682 - val_loss: 0.9019 - val_acc: 0.6887\n",
      "Epoch 88/100\n",
      "5818/5818 [==============================] - 9s 2ms/step - loss: 0.3052 - acc: 0.8778 - val_loss: 0.9062 - val_acc: 0.6893\n",
      "Epoch 89/100\n",
      "5818/5818 [==============================] - 9s 2ms/step - loss: 0.3056 - acc: 0.8735 - val_loss: 0.9130 - val_acc: 0.6935\n",
      "Epoch 90/100\n",
      "5818/5818 [==============================] - 10s 2ms/step - loss: 0.3039 - acc: 0.8771 - val_loss: 0.9157 - val_acc: 0.6880\n",
      "Epoch 91/100\n",
      "5818/5818 [==============================] - 10s 2ms/step - loss: 0.2911 - acc: 0.8823 - val_loss: 0.9376 - val_acc: 0.6887\n",
      "Epoch 92/100\n",
      "5818/5818 [==============================] - 9s 2ms/step - loss: 0.3014 - acc: 0.8776 - val_loss: 0.9412 - val_acc: 0.6832\n",
      "Epoch 93/100\n",
      "5818/5818 [==============================] - 11s 2ms/step - loss: 0.2876 - acc: 0.8862 - val_loss: 0.9571 - val_acc: 0.6852\n",
      "Epoch 94/100\n",
      "5818/5818 [==============================] - 10s 2ms/step - loss: 0.2872 - acc: 0.8823 - val_loss: 0.9630 - val_acc: 0.6832\n",
      "Epoch 95/100\n",
      "5818/5818 [==============================] - 9s 2ms/step - loss: 0.2932 - acc: 0.8843 - val_loss: 0.9687 - val_acc: 0.6859\n",
      "Epoch 96/100\n",
      "5818/5818 [==============================] - 11s 2ms/step - loss: 0.2837 - acc: 0.8854 - val_loss: 0.9733 - val_acc: 0.6832\n",
      "Epoch 97/100\n",
      "5818/5818 [==============================] - 11s 2ms/step - loss: 0.2800 - acc: 0.8833 - val_loss: 0.9722 - val_acc: 0.6797\n",
      "Epoch 98/100\n",
      "5818/5818 [==============================] - 12s 2ms/step - loss: 0.2777 - acc: 0.8890 - val_loss: 0.9793 - val_acc: 0.6935\n",
      "Epoch 99/100\n",
      "5818/5818 [==============================] - 11s 2ms/step - loss: 0.2813 - acc: 0.8922 - val_loss: 0.9575 - val_acc: 0.6887\n",
      "Epoch 100/100\n",
      "5818/5818 [==============================] - 10s 2ms/step - loss: 0.2651 - acc: 0.8948 - val_loss: 0.9823 - val_acc: 0.6873\n"
     ]
    }
   ],
   "source": [
    "history_1 = lstm_mod1.fit(X_train, y_train,\n",
    "                    validation_split = 0.2,\n",
    "                    epochs=100, batch_size=256)"
   ]
  },
  {
   "cell_type": "code",
   "execution_count": 786,
   "metadata": {},
   "outputs": [
    {
     "data": {
      "image/png": "[encoded data removed]",
      "text/plain": [
       "<Figure size 576x396 with 1 Axes>"
      ]
     },
     "metadata": {},
     "output_type": "display_data"
    },
    {
     "data": {
      "image/png": "[encoded data removed]",
      "text/plain": [
       "<Figure size 576x396 with 1 Axes>"
      ]
     },
     "metadata": {},
     "output_type": "display_data"
    }
   ],
   "source": [
    "visualize_training_results(history_1)"
   ]
  },
  {
   "cell_type": "code",
   "execution_count": 787,
   "metadata": {},
   "outputs": [
    {
     "name": "stdout",
     "output_type": "stream",
     "text": [
      "Training Accuracy: 0.9084\n",
      "Testing Accuracy:  0.6630\n"
     ]
    }
   ],
   "source": [
    "# Find train and test accuracy\n",
    "loss, accuracy = lstm_mod1.evaluate(X_train, y_train, verbose=False)\n",
    "print(\"Training Accuracy: {:.4f}\".format(accuracy))\n",
    "loss, accuracy = lstm_mod1.evaluate(X_test, y_test, verbose=False)\n",
    "print(\"Testing Accuracy:  {:.4f}\".format(accuracy))"
   ]
  },
  {
   "cell_type": "markdown",
   "metadata": {},
   "source": [
    "### Model 2: LSTM with regularization, reduce dimensionality"
   ]
  },
  {
   "cell_type": "code",
   "execution_count": 45,
   "metadata": {},
   "outputs": [
    {
     "name": "stdout",
     "output_type": "stream",
     "text": [
      "_________________________________________________________________\n",
      "Layer (type)                 Output Shape              Param #   \n",
      "=================================================================\n",
      "embedding_1 (Embedding)      (None, 24, 50)            507400    \n",
      "_________________________________________________________________\n",
      "dropout_1 (Dropout)          (None, 24, 50)            0         \n",
      "_________________________________________________________________\n",
      "lstm_1 (LSTM)                (None, 100)               60400     \n",
      "_________________________________________________________________\n",
      "dense_1 (Dense)              (None, 3)                 303       \n",
      "=================================================================\n",
      "Total params: 568,103\n",
      "Trainable params: 60,703\n",
      "Non-trainable params: 507,400\n",
      "_________________________________________________________________\n"
     ]
    }
   ],
   "source": [
    "lstm_mod2 = Sequential()\n",
    "lstm_mod2.add(embedding_layer)\n",
    "lstm_mod2.add(Dropout(0.3))\n",
    "lstm_mod2.add(LSTM(100, \n",
    "               dropout = 0.3, \n",
    "               recurrent_dropout = 0.5))\n",
    "lstm_mod2.add(Dense(3, activation='softmax'))\n",
    "lstm_mod2.compile(optimizer='adam', loss='categorical_crossentropy', metrics=['acc'])\n",
    "lstm_mod2.summary()"
   ]
  },
  {
   "cell_type": "code",
   "execution_count": 46,
   "metadata": {
    "collapsed": true,
    "jupyter": {
     "outputs_hidden": true
    }
   },
   "outputs": [
    {
     "name": "stdout",
     "output_type": "stream",
     "text": [
      "Train on 5818 samples, validate on 1455 samples\n",
      "Epoch 1/100\n",
      "5818/5818 [==============================] - 4s 750us/step - loss: 0.9310 - acc: 0.5514 - val_loss: 0.8711 - val_acc: 0.6034\n",
      "Epoch 2/100\n",
      "5818/5818 [==============================] - 3s 524us/step - loss: 0.8427 - acc: 0.6093 - val_loss: 0.8402 - val_acc: 0.6034\n",
      "Epoch 3/100\n",
      "5818/5818 [==============================] - 3s 554us/step - loss: 0.8257 - acc: 0.6153 - val_loss: 0.8208 - val_acc: 0.6034\n",
      "Epoch 4/100\n",
      "5818/5818 [==============================] - 3s 482us/step - loss: 0.8174 - acc: 0.6116 - val_loss: 0.8153 - val_acc: 0.6048\n",
      "Epoch 5/100\n",
      "5818/5818 [==============================] - 3s 485us/step - loss: 0.8123 - acc: 0.6146 - val_loss: 0.8142 - val_acc: 0.6076\n",
      "Epoch 6/100\n",
      "5818/5818 [==============================] - 3s 479us/step - loss: 0.8071 - acc: 0.6210 - val_loss: 0.8083 - val_acc: 0.6034\n",
      "Epoch 7/100\n",
      "5818/5818 [==============================] - 3s 495us/step - loss: 0.8053 - acc: 0.6148 - val_loss: 0.8014 - val_acc: 0.6048\n",
      "Epoch 8/100\n",
      "5818/5818 [==============================] - 3s 511us/step - loss: 0.7991 - acc: 0.6263 - val_loss: 0.7992 - val_acc: 0.6034\n",
      "Epoch 9/100\n",
      "5818/5818 [==============================] - 3s 466us/step - loss: 0.7953 - acc: 0.6210 - val_loss: 0.8003 - val_acc: 0.6069\n",
      "Epoch 10/100\n",
      "5818/5818 [==============================] - 3s 460us/step - loss: 0.7939 - acc: 0.6193 - val_loss: 0.7882 - val_acc: 0.6165\n",
      "Epoch 11/100\n",
      "5818/5818 [==============================] - 3s 489us/step - loss: 0.7890 - acc: 0.6260 - val_loss: 0.7849 - val_acc: 0.6158\n",
      "Epoch 12/100\n",
      "5818/5818 [==============================] - 3s 478us/step - loss: 0.7879 - acc: 0.6265 - val_loss: 0.7824 - val_acc: 0.6206\n",
      "Epoch 13/100\n",
      "5818/5818 [==============================] - 3s 472us/step - loss: 0.7801 - acc: 0.6282 - val_loss: 0.7843 - val_acc: 0.6137\n",
      "Epoch 14/100\n",
      "5818/5818 [==============================] - 3s 518us/step - loss: 0.7865 - acc: 0.6212 - val_loss: 0.7776 - val_acc: 0.6241\n",
      "Epoch 15/100\n",
      "5818/5818 [==============================] - 3s 498us/step - loss: 0.7807 - acc: 0.6255 - val_loss: 0.7796 - val_acc: 0.6206\n",
      "Epoch 16/100\n",
      "5818/5818 [==============================] - 3s 476us/step - loss: 0.7817 - acc: 0.6270 - val_loss: 0.7746 - val_acc: 0.6316\n",
      "Epoch 17/100\n",
      "5818/5818 [==============================] - 3s 467us/step - loss: 0.7720 - acc: 0.6308 - val_loss: 0.7682 - val_acc: 0.6337\n",
      "Epoch 18/100\n",
      "5818/5818 [==============================] - 3s 473us/step - loss: 0.7739 - acc: 0.6349 - val_loss: 0.7724 - val_acc: 0.6337\n",
      "Epoch 19/100\n",
      "5818/5818 [==============================] - 3s 472us/step - loss: 0.7740 - acc: 0.6334 - val_loss: 0.7667 - val_acc: 0.6344\n",
      "Epoch 20/100\n",
      "5818/5818 [==============================] - 3s 473us/step - loss: 0.7738 - acc: 0.6330 - val_loss: 0.7729 - val_acc: 0.6344\n",
      "Epoch 21/100\n",
      "5818/5818 [==============================] - 3s 478us/step - loss: 0.7696 - acc: 0.6342 - val_loss: 0.7644 - val_acc: 0.6323\n",
      "Epoch 22/100\n",
      "5818/5818 [==============================] - 3s 491us/step - loss: 0.7685 - acc: 0.6382 - val_loss: 0.7747 - val_acc: 0.6323\n",
      "Epoch 23/100\n",
      "5818/5818 [==============================] - 3s 477us/step - loss: 0.7626 - acc: 0.6320 - val_loss: 0.7610 - val_acc: 0.6337\n",
      "Epoch 24/100\n",
      "5818/5818 [==============================] - 3s 463us/step - loss: 0.7634 - acc: 0.6310 - val_loss: 0.7643 - val_acc: 0.6351\n",
      "Epoch 25/100\n",
      "5818/5818 [==============================] - 3s 507us/step - loss: 0.7635 - acc: 0.6348 - val_loss: 0.7686 - val_acc: 0.6330\n",
      "Epoch 26/100\n",
      "5818/5818 [==============================] - 3s 543us/step - loss: 0.7621 - acc: 0.6354 - val_loss: 0.7638 - val_acc: 0.6364\n",
      "Epoch 27/100\n",
      "5818/5818 [==============================] - 3s 486us/step - loss: 0.7606 - acc: 0.6420 - val_loss: 0.7558 - val_acc: 0.6385\n",
      "Epoch 28/100\n",
      "5818/5818 [==============================] - 3s 498us/step - loss: 0.7546 - acc: 0.6325 - val_loss: 0.7634 - val_acc: 0.6426\n",
      "Epoch 29/100\n",
      "5818/5818 [==============================] - 3s 532us/step - loss: 0.7593 - acc: 0.6366 - val_loss: 0.7580 - val_acc: 0.6323\n",
      "Epoch 30/100\n",
      "5818/5818 [==============================] - 3s 497us/step - loss: 0.7562 - acc: 0.6475 - val_loss: 0.7619 - val_acc: 0.6344\n",
      "Epoch 31/100\n",
      "5818/5818 [==============================] - 3s 486us/step - loss: 0.7527 - acc: 0.6425 - val_loss: 0.7531 - val_acc: 0.6426\n",
      "Epoch 32/100\n",
      "5818/5818 [==============================] - 3s 476us/step - loss: 0.7467 - acc: 0.6511 - val_loss: 0.7546 - val_acc: 0.6405\n",
      "Epoch 33/100\n",
      "5818/5818 [==============================] - 3s 478us/step - loss: 0.7464 - acc: 0.6442 - val_loss: 0.7527 - val_acc: 0.6392\n",
      "Epoch 34/100\n",
      "5818/5818 [==============================] - 3s 573us/step - loss: 0.7439 - acc: 0.6444 - val_loss: 0.7535 - val_acc: 0.6433\n",
      "Epoch 35/100\n",
      "5818/5818 [==============================] - 3s 508us/step - loss: 0.7487 - acc: 0.6444 - val_loss: 0.7525 - val_acc: 0.6351\n",
      "Epoch 36/100\n",
      "5818/5818 [==============================] - 3s 509us/step - loss: 0.7422 - acc: 0.6507 - val_loss: 0.7541 - val_acc: 0.6392\n",
      "Epoch 37/100\n",
      "5818/5818 [==============================] - 3s 493us/step - loss: 0.7422 - acc: 0.6518 - val_loss: 0.7502 - val_acc: 0.6378\n",
      "Epoch 38/100\n",
      "5818/5818 [==============================] - 3s 490us/step - loss: 0.7472 - acc: 0.6459 - val_loss: 0.7447 - val_acc: 0.6460\n",
      "Epoch 39/100\n",
      "5818/5818 [==============================] - 3s 485us/step - loss: 0.7460 - acc: 0.6519 - val_loss: 0.7466 - val_acc: 0.6536\n",
      "Epoch 40/100\n",
      "5818/5818 [==============================] - 3s 471us/step - loss: 0.7373 - acc: 0.6442 - val_loss: 0.7479 - val_acc: 0.6426\n",
      "Epoch 41/100\n",
      "5818/5818 [==============================] - 3s 465us/step - loss: 0.7406 - acc: 0.6514 - val_loss: 0.7422 - val_acc: 0.6529\n",
      "Epoch 42/100\n",
      "5818/5818 [==============================] - 3s 479us/step - loss: 0.7362 - acc: 0.6545 - val_loss: 0.7452 - val_acc: 0.6460\n",
      "Epoch 43/100\n",
      "5818/5818 [==============================] - 3s 470us/step - loss: 0.7311 - acc: 0.6580 - val_loss: 0.7406 - val_acc: 0.6550\n",
      "Epoch 44/100\n",
      "5818/5818 [==============================] - 3s 502us/step - loss: 0.7371 - acc: 0.6525 - val_loss: 0.7423 - val_acc: 0.6460\n",
      "Epoch 45/100\n",
      "5818/5818 [==============================] - 3s 478us/step - loss: 0.7313 - acc: 0.6519 - val_loss: 0.7413 - val_acc: 0.6440\n",
      "Epoch 46/100\n",
      "5818/5818 [==============================] - 3s 483us/step - loss: 0.7247 - acc: 0.6554 - val_loss: 0.7376 - val_acc: 0.6522\n",
      "Epoch 47/100\n",
      "5818/5818 [==============================] - 3s 482us/step - loss: 0.7269 - acc: 0.6564 - val_loss: 0.7365 - val_acc: 0.6522\n",
      "Epoch 48/100\n",
      "5818/5818 [==============================] - 3s 473us/step - loss: 0.7261 - acc: 0.6605 - val_loss: 0.7355 - val_acc: 0.6509\n",
      "Epoch 49/100\n",
      "5818/5818 [==============================] - 3s 487us/step - loss: 0.7280 - acc: 0.6566 - val_loss: 0.7313 - val_acc: 0.6529\n",
      "Epoch 50/100\n",
      "5818/5818 [==============================] - 3s 546us/step - loss: 0.7166 - acc: 0.6590 - val_loss: 0.7410 - val_acc: 0.6474\n",
      "Epoch 51/100\n",
      "5818/5818 [==============================] - 3s 505us/step - loss: 0.7242 - acc: 0.6571 - val_loss: 0.7369 - val_acc: 0.6509\n",
      "Epoch 52/100\n",
      "5818/5818 [==============================] - 3s 523us/step - loss: 0.7275 - acc: 0.6514 - val_loss: 0.7292 - val_acc: 0.6529\n",
      "Epoch 53/100\n",
      "5818/5818 [==============================] - 3s 539us/step - loss: 0.7198 - acc: 0.6588 - val_loss: 0.7359 - val_acc: 0.6591\n",
      "Epoch 54/100\n",
      "5818/5818 [==============================] - 3s 528us/step - loss: 0.7236 - acc: 0.6547 - val_loss: 0.7297 - val_acc: 0.6619\n",
      "Epoch 55/100\n",
      "5818/5818 [==============================] - 3s 517us/step - loss: 0.7178 - acc: 0.6655 - val_loss: 0.7343 - val_acc: 0.6591\n",
      "Epoch 56/100\n",
      "5818/5818 [==============================] - 3s 548us/step - loss: 0.7200 - acc: 0.6683 - val_loss: 0.7284 - val_acc: 0.6591\n",
      "Epoch 57/100\n",
      "5818/5818 [==============================] - 3s 546us/step - loss: 0.7113 - acc: 0.6693 - val_loss: 0.7276 - val_acc: 0.6577\n",
      "Epoch 58/100\n",
      "5818/5818 [==============================] - 3s 518us/step - loss: 0.7099 - acc: 0.6660 - val_loss: 0.7354 - val_acc: 0.6584\n",
      "Epoch 59/100\n",
      "5818/5818 [==============================] - 3s 499us/step - loss: 0.7165 - acc: 0.6598 - val_loss: 0.7274 - val_acc: 0.6529\n",
      "Epoch 60/100\n",
      "5818/5818 [==============================] - 3s 505us/step - loss: 0.7147 - acc: 0.6657 - val_loss: 0.7275 - val_acc: 0.6612\n",
      "Epoch 61/100\n",
      "5818/5818 [==============================] - 3s 514us/step - loss: 0.7036 - acc: 0.6743 - val_loss: 0.7292 - val_acc: 0.6598\n",
      "Epoch 62/100\n",
      "5818/5818 [==============================] - 3s 523us/step - loss: 0.7082 - acc: 0.6690 - val_loss: 0.7255 - val_acc: 0.6584\n",
      "Epoch 63/100\n",
      "5818/5818 [==============================] - 3s 507us/step - loss: 0.7107 - acc: 0.6722 - val_loss: 0.7297 - val_acc: 0.6577\n",
      "Epoch 64/100\n",
      "5818/5818 [==============================] - 3s 540us/step - loss: 0.6959 - acc: 0.6818 - val_loss: 0.7254 - val_acc: 0.6605\n",
      "Epoch 65/100\n",
      "5818/5818 [==============================] - 3s 515us/step - loss: 0.7059 - acc: 0.6640 - val_loss: 0.7259 - val_acc: 0.6564\n",
      "Epoch 66/100\n",
      "5818/5818 [==============================] - 3s 553us/step - loss: 0.7017 - acc: 0.6727 - val_loss: 0.7292 - val_acc: 0.6605\n",
      "Epoch 67/100\n",
      "5818/5818 [==============================] - 3s 528us/step - loss: 0.7031 - acc: 0.6698 - val_loss: 0.7269 - val_acc: 0.6577\n",
      "Epoch 68/100\n",
      "5818/5818 [==============================] - 3s 574us/step - loss: 0.6971 - acc: 0.6748 - val_loss: 0.7205 - val_acc: 0.6591\n",
      "Epoch 69/100\n",
      "5818/5818 [==============================] - 3s 543us/step - loss: 0.6942 - acc: 0.6777 - val_loss: 0.7276 - val_acc: 0.6584\n",
      "Epoch 70/100\n",
      "5818/5818 [==============================] - 3s 546us/step - loss: 0.6999 - acc: 0.6784 - val_loss: 0.7214 - val_acc: 0.6584\n",
      "Epoch 71/100\n",
      "5818/5818 [==============================] - 3s 531us/step - loss: 0.6965 - acc: 0.6832 - val_loss: 0.7222 - val_acc: 0.6591\n",
      "Epoch 72/100\n",
      "5818/5818 [==============================] - 3s 524us/step - loss: 0.6920 - acc: 0.6803 - val_loss: 0.7219 - val_acc: 0.6612\n",
      "Epoch 73/100\n",
      "5818/5818 [==============================] - 3s 526us/step - loss: 0.6907 - acc: 0.6776 - val_loss: 0.7226 - val_acc: 0.6625\n",
      "Epoch 74/100\n",
      "5818/5818 [==============================] - 3s 575us/step - loss: 0.6946 - acc: 0.6755 - val_loss: 0.7228 - val_acc: 0.6667\n",
      "Epoch 75/100\n",
      "5818/5818 [==============================] - 3s 540us/step - loss: 0.6879 - acc: 0.6784 - val_loss: 0.7200 - val_acc: 0.6674\n",
      "Epoch 76/100\n",
      "5818/5818 [==============================] - 3s 538us/step - loss: 0.6801 - acc: 0.6801 - val_loss: 0.7310 - val_acc: 0.6667\n",
      "Epoch 77/100\n",
      "5818/5818 [==============================] - 3s 537us/step - loss: 0.6886 - acc: 0.6805 - val_loss: 0.7295 - val_acc: 0.6680\n",
      "Epoch 78/100\n",
      "5818/5818 [==============================] - 3s 523us/step - loss: 0.6851 - acc: 0.6870 - val_loss: 0.7267 - val_acc: 0.6605\n",
      "Epoch 79/100\n",
      "5818/5818 [==============================] - 3s 497us/step - loss: 0.6914 - acc: 0.6837 - val_loss: 0.7198 - val_acc: 0.6667\n",
      "Epoch 80/100\n",
      "5818/5818 [==============================] - 3s 485us/step - loss: 0.6848 - acc: 0.6851 - val_loss: 0.7219 - val_acc: 0.6653\n",
      "Epoch 81/100\n",
      "5818/5818 [==============================] - 3s 477us/step - loss: 0.6861 - acc: 0.6789 - val_loss: 0.7273 - val_acc: 0.6694\n",
      "Epoch 82/100\n",
      "5818/5818 [==============================] - 3s 514us/step - loss: 0.6862 - acc: 0.6851 - val_loss: 0.7217 - val_acc: 0.6674\n",
      "Epoch 83/100\n",
      "5818/5818 [==============================] - 3s 495us/step - loss: 0.6731 - acc: 0.6930 - val_loss: 0.7331 - val_acc: 0.6680\n",
      "Epoch 84/100\n",
      "5818/5818 [==============================] - 3s 514us/step - loss: 0.6815 - acc: 0.6824 - val_loss: 0.7229 - val_acc: 0.6674\n",
      "Epoch 85/100\n",
      "5818/5818 [==============================] - 3s 496us/step - loss: 0.6821 - acc: 0.6884 - val_loss: 0.7244 - val_acc: 0.6660\n",
      "Epoch 86/100\n",
      "5818/5818 [==============================] - 3s 487us/step - loss: 0.6702 - acc: 0.6913 - val_loss: 0.7209 - val_acc: 0.6763\n",
      "Epoch 87/100\n",
      "5818/5818 [==============================] - 3s 478us/step - loss: 0.6793 - acc: 0.6865 - val_loss: 0.7171 - val_acc: 0.6756\n",
      "Epoch 88/100\n",
      "5818/5818 [==============================] - 3s 484us/step - loss: 0.6733 - acc: 0.6954 - val_loss: 0.7197 - val_acc: 0.6735\n",
      "Epoch 89/100\n",
      "5818/5818 [==============================] - 3s 528us/step - loss: 0.6678 - acc: 0.7021 - val_loss: 0.7218 - val_acc: 0.6667\n",
      "Epoch 90/100\n",
      "5818/5818 [==============================] - 3s 525us/step - loss: 0.6668 - acc: 0.6937 - val_loss: 0.7208 - val_acc: 0.6660\n",
      "Epoch 91/100\n",
      "5818/5818 [==============================] - 3s 500us/step - loss: 0.6715 - acc: 0.6877 - val_loss: 0.7181 - val_acc: 0.6729\n",
      "Epoch 92/100\n",
      "5818/5818 [==============================] - 3s 488us/step - loss: 0.6619 - acc: 0.6971 - val_loss: 0.7195 - val_acc: 0.6735\n",
      "Epoch 93/100\n",
      "5818/5818 [==============================] - 3s 480us/step - loss: 0.6648 - acc: 0.6901 - val_loss: 0.7192 - val_acc: 0.6756\n",
      "Epoch 94/100\n",
      "5818/5818 [==============================] - 3s 481us/step - loss: 0.6659 - acc: 0.6913 - val_loss: 0.7205 - val_acc: 0.6639\n",
      "Epoch 95/100\n",
      "5818/5818 [==============================] - 3s 505us/step - loss: 0.6677 - acc: 0.6963 - val_loss: 0.7155 - val_acc: 0.6680\n",
      "Epoch 96/100\n",
      "5818/5818 [==============================] - 3s 532us/step - loss: 0.6580 - acc: 0.6982 - val_loss: 0.7257 - val_acc: 0.6708\n",
      "Epoch 97/100\n",
      "5818/5818 [==============================] - 3s 477us/step - loss: 0.6585 - acc: 0.6965 - val_loss: 0.7177 - val_acc: 0.6763\n",
      "Epoch 98/100\n",
      "5818/5818 [==============================] - 3s 477us/step - loss: 0.6515 - acc: 0.7061 - val_loss: 0.7255 - val_acc: 0.6653\n",
      "Epoch 99/100\n",
      "5818/5818 [==============================] - 3s 489us/step - loss: 0.6575 - acc: 0.6994 - val_loss: 0.7262 - val_acc: 0.6625\n",
      "Epoch 100/100\n",
      "5818/5818 [==============================] - 3s 517us/step - loss: 0.6671 - acc: 0.6918 - val_loss: 0.7284 - val_acc: 0.6632\n"
     ]
    }
   ],
   "source": [
    "history_2 = lstm_mod2.fit(X_train, y_train,\n",
    "                    validation_split = 0.2,\n",
    "                    epochs=100, batch_size=500)"
   ]
  },
  {
   "cell_type": "code",
   "execution_count": 49,
   "metadata": {},
   "outputs": [
    {
     "data": {
      "image/png": "[encoded data removed]",
      "text/plain": [
       "<Figure size 432x288 with 1 Axes>"
      ]
     },
     "metadata": {
      "needs_background": "light"
     },
     "output_type": "display_data"
    },
    {
     "data": {
      "image/png": "[encoded data removed]",
      "text/plain": [
       "<Figure size 432x288 with 1 Axes>"
      ]
     },
     "metadata": {
      "needs_background": "light"
     },
     "output_type": "display_data"
    }
   ],
   "source": [
    "visualize_training_results(history_2)"
   ]
  },
  {
   "cell_type": "code",
   "execution_count": 51,
   "metadata": {},
   "outputs": [
    {
     "name": "stdout",
     "output_type": "stream",
     "text": [
      "Training Accuracy: 0.7258\n",
      "Testing Accuracy:  0.6806\n"
     ]
    }
   ],
   "source": [
    "# Find train and test accuracy\n",
    "loss, accuracy = lstm_mod2.evaluate(X_train, y_train, verbose=False)\n",
    "print(\"Training Accuracy: {:.4f}\".format(accuracy))\n",
    "loss, accuracy = lstm_mod2.evaluate(X_test, y_test, verbose=False)\n",
    "print(\"Testing Accuracy:  {:.4f}\".format(accuracy))"
   ]
  },
  {
   "cell_type": "markdown",
   "metadata": {},
   "source": [
    "### Model 3: LSTM Layer Stacking"
   ]
  },
  {
   "cell_type": "code",
   "execution_count": 73,
   "metadata": {},
   "outputs": [
    {
     "name": "stdout",
     "output_type": "stream",
     "text": [
      "_________________________________________________________________\n",
      "Layer (type)                 Output Shape              Param #   \n",
      "=================================================================\n",
      "embedding_1 (Embedding)      (None, 24, 50)            507400    \n",
      "_________________________________________________________________\n",
      "dropout_7 (Dropout)          (None, 24, 50)            0         \n",
      "_________________________________________________________________\n",
      "lstm_11 (LSTM)               (None, 24, 80)            41920     \n",
      "_________________________________________________________________\n",
      "lstm_12 (LSTM)               (None, 20)                8080      \n",
      "_________________________________________________________________\n",
      "dense_7 (Dense)              (None, 3)                 63        \n",
      "=================================================================\n",
      "Total params: 557,463\n",
      "Trainable params: 50,063\n",
      "Non-trainable params: 507,400\n",
      "_________________________________________________________________\n"
     ]
    }
   ],
   "source": [
    "lstm_mod3 = Sequential()\n",
    "lstm_mod3.add(embedding_layer)\n",
    "lstm_mod3.add(Dropout(0.3))\n",
    "lstm_mod3.add(LSTM(80, \n",
    "               dropout = 0.3, \n",
    "               recurrent_dropout = 0.5,\n",
    "               return_sequences = True))\n",
    "lstm_mod3.add(LSTM(20, \n",
    "               dropout = 0.3, \n",
    "               recurrent_dropout = 0.5))\n",
    "\n",
    "lstm_mod3.add(Dense(3, activation='softmax'))\n",
    "lstm_mod3.compile(optimizer='adam', loss='categorical_crossentropy', metrics=['acc'])\n",
    "lstm_mod3.summary()"
   ]
  },
  {
   "cell_type": "code",
   "execution_count": 74,
   "metadata": {},
   "outputs": [],
   "source": [
    "# Import EarlyStopping and ModelCheckpoint\n",
    "from keras.callbacks import EarlyStopping, ModelCheckpoint\n",
    "\n",
    "# Define the callbacks\n",
    "early_stopping = [EarlyStopping(monitor='val_loss', patience=15), \n",
    "                  ModelCheckpoint(filepath='best_model_lstm.h5', monitor='val_loss', save_best_only=True)]"
   ]
  },
  {
   "cell_type": "code",
   "execution_count": 76,
   "metadata": {
    "collapsed": true,
    "jupyter": {
     "outputs_hidden": true
    }
   },
   "outputs": [
    {
     "name": "stdout",
     "output_type": "stream",
     "text": [
      "Train on 5818 samples, validate on 1455 samples\n",
      "Epoch 1/120\n",
      "5818/5818 [==============================] - 7s 1ms/step - loss: 0.9473 - acc: 0.5710 - val_loss: 0.8584 - val_acc: 0.6034\n",
      "Epoch 2/120\n",
      "5818/5818 [==============================] - 4s 611us/step - loss: 0.8479 - acc: 0.6103 - val_loss: 0.8581 - val_acc: 0.6034\n",
      "Epoch 3/120\n",
      "5818/5818 [==============================] - 3s 597us/step - loss: 0.8421 - acc: 0.6128 - val_loss: 0.8475 - val_acc: 0.6034\n",
      "Epoch 4/120\n",
      "5818/5818 [==============================] - 4s 605us/step - loss: 0.8303 - acc: 0.6129 - val_loss: 0.8397 - val_acc: 0.6034\n",
      "Epoch 5/120\n",
      "5818/5818 [==============================] - 3s 587us/step - loss: 0.8308 - acc: 0.6138 - val_loss: 0.8338 - val_acc: 0.6034\n",
      "Epoch 6/120\n",
      "5818/5818 [==============================] - 4s 627us/step - loss: 0.8215 - acc: 0.6126 - val_loss: 0.8243 - val_acc: 0.6027\n",
      "Epoch 7/120\n",
      "5818/5818 [==============================] - 4s 623us/step - loss: 0.8199 - acc: 0.6160 - val_loss: 0.8256 - val_acc: 0.6014\n",
      "Epoch 8/120\n",
      "5818/5818 [==============================] - 4s 635us/step - loss: 0.8142 - acc: 0.6146 - val_loss: 0.8104 - val_acc: 0.6034\n",
      "Epoch 9/120\n",
      "5818/5818 [==============================] - 6s 1ms/step - loss: 0.8062 - acc: 0.6188 - val_loss: 0.8156 - val_acc: 0.6041\n",
      "Epoch 10/120\n",
      "5818/5818 [==============================] - 5s 861us/step - loss: 0.8034 - acc: 0.6143 - val_loss: 0.7982 - val_acc: 0.6131\n",
      "Epoch 11/120\n",
      "5818/5818 [==============================] - 6s 983us/step - loss: 0.8024 - acc: 0.6157 - val_loss: 0.7939 - val_acc: 0.6103\n",
      "Epoch 12/120\n",
      "5818/5818 [==============================] - 4s 731us/step - loss: 0.7982 - acc: 0.6167 - val_loss: 0.8060 - val_acc: 0.6089\n",
      "Epoch 13/120\n",
      "5818/5818 [==============================] - 4s 654us/step - loss: 0.7902 - acc: 0.6224 - val_loss: 0.7871 - val_acc: 0.6241\n",
      "Epoch 14/120\n",
      "5818/5818 [==============================] - 4s 667us/step - loss: 0.7872 - acc: 0.6256 - val_loss: 0.7889 - val_acc: 0.6227\n",
      "Epoch 15/120\n",
      "5818/5818 [==============================] - 5s 802us/step - loss: 0.7840 - acc: 0.6212 - val_loss: 0.7799 - val_acc: 0.6192\n",
      "Epoch 16/120\n",
      "5818/5818 [==============================] - 4s 730us/step - loss: 0.7871 - acc: 0.6226 - val_loss: 0.7834 - val_acc: 0.6172\n",
      "Epoch 17/120\n",
      "5818/5818 [==============================] - 4s 633us/step - loss: 0.7833 - acc: 0.6244 - val_loss: 0.7743 - val_acc: 0.6330\n",
      "Epoch 18/120\n",
      "5818/5818 [==============================] - 4s 659us/step - loss: 0.7784 - acc: 0.6270 - val_loss: 0.7798 - val_acc: 0.6186\n",
      "Epoch 19/120\n",
      "5818/5818 [==============================] - 4s 658us/step - loss: 0.7800 - acc: 0.6224 - val_loss: 0.7813 - val_acc: 0.6247\n",
      "Epoch 20/120\n",
      "5818/5818 [==============================] - 4s 639us/step - loss: 0.7769 - acc: 0.6298 - val_loss: 0.7735 - val_acc: 0.6351\n",
      "Epoch 21/120\n",
      "5818/5818 [==============================] - 4s 693us/step - loss: 0.7799 - acc: 0.6332 - val_loss: 0.7734 - val_acc: 0.6289\n",
      "Epoch 22/120\n",
      "5818/5818 [==============================] - 4s 640us/step - loss: 0.7722 - acc: 0.6303 - val_loss: 0.7707 - val_acc: 0.6296\n",
      "Epoch 23/120\n",
      "5818/5818 [==============================] - 4s 713us/step - loss: 0.7773 - acc: 0.6281 - val_loss: 0.7698 - val_acc: 0.6323\n",
      "Epoch 24/120\n",
      "5818/5818 [==============================] - 4s 625us/step - loss: 0.7714 - acc: 0.6334 - val_loss: 0.7680 - val_acc: 0.6337\n",
      "Epoch 25/120\n",
      "5818/5818 [==============================] - 4s 652us/step - loss: 0.7741 - acc: 0.6330 - val_loss: 0.7689 - val_acc: 0.6296\n",
      "Epoch 26/120\n",
      "5818/5818 [==============================] - 4s 693us/step - loss: 0.7675 - acc: 0.6372 - val_loss: 0.7661 - val_acc: 0.6357\n",
      "Epoch 27/120\n",
      "5818/5818 [==============================] - 4s 628us/step - loss: 0.7618 - acc: 0.6336 - val_loss: 0.7652 - val_acc: 0.6344\n",
      "Epoch 28/120\n",
      "5818/5818 [==============================] - 5s 838us/step - loss: 0.7679 - acc: 0.6360 - val_loss: 0.7686 - val_acc: 0.6351\n",
      "Epoch 29/120\n",
      "5818/5818 [==============================] - 4s 750us/step - loss: 0.7637 - acc: 0.6375 - val_loss: 0.7607 - val_acc: 0.6378\n",
      "Epoch 30/120\n",
      "5818/5818 [==============================] - 4s 644us/step - loss: 0.7668 - acc: 0.6329 - val_loss: 0.7598 - val_acc: 0.6399\n",
      "Epoch 31/120\n",
      "5818/5818 [==============================] - 4s 632us/step - loss: 0.7612 - acc: 0.6365 - val_loss: 0.7670 - val_acc: 0.6419\n",
      "Epoch 32/120\n",
      "5818/5818 [==============================] - 4s 652us/step - loss: 0.7534 - acc: 0.6440 - val_loss: 0.7595 - val_acc: 0.6460\n",
      "Epoch 33/120\n",
      "5818/5818 [==============================] - 4s 615us/step - loss: 0.7613 - acc: 0.6339 - val_loss: 0.7583 - val_acc: 0.6474\n",
      "Epoch 34/120\n",
      "5818/5818 [==============================] - 4s 638us/step - loss: 0.7534 - acc: 0.6353 - val_loss: 0.7530 - val_acc: 0.6467\n",
      "Epoch 35/120\n",
      "5818/5818 [==============================] - 4s 643us/step - loss: 0.7552 - acc: 0.6384 - val_loss: 0.7564 - val_acc: 0.6481\n",
      "Epoch 36/120\n",
      "5818/5818 [==============================] - 4s 659us/step - loss: 0.7494 - acc: 0.6461 - val_loss: 0.7528 - val_acc: 0.6440\n",
      "Epoch 37/120\n",
      "5818/5818 [==============================] - 4s 673us/step - loss: 0.7529 - acc: 0.6444 - val_loss: 0.7514 - val_acc: 0.6467\n",
      "Epoch 38/120\n",
      "5818/5818 [==============================] - 4s 624us/step - loss: 0.7457 - acc: 0.6464 - val_loss: 0.7513 - val_acc: 0.6550\n",
      "Epoch 39/120\n",
      "5818/5818 [==============================] - 4s 626us/step - loss: 0.7494 - acc: 0.6401 - val_loss: 0.7516 - val_acc: 0.6495\n",
      "Epoch 40/120\n",
      "5818/5818 [==============================] - 4s 688us/step - loss: 0.7450 - acc: 0.6447 - val_loss: 0.7510 - val_acc: 0.6488\n",
      "Epoch 41/120\n",
      "5818/5818 [==============================] - 4s 653us/step - loss: 0.7462 - acc: 0.6475 - val_loss: 0.7459 - val_acc: 0.6543\n",
      "Epoch 42/120\n",
      "5818/5818 [==============================] - 4s 610us/step - loss: 0.7473 - acc: 0.6514 - val_loss: 0.7458 - val_acc: 0.6495\n",
      "Epoch 43/120\n",
      "5818/5818 [==============================] - 4s 633us/step - loss: 0.7440 - acc: 0.6521 - val_loss: 0.7447 - val_acc: 0.6509\n",
      "Epoch 44/120\n",
      "5818/5818 [==============================] - 4s 609us/step - loss: 0.7450 - acc: 0.6494 - val_loss: 0.7458 - val_acc: 0.6529\n",
      "Epoch 45/120\n",
      "5818/5818 [==============================] - 4s 637us/step - loss: 0.7379 - acc: 0.6526 - val_loss: 0.7408 - val_acc: 0.6591\n",
      "Epoch 46/120\n",
      "5818/5818 [==============================] - 4s 615us/step - loss: 0.7380 - acc: 0.6525 - val_loss: 0.7418 - val_acc: 0.6577\n",
      "Epoch 47/120\n",
      "5818/5818 [==============================] - 4s 647us/step - loss: 0.7383 - acc: 0.6495 - val_loss: 0.7348 - val_acc: 0.6625\n",
      "Epoch 48/120\n",
      "5818/5818 [==============================] - 4s 623us/step - loss: 0.7326 - acc: 0.6595 - val_loss: 0.7386 - val_acc: 0.6625\n",
      "Epoch 49/120\n",
      "5818/5818 [==============================] - 4s 643us/step - loss: 0.7238 - acc: 0.6652 - val_loss: 0.7364 - val_acc: 0.6625\n",
      "Epoch 50/120\n",
      "5818/5818 [==============================] - 4s 637us/step - loss: 0.7326 - acc: 0.6583 - val_loss: 0.7341 - val_acc: 0.6680\n",
      "Epoch 51/120\n",
      "5818/5818 [==============================] - 4s 674us/step - loss: 0.7301 - acc: 0.6571 - val_loss: 0.7411 - val_acc: 0.6646\n",
      "Epoch 52/120\n",
      "5818/5818 [==============================] - 4s 652us/step - loss: 0.7322 - acc: 0.6576 - val_loss: 0.7325 - val_acc: 0.6591\n",
      "Epoch 53/120\n",
      "5818/5818 [==============================] - 4s 618us/step - loss: 0.7219 - acc: 0.6631 - val_loss: 0.7315 - val_acc: 0.6660\n",
      "Epoch 54/120\n",
      "5818/5818 [==============================] - 4s 644us/step - loss: 0.7271 - acc: 0.6624 - val_loss: 0.7384 - val_acc: 0.6639\n",
      "Epoch 55/120\n",
      "5818/5818 [==============================] - 4s 647us/step - loss: 0.7265 - acc: 0.6556 - val_loss: 0.7291 - val_acc: 0.6625\n",
      "Epoch 56/120\n",
      "5818/5818 [==============================] - 4s 657us/step - loss: 0.7230 - acc: 0.6545 - val_loss: 0.7359 - val_acc: 0.6577\n",
      "Epoch 57/120\n",
      "5818/5818 [==============================] - 4s 672us/step - loss: 0.7238 - acc: 0.6576 - val_loss: 0.7325 - val_acc: 0.6646\n",
      "Epoch 58/120\n",
      "5818/5818 [==============================] - 4s 628us/step - loss: 0.7230 - acc: 0.6580 - val_loss: 0.7289 - val_acc: 0.6653\n",
      "Epoch 59/120\n",
      "5818/5818 [==============================] - 4s 637us/step - loss: 0.7197 - acc: 0.6574 - val_loss: 0.7279 - val_acc: 0.6687\n",
      "Epoch 60/120\n",
      "5818/5818 [==============================] - 4s 648us/step - loss: 0.7171 - acc: 0.6681 - val_loss: 0.7283 - val_acc: 0.6660\n",
      "Epoch 61/120\n",
      "5818/5818 [==============================] - 4s 631us/step - loss: 0.7098 - acc: 0.6669 - val_loss: 0.7335 - val_acc: 0.6653\n",
      "Epoch 62/120\n",
      "5818/5818 [==============================] - 4s 648us/step - loss: 0.7179 - acc: 0.6635 - val_loss: 0.7296 - val_acc: 0.6667\n",
      "Epoch 63/120\n",
      "5818/5818 [==============================] - 4s 633us/step - loss: 0.7166 - acc: 0.6653 - val_loss: 0.7289 - val_acc: 0.6687\n",
      "Epoch 64/120\n",
      "5818/5818 [==============================] - 4s 640us/step - loss: 0.7127 - acc: 0.6667 - val_loss: 0.7261 - val_acc: 0.6735\n",
      "Epoch 65/120\n",
      "5818/5818 [==============================] - 4s 654us/step - loss: 0.7122 - acc: 0.6600 - val_loss: 0.7287 - val_acc: 0.6701\n",
      "Epoch 66/120\n",
      "5818/5818 [==============================] - 4s 614us/step - loss: 0.7116 - acc: 0.6624 - val_loss: 0.7217 - val_acc: 0.6763\n",
      "Epoch 67/120\n",
      "5818/5818 [==============================] - 4s 615us/step - loss: 0.7111 - acc: 0.6719 - val_loss: 0.7284 - val_acc: 0.6715\n",
      "Epoch 68/120\n",
      "5818/5818 [==============================] - 4s 681us/step - loss: 0.7083 - acc: 0.6710 - val_loss: 0.7239 - val_acc: 0.6715\n",
      "Epoch 69/120\n",
      "5818/5818 [==============================] - 4s 692us/step - loss: 0.7107 - acc: 0.6717 - val_loss: 0.7276 - val_acc: 0.6715\n",
      "Epoch 70/120\n",
      "5818/5818 [==============================] - 4s 661us/step - loss: 0.7118 - acc: 0.6657 - val_loss: 0.7250 - val_acc: 0.6729\n",
      "Epoch 71/120\n",
      "5818/5818 [==============================] - 4s 654us/step - loss: 0.7005 - acc: 0.6746 - val_loss: 0.7231 - val_acc: 0.6687\n",
      "Epoch 72/120\n",
      "5818/5818 [==============================] - 4s 702us/step - loss: 0.7044 - acc: 0.6684 - val_loss: 0.7235 - val_acc: 0.6701\n",
      "Epoch 73/120\n",
      "5818/5818 [==============================] - 4s 731us/step - loss: 0.7077 - acc: 0.6722 - val_loss: 0.7250 - val_acc: 0.6735\n",
      "Epoch 74/120\n",
      "5818/5818 [==============================] - 4s 662us/step - loss: 0.7069 - acc: 0.6724 - val_loss: 0.7263 - val_acc: 0.6722\n",
      "Epoch 75/120\n",
      "5818/5818 [==============================] - 4s 676us/step - loss: 0.6979 - acc: 0.6800 - val_loss: 0.7236 - val_acc: 0.6674\n",
      "Epoch 76/120\n",
      "5818/5818 [==============================] - 4s 681us/step - loss: 0.7024 - acc: 0.6738 - val_loss: 0.7226 - val_acc: 0.6784\n",
      "Epoch 77/120\n",
      "5818/5818 [==============================] - 4s 656us/step - loss: 0.6986 - acc: 0.6784 - val_loss: 0.7233 - val_acc: 0.6742\n",
      "Epoch 78/120\n",
      "5818/5818 [==============================] - 4s 702us/step - loss: 0.6945 - acc: 0.6770 - val_loss: 0.7257 - val_acc: 0.6715\n",
      "Epoch 79/120\n",
      "5818/5818 [==============================] - 4s 713us/step - loss: 0.6955 - acc: 0.6798 - val_loss: 0.7214 - val_acc: 0.6701\n",
      "Epoch 80/120\n",
      "5818/5818 [==============================] - 4s 685us/step - loss: 0.6981 - acc: 0.6741 - val_loss: 0.7263 - val_acc: 0.6722\n",
      "Epoch 81/120\n",
      "5818/5818 [==============================] - 4s 663us/step - loss: 0.6880 - acc: 0.6794 - val_loss: 0.7220 - val_acc: 0.6777\n",
      "Epoch 82/120\n",
      "5818/5818 [==============================] - 4s 655us/step - loss: 0.6932 - acc: 0.6753 - val_loss: 0.7192 - val_acc: 0.6777\n",
      "Epoch 83/120\n",
      "5818/5818 [==============================] - 4s 670us/step - loss: 0.6929 - acc: 0.6769 - val_loss: 0.7196 - val_acc: 0.6777\n",
      "Epoch 84/120\n",
      "5818/5818 [==============================] - 4s 669us/step - loss: 0.6829 - acc: 0.6832 - val_loss: 0.7181 - val_acc: 0.6777\n",
      "Epoch 85/120\n",
      "5818/5818 [==============================] - 4s 626us/step - loss: 0.6829 - acc: 0.6839 - val_loss: 0.7184 - val_acc: 0.6777\n",
      "Epoch 86/120\n",
      "5818/5818 [==============================] - 4s 611us/step - loss: 0.6903 - acc: 0.6839 - val_loss: 0.7175 - val_acc: 0.6777\n",
      "Epoch 87/120\n",
      "5818/5818 [==============================] - 4s 645us/step - loss: 0.6899 - acc: 0.6855 - val_loss: 0.7210 - val_acc: 0.6777\n",
      "Epoch 88/120\n",
      "5818/5818 [==============================] - 4s 675us/step - loss: 0.6888 - acc: 0.6782 - val_loss: 0.7204 - val_acc: 0.6784\n",
      "Epoch 89/120\n",
      "5818/5818 [==============================] - 4s 613us/step - loss: 0.6881 - acc: 0.6788 - val_loss: 0.7214 - val_acc: 0.6818\n",
      "Epoch 90/120\n",
      "5818/5818 [==============================] - 4s 627us/step - loss: 0.6847 - acc: 0.6810 - val_loss: 0.7183 - val_acc: 0.6770\n",
      "Epoch 91/120\n",
      "5818/5818 [==============================] - 4s 627us/step - loss: 0.6916 - acc: 0.6796 - val_loss: 0.7142 - val_acc: 0.6811\n",
      "Epoch 92/120\n",
      "5818/5818 [==============================] - 4s 655us/step - loss: 0.6838 - acc: 0.6774 - val_loss: 0.7134 - val_acc: 0.6804\n",
      "Epoch 93/120\n",
      "5818/5818 [==============================] - 4s 641us/step - loss: 0.6868 - acc: 0.6796 - val_loss: 0.7116 - val_acc: 0.6777\n",
      "Epoch 94/120\n",
      "5818/5818 [==============================] - 4s 749us/step - loss: 0.6839 - acc: 0.6860 - val_loss: 0.7192 - val_acc: 0.6804\n",
      "Epoch 95/120\n",
      "5818/5818 [==============================] - 4s 629us/step - loss: 0.6836 - acc: 0.6789 - val_loss: 0.7185 - val_acc: 0.6742\n",
      "Epoch 96/120\n",
      "5818/5818 [==============================] - 4s 612us/step - loss: 0.6819 - acc: 0.6824 - val_loss: 0.7124 - val_acc: 0.6825\n",
      "Epoch 97/120\n",
      "5818/5818 [==============================] - 4s 637us/step - loss: 0.6761 - acc: 0.6892 - val_loss: 0.7194 - val_acc: 0.6777\n",
      "Epoch 98/120\n",
      "5818/5818 [==============================] - 4s 641us/step - loss: 0.6828 - acc: 0.6834 - val_loss: 0.7144 - val_acc: 0.6832\n",
      "Epoch 99/120\n",
      "5818/5818 [==============================] - 4s 667us/step - loss: 0.6733 - acc: 0.6860 - val_loss: 0.7120 - val_acc: 0.6866\n",
      "Epoch 100/120\n",
      "5818/5818 [==============================] - 4s 630us/step - loss: 0.6719 - acc: 0.6889 - val_loss: 0.7123 - val_acc: 0.6811\n",
      "Epoch 101/120\n",
      "5818/5818 [==============================] - 5s 921us/step - loss: 0.6758 - acc: 0.6825 - val_loss: 0.7109 - val_acc: 0.6845\n",
      "Epoch 102/120\n",
      "5818/5818 [==============================] - 4s 773us/step - loss: 0.6766 - acc: 0.6941 - val_loss: 0.7106 - val_acc: 0.6845\n",
      "Epoch 103/120\n",
      "5818/5818 [==============================] - 5s 817us/step - loss: 0.6701 - acc: 0.6944 - val_loss: 0.7112 - val_acc: 0.6811\n",
      "Epoch 104/120\n",
      "5818/5818 [==============================] - 4s 682us/step - loss: 0.6755 - acc: 0.6877 - val_loss: 0.7095 - val_acc: 0.6818\n",
      "Epoch 105/120\n",
      "5818/5818 [==============================] - 3s 585us/step - loss: 0.6760 - acc: 0.6886 - val_loss: 0.7155 - val_acc: 0.6832\n",
      "Epoch 106/120\n",
      "5818/5818 [==============================] - 4s 615us/step - loss: 0.6729 - acc: 0.6861 - val_loss: 0.7106 - val_acc: 0.6859\n",
      "Epoch 107/120\n",
      "5818/5818 [==============================] - 4s 610us/step - loss: 0.6691 - acc: 0.6918 - val_loss: 0.7122 - val_acc: 0.6777\n",
      "Epoch 108/120\n",
      "5818/5818 [==============================] - 4s 626us/step - loss: 0.6669 - acc: 0.6870 - val_loss: 0.7188 - val_acc: 0.6838\n",
      "Epoch 109/120\n",
      "5818/5818 [==============================] - 3s 588us/step - loss: 0.6698 - acc: 0.6913 - val_loss: 0.7126 - val_acc: 0.6832\n",
      "Epoch 110/120\n",
      "5818/5818 [==============================] - 3s 577us/step - loss: 0.6695 - acc: 0.6965 - val_loss: 0.7111 - val_acc: 0.6790\n",
      "Epoch 111/120\n",
      "5818/5818 [==============================] - 3s 586us/step - loss: 0.6695 - acc: 0.6956 - val_loss: 0.7106 - val_acc: 0.6873\n",
      "Epoch 112/120\n",
      "5818/5818 [==============================] - 4s 632us/step - loss: 0.6692 - acc: 0.6880 - val_loss: 0.7125 - val_acc: 0.6845\n",
      "Epoch 113/120\n",
      "5818/5818 [==============================] - 4s 665us/step - loss: 0.6641 - acc: 0.6913 - val_loss: 0.7151 - val_acc: 0.6797\n",
      "Epoch 114/120\n",
      "5818/5818 [==============================] - 3s 580us/step - loss: 0.6624 - acc: 0.6935 - val_loss: 0.7113 - val_acc: 0.6838\n",
      "Epoch 115/120\n",
      "5818/5818 [==============================] - 4s 622us/step - loss: 0.6653 - acc: 0.6987 - val_loss: 0.7110 - val_acc: 0.6818\n",
      "Epoch 116/120\n",
      "5818/5818 [==============================] - 4s 666us/step - loss: 0.6686 - acc: 0.6963 - val_loss: 0.7109 - val_acc: 0.6804\n",
      "Epoch 117/120\n",
      "5818/5818 [==============================] - 4s 617us/step - loss: 0.6635 - acc: 0.6935 - val_loss: 0.7074 - val_acc: 0.6866\n",
      "Epoch 118/120\n",
      "5818/5818 [==============================] - 4s 640us/step - loss: 0.6624 - acc: 0.6963 - val_loss: 0.7095 - val_acc: 0.6928\n",
      "Epoch 119/120\n",
      "5818/5818 [==============================] - 3s 601us/step - loss: 0.6606 - acc: 0.6944 - val_loss: 0.7206 - val_acc: 0.6832\n",
      "Epoch 120/120\n",
      "5818/5818 [==============================] - 4s 637us/step - loss: 0.6622 - acc: 0.6930 - val_loss: 0.7094 - val_acc: 0.6832\n"
     ]
    }
   ],
   "source": [
    "history_3 = lstm_mod3.fit(X_train, y_train,\n",
    "                    validation_split = 0.2,\n",
    "                    callbacks=early_stopping,\n",
    "                    epochs=120, batch_size=500)"
   ]
  },
  {
   "cell_type": "code",
   "execution_count": 77,
   "metadata": {},
   "outputs": [
    {
     "data": {
      "image/png": "[encoded data removed]",
      "text/plain": [
       "<Figure size 432x288 with 1 Axes>"
      ]
     },
     "metadata": {
      "needs_background": "light"
     },
     "output_type": "display_data"
    },
    {
     "data": {
      "image/png": "[encoded data removed]",
      "text/plain": [
       "<Figure size 432x288 with 1 Axes>"
      ]
     },
     "metadata": {
      "needs_background": "light"
     },
     "output_type": "display_data"
    }
   ],
   "source": [
    "visualize_training_results(history_3)"
   ]
  },
  {
   "cell_type": "code",
   "execution_count": 78,
   "metadata": {},
   "outputs": [
    {
     "name": "stdout",
     "output_type": "stream",
     "text": [
      "Training Accuracy: 0.7427\n",
      "Testing Accuracy:  0.6861\n"
     ]
    }
   ],
   "source": [
    "# Find train and test accuracy\n",
    "loss, accuracy = lstm_mod3.evaluate(X_train, y_train, verbose=False)\n",
    "print(\"Training Accuracy: {:.4f}\".format(accuracy))\n",
    "loss, accuracy = lstm_mod3.evaluate(X_test, y_test, verbose=False)\n",
    "print(\"Testing Accuracy:  {:.4f}\".format(accuracy))"
   ]
  },
  {
   "cell_type": "code",
   "execution_count": 147,
   "metadata": {},
   "outputs": [],
   "source": [
    "y_pred = lstm_mod3.predict(X_test)\n",
    "y_pred = np.argmax(y_pred, axis=1)"
   ]
  },
  {
   "cell_type": "code",
   "execution_count": 148,
   "metadata": {},
   "outputs": [
    {
     "data": {
      "text/plain": [
       "array([1, 1, 1, ..., 2, 1, 1])"
      ]
     },
     "execution_count": 148,
     "metadata": {},
     "output_type": "execute_result"
    }
   ],
   "source": [
    "y_pred"
   ]
  },
  {
   "cell_type": "code",
   "execution_count": 158,
   "metadata": {},
   "outputs": [
    {
     "data": {
      "text/plain": [
       "array([1, 1, 1, ..., 2, 2, 2])"
      ]
     },
     "execution_count": 158,
     "metadata": {},
     "output_type": "execute_result"
    }
   ],
   "source": [
    "Y_test = np.argmax(y_test, axis=1)\n",
    "Y_test"
   ]
  },
  {
   "cell_type": "markdown",
   "metadata": {},
   "source": [
    "#### Plot confusion matrix"
   ]
  },
  {
   "cell_type": "code",
   "execution_count": 163,
   "metadata": {},
   "outputs": [],
   "source": [
    "class_names = np.array(['Negative', 'Positive', 'Neutral'])"
   ]
  },
  {
   "cell_type": "code",
   "execution_count": 167,
   "metadata": {},
   "outputs": [
    {
     "name": "stdout",
     "output_type": "stream",
     "text": [
      "Confusion matrix, without normalization\n",
      "[[ 20  66  27]\n",
      " [ 16 924 162]\n",
      " [  2 298 304]]\n",
      "Normalized confusion matrix\n",
      "[[0.18 0.58 0.24]\n",
      " [0.01 0.84 0.15]\n",
      " [0.   0.49 0.5 ]]\n"
     ]
    },
    {
     "data": {
      "image/png": "[encoded data removed]",
      "text/plain": [
       "<Figure size 576x396 with 2 Axes>"
      ]
     },
     "metadata": {},
     "output_type": "display_data"
    },
    {
     "data": {
      "image/png": "[encoded data removed]",
      "text/plain": [
       "<Figure size 576x396 with 2 Axes>"
      ]
     },
     "metadata": {},
     "output_type": "display_data"
    }
   ],
   "source": [
    "def plot_confusion_matrix(y_true, y_pred, classes,\n",
    "                          normalize=False,\n",
    "                          title=None,\n",
    "                          cmap=plt.cm.Blues):\n",
    "    \"\"\"\n",
    "    This function prints and plots the confusion matrix.\n",
    "    Normalization can be applied by setting `normalize=True`.\n",
    "    \"\"\"\n",
    "    if not title:\n",
    "        if normalize:\n",
    "            title = 'Normalized confusion matrix'\n",
    "        else:\n",
    "            title = 'Confusion matrix, without normalization'\n",
    "\n",
    "    # Compute confusion matrix\n",
    "    cm = confusion_matrix(y_true, y_pred)\n",
    "    # Only use the labels that appear in the data\n",
    "    classes = classes[unique_labels(y_true, y_pred)]\n",
    "    if normalize:\n",
    "        cm = cm.astype('float') / cm.sum(axis=1)[:, np.newaxis]\n",
    "        print(\"Normalized confusion matrix\")\n",
    "    else:\n",
    "        print('Confusion matrix, without normalization')\n",
    "\n",
    "    print(cm)\n",
    "\n",
    "    fig, ax = plt.subplots()\n",
    "    plt.grid(False)\n",
    "    im = ax.imshow(cm, interpolation='nearest', cmap=cmap)\n",
    "    ax.figure.colorbar(im, ax=ax)\n",
    "    # We want to show all ticks...\n",
    "    ax.set(xticks=np.arange(cm.shape[1]),\n",
    "           yticks=np.arange(cm.shape[0]),\n",
    "           # ... and label them with the respective list entries\n",
    "           xticklabels=classes, yticklabels=classes,\n",
    "           title=title,\n",
    "           ylabel='True label',\n",
    "           xlabel='Predicted label')\n",
    "\n",
    "    # Rotate the tick labels and set their alignment.\n",
    "    plt.setp(ax.get_xticklabels(), rotation=45, ha=\"right\",\n",
    "             rotation_mode=\"anchor\")\n",
    "\n",
    "    # Loop over data dimensions and create text annotations.\n",
    "    fmt = '.2f' if normalize else 'd'\n",
    "    thresh = cm.max() / 2.\n",
    "    for i in range(cm.shape[0]):\n",
    "        for j in range(cm.shape[1]):\n",
    "            ax.text(j, i, format(cm[i, j], fmt),\n",
    "                    ha=\"center\", va=\"center\",\n",
    "                    color=\"white\" if cm[i, j] > thresh else \"black\")\n",
    "    fig.tight_layout()\n",
    "    return ax\n",
    "\n",
    "\n",
    "np.set_printoptions(precision=2)\n",
    "\n",
    "# Plot non-normalized confusion matrix\n",
    "plot_confusion_matrix(Y_test, y_pred, classes=class_names,\n",
    "                      title='Confusion matrix, without normalization')\n",
    "\n",
    "# Plot normalized confusion matrix\n",
    "plot_confusion_matrix(Y_test, y_pred, classes=class_names, normalize=True,\n",
    "                      title='Normalized confusion matrix')\n",
    "\n",
    "plt.show()"
   ]
  },
  {
   "cell_type": "markdown",
   "metadata": {},
   "source": [
    "### Model 4: GRU Layer Stacking"
   ]
  },
  {
   "cell_type": "code",
   "execution_count": 95,
   "metadata": {},
   "outputs": [
    {
     "name": "stdout",
     "output_type": "stream",
     "text": [
      "_________________________________________________________________\n",
      "Layer (type)                 Output Shape              Param #   \n",
      "=================================================================\n",
      "embedding_1 (Embedding)      (None, 24, 50)            507400    \n",
      "_________________________________________________________________\n",
      "gru_7 (GRU)                  (None, 24, 64)            22080     \n",
      "_________________________________________________________________\n",
      "gru_8 (GRU)                  (None, 32)                9312      \n",
      "_________________________________________________________________\n",
      "dense_8 (Dense)              (None, 3)                 99        \n",
      "=================================================================\n",
      "Total params: 538,891\n",
      "Trainable params: 31,491\n",
      "Non-trainable params: 507,400\n",
      "_________________________________________________________________\n"
     ]
    }
   ],
   "source": [
    "# GRU Model 2: reduce number of epochs\n",
    "model_4 = Sequential()\n",
    "model_4.add(embedding_layer)\n",
    "# model_4.add(Dropout(0.3))\n",
    "model_4.add(GRU(64, \n",
    "               dropout = 0.3, \n",
    "               recurrent_dropout = 0.5,\n",
    "                 return_sequences = True))\n",
    "model_4.add(GRU(32,\n",
    "                dropout = 0.3,\n",
    "                recurrent_dropout = 0.5))\n",
    "model_4.add(Dense(3, activation='softmax'))\n",
    "model_4.compile(optimizer='adam', loss='categorical_crossentropy', metrics=['acc'])\n",
    "model_4.summary()"
   ]
  },
  {
   "cell_type": "code",
   "execution_count": 96,
   "metadata": {},
   "outputs": [],
   "source": [
    "# Import EarlyStopping and ModelCheckpoint\n",
    "from keras.callbacks import EarlyStopping, ModelCheckpoint\n",
    "\n",
    "# Define the callbacks\n",
    "early_stopping = [EarlyStopping(monitor='val_loss', patience=15), \n",
    "                  ModelCheckpoint(filepath='best_model_gru.h5', monitor='val_loss', save_best_only=True)]"
   ]
  },
  {
   "cell_type": "code",
   "execution_count": 97,
   "metadata": {
    "collapsed": true,
    "jupyter": {
     "outputs_hidden": true
    }
   },
   "outputs": [
    {
     "name": "stdout",
     "output_type": "stream",
     "text": [
      "Train on 5818 samples, validate on 1455 samples\n",
      "Epoch 1/160\n",
      "5818/5818 [==============================] - 5s 875us/step - loss: 0.9517 - acc: 0.5524 - val_loss: 0.8473 - val_acc: 0.6027\n",
      "Epoch 2/160\n",
      "5818/5818 [==============================] - 3s 436us/step - loss: 0.8527 - acc: 0.6076 - val_loss: 0.8542 - val_acc: 0.6021\n",
      "Epoch 3/160\n",
      "5818/5818 [==============================] - 3s 513us/step - loss: 0.8422 - acc: 0.6107 - val_loss: 0.8358 - val_acc: 0.5986\n",
      "Epoch 4/160\n",
      "5818/5818 [==============================] - 3s 522us/step - loss: 0.8298 - acc: 0.6091 - val_loss: 0.8207 - val_acc: 0.6014\n",
      "Epoch 5/160\n",
      "5818/5818 [==============================] - 3s 563us/step - loss: 0.8269 - acc: 0.6131 - val_loss: 0.8176 - val_acc: 0.6041\n",
      "Epoch 6/160\n",
      "5818/5818 [==============================] - 3s 489us/step - loss: 0.8197 - acc: 0.6134 - val_loss: 0.8155 - val_acc: 0.6007\n",
      "Epoch 7/160\n",
      "5818/5818 [==============================] - 3s 466us/step - loss: 0.8167 - acc: 0.6146 - val_loss: 0.8131 - val_acc: 0.6027\n",
      "Epoch 8/160\n",
      "5818/5818 [==============================] - 3s 439us/step - loss: 0.8148 - acc: 0.6086 - val_loss: 0.8098 - val_acc: 0.6027\n",
      "Epoch 9/160\n",
      "5818/5818 [==============================] - 2s 412us/step - loss: 0.8098 - acc: 0.6146 - val_loss: 0.8078 - val_acc: 0.6055\n",
      "Epoch 10/160\n",
      "5818/5818 [==============================] - 3s 438us/step - loss: 0.8091 - acc: 0.6129 - val_loss: 0.8060 - val_acc: 0.6062\n",
      "Epoch 11/160\n",
      "5818/5818 [==============================] - 2s 399us/step - loss: 0.8012 - acc: 0.6181 - val_loss: 0.8029 - val_acc: 0.6062\n",
      "Epoch 12/160\n",
      "5818/5818 [==============================] - 2s 396us/step - loss: 0.7997 - acc: 0.6201 - val_loss: 0.8039 - val_acc: 0.6069\n",
      "Epoch 13/160\n",
      "5818/5818 [==============================] - 2s 402us/step - loss: 0.8016 - acc: 0.6110 - val_loss: 0.7989 - val_acc: 0.6055\n",
      "Epoch 14/160\n",
      "5818/5818 [==============================] - 2s 414us/step - loss: 0.7954 - acc: 0.6200 - val_loss: 0.7966 - val_acc: 0.6062\n",
      "Epoch 15/160\n",
      "5818/5818 [==============================] - 2s 416us/step - loss: 0.7916 - acc: 0.6177 - val_loss: 0.7924 - val_acc: 0.6076\n",
      "Epoch 16/160\n",
      "5818/5818 [==============================] - 2s 392us/step - loss: 0.7868 - acc: 0.6277 - val_loss: 0.7896 - val_acc: 0.6089\n",
      "Epoch 17/160\n",
      "5818/5818 [==============================] - 2s 413us/step - loss: 0.7865 - acc: 0.6250 - val_loss: 0.7883 - val_acc: 0.6055\n",
      "Epoch 18/160\n",
      "5818/5818 [==============================] - 2s 398us/step - loss: 0.7790 - acc: 0.6270 - val_loss: 0.7840 - val_acc: 0.6137\n",
      "Epoch 19/160\n",
      "5818/5818 [==============================] - 3s 431us/step - loss: 0.7783 - acc: 0.6282 - val_loss: 0.7806 - val_acc: 0.6137\n",
      "Epoch 20/160\n",
      "5818/5818 [==============================] - 2s 395us/step - loss: 0.7732 - acc: 0.6294 - val_loss: 0.7809 - val_acc: 0.6165\n",
      "Epoch 21/160\n",
      "5818/5818 [==============================] - 2s 400us/step - loss: 0.7750 - acc: 0.6256 - val_loss: 0.7716 - val_acc: 0.6282\n",
      "Epoch 22/160\n",
      "5818/5818 [==============================] - 2s 401us/step - loss: 0.7701 - acc: 0.6384 - val_loss: 0.7724 - val_acc: 0.6247\n",
      "Epoch 23/160\n",
      "5818/5818 [==============================] - 2s 417us/step - loss: 0.7721 - acc: 0.6291 - val_loss: 0.7688 - val_acc: 0.6275\n",
      "Epoch 24/160\n",
      "5818/5818 [==============================] - 2s 397us/step - loss: 0.7636 - acc: 0.6325 - val_loss: 0.7692 - val_acc: 0.6323\n",
      "Epoch 25/160\n",
      "5818/5818 [==============================] - 2s 398us/step - loss: 0.7630 - acc: 0.6365 - val_loss: 0.7656 - val_acc: 0.6344\n",
      "Epoch 26/160\n",
      "5818/5818 [==============================] - 2s 411us/step - loss: 0.7613 - acc: 0.6344 - val_loss: 0.7613 - val_acc: 0.6344\n",
      "Epoch 27/160\n",
      "5818/5818 [==============================] - 2s 414us/step - loss: 0.7554 - acc: 0.6427 - val_loss: 0.7612 - val_acc: 0.6371\n",
      "Epoch 28/160\n",
      "5818/5818 [==============================] - 3s 432us/step - loss: 0.7546 - acc: 0.6475 - val_loss: 0.7578 - val_acc: 0.6371\n",
      "Epoch 29/160\n",
      "5818/5818 [==============================] - 3s 436us/step - loss: 0.7546 - acc: 0.6404 - val_loss: 0.7561 - val_acc: 0.6378\n",
      "Epoch 30/160\n",
      "5818/5818 [==============================] - 2s 408us/step - loss: 0.7493 - acc: 0.6439 - val_loss: 0.7553 - val_acc: 0.6412\n",
      "Epoch 31/160\n",
      "5818/5818 [==============================] - 2s 401us/step - loss: 0.7484 - acc: 0.6444 - val_loss: 0.7520 - val_acc: 0.6447\n",
      "Epoch 32/160\n",
      "5818/5818 [==============================] - 2s 421us/step - loss: 0.7468 - acc: 0.6433 - val_loss: 0.7519 - val_acc: 0.6412\n",
      "Epoch 33/160\n",
      "5818/5818 [==============================] - 2s 413us/step - loss: 0.7416 - acc: 0.6528 - val_loss: 0.7504 - val_acc: 0.6440\n",
      "Epoch 34/160\n",
      "5818/5818 [==============================] - 2s 399us/step - loss: 0.7467 - acc: 0.6535 - val_loss: 0.7459 - val_acc: 0.6405\n",
      "Epoch 35/160\n",
      "5818/5818 [==============================] - 2s 411us/step - loss: 0.7367 - acc: 0.6519 - val_loss: 0.7450 - val_acc: 0.6440\n",
      "Epoch 36/160\n",
      "5818/5818 [==============================] - 3s 436us/step - loss: 0.7372 - acc: 0.6533 - val_loss: 0.7444 - val_acc: 0.6481\n",
      "Epoch 37/160\n",
      "5818/5818 [==============================] - 2s 401us/step - loss: 0.7319 - acc: 0.6612 - val_loss: 0.7399 - val_acc: 0.6447\n",
      "Epoch 38/160\n",
      "5818/5818 [==============================] - 2s 395us/step - loss: 0.7312 - acc: 0.6550 - val_loss: 0.7411 - val_acc: 0.6474\n",
      "Epoch 39/160\n",
      "5818/5818 [==============================] - 3s 440us/step - loss: 0.7354 - acc: 0.6602 - val_loss: 0.7375 - val_acc: 0.6529\n",
      "Epoch 40/160\n",
      "5818/5818 [==============================] - 2s 393us/step - loss: 0.7339 - acc: 0.6549 - val_loss: 0.7344 - val_acc: 0.6550\n",
      "Epoch 41/160\n",
      "5818/5818 [==============================] - 2s 405us/step - loss: 0.7309 - acc: 0.6564 - val_loss: 0.7356 - val_acc: 0.6564\n",
      "Epoch 42/160\n",
      "5818/5818 [==============================] - 2s 394us/step - loss: 0.7239 - acc: 0.6597 - val_loss: 0.7336 - val_acc: 0.6598\n",
      "Epoch 43/160\n",
      "5818/5818 [==============================] - 3s 448us/step - loss: 0.7207 - acc: 0.6590 - val_loss: 0.7313 - val_acc: 0.6570\n",
      "Epoch 44/160\n",
      "5818/5818 [==============================] - 3s 458us/step - loss: 0.7244 - acc: 0.6592 - val_loss: 0.7298 - val_acc: 0.6550\n",
      "Epoch 45/160\n",
      "5818/5818 [==============================] - 3s 435us/step - loss: 0.7115 - acc: 0.6662 - val_loss: 0.7294 - val_acc: 0.6598\n",
      "Epoch 46/160\n",
      "5818/5818 [==============================] - 2s 404us/step - loss: 0.7232 - acc: 0.6583 - val_loss: 0.7315 - val_acc: 0.6570\n",
      "Epoch 47/160\n",
      "5818/5818 [==============================] - 2s 412us/step - loss: 0.7192 - acc: 0.6619 - val_loss: 0.7244 - val_acc: 0.6612\n",
      "Epoch 48/160\n",
      "5818/5818 [==============================] - 2s 399us/step - loss: 0.7154 - acc: 0.6676 - val_loss: 0.7263 - val_acc: 0.6619\n",
      "Epoch 49/160\n",
      "5818/5818 [==============================] - 2s 400us/step - loss: 0.7147 - acc: 0.6717 - val_loss: 0.7261 - val_acc: 0.6584\n",
      "Epoch 50/160\n",
      "5818/5818 [==============================] - 3s 430us/step - loss: 0.7126 - acc: 0.6731 - val_loss: 0.7225 - val_acc: 0.6639\n",
      "Epoch 51/160\n",
      "5818/5818 [==============================] - 3s 431us/step - loss: 0.7134 - acc: 0.6712 - val_loss: 0.7208 - val_acc: 0.6674\n",
      "Epoch 52/160\n",
      "5818/5818 [==============================] - 3s 589us/step - loss: 0.7103 - acc: 0.6638 - val_loss: 0.7220 - val_acc: 0.6694\n",
      "Epoch 53/160\n",
      "5818/5818 [==============================] - 3s 493us/step - loss: 0.7088 - acc: 0.6710 - val_loss: 0.7174 - val_acc: 0.6701\n",
      "Epoch 54/160\n",
      "5818/5818 [==============================] - 3s 462us/step - loss: 0.6986 - acc: 0.6739 - val_loss: 0.7205 - val_acc: 0.6680\n",
      "Epoch 55/160\n",
      "5818/5818 [==============================] - 3s 448us/step - loss: 0.7039 - acc: 0.6763 - val_loss: 0.7171 - val_acc: 0.6701\n",
      "Epoch 56/160\n",
      "5818/5818 [==============================] - 3s 449us/step - loss: 0.7102 - acc: 0.6691 - val_loss: 0.7151 - val_acc: 0.6790\n",
      "Epoch 57/160\n",
      "5818/5818 [==============================] - 2s 424us/step - loss: 0.7008 - acc: 0.6738 - val_loss: 0.7158 - val_acc: 0.6715\n",
      "Epoch 58/160\n",
      "5818/5818 [==============================] - 2s 384us/step - loss: 0.7025 - acc: 0.6805 - val_loss: 0.7155 - val_acc: 0.6715\n",
      "Epoch 59/160\n",
      "5818/5818 [==============================] - 2s 415us/step - loss: 0.6965 - acc: 0.6788 - val_loss: 0.7147 - val_acc: 0.6701\n",
      "Epoch 60/160\n",
      "5818/5818 [==============================] - 2s 403us/step - loss: 0.6954 - acc: 0.6770 - val_loss: 0.7137 - val_acc: 0.6708\n",
      "Epoch 61/160\n",
      "5818/5818 [==============================] - 2s 386us/step - loss: 0.6958 - acc: 0.6762 - val_loss: 0.7161 - val_acc: 0.6694\n",
      "Epoch 62/160\n",
      "5818/5818 [==============================] - 2s 401us/step - loss: 0.7031 - acc: 0.6741 - val_loss: 0.7096 - val_acc: 0.6756\n",
      "Epoch 63/160\n",
      "5818/5818 [==============================] - 4s 613us/step - loss: 0.6975 - acc: 0.6829 - val_loss: 0.7118 - val_acc: 0.6756\n",
      "Epoch 64/160\n",
      "5818/5818 [==============================] - 3s 559us/step - loss: 0.6919 - acc: 0.6800 - val_loss: 0.7095 - val_acc: 0.6763\n",
      "Epoch 65/160\n",
      "5818/5818 [==============================] - 4s 615us/step - loss: 0.6908 - acc: 0.6827 - val_loss: 0.7138 - val_acc: 0.6708\n",
      "Epoch 66/160\n",
      "5818/5818 [==============================] - 3s 547us/step - loss: 0.6942 - acc: 0.6800 - val_loss: 0.7100 - val_acc: 0.6756\n",
      "Epoch 67/160\n",
      "5818/5818 [==============================] - 3s 493us/step - loss: 0.6878 - acc: 0.6779 - val_loss: 0.7081 - val_acc: 0.6770\n",
      "Epoch 68/160\n",
      "5818/5818 [==============================] - 3s 449us/step - loss: 0.6847 - acc: 0.6851 - val_loss: 0.7105 - val_acc: 0.6653\n",
      "Epoch 69/160\n",
      "5818/5818 [==============================] - 3s 458us/step - loss: 0.6871 - acc: 0.6870 - val_loss: 0.7088 - val_acc: 0.6735\n",
      "Epoch 70/160\n",
      "5818/5818 [==============================] - 3s 521us/step - loss: 0.6886 - acc: 0.6868 - val_loss: 0.7054 - val_acc: 0.6735\n",
      "Epoch 71/160\n",
      "5818/5818 [==============================] - 3s 471us/step - loss: 0.6800 - acc: 0.6839 - val_loss: 0.7061 - val_acc: 0.6694\n",
      "Epoch 72/160\n",
      "5818/5818 [==============================] - 3s 559us/step - loss: 0.6793 - acc: 0.6846 - val_loss: 0.7037 - val_acc: 0.6729\n",
      "Epoch 73/160\n",
      "5818/5818 [==============================] - 4s 665us/step - loss: 0.6806 - acc: 0.6851 - val_loss: 0.7044 - val_acc: 0.6777\n",
      "Epoch 74/160\n",
      "5818/5818 [==============================] - 3s 518us/step - loss: 0.6785 - acc: 0.6839 - val_loss: 0.7050 - val_acc: 0.6756\n",
      "Epoch 75/160\n",
      "5818/5818 [==============================] - 3s 476us/step - loss: 0.6798 - acc: 0.6849 - val_loss: 0.7030 - val_acc: 0.6811\n",
      "Epoch 76/160\n",
      "5818/5818 [==============================] - 3s 540us/step - loss: 0.6737 - acc: 0.6908 - val_loss: 0.7052 - val_acc: 0.6722\n",
      "Epoch 77/160\n",
      "5818/5818 [==============================] - 3s 510us/step - loss: 0.6837 - acc: 0.6829 - val_loss: 0.7026 - val_acc: 0.6804\n",
      "Epoch 78/160\n",
      "5818/5818 [==============================] - 2s 427us/step - loss: 0.6764 - acc: 0.6898 - val_loss: 0.7002 - val_acc: 0.6770\n",
      "Epoch 79/160\n",
      "5818/5818 [==============================] - 3s 434us/step - loss: 0.6786 - acc: 0.6951 - val_loss: 0.7009 - val_acc: 0.6763\n",
      "Epoch 80/160\n",
      "5818/5818 [==============================] - 3s 430us/step - loss: 0.6780 - acc: 0.6906 - val_loss: 0.6999 - val_acc: 0.6735\n",
      "Epoch 81/160\n",
      "5818/5818 [==============================] - 2s 414us/step - loss: 0.6746 - acc: 0.6884 - val_loss: 0.6997 - val_acc: 0.6756\n",
      "Epoch 82/160\n",
      "5818/5818 [==============================] - 2s 415us/step - loss: 0.6720 - acc: 0.6880 - val_loss: 0.7015 - val_acc: 0.6790\n",
      "Epoch 83/160\n",
      "5818/5818 [==============================] - 3s 466us/step - loss: 0.6801 - acc: 0.6867 - val_loss: 0.6988 - val_acc: 0.6777\n",
      "Epoch 84/160\n",
      "5818/5818 [==============================] - 2s 412us/step - loss: 0.6742 - acc: 0.6868 - val_loss: 0.7015 - val_acc: 0.6770\n",
      "Epoch 85/160\n",
      "5818/5818 [==============================] - 2s 423us/step - loss: 0.6640 - acc: 0.6977 - val_loss: 0.6977 - val_acc: 0.6852\n",
      "Epoch 86/160\n",
      "5818/5818 [==============================] - 2s 420us/step - loss: 0.6717 - acc: 0.6870 - val_loss: 0.6967 - val_acc: 0.6784\n",
      "Epoch 87/160\n",
      "5818/5818 [==============================] - 2s 414us/step - loss: 0.6655 - acc: 0.6915 - val_loss: 0.6966 - val_acc: 0.6859\n",
      "Epoch 88/160\n",
      "5818/5818 [==============================] - 2s 390us/step - loss: 0.6591 - acc: 0.7014 - val_loss: 0.6979 - val_acc: 0.6832\n",
      "Epoch 89/160\n",
      "5818/5818 [==============================] - 2s 382us/step - loss: 0.6636 - acc: 0.6928 - val_loss: 0.7012 - val_acc: 0.6866\n",
      "Epoch 90/160\n",
      "5818/5818 [==============================] - 2s 377us/step - loss: 0.6581 - acc: 0.6996 - val_loss: 0.6979 - val_acc: 0.6790\n",
      "Epoch 91/160\n",
      "5818/5818 [==============================] - 2s 403us/step - loss: 0.6623 - acc: 0.7026 - val_loss: 0.6972 - val_acc: 0.6825\n",
      "Epoch 92/160\n",
      "5818/5818 [==============================] - 3s 452us/step - loss: 0.6606 - acc: 0.7039 - val_loss: 0.6944 - val_acc: 0.6852\n",
      "Epoch 93/160\n",
      "5818/5818 [==============================] - 2s 416us/step - loss: 0.6579 - acc: 0.6982 - val_loss: 0.7004 - val_acc: 0.6845\n",
      "Epoch 94/160\n",
      "5818/5818 [==============================] - 2s 384us/step - loss: 0.6600 - acc: 0.6989 - val_loss: 0.6937 - val_acc: 0.6887\n",
      "Epoch 95/160\n",
      "5818/5818 [==============================] - 2s 395us/step - loss: 0.6565 - acc: 0.7047 - val_loss: 0.6955 - val_acc: 0.6887\n",
      "Epoch 96/160\n",
      "5818/5818 [==============================] - 3s 445us/step - loss: 0.6590 - acc: 0.6903 - val_loss: 0.6960 - val_acc: 0.6893\n",
      "Epoch 97/160\n",
      "5818/5818 [==============================] - 2s 398us/step - loss: 0.6542 - acc: 0.6978 - val_loss: 0.6973 - val_acc: 0.6838\n",
      "Epoch 98/160\n",
      "5818/5818 [==============================] - 2s 414us/step - loss: 0.6521 - acc: 0.7030 - val_loss: 0.6992 - val_acc: 0.6921\n",
      "Epoch 99/160\n",
      "5818/5818 [==============================] - 2s 383us/step - loss: 0.6549 - acc: 0.7044 - val_loss: 0.6964 - val_acc: 0.6880\n",
      "Epoch 100/160\n",
      "5818/5818 [==============================] - 2s 392us/step - loss: 0.6467 - acc: 0.7081 - val_loss: 0.6967 - val_acc: 0.6880\n",
      "Epoch 101/160\n",
      "5818/5818 [==============================] - 2s 391us/step - loss: 0.6454 - acc: 0.7075 - val_loss: 0.6957 - val_acc: 0.6866\n",
      "Epoch 102/160\n",
      "5818/5818 [==============================] - 2s 391us/step - loss: 0.6536 - acc: 0.6968 - val_loss: 0.6947 - val_acc: 0.6866\n",
      "Epoch 103/160\n",
      "5818/5818 [==============================] - 2s 399us/step - loss: 0.6462 - acc: 0.7045 - val_loss: 0.6952 - val_acc: 0.6887\n",
      "Epoch 104/160\n",
      "5818/5818 [==============================] - 2s 396us/step - loss: 0.6457 - acc: 0.7064 - val_loss: 0.6949 - val_acc: 0.6893\n",
      "Epoch 105/160\n",
      "5818/5818 [==============================] - 2s 394us/step - loss: 0.6538 - acc: 0.7095 - val_loss: 0.6962 - val_acc: 0.6928\n",
      "Epoch 106/160\n",
      "5818/5818 [==============================] - 2s 379us/step - loss: 0.6440 - acc: 0.7037 - val_loss: 0.6970 - val_acc: 0.6866\n",
      "Epoch 107/160\n",
      "5818/5818 [==============================] - 3s 432us/step - loss: 0.6422 - acc: 0.7106 - val_loss: 0.6946 - val_acc: 0.6880\n",
      "Epoch 108/160\n",
      "5818/5818 [==============================] - 2s 387us/step - loss: 0.6491 - acc: 0.7071 - val_loss: 0.6930 - val_acc: 0.6873\n",
      "Epoch 109/160\n",
      "5818/5818 [==============================] - 2s 385us/step - loss: 0.6351 - acc: 0.7145 - val_loss: 0.6932 - val_acc: 0.6928\n",
      "Epoch 110/160\n",
      "5818/5818 [==============================] - 2s 384us/step - loss: 0.6559 - acc: 0.7076 - val_loss: 0.6958 - val_acc: 0.6893\n",
      "Epoch 111/160\n",
      "5818/5818 [==============================] - 2s 378us/step - loss: 0.6425 - acc: 0.7104 - val_loss: 0.6918 - val_acc: 0.6907\n",
      "Epoch 112/160\n",
      "5818/5818 [==============================] - 2s 385us/step - loss: 0.6424 - acc: 0.7092 - val_loss: 0.6916 - val_acc: 0.6969\n",
      "Epoch 113/160\n",
      "5818/5818 [==============================] - 2s 386us/step - loss: 0.6461 - acc: 0.7013 - val_loss: 0.6924 - val_acc: 0.6928\n",
      "Epoch 114/160\n",
      "5818/5818 [==============================] - 2s 379us/step - loss: 0.6327 - acc: 0.7114 - val_loss: 0.6914 - val_acc: 0.6948\n",
      "Epoch 115/160\n",
      "5818/5818 [==============================] - 2s 424us/step - loss: 0.6393 - acc: 0.7111 - val_loss: 0.6929 - val_acc: 0.6935\n",
      "Epoch 116/160\n",
      "5818/5818 [==============================] - 2s 390us/step - loss: 0.6349 - acc: 0.7087 - val_loss: 0.6916 - val_acc: 0.6948\n",
      "Epoch 117/160\n",
      "5818/5818 [==============================] - 2s 394us/step - loss: 0.6378 - acc: 0.7061 - val_loss: 0.6902 - val_acc: 0.6935\n",
      "Epoch 118/160\n",
      "5818/5818 [==============================] - 2s 398us/step - loss: 0.6412 - acc: 0.7076 - val_loss: 0.6910 - val_acc: 0.6935\n",
      "Epoch 119/160\n",
      "5818/5818 [==============================] - 2s 390us/step - loss: 0.6321 - acc: 0.7195 - val_loss: 0.6935 - val_acc: 0.6893\n",
      "Epoch 120/160\n",
      "5818/5818 [==============================] - 2s 416us/step - loss: 0.6315 - acc: 0.7171 - val_loss: 0.6919 - val_acc: 0.6928\n",
      "Epoch 121/160\n",
      "5818/5818 [==============================] - 2s 378us/step - loss: 0.6331 - acc: 0.7121 - val_loss: 0.6930 - val_acc: 0.6914\n",
      "Epoch 122/160\n",
      "5818/5818 [==============================] - 2s 378us/step - loss: 0.6336 - acc: 0.7159 - val_loss: 0.6918 - val_acc: 0.6935\n",
      "Epoch 123/160\n",
      "5818/5818 [==============================] - 2s 401us/step - loss: 0.6317 - acc: 0.7047 - val_loss: 0.6933 - val_acc: 0.6976\n",
      "Epoch 124/160\n",
      "5818/5818 [==============================] - 2s 417us/step - loss: 0.6240 - acc: 0.7200 - val_loss: 0.6927 - val_acc: 0.6942\n",
      "Epoch 125/160\n",
      "5818/5818 [==============================] - 2s 385us/step - loss: 0.6335 - acc: 0.7121 - val_loss: 0.6950 - val_acc: 0.6935\n",
      "Epoch 126/160\n",
      "5818/5818 [==============================] - 2s 391us/step - loss: 0.6310 - acc: 0.7080 - val_loss: 0.6991 - val_acc: 0.6907\n",
      "Epoch 127/160\n",
      "5818/5818 [==============================] - 2s 390us/step - loss: 0.6304 - acc: 0.7102 - val_loss: 0.6946 - val_acc: 0.6907\n",
      "Epoch 128/160\n",
      "5818/5818 [==============================] - 2s 387us/step - loss: 0.6244 - acc: 0.7133 - val_loss: 0.6946 - val_acc: 0.6921\n",
      "Epoch 129/160\n",
      "5818/5818 [==============================] - 2s 422us/step - loss: 0.6253 - acc: 0.7186 - val_loss: 0.6936 - val_acc: 0.6955\n",
      "Epoch 130/160\n",
      "5818/5818 [==============================] - 2s 392us/step - loss: 0.6202 - acc: 0.7228 - val_loss: 0.6943 - val_acc: 0.6907\n",
      "Epoch 131/160\n",
      "5818/5818 [==============================] - 2s 391us/step - loss: 0.6283 - acc: 0.7136 - val_loss: 0.6964 - val_acc: 0.6948\n",
      "Epoch 132/160\n",
      "5818/5818 [==============================] - 2s 406us/step - loss: 0.6245 - acc: 0.7181 - val_loss: 0.6935 - val_acc: 0.6948\n"
     ]
    }
   ],
   "source": [
    "history_4 = model_4.fit(X_train, y_train,\n",
    "                    validation_split = 0.2,\n",
    "                    callbacks=early_stopping,\n",
    "                    epochs=160, batch_size=600)"
   ]
  },
  {
   "cell_type": "code",
   "execution_count": 98,
   "metadata": {},
   "outputs": [
    {
     "data": {
      "image/png": "[encoded data removed]",
      "text/plain": [
       "<Figure size 432x288 with 1 Axes>"
      ]
     },
     "metadata": {
      "needs_background": "light"
     },
     "output_type": "display_data"
    },
    {
     "data": {
      "image/png": "[encoded data removed]",
      "text/plain": [
       "<Figure size 432x288 with 1 Axes>"
      ]
     },
     "metadata": {
      "needs_background": "light"
     },
     "output_type": "display_data"
    }
   ],
   "source": [
    "visualize_training_results(history_4)"
   ]
  },
  {
   "cell_type": "code",
   "execution_count": 99,
   "metadata": {},
   "outputs": [
    {
     "name": "stdout",
     "output_type": "stream",
     "text": [
      "Training Accuracy: 0.7591\n",
      "Testing Accuracy:  0.6982\n"
     ]
    }
   ],
   "source": [
    "# Find train and test accuracy\n",
    "loss, accuracy = model_4.evaluate(X_train, y_train, verbose=False)\n",
    "print(\"Training Accuracy: {:.4f}\".format(accuracy))\n",
    "loss, accuracy = model_4.evaluate(X_test, y_test, verbose=False)\n",
    "print(\"Testing Accuracy:  {:.4f}\".format(accuracy))"
   ]
  },
  {
   "cell_type": "markdown",
   "metadata": {},
   "source": [
    "### Testing other classification models"
   ]
  },
  {
   "cell_type": "markdown",
   "metadata": {},
   "source": [
    "Since our data contains tweets and not just words, we’ll have to figure out a way to use the word vectors from GloVe model to create vector representation for an entire tweet. There is a simple solution to this problem, we can simply take mean of all the word vectors present in the tweet. The length of the resultant vector will be the same, i.e. 50. We will repeat the same process for all the tweets in our data and obtain their vectors. Now we have 200 word2vec features for our data.\n",
    "\n",
    "We will use the below function to create a vector for each tweet by taking the average of the vectors of the words present in the tweet."
   ]
  },
  {
   "cell_type": "code",
   "execution_count": 138,
   "metadata": {},
   "outputs": [],
   "source": [
    "class GloVeVectorizer(object):\n",
    "    \n",
    "    def __init__(self, w2v):\n",
    "        # Takes in a dictionary of words and vectors as input\n",
    "        self.w2v = w2v\n",
    "        if len(w2v) == 0:\n",
    "            self.dimensions = 0\n",
    "        else:\n",
    "            self.dimensions = len(w2v[next(iter(embeddings_index))])\n",
    "    \n",
    "    # Note: Even though it doesn't do anything, it's required that this object implement a fit method or else\n",
    "    # it can't be used in a scikit-learn pipeline  \n",
    "    def fit(self, X, y):\n",
    "        return self\n",
    "            \n",
    "    def transform(self, X):\n",
    "        return np.array([\n",
    "            np.mean([self.w2v[w] for w in words if w in self.w2v]\n",
    "                   or [np.zeros(self.dimensions)], axis=0) for words in X])"
   ]
  },
  {
   "cell_type": "code",
   "execution_count": 80,
   "metadata": {},
   "outputs": [],
   "source": [
    "from sklearn.ensemble import RandomForestClassifier\n",
    "from sklearn.svm import SVC\n",
    "from sklearn.linear_model import LogisticRegression\n",
    "from sklearn.pipeline import Pipeline\n",
    "from sklearn.model_selection import cross_val_score\n",
    "\n",
    "rf =  Pipeline([('Random Forest', RandomForestClassifier(n_estimators=100, verbose=True))])\n",
    "svc = Pipeline([('Support Vector Machine', SVC())])\n",
    "lr = Pipeline([('Logistic Regression', LogisticRegression())])"
   ]
  },
  {
   "cell_type": "code",
   "execution_count": 81,
   "metadata": {},
   "outputs": [],
   "source": [
    "models = [('Random Forest', rf),\n",
    "          ('Support Vector Machine', svc),\n",
    "          ('Logistic Regression', lr)]"
   ]
  },
  {
   "cell_type": "code",
   "execution_count": 85,
   "metadata": {},
   "outputs": [
    {
     "name": "stderr",
     "output_type": "stream",
     "text": [
      "[Parallel(n_jobs=1)]: Using backend SequentialBackend with 1 concurrent workers.\n",
      "[Parallel(n_jobs=1)]: Done 100 out of 100 | elapsed:    1.3s finished\n",
      "[Parallel(n_jobs=1)]: Using backend SequentialBackend with 1 concurrent workers.\n",
      "[Parallel(n_jobs=1)]: Done 100 out of 100 | elapsed:    0.1s finished\n",
      "[Parallel(n_jobs=1)]: Using backend SequentialBackend with 1 concurrent workers.\n",
      "[Parallel(n_jobs=1)]: Done 100 out of 100 | elapsed:    1.1s finished\n",
      "[Parallel(n_jobs=1)]: Using backend SequentialBackend with 1 concurrent workers.\n",
      "[Parallel(n_jobs=1)]: Done 100 out of 100 | elapsed:    0.1s finished\n"
     ]
    }
   ],
   "source": [
    "# ⏰ This cell may take several minutes to run\n",
    "scores = [(name, cross_val_score(model, padded_data, target, cv=2).mean()) for name, model, in models]"
   ]
  },
  {
   "cell_type": "code",
   "execution_count": 86,
   "metadata": {},
   "outputs": [
    {
     "data": {
      "text/plain": [
       "[('Random Forest', 0.62384513858337),\n",
       " ('Support Vector Machine', 0.605917289925209),\n",
       " ('Logistic Regression', 0.6055873295204576)]"
      ]
     },
     "execution_count": 86,
     "metadata": {},
     "output_type": "execute_result"
    }
   ],
   "source": [
    "scores"
   ]
  },
  {
   "cell_type": "code",
   "execution_count": 91,
   "metadata": {},
   "outputs": [],
   "source": [
    "rf =  Pipeline([('Word2Vec Vectorizer', GloVeVectorizer(embeddings_index)),\n",
    "              ('Random Forest', RandomForestClassifier(n_estimators=100, verbose=True))])\n",
    "svc = Pipeline([('Word2Vec Vectorizer', GloVeVectorizer(embeddings_index)),\n",
    "                ('Support Vector Machine', SVC())])\n",
    "lr = Pipeline([('Word2Vec Vectorizer', GloVeVectorizer(embeddings_index)),\n",
    "              ('Logistic Regression', LogisticRegression())])"
   ]
  },
  {
   "cell_type": "code",
   "execution_count": 92,
   "metadata": {},
   "outputs": [],
   "source": [
    "models = [('Random Forest', rf),\n",
    "          ('Support Vector Machine', svc),\n",
    "          ('Logistic Regression', lr)]"
   ]
  },
  {
   "cell_type": "code",
   "execution_count": 93,
   "metadata": {},
   "outputs": [
    {
     "name": "stderr",
     "output_type": "stream",
     "text": [
      "[Parallel(n_jobs=1)]: Using backend SequentialBackend with 1 concurrent workers.\n",
      "[Parallel(n_jobs=1)]: Done 100 out of 100 | elapsed:    0.2s finished\n",
      "[Parallel(n_jobs=1)]: Using backend SequentialBackend with 1 concurrent workers.\n",
      "[Parallel(n_jobs=1)]: Done 100 out of 100 | elapsed:    0.0s finished\n",
      "[Parallel(n_jobs=1)]: Using backend SequentialBackend with 1 concurrent workers.\n",
      "[Parallel(n_jobs=1)]: Done 100 out of 100 | elapsed:    0.2s finished\n",
      "[Parallel(n_jobs=1)]: Using backend SequentialBackend with 1 concurrent workers.\n",
      "[Parallel(n_jobs=1)]: Done 100 out of 100 | elapsed:    0.0s finished\n"
     ]
    }
   ],
   "source": [
    "# ⏰ This cell may take several minutes to run\n",
    "scores = [(name, cross_val_score(model, padded_data, target, cv=2).mean()) for name, model, in models]"
   ]
  },
  {
   "cell_type": "code",
   "execution_count": 94,
   "metadata": {},
   "outputs": [
    {
     "data": {
      "text/plain": [
       "[('Random Forest', 0.6097668279806423),\n",
       " ('Support Vector Machine', 0.6097668279806423),\n",
       " ('Logistic Regression', 0.6097668279806423)]"
      ]
     },
     "execution_count": 94,
     "metadata": {},
     "output_type": "execute_result"
    }
   ],
   "source": [
    "scores"
   ]
  },
  {
   "cell_type": "markdown",
   "metadata": {},
   "source": [
    "### Make predictions"
   ]
  },
  {
   "cell_type": "code",
   "execution_count": 114,
   "metadata": {},
   "outputs": [],
   "source": [
    "label = {0: 'Negative emotion', 2: 'Positive emotion', 1: 'Neutral emotion'}"
   ]
  },
  {
   "cell_type": "code",
   "execution_count": 143,
   "metadata": {},
   "outputs": [
    {
     "name": "stdout",
     "output_type": "stream",
     "text": [
      "[[0.03016432 0.39122412 0.57861155]] [ 2 ] Positive emotion\n"
     ]
    }
   ],
   "source": [
    "new_tweet = ['Your service is great']\n",
    "seq = t.texts_to_sequences(new_tweet)\n",
    "padded = pad_sequences(seq, maxlen=max_tweet_len)\n",
    "pred = lstm_mod3.predict(padded)\n",
    "print(pred, \"[\", np.argmax(pred), \"]\", label[np.argmax(pred)])"
   ]
  },
  {
   "cell_type": "code",
   "execution_count": 144,
   "metadata": {},
   "outputs": [
    {
     "name": "stdout",
     "output_type": "stream",
     "text": [
      "[[0.06434713 0.36554193 0.5701109 ]] [ 2 ] Positive emotion\n"
     ]
    }
   ],
   "source": [
    "new_tweet = ['I love iphone']\n",
    "seq = t.texts_to_sequences(new_tweet)\n",
    "padded = pad_sequences(seq, maxlen=max_tweet_len)\n",
    "pred = lstm_mod3.predict(padded)\n",
    "print(pred, \"[\", np.argmax(pred), \"]\", label[np.argmax(pred)])"
   ]
  },
  {
   "cell_type": "markdown",
   "metadata": {},
   "source": [
    "### Summary"
   ]
  },
  {
   "cell_type": "markdown",
   "metadata": {},
   "source": [
    "#### General Architecture\n",
    "The inputs for each of the following models are our training data which consists of 7,273 with 20% withheld for validation. Each one of these observations contains 50 “features” which correspond to each word in the tweet. Any 0’s indicate the absence of a word.\n",
    "\n",
    "Each model ends with a dense layer with 3 nodes, because we have 3 possible labels: positive, neutral, or negative. Because we one-hot encoded our labels, we use softmax for this multiclass classification problem to get a probability for each class. Additionally, we use accuracy as our metric, because this is a classification problem. When we use the predict method from Keras, we get a 3 element row vector for each input. Each element corresponds to a probability of one of the 3 labels. Therefore, the label with the highest probability is the predicted outcome.\n",
    "We compile each model with adam and categorical crossentropy.\n",
    "\n",
    "#### Incorporating the GloVe \n",
    "GloVe is defined to be an “unsupervised learning algorithm for obtaining vector representations for words”. Pre-trained word vectors data was downloaded from the Standford University website. The models specifically use the 50 -dimensional embeddings of 1.2M words from 2B tweets. This is represented in a txt file that was parsed to create an index that maps words to their vector representation. Using GloVe data improved the accuracy of the model about 3-4%.\n",
    "\n",
    "#### Best model\n",
    "All models perform quite well, however, Model 3 with two stacked LSTM layers, seems to have the best train/validation accuracy based on the training/validation results plot (history_3). \n",
    "\n",
    "All models have some difficulties with predicting negative emotions due to the class imbalance - small amount of negative labels in the original dataset. If we provide a larger and more balanced training set, the results will improve.\n",
    "\n",
    "Other models performance was significatly lower than NN."
   ]
  },
  {
   "cell_type": "code",
   "execution_count": null,
   "metadata": {},
   "outputs": [],
   "source": []
  }
 ],
 "metadata": {
  "kernelspec": {
   "display_name": "learn-env",
   "language": "python",
   "name": "learn-env"
  },
  "language_info": {
   "codemirror_mode": {
    "name": "ipython",
    "version": 3
   },
   "file_extension": ".py",
   "mimetype": "text/x-python",
   "name": "python",
   "nbconvert_exporter": "python",
   "pygments_lexer": "ipython3",
   "version": "3.6.9"
  }
 },
 "nbformat": 4,
 "nbformat_minor": 4
}
