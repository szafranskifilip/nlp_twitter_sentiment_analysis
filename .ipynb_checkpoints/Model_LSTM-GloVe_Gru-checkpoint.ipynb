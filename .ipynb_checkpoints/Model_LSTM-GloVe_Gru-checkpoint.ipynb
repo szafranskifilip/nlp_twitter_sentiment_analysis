{
 "cells": [
  {
   "cell_type": "markdown",
   "metadata": {},
   "source": [
    "### Import Necessary Dependencies"
   ]
  },
  {
   "cell_type": "code",
   "execution_count": 79,
   "metadata": {},
   "outputs": [
    {
     "name": "stderr",
     "output_type": "stream",
     "text": [
      "[nltk_data] Downloading package stopwords to /Users/Filip/nltk_data...\n",
      "[nltk_data]   Package stopwords is already up-to-date!\n",
      "[nltk_data] Downloading package punkt to /Users/Filip/nltk_data...\n",
      "[nltk_data]   Package punkt is already up-to-date!\n"
     ]
    }
   ],
   "source": [
    "#Import libraries\n",
    "import nltk\n",
    "nltk.download('stopwords')\n",
    "nltk.download('punkt')\n",
    "from nltk.corpus import stopwords\n",
    "from nltk import word_tokenize, FreqDist\n",
    "\n",
    "import string\n",
    "\n",
    "from sklearn.feature_extraction.text import TfidfVectorizer, CountVectorizer, TfidfTransformer\n",
    "from sklearn.pipeline import Pipeline\n",
    "from sklearn.metrics import accuracy_score\n",
    "from sklearn.datasets import fetch_20newsgroups\n",
    "from sklearn.ensemble import RandomForestClassifier\n",
    "from sklearn.naive_bayes import MultinomialNB\n",
    "from sklearn.model_selection import train_test_split\n",
    "from sklearn import preprocessing\n",
    "from sklearn.utils.multiclass import unique_labels\n",
    "from sklearn.utils.class_weight import compute_class_weight\n",
    "from sklearn.metrics import confusion_matrix\n",
    "\n",
    "\n",
    "import matplotlib.pyplot as plt\n",
    "import pandas as pd\n",
    "import numpy as np\n",
    "import seaborn as sns\n",
    "\n",
    "from keras.utils import to_categorical\n",
    "from keras.preprocessing.sequence import pad_sequences\n",
    "from keras.preprocessing.text import Tokenizer\n",
    "from keras import models\n",
    "from keras import layers\n",
    "from keras import optimizers\n",
    "from keras.layers import Dense, Dropout, Embedding, LSTM, GlobalMaxPooling1D, SpatialDropout1D\n",
    "\n",
    "import gensim\n",
    "from gensim.models import Word2Vec\n",
    "\n",
    "np.random.seed(0)\n",
    "\n",
    "%matplotlib inline\n",
    "plt.style.use('seaborn')\n",
    "\n",
    "import warnings\n",
    "warnings.filterwarnings('ignore')"
   ]
  },
  {
   "cell_type": "markdown",
   "metadata": {},
   "source": [
    "### Read and Load the Dataset"
   ]
  },
  {
   "cell_type": "code",
   "execution_count": 2,
   "metadata": {},
   "outputs": [
    {
     "data": {
      "text/html": [
       "<div>\n",
       "<style scoped>\n",
       "    .dataframe tbody tr th:only-of-type {\n",
       "        vertical-align: middle;\n",
       "    }\n",
       "\n",
       "    .dataframe tbody tr th {\n",
       "        vertical-align: top;\n",
       "    }\n",
       "\n",
       "    .dataframe thead th {\n",
       "        text-align: right;\n",
       "    }\n",
       "</style>\n",
       "<table border=\"1\" class=\"dataframe\">\n",
       "  <thead>\n",
       "    <tr style=\"text-align: right;\">\n",
       "      <th></th>\n",
       "      <th>tweet_text</th>\n",
       "      <th>emotion_in_tweet_is_directed_at</th>\n",
       "      <th>is_there_an_emotion_directed_at_a_brand_or_product</th>\n",
       "    </tr>\n",
       "  </thead>\n",
       "  <tbody>\n",
       "    <tr>\n",
       "      <th>0</th>\n",
       "      <td>.@wesley83 I have a 3G iPhone. After 3 hrs twe...</td>\n",
       "      <td>iPhone</td>\n",
       "      <td>Negative emotion</td>\n",
       "    </tr>\n",
       "    <tr>\n",
       "      <th>1</th>\n",
       "      <td>@jessedee Know about @fludapp ? Awesome iPad/i...</td>\n",
       "      <td>iPad or iPhone App</td>\n",
       "      <td>Positive emotion</td>\n",
       "    </tr>\n",
       "    <tr>\n",
       "      <th>2</th>\n",
       "      <td>@swonderlin Can not wait for #iPad 2 also. The...</td>\n",
       "      <td>iPad</td>\n",
       "      <td>Positive emotion</td>\n",
       "    </tr>\n",
       "    <tr>\n",
       "      <th>3</th>\n",
       "      <td>@sxsw I hope this year's festival isn't as cra...</td>\n",
       "      <td>iPad or iPhone App</td>\n",
       "      <td>Negative emotion</td>\n",
       "    </tr>\n",
       "    <tr>\n",
       "      <th>4</th>\n",
       "      <td>@sxtxstate great stuff on Fri #SXSW: Marissa M...</td>\n",
       "      <td>Google</td>\n",
       "      <td>Positive emotion</td>\n",
       "    </tr>\n",
       "  </tbody>\n",
       "</table>\n",
       "</div>"
      ],
      "text/plain": [
       "                                          tweet_text  \\\n",
       "0  .@wesley83 I have a 3G iPhone. After 3 hrs twe...   \n",
       "1  @jessedee Know about @fludapp ? Awesome iPad/i...   \n",
       "2  @swonderlin Can not wait for #iPad 2 also. The...   \n",
       "3  @sxsw I hope this year's festival isn't as cra...   \n",
       "4  @sxtxstate great stuff on Fri #SXSW: Marissa M...   \n",
       "\n",
       "  emotion_in_tweet_is_directed_at  \\\n",
       "0                          iPhone   \n",
       "1              iPad or iPhone App   \n",
       "2                            iPad   \n",
       "3              iPad or iPhone App   \n",
       "4                          Google   \n",
       "\n",
       "  is_there_an_emotion_directed_at_a_brand_or_product  \n",
       "0                                   Negative emotion  \n",
       "1                                   Positive emotion  \n",
       "2                                   Positive emotion  \n",
       "3                                   Negative emotion  \n",
       "4                                   Positive emotion  "
      ]
     },
     "execution_count": 2,
     "metadata": {},
     "output_type": "execute_result"
    }
   ],
   "source": [
    "# Upload datasets\n",
    "df = pd.read_csv('tweet_product_company.csv', encoding = 'unicode_escape')\n",
    "df.head()"
   ]
  },
  {
   "cell_type": "markdown",
   "metadata": {},
   "source": [
    "### Exploratory Data Analysis"
   ]
  },
  {
   "cell_type": "code",
   "execution_count": 3,
   "metadata": {},
   "outputs": [
    {
     "name": "stdout",
     "output_type": "stream",
     "text": [
      "<class 'pandas.core.frame.DataFrame'>\n",
      "RangeIndex: 9093 entries, 0 to 9092\n",
      "Data columns (total 3 columns):\n",
      " #   Column                                              Non-Null Count  Dtype \n",
      "---  ------                                              --------------  ----- \n",
      " 0   tweet_text                                          9092 non-null   object\n",
      " 1   emotion_in_tweet_is_directed_at                     3291 non-null   object\n",
      " 2   is_there_an_emotion_directed_at_a_brand_or_product  9093 non-null   object\n",
      "dtypes: object(3)\n",
      "memory usage: 213.2+ KB\n"
     ]
    }
   ],
   "source": [
    "df.info()"
   ]
  },
  {
   "cell_type": "code",
   "execution_count": 4,
   "metadata": {},
   "outputs": [
    {
     "data": {
      "text/plain": [
       "10"
      ]
     },
     "execution_count": 4,
     "metadata": {},
     "output_type": "execute_result"
    }
   ],
   "source": [
    "len(df.emotion_in_tweet_is_directed_at.unique())"
   ]
  },
  {
   "cell_type": "code",
   "execution_count": 5,
   "metadata": {},
   "outputs": [
    {
     "data": {
      "text/html": [
       "<div>\n",
       "<style scoped>\n",
       "    .dataframe tbody tr th:only-of-type {\n",
       "        vertical-align: middle;\n",
       "    }\n",
       "\n",
       "    .dataframe tbody tr th {\n",
       "        vertical-align: top;\n",
       "    }\n",
       "\n",
       "    .dataframe thead th {\n",
       "        text-align: right;\n",
       "    }\n",
       "</style>\n",
       "<table border=\"1\" class=\"dataframe\">\n",
       "  <thead>\n",
       "    <tr style=\"text-align: right;\">\n",
       "      <th></th>\n",
       "      <th>tweet_text</th>\n",
       "      <th>product</th>\n",
       "      <th>label</th>\n",
       "    </tr>\n",
       "  </thead>\n",
       "  <tbody>\n",
       "    <tr>\n",
       "      <th>0</th>\n",
       "      <td>.@wesley83 I have a 3G iPhone. After 3 hrs twe...</td>\n",
       "      <td>iPhone</td>\n",
       "      <td>Negative emotion</td>\n",
       "    </tr>\n",
       "    <tr>\n",
       "      <th>1</th>\n",
       "      <td>@jessedee Know about @fludapp ? Awesome iPad/i...</td>\n",
       "      <td>iPad or iPhone App</td>\n",
       "      <td>Positive emotion</td>\n",
       "    </tr>\n",
       "    <tr>\n",
       "      <th>2</th>\n",
       "      <td>@swonderlin Can not wait for #iPad 2 also. The...</td>\n",
       "      <td>iPad</td>\n",
       "      <td>Positive emotion</td>\n",
       "    </tr>\n",
       "    <tr>\n",
       "      <th>3</th>\n",
       "      <td>@sxsw I hope this year's festival isn't as cra...</td>\n",
       "      <td>iPad or iPhone App</td>\n",
       "      <td>Negative emotion</td>\n",
       "    </tr>\n",
       "    <tr>\n",
       "      <th>4</th>\n",
       "      <td>@sxtxstate great stuff on Fri #SXSW: Marissa M...</td>\n",
       "      <td>Google</td>\n",
       "      <td>Positive emotion</td>\n",
       "    </tr>\n",
       "  </tbody>\n",
       "</table>\n",
       "</div>"
      ],
      "text/plain": [
       "                                          tweet_text             product  \\\n",
       "0  .@wesley83 I have a 3G iPhone. After 3 hrs twe...              iPhone   \n",
       "1  @jessedee Know about @fludapp ? Awesome iPad/i...  iPad or iPhone App   \n",
       "2  @swonderlin Can not wait for #iPad 2 also. The...                iPad   \n",
       "3  @sxsw I hope this year's festival isn't as cra...  iPad or iPhone App   \n",
       "4  @sxtxstate great stuff on Fri #SXSW: Marissa M...              Google   \n",
       "\n",
       "              label  \n",
       "0  Negative emotion  \n",
       "1  Positive emotion  \n",
       "2  Positive emotion  \n",
       "3  Negative emotion  \n",
       "4  Positive emotion  "
      ]
     },
     "execution_count": 5,
     "metadata": {},
     "output_type": "execute_result"
    }
   ],
   "source": [
    "df.columns = ['tweet_text', 'product', 'label']\n",
    "df.head()"
   ]
  },
  {
   "cell_type": "code",
   "execution_count": 6,
   "metadata": {},
   "outputs": [
    {
     "name": "stdout",
     "output_type": "stream",
     "text": [
      "Column:  product\n",
      "Unique values count: 10\n",
      "Values:  ['iPhone' 'iPad or iPhone App' 'iPad' 'Google' nan 'Android' 'Apple'\n",
      " 'Android App' 'Other Google product or service'\n",
      " 'Other Apple product or service']\n",
      "----------------\n",
      "Column:  label\n",
      "Unique values count: 4\n",
      "Values:  ['Negative emotion' 'Positive emotion'\n",
      " 'No emotion toward brand or product' \"I can't tell\"]\n",
      "----------------\n"
     ]
    }
   ],
   "source": [
    "for column in df.columns[1:]:\n",
    "    print('Column: ', column)\n",
    "    print('Unique values count:', len(df[column].unique()))\n",
    "    print('Values: ', df[column].unique())\n",
    "    print('----------------')"
   ]
  },
  {
   "cell_type": "markdown",
   "metadata": {},
   "source": [
    "Combine labels \"I can't tell\" and 'No emotion toward brand or product' to one category \"Neutral emotion\""
   ]
  },
  {
   "cell_type": "code",
   "execution_count": 7,
   "metadata": {},
   "outputs": [],
   "source": [
    "df['label'][df['label'] == \"I can't tell\"] = 'Neutral emotion'\n",
    "df['label'][df['label'] == 'No emotion toward brand or product'] = 'Neutral emotion'"
   ]
  },
  {
   "cell_type": "code",
   "execution_count": 8,
   "metadata": {},
   "outputs": [
    {
     "name": "stdout",
     "output_type": "stream",
     "text": [
      "Column:  product\n",
      "Unique values count: 10\n",
      "Values:  ['iPhone' 'iPad or iPhone App' 'iPad' 'Google' nan 'Android' 'Apple'\n",
      " 'Android App' 'Other Google product or service'\n",
      " 'Other Apple product or service']\n",
      "----------------\n",
      "Column:  label\n",
      "Unique values count: 3\n",
      "Values:  ['Negative emotion' 'Positive emotion' 'Neutral emotion']\n",
      "----------------\n"
     ]
    }
   ],
   "source": [
    "for column in df.columns[1:]:\n",
    "    print('Column: ', column)\n",
    "    print('Unique values count:', len(df[column].unique()))\n",
    "    print('Values: ', df[column].unique())\n",
    "    print('----------------')"
   ]
  },
  {
   "cell_type": "code",
   "execution_count": 9,
   "metadata": {},
   "outputs": [
    {
     "data": {
      "text/html": [
       "<div>\n",
       "<style scoped>\n",
       "    .dataframe tbody tr th:only-of-type {\n",
       "        vertical-align: middle;\n",
       "    }\n",
       "\n",
       "    .dataframe tbody tr th {\n",
       "        vertical-align: top;\n",
       "    }\n",
       "\n",
       "    .dataframe thead th {\n",
       "        text-align: right;\n",
       "    }\n",
       "</style>\n",
       "<table border=\"1\" class=\"dataframe\">\n",
       "  <thead>\n",
       "    <tr style=\"text-align: right;\">\n",
       "      <th></th>\n",
       "      <th>NaN count</th>\n",
       "      <th>Zero values count</th>\n",
       "      <th>Unique_val count</th>\n",
       "      <th>Data type</th>\n",
       "    </tr>\n",
       "  </thead>\n",
       "  <tbody>\n",
       "    <tr>\n",
       "      <th>product</th>\n",
       "      <td>5802</td>\n",
       "      <td>0</td>\n",
       "      <td>9</td>\n",
       "      <td>object</td>\n",
       "    </tr>\n",
       "    <tr>\n",
       "      <th>tweet_text</th>\n",
       "      <td>1</td>\n",
       "      <td>0</td>\n",
       "      <td>9065</td>\n",
       "      <td>object</td>\n",
       "    </tr>\n",
       "    <tr>\n",
       "      <th>label</th>\n",
       "      <td>0</td>\n",
       "      <td>0</td>\n",
       "      <td>3</td>\n",
       "      <td>object</td>\n",
       "    </tr>\n",
       "  </tbody>\n",
       "</table>\n",
       "</div>"
      ],
      "text/plain": [
       "            NaN count  Zero values count  Unique_val count Data type\n",
       "product          5802                  0                 9    object\n",
       "tweet_text          1                  0              9065    object\n",
       "label               0                  0                 3    object"
      ]
     },
     "execution_count": 9,
     "metadata": {},
     "output_type": "execute_result"
    }
   ],
   "source": [
    "# Create summary of Nan and unique values counts and data types\n",
    "X_info = pd.DataFrame(df.isna().sum(), columns=['NaN count'])\n",
    "\n",
    "unique_val = []\n",
    "types_val = []\n",
    "zero_val = []\n",
    "\n",
    "for column in df.columns:\n",
    "    unique = df[column].nunique()\n",
    "    types = str(df[column].dtype)\n",
    "    zeros = len(df[df[column]==0])\n",
    "    \n",
    "    unique_val.append(unique)\n",
    "    types_val.append(types)\n",
    "    zero_val.append(zeros)\n",
    "\n",
    "X_info['Zero values count'] = zero_val\n",
    "X_info['Unique_val count'] = unique_val\n",
    "X_info['Data type'] = types_val\n",
    "\n",
    "X_info.sort_values(by=['NaN count', 'Zero values count'], ascending=False)"
   ]
  },
  {
   "cell_type": "markdown",
   "metadata": {},
   "source": [
    "### Data Visualization of Target Variables"
   ]
  },
  {
   "cell_type": "code",
   "execution_count": 168,
   "metadata": {},
   "outputs": [
    {
     "data": {
      "image/png": "[encoded data removed]",
      "text/plain": [
       "<Figure size 576x396 with 1 Axes>"
      ]
     },
     "metadata": {},
     "output_type": "display_data"
    }
   ],
   "source": [
    "ax = sns.countplot(x='label', data=df)\n",
    "ax.tick_params(axis='x', rotation=90)"
   ]
  },
  {
   "cell_type": "code",
   "execution_count": 10,
   "metadata": {},
   "outputs": [
    {
     "data": {
      "text/plain": [
       "Neutral emotion     0.609810\n",
       "Positive emotion    0.327505\n",
       "Negative emotion    0.062686\n",
       "Name: label, dtype: float64"
      ]
     },
     "execution_count": 10,
     "metadata": {},
     "output_type": "execute_result"
    }
   ],
   "source": [
    "df['label'].value_counts(normalize=True)"
   ]
  },
  {
   "cell_type": "code",
   "execution_count": 13,
   "metadata": {},
   "outputs": [
    {
     "data": {
      "text/html": [
       "<div>\n",
       "<style scoped>\n",
       "    .dataframe tbody tr th:only-of-type {\n",
       "        vertical-align: middle;\n",
       "    }\n",
       "\n",
       "    .dataframe tbody tr th {\n",
       "        vertical-align: top;\n",
       "    }\n",
       "\n",
       "    .dataframe thead th {\n",
       "        text-align: right;\n",
       "    }\n",
       "</style>\n",
       "<table border=\"1\" class=\"dataframe\">\n",
       "  <thead>\n",
       "    <tr style=\"text-align: right;\">\n",
       "      <th></th>\n",
       "      <th>tweet_text</th>\n",
       "      <th>label</th>\n",
       "    </tr>\n",
       "    <tr>\n",
       "      <th>product</th>\n",
       "      <th></th>\n",
       "      <th></th>\n",
       "    </tr>\n",
       "  </thead>\n",
       "  <tbody>\n",
       "    <tr>\n",
       "      <th>Android</th>\n",
       "      <td>78</td>\n",
       "      <td>78</td>\n",
       "    </tr>\n",
       "    <tr>\n",
       "      <th>Android App</th>\n",
       "      <td>81</td>\n",
       "      <td>81</td>\n",
       "    </tr>\n",
       "    <tr>\n",
       "      <th>Apple</th>\n",
       "      <td>661</td>\n",
       "      <td>661</td>\n",
       "    </tr>\n",
       "    <tr>\n",
       "      <th>Google</th>\n",
       "      <td>430</td>\n",
       "      <td>430</td>\n",
       "    </tr>\n",
       "    <tr>\n",
       "      <th>Other Apple product or service</th>\n",
       "      <td>35</td>\n",
       "      <td>35</td>\n",
       "    </tr>\n",
       "    <tr>\n",
       "      <th>Other Google product or service</th>\n",
       "      <td>293</td>\n",
       "      <td>293</td>\n",
       "    </tr>\n",
       "    <tr>\n",
       "      <th>iPad</th>\n",
       "      <td>946</td>\n",
       "      <td>946</td>\n",
       "    </tr>\n",
       "    <tr>\n",
       "      <th>iPad or iPhone App</th>\n",
       "      <td>470</td>\n",
       "      <td>470</td>\n",
       "    </tr>\n",
       "    <tr>\n",
       "      <th>iPhone</th>\n",
       "      <td>297</td>\n",
       "      <td>297</td>\n",
       "    </tr>\n",
       "  </tbody>\n",
       "</table>\n",
       "</div>"
      ],
      "text/plain": [
       "                                 tweet_text  label\n",
       "product                                           \n",
       "Android                                  78     78\n",
       "Android App                              81     81\n",
       "Apple                                   661    661\n",
       "Google                                  430    430\n",
       "Other Apple product or service           35     35\n",
       "Other Google product or service         293    293\n",
       "iPad                                    946    946\n",
       "iPad or iPhone App                      470    470\n",
       "iPhone                                  297    297"
      ]
     },
     "execution_count": 13,
     "metadata": {},
     "output_type": "execute_result"
    }
   ],
   "source": [
    "df.groupby(by=['product']).count()"
   ]
  },
  {
   "cell_type": "markdown",
   "metadata": {},
   "source": [
    "### Cleaning and Preprocessing Data"
   ]
  },
  {
   "cell_type": "code",
   "execution_count": 18,
   "metadata": {},
   "outputs": [],
   "source": [
    "df.dropna(subset=['tweet_text'], axis='rows', inplace=True)"
   ]
  },
  {
   "cell_type": "markdown",
   "metadata": {},
   "source": [
    "#### Break apart the data and the labels, and then inspect the class names"
   ]
  },
  {
   "cell_type": "code",
   "execution_count": 19,
   "metadata": {},
   "outputs": [],
   "source": [
    "data = df.drop(columns=['label','product'])\n",
    "target = df.drop(columns=['tweet_text','product'])"
   ]
  },
  {
   "cell_type": "code",
   "execution_count": 20,
   "metadata": {},
   "outputs": [
    {
     "name": "stdout",
     "output_type": "stream",
     "text": [
      "{0: 'Negative emotion', 1: 'Neutral emotion', 2: 'Positive emotion'}\n"
     ]
    }
   ],
   "source": [
    "c = target.label.astype('category')\n",
    "label_names = dict(enumerate(c.cat.categories))\n",
    "print (label_names)"
   ]
  },
  {
   "cell_type": "code",
   "execution_count": 26,
   "metadata": {},
   "outputs": [
    {
     "data": {
      "text/plain": [
       "dict_values(['Negative emotion', 'Neutral emotion', 'Positive emotion'])"
      ]
     },
     "execution_count": 26,
     "metadata": {},
     "output_type": "execute_result"
    }
   ],
   "source": [
    "label_names.values()"
   ]
  },
  {
   "cell_type": "code",
   "execution_count": 22,
   "metadata": {},
   "outputs": [],
   "source": [
    "#change type of column\n",
    "target['label'] = pd.Categorical(target['label'])"
   ]
  },
  {
   "cell_type": "code",
   "execution_count": 23,
   "metadata": {},
   "outputs": [],
   "source": [
    "target['label'] = target['label'].cat.codes"
   ]
  },
  {
   "cell_type": "code",
   "execution_count": 38,
   "metadata": {},
   "outputs": [
    {
     "data": {
      "text/plain": [
       "[0, 1, 2]"
      ]
     },
     "execution_count": 38,
     "metadata": {},
     "output_type": "execute_result"
    }
   ],
   "source": [
    "class_names = list(label_names.keys())\n",
    "class_names"
   ]
  },
  {
   "cell_type": "code",
   "execution_count": 39,
   "metadata": {},
   "outputs": [
    {
     "name": "stdout",
     "output_type": "stream",
     "text": [
      "[5.31695906 0.54665705 1.01768525]\n"
     ]
    }
   ],
   "source": [
    "#Address class weight imbalance by providing class weights with sklearn compute_class_weight function\n",
    "class_weights = compute_class_weight('balanced', class_names, target['label'])\n",
    "print(class_weights)"
   ]
  },
  {
   "cell_type": "code",
   "execution_count": 40,
   "metadata": {},
   "outputs": [],
   "source": [
    "# #### Getting a list of all of the english stopwords, and concatenating \n",
    "# them with a list of all the punctuation.\n",
    "stopwords_list = stopwords.words('english') + list(string.punctuation)\n",
    "stopwords_list += [\"''\", '\"\"', '...', '``']"
   ]
  },
  {
   "cell_type": "code",
   "execution_count": 41,
   "metadata": {},
   "outputs": [],
   "source": [
    "def process_tweet(tweet):\n",
    "    tokens = nltk.word_tokenize(tweet)\n",
    "    stopwords_removed = [token.lower() for token in tokens if token.lower() not in stopwords_list]\n",
    "    return stopwords_removed"
   ]
  },
  {
   "cell_type": "markdown",
   "metadata": {},
   "source": [
    "#### Check tweet lenghts distrubution and max value"
   ]
  },
  {
   "cell_type": "code",
   "execution_count": 42,
   "metadata": {},
   "outputs": [],
   "source": [
    "# Convert training data into tensors to feed into neural net\n",
    "# create tokenizer\n",
    "t = Tokenizer()\n",
    "t.fit_on_texts(data['tweet_text'])"
   ]
  },
  {
   "cell_type": "code",
   "execution_count": 43,
   "metadata": {},
   "outputs": [],
   "source": [
    "# Find number of unique words in our tweets\n",
    "vocab_size = len(t.word_index) + 1"
   ]
  },
  {
   "cell_type": "code",
   "execution_count": 44,
   "metadata": {},
   "outputs": [],
   "source": [
    "# integer encode everything\n",
    "sequences = t.texts_to_sequences(data['tweet_text'])"
   ]
  },
  {
   "cell_type": "code",
   "execution_count": 45,
   "metadata": {},
   "outputs": [],
   "source": [
    "# Find longest tweet in sequences\n",
    "def max_tweet():\n",
    "    for i in range(1, len(sequences)):\n",
    "        max_length = len(sequences[0])\n",
    "        if len(sequences[i]) > max_length:\n",
    "            max_length = len(sequences[i])\n",
    "    return max_length"
   ]
  },
  {
   "cell_type": "code",
   "execution_count": 46,
   "metadata": {},
   "outputs": [
    {
     "data": {
      "text/plain": [
       "24"
      ]
     },
     "execution_count": 46,
     "metadata": {},
     "output_type": "execute_result"
    }
   ],
   "source": [
    "max_tweet_len = max_tweet()\n",
    "max_tweet_len"
   ]
  },
  {
   "cell_type": "code",
   "execution_count": 47,
   "metadata": {},
   "outputs": [],
   "source": [
    "#Truncate and pad input sequences to be all the same lenght vectors\n",
    "padded_data = pad_sequences(sequences, maxlen=max_tweet_len)"
   ]
  },
  {
   "cell_type": "code",
   "execution_count": 48,
   "metadata": {},
   "outputs": [
    {
     "data": {
      "text/plain": [
       "array([[5869,   23,   51, ..., 3955,    6,    1],\n",
       "       [   0,    0, 5870, ..., 3956,    6,    1],\n",
       "       [   0,    0,    0, ...,  208,    6,    1],\n",
       "       ...,\n",
       "       [   0,    0,  110, ...,   16,    1, 2452],\n",
       "       [   0,  157,  687, ...,  143, 2546,    1],\n",
       "       [   0,    0,    0, ...,    6,    1,    4]], dtype=int32)"
      ]
     },
     "execution_count": 48,
     "metadata": {},
     "output_type": "execute_result"
    }
   ],
   "source": [
    "padded_data"
   ]
  },
  {
   "cell_type": "code",
   "execution_count": 49,
   "metadata": {},
   "outputs": [],
   "source": [
    "X_train, X_test, y_train, y_test = train_test_split(padded_data, target, test_size = 0.2, random_state = 0)"
   ]
  },
  {
   "cell_type": "code",
   "execution_count": 50,
   "metadata": {},
   "outputs": [],
   "source": [
    "y_train = to_categorical(y_train)\n",
    "y_test = to_categorical(y_test)"
   ]
  },
  {
   "cell_type": "code",
   "execution_count": 51,
   "metadata": {},
   "outputs": [
    {
     "name": "stdout",
     "output_type": "stream",
     "text": [
      "X_train size: (7273, 24)\n",
      "y_train size: (7273, 3)\n",
      "X_test size: (1819, 24)\n",
      "y_test size: (1819, 3)\n"
     ]
    }
   ],
   "source": [
    "# Size of train and test datasets\n",
    "print('X_train size:', X_train.shape)\n",
    "print('y_train size:', y_train.shape)\n",
    "print('X_test size:', X_test.shape)\n",
    "print('y_test size:', y_test.shape)"
   ]
  },
  {
   "cell_type": "markdown",
   "metadata": {},
   "source": [
    "### Pre-trained word embedding"
   ]
  },
  {
   "cell_type": "code",
   "execution_count": null,
   "metadata": {},
   "outputs": [],
   "source": [
    "# load the whole embedding into memory\n",
    "# https://machinelearningmastery.com/use-word-embedding-layers-deep-learning-keras/\n",
    "# 50 dimensional version (embedding dimension)\n",
    "embeddings_index = dict()\n",
    "f = open('glove/glove.twitter.27B.50d.txt')\n",
    "for line in f:\n",
    "    values = line.split()\n",
    "    word = values[0]\n",
    "    coefs = np.asarray(values[1:], dtype='float32')\n",
    "    embeddings_index[word] = coefs\n",
    "f.close()\n",
    "print('Loaded %s word vectors.' % len(embeddings_index))"
   ]
  },
  {
   "cell_type": "code",
   "execution_count": 53,
   "metadata": {},
   "outputs": [],
   "source": [
    "import pickle\n",
    "\n",
    "# with open('embeddings_index.pickle', 'wb') as handle:\n",
    "#     pickle.dump(embeddings_index, handle, protocol=pickle.HIGHEST_PROTOCOL)\n",
    "\n",
    "with open('embeddings_index.pickle', 'rb') as handle:\n",
    "    embeddings_index = pickle.load(handle)"
   ]
  },
  {
   "cell_type": "markdown",
   "metadata": {},
   "source": [
    "**Because we're using GloVE, need to create a word embedding/word context matrix**\n",
    "- Create a matrix of weights for words in the training set\n",
    "\n",
    "- One embedding for each word in the training set\n",
    "\n",
    "- Get all unique words in our training set: Tokenizer index\n",
    "- Find the corresponding weight vector in GloVe embedding\n"
   ]
  },
  {
   "cell_type": "code",
   "execution_count": 54,
   "metadata": {},
   "outputs": [],
   "source": [
    "# Define size of embedding matrix: number of unique words x embedding dim (100)\n",
    "embedding_matrix = np.zeros((vocab_size, 50))\n",
    "\n",
    "# fill in matrix\n",
    "for word, i in t.word_index.items():  # dictionary\n",
    "    embedding_vector = embeddings_index.get(word) # gets embedded vector of word from GloVe\n",
    "    if embedding_vector is not None:\n",
    "        # add to matrix\n",
    "        embedding_matrix[i] = embedding_vector # each row of matrix"
   ]
  },
  {
   "cell_type": "code",
   "execution_count": 55,
   "metadata": {},
   "outputs": [
    {
     "data": {
      "text/plain": [
       "array([[ 0.        ,  0.        ,  0.        , ...,  0.        ,\n",
       "         0.        ,  0.        ],\n",
       "       [ 0.32527   ,  1.20930004,  0.15962   , ..., -1.10020006,\n",
       "        -0.91891003,  0.48025   ],\n",
       "       [ 1.21739995,  1.01839995, -0.60869998, ..., -0.88479   ,\n",
       "         0.58089   , -0.09434   ],\n",
       "       ...,\n",
       "       [ 0.        ,  0.        ,  0.        , ...,  0.        ,\n",
       "         0.        ,  0.        ],\n",
       "       [ 0.        ,  0.        ,  0.        , ...,  0.        ,\n",
       "         0.        ,  0.        ],\n",
       "       [ 0.        ,  0.        ,  0.        , ...,  0.        ,\n",
       "         0.        ,  0.        ]])"
      ]
     },
     "execution_count": 55,
     "metadata": {},
     "output_type": "execute_result"
    }
   ],
   "source": [
    "embedding_matrix"
   ]
  },
  {
   "cell_type": "code",
   "execution_count": 56,
   "metadata": {},
   "outputs": [],
   "source": [
    "# input is vocab_size, output is 50\n",
    "# weights from embedding matrix, set trainable = False\n",
    "tweet_num = max_tweet_len\n",
    "embedding_layer = Embedding(input_dim=vocab_size, output_dim=50, weights=[embedding_matrix],\n",
    "                           input_length = tweet_num, trainable=False)"
   ]
  },
  {
   "cell_type": "markdown",
   "metadata": {},
   "source": [
    "### Build Neural Net"
   ]
  },
  {
   "cell_type": "code",
   "execution_count": 57,
   "metadata": {},
   "outputs": [],
   "source": [
    "from keras.models import Sequential\n",
    "from keras.layers import Dense\n",
    "from keras.layers import Flatten\n",
    "from keras.layers import LSTM\n",
    "from keras.layers import GRU\n",
    "from keras.layers import BatchNormalization"
   ]
  },
  {
   "cell_type": "code",
   "execution_count": 58,
   "metadata": {},
   "outputs": [],
   "source": [
    "def visualize_training_results(results):\n",
    "    history = results.history\n",
    "    plt.figure()\n",
    "    plt.plot(history['val_loss'])\n",
    "    plt.plot(history['loss'])\n",
    "    plt.legend(['val_loss', 'loss'])\n",
    "    plt.title('Loss')\n",
    "    plt.xlabel('Epochs')\n",
    "    plt.ylabel('Loss')\n",
    "    plt.show()\n",
    "    \n",
    "    plt.figure()\n",
    "    plt.plot(history['val_acc'])\n",
    "    plt.plot(history['acc'])\n",
    "    plt.legend(['val_acc', 'acc'])\n",
    "    plt.title('Accuracy')\n",
    "    plt.xlabel('Epochs')\n",
    "    plt.ylabel('Accuracy')\n",
    "    plt.show()"
   ]
  },
  {
   "cell_type": "markdown",
   "metadata": {},
   "source": [
    "#### Model 1: Simple LSTM Model with regularization, increase dimensionality"
   ]
  },
  {
   "cell_type": "code",
   "execution_count": 59,
   "metadata": {},
   "outputs": [
    {
     "name": "stdout",
     "output_type": "stream",
     "text": [
      "_________________________________________________________________\n",
      "Layer (type)                 Output Shape              Param #   \n",
      "=================================================================\n",
      "embedding_1 (Embedding)      (None, 24, 50)            507400    \n",
      "_________________________________________________________________\n",
      "lstm_1 (LSTM)                (None, 256)               314368    \n",
      "_________________________________________________________________\n",
      "dense_1 (Dense)              (None, 3)                 771       \n",
      "=================================================================\n",
      "Total params: 822,539\n",
      "Trainable params: 315,139\n",
      "Non-trainable params: 507,400\n",
      "_________________________________________________________________\n"
     ]
    }
   ],
   "source": [
    "lstm_mod1 = Sequential()\n",
    "lstm_mod1.add(embedding_layer)\n",
    "lstm_mod1.add(LSTM(256, \n",
    "               dropout = 0.2, \n",
    "               recurrent_dropout = 0.5))\n",
    "lstm_mod1.add(Dense(3, activation='softmax'))\n",
    "lstm_mod1.compile(optimizer='adam', loss='categorical_crossentropy', metrics=['acc'])\n",
    "lstm_mod1.summary()"
   ]
  },
  {
   "cell_type": "code",
   "execution_count": 60,
   "metadata": {},
   "outputs": [
    {
     "name": "stdout",
     "output_type": "stream",
     "text": [
      "Train on 5818 samples, validate on 1455 samples\n",
      "Epoch 1/100\n",
      "5818/5818 [==============================] - 10s 2ms/step - loss: 0.8723 - acc: 0.5918 - val_loss: 0.8181 - val_acc: 0.6076\n",
      "Epoch 2/100\n",
      "5818/5818 [==============================] - 14s 2ms/step - loss: 0.8122 - acc: 0.6134 - val_loss: 0.7991 - val_acc: 0.6076\n",
      "Epoch 3/100\n",
      "5818/5818 [==============================] - 10s 2ms/step - loss: 0.7941 - acc: 0.6236 - val_loss: 0.7912 - val_acc: 0.6103\n",
      "Epoch 4/100\n",
      "5818/5818 [==============================] - 10s 2ms/step - loss: 0.7827 - acc: 0.6294 - val_loss: 0.7794 - val_acc: 0.6316\n",
      "Epoch 5/100\n",
      "5818/5818 [==============================] - 9s 2ms/step - loss: 0.7716 - acc: 0.6244 - val_loss: 0.7685 - val_acc: 0.6296\n",
      "Epoch 6/100\n",
      "5818/5818 [==============================] - 9s 2ms/step - loss: 0.7691 - acc: 0.6346 - val_loss: 0.7845 - val_acc: 0.6110\n",
      "Epoch 7/100\n",
      "5818/5818 [==============================] - 10s 2ms/step - loss: 0.7656 - acc: 0.6365 - val_loss: 0.7745 - val_acc: 0.6172\n",
      "Epoch 8/100\n",
      "5818/5818 [==============================] - 11s 2ms/step - loss: 0.7515 - acc: 0.6435 - val_loss: 0.7605 - val_acc: 0.6426\n",
      "Epoch 9/100\n",
      "5818/5818 [==============================] - 14s 2ms/step - loss: 0.7484 - acc: 0.6428 - val_loss: 0.7596 - val_acc: 0.6495\n",
      "Epoch 10/100\n",
      "5818/5818 [==============================] - 9s 2ms/step - loss: 0.7506 - acc: 0.6494 - val_loss: 0.7574 - val_acc: 0.6419\n",
      "Epoch 11/100\n",
      "5818/5818 [==============================] - 10s 2ms/step - loss: 0.7461 - acc: 0.6495 - val_loss: 0.7624 - val_acc: 0.6302\n",
      "Epoch 12/100\n",
      "5818/5818 [==============================] - 9s 2ms/step - loss: 0.7456 - acc: 0.6456 - val_loss: 0.7558 - val_acc: 0.6550\n",
      "Epoch 13/100\n",
      "5818/5818 [==============================] - 11s 2ms/step - loss: 0.7394 - acc: 0.6468 - val_loss: 0.7543 - val_acc: 0.6488\n",
      "Epoch 14/100\n",
      "5818/5818 [==============================] - 10s 2ms/step - loss: 0.7312 - acc: 0.6593 - val_loss: 0.7526 - val_acc: 0.6412\n",
      "Epoch 15/100\n",
      "5818/5818 [==============================] - 10s 2ms/step - loss: 0.7226 - acc: 0.6657 - val_loss: 0.7531 - val_acc: 0.6385\n",
      "Epoch 16/100\n",
      "5818/5818 [==============================] - 10s 2ms/step - loss: 0.7225 - acc: 0.6645 - val_loss: 0.7630 - val_acc: 0.6371\n",
      "Epoch 17/100\n",
      "5818/5818 [==============================] - 10s 2ms/step - loss: 0.7147 - acc: 0.6621 - val_loss: 0.7416 - val_acc: 0.6570\n",
      "Epoch 18/100\n",
      "5818/5818 [==============================] - 10s 2ms/step - loss: 0.7169 - acc: 0.6660 - val_loss: 0.7547 - val_acc: 0.6481\n",
      "Epoch 19/100\n",
      "5818/5818 [==============================] - 10s 2ms/step - loss: 0.7167 - acc: 0.6605 - val_loss: 0.7375 - val_acc: 0.6550\n",
      "Epoch 20/100\n",
      "5818/5818 [==============================] - 10s 2ms/step - loss: 0.7024 - acc: 0.6736 - val_loss: 0.7412 - val_acc: 0.6536\n",
      "Epoch 21/100\n",
      "5818/5818 [==============================] - 10s 2ms/step - loss: 0.7003 - acc: 0.6763 - val_loss: 0.7409 - val_acc: 0.6454\n",
      "Epoch 22/100\n",
      "5818/5818 [==============================] - 9s 2ms/step - loss: 0.6930 - acc: 0.6762 - val_loss: 0.7391 - val_acc: 0.6577\n",
      "Epoch 23/100\n",
      "5818/5818 [==============================] - 9s 2ms/step - loss: 0.6899 - acc: 0.6779 - val_loss: 0.7330 - val_acc: 0.6577\n",
      "Epoch 24/100\n",
      "5818/5818 [==============================] - 9s 2ms/step - loss: 0.6803 - acc: 0.6832 - val_loss: 0.7339 - val_acc: 0.6557\n",
      "Epoch 25/100\n",
      "5818/5818 [==============================] - 9s 2ms/step - loss: 0.6773 - acc: 0.6923 - val_loss: 0.7319 - val_acc: 0.6667\n",
      "Epoch 26/100\n",
      "5818/5818 [==============================] - 9s 2ms/step - loss: 0.6669 - acc: 0.6922 - val_loss: 0.7199 - val_acc: 0.6612\n",
      "Epoch 27/100\n",
      "5818/5818 [==============================] - 9s 2ms/step - loss: 0.6659 - acc: 0.6942 - val_loss: 0.7224 - val_acc: 0.6701\n",
      "Epoch 28/100\n",
      "5818/5818 [==============================] - 9s 2ms/step - loss: 0.6507 - acc: 0.7033 - val_loss: 0.7208 - val_acc: 0.6729\n",
      "Epoch 29/100\n",
      "5818/5818 [==============================] - 9s 2ms/step - loss: 0.6525 - acc: 0.7030 - val_loss: 0.7142 - val_acc: 0.6708\n",
      "Epoch 30/100\n",
      "5818/5818 [==============================] - 9s 2ms/step - loss: 0.6446 - acc: 0.7088 - val_loss: 0.7123 - val_acc: 0.6811\n",
      "Epoch 31/100\n",
      "5818/5818 [==============================] - 9s 2ms/step - loss: 0.6419 - acc: 0.7111 - val_loss: 0.7163 - val_acc: 0.6784\n",
      "Epoch 32/100\n",
      "5818/5818 [==============================] - 9s 2ms/step - loss: 0.6426 - acc: 0.7097 - val_loss: 0.7158 - val_acc: 0.6722\n",
      "Epoch 33/100\n",
      "5818/5818 [==============================] - 9s 2ms/step - loss: 0.6333 - acc: 0.7133 - val_loss: 0.7213 - val_acc: 0.6845\n",
      "Epoch 34/100\n",
      "5818/5818 [==============================] - 9s 2ms/step - loss: 0.6137 - acc: 0.7277 - val_loss: 0.7240 - val_acc: 0.6838\n",
      "Epoch 35/100\n",
      "5818/5818 [==============================] - 9s 2ms/step - loss: 0.6183 - acc: 0.7212 - val_loss: 0.7158 - val_acc: 0.6873\n",
      "Epoch 36/100\n",
      "5818/5818 [==============================] - 9s 2ms/step - loss: 0.6164 - acc: 0.7257 - val_loss: 0.7114 - val_acc: 0.6859\n",
      "Epoch 37/100\n",
      "5818/5818 [==============================] - 9s 2ms/step - loss: 0.6086 - acc: 0.7265 - val_loss: 0.7246 - val_acc: 0.6825\n",
      "Epoch 38/100\n",
      "5818/5818 [==============================] - 9s 2ms/step - loss: 0.6063 - acc: 0.7236 - val_loss: 0.7158 - val_acc: 0.6873\n",
      "Epoch 39/100\n",
      "5818/5818 [==============================] - 9s 2ms/step - loss: 0.5933 - acc: 0.7382 - val_loss: 0.7354 - val_acc: 0.6838\n",
      "Epoch 40/100\n",
      "5818/5818 [==============================] - 9s 2ms/step - loss: 0.5823 - acc: 0.7367 - val_loss: 0.7209 - val_acc: 0.6804\n",
      "Epoch 41/100\n",
      "5818/5818 [==============================] - 11s 2ms/step - loss: 0.5814 - acc: 0.7399 - val_loss: 0.7189 - val_acc: 0.6873\n",
      "Epoch 42/100\n",
      "5818/5818 [==============================] - 9s 2ms/step - loss: 0.5680 - acc: 0.7441 - val_loss: 0.7284 - val_acc: 0.6784\n",
      "Epoch 43/100\n",
      "5818/5818 [==============================] - 9s 1ms/step - loss: 0.5689 - acc: 0.7458 - val_loss: 0.7393 - val_acc: 0.6838\n",
      "Epoch 44/100\n",
      "5818/5818 [==============================] - 10s 2ms/step - loss: 0.5676 - acc: 0.7465 - val_loss: 0.7269 - val_acc: 0.6825\n",
      "Epoch 45/100\n",
      "5818/5818 [==============================] - 11s 2ms/step - loss: 0.5610 - acc: 0.7496 - val_loss: 0.7312 - val_acc: 0.6880\n",
      "Epoch 46/100\n",
      "5818/5818 [==============================] - 10s 2ms/step - loss: 0.5504 - acc: 0.7499 - val_loss: 0.7326 - val_acc: 0.6790\n",
      "Epoch 47/100\n",
      "5818/5818 [==============================] - 10s 2ms/step - loss: 0.5408 - acc: 0.7570 - val_loss: 0.7390 - val_acc: 0.6797\n",
      "Epoch 48/100\n",
      "5818/5818 [==============================] - 10s 2ms/step - loss: 0.5320 - acc: 0.7650 - val_loss: 0.7344 - val_acc: 0.6866\n",
      "Epoch 49/100\n",
      "5818/5818 [==============================] - 10s 2ms/step - loss: 0.5257 - acc: 0.7656 - val_loss: 0.7361 - val_acc: 0.6818\n",
      "Epoch 50/100\n",
      "5818/5818 [==============================] - 11s 2ms/step - loss: 0.5261 - acc: 0.7728 - val_loss: 0.7277 - val_acc: 0.6790\n",
      "Epoch 51/100\n",
      "5818/5818 [==============================] - 10s 2ms/step - loss: 0.5157 - acc: 0.7800 - val_loss: 0.7436 - val_acc: 0.6797\n",
      "Epoch 52/100\n",
      "5818/5818 [==============================] - 10s 2ms/step - loss: 0.5080 - acc: 0.7783 - val_loss: 0.7391 - val_acc: 0.6825\n",
      "Epoch 53/100\n",
      "5818/5818 [==============================] - 10s 2ms/step - loss: 0.4972 - acc: 0.7826 - val_loss: 0.7563 - val_acc: 0.6804\n",
      "Epoch 54/100\n",
      "5818/5818 [==============================] - 10s 2ms/step - loss: 0.4967 - acc: 0.7838 - val_loss: 0.7486 - val_acc: 0.6887\n",
      "Epoch 55/100\n",
      "5818/5818 [==============================] - 10s 2ms/step - loss: 0.4989 - acc: 0.7858 - val_loss: 0.7470 - val_acc: 0.6804\n",
      "Epoch 56/100\n",
      "5818/5818 [==============================] - 10s 2ms/step - loss: 0.4847 - acc: 0.7967 - val_loss: 0.7575 - val_acc: 0.6790\n",
      "Epoch 57/100\n",
      "5818/5818 [==============================] - 10s 2ms/step - loss: 0.4736 - acc: 0.7955 - val_loss: 0.7729 - val_acc: 0.6969\n",
      "Epoch 58/100\n",
      "5818/5818 [==============================] - 10s 2ms/step - loss: 0.4711 - acc: 0.7867 - val_loss: 0.7584 - val_acc: 0.6873\n",
      "Epoch 59/100\n",
      "5818/5818 [==============================] - 11s 2ms/step - loss: 0.4723 - acc: 0.7987 - val_loss: 0.7591 - val_acc: 0.6859\n",
      "Epoch 60/100\n",
      "5818/5818 [==============================] - 10s 2ms/step - loss: 0.4480 - acc: 0.8113 - val_loss: 0.7753 - val_acc: 0.6818\n",
      "Epoch 61/100\n",
      "5818/5818 [==============================] - 10s 2ms/step - loss: 0.4613 - acc: 0.8004 - val_loss: 0.7649 - val_acc: 0.6948\n",
      "Epoch 62/100\n",
      "5818/5818 [==============================] - 10s 2ms/step - loss: 0.4475 - acc: 0.8109 - val_loss: 0.7671 - val_acc: 0.6790\n",
      "Epoch 63/100\n",
      "5818/5818 [==============================] - 10s 2ms/step - loss: 0.4422 - acc: 0.8139 - val_loss: 0.7910 - val_acc: 0.6921\n",
      "Epoch 64/100\n",
      "5818/5818 [==============================] - 10s 2ms/step - loss: 0.4448 - acc: 0.8182 - val_loss: 0.8236 - val_acc: 0.6763\n",
      "Epoch 65/100\n",
      "5818/5818 [==============================] - 10s 2ms/step - loss: 0.4465 - acc: 0.8097 - val_loss: 0.7720 - val_acc: 0.6832\n",
      "Epoch 66/100\n",
      "5818/5818 [==============================] - 10s 2ms/step - loss: 0.4259 - acc: 0.8159 - val_loss: 0.7825 - val_acc: 0.6880\n",
      "Epoch 67/100\n",
      "5818/5818 [==============================] - 10s 2ms/step - loss: 0.4204 - acc: 0.8242 - val_loss: 0.8040 - val_acc: 0.6997\n",
      "Epoch 68/100\n",
      "5818/5818 [==============================] - 10s 2ms/step - loss: 0.4194 - acc: 0.8245 - val_loss: 0.7880 - val_acc: 0.6873\n",
      "Epoch 69/100\n",
      "5818/5818 [==============================] - 10s 2ms/step - loss: 0.4069 - acc: 0.8262 - val_loss: 0.8032 - val_acc: 0.6893\n",
      "Epoch 70/100\n",
      "5818/5818 [==============================] - 10s 2ms/step - loss: 0.3990 - acc: 0.8365 - val_loss: 0.8306 - val_acc: 0.6880\n",
      "Epoch 71/100\n",
      "5818/5818 [==============================] - 10s 2ms/step - loss: 0.3893 - acc: 0.8377 - val_loss: 0.8195 - val_acc: 0.6845\n",
      "Epoch 72/100\n",
      "5818/5818 [==============================] - 9s 2ms/step - loss: 0.3913 - acc: 0.8377 - val_loss: 0.8368 - val_acc: 0.6887\n",
      "Epoch 73/100\n",
      "5818/5818 [==============================] - 9s 2ms/step - loss: 0.3947 - acc: 0.8381 - val_loss: 0.8274 - val_acc: 0.6818\n",
      "Epoch 74/100\n",
      "5818/5818 [==============================] - 9s 2ms/step - loss: 0.3782 - acc: 0.8450 - val_loss: 0.8415 - val_acc: 0.6832\n",
      "Epoch 75/100\n",
      "5818/5818 [==============================] - 9s 2ms/step - loss: 0.3734 - acc: 0.8455 - val_loss: 0.8460 - val_acc: 0.6852\n",
      "Epoch 76/100\n",
      "5818/5818 [==============================] - 9s 2ms/step - loss: 0.3732 - acc: 0.8414 - val_loss: 0.8470 - val_acc: 0.6873\n",
      "Epoch 77/100\n",
      "5818/5818 [==============================] - 9s 2ms/step - loss: 0.3610 - acc: 0.8527 - val_loss: 0.8570 - val_acc: 0.6914\n",
      "Epoch 78/100\n",
      "5818/5818 [==============================] - 9s 2ms/step - loss: 0.3688 - acc: 0.8436 - val_loss: 0.8601 - val_acc: 0.6838\n",
      "Epoch 79/100\n",
      "5818/5818 [==============================] - 9s 2ms/step - loss: 0.3522 - acc: 0.8518 - val_loss: 0.8541 - val_acc: 0.6845\n",
      "Epoch 80/100\n",
      "5818/5818 [==============================] - 9s 2ms/step - loss: 0.3507 - acc: 0.8537 - val_loss: 0.8552 - val_acc: 0.6866\n",
      "Epoch 81/100\n",
      "5818/5818 [==============================] - 9s 2ms/step - loss: 0.3441 - acc: 0.8561 - val_loss: 0.8773 - val_acc: 0.6873\n",
      "Epoch 82/100\n",
      "5818/5818 [==============================] - 9s 2ms/step - loss: 0.3412 - acc: 0.8573 - val_loss: 0.8601 - val_acc: 0.6893\n",
      "Epoch 83/100\n",
      "5818/5818 [==============================] - 9s 2ms/step - loss: 0.3321 - acc: 0.8603 - val_loss: 0.8817 - val_acc: 0.6880\n",
      "Epoch 84/100\n",
      "5818/5818 [==============================] - 10s 2ms/step - loss: 0.3292 - acc: 0.8654 - val_loss: 0.8738 - val_acc: 0.6845\n",
      "Epoch 85/100\n",
      "5818/5818 [==============================] - 11s 2ms/step - loss: 0.3255 - acc: 0.8611 - val_loss: 0.9025 - val_acc: 0.6873\n",
      "Epoch 86/100\n",
      "5818/5818 [==============================] - 10s 2ms/step - loss: 0.3291 - acc: 0.8659 - val_loss: 0.9065 - val_acc: 0.6784\n",
      "Epoch 87/100\n",
      "5818/5818 [==============================] - 9s 2ms/step - loss: 0.3215 - acc: 0.8682 - val_loss: 0.8984 - val_acc: 0.6900\n",
      "Epoch 88/100\n",
      "5818/5818 [==============================] - 9s 2ms/step - loss: 0.3052 - acc: 0.8773 - val_loss: 0.9056 - val_acc: 0.6900\n",
      "Epoch 89/100\n",
      "5818/5818 [==============================] - 9s 2ms/step - loss: 0.3059 - acc: 0.8718 - val_loss: 0.9088 - val_acc: 0.6907\n",
      "Epoch 90/100\n",
      "5818/5818 [==============================] - 9s 2ms/step - loss: 0.3042 - acc: 0.8792 - val_loss: 0.9112 - val_acc: 0.6880\n",
      "Epoch 91/100\n",
      "5818/5818 [==============================] - 9s 2ms/step - loss: 0.2912 - acc: 0.8835 - val_loss: 0.9367 - val_acc: 0.6852\n",
      "Epoch 92/100\n",
      "5818/5818 [==============================] - 9s 2ms/step - loss: 0.3014 - acc: 0.8766 - val_loss: 0.9392 - val_acc: 0.6845\n",
      "Epoch 93/100\n",
      "5818/5818 [==============================] - 9s 2ms/step - loss: 0.2887 - acc: 0.8860 - val_loss: 0.9562 - val_acc: 0.6859\n",
      "Epoch 94/100\n",
      "5818/5818 [==============================] - 9s 2ms/step - loss: 0.2878 - acc: 0.8819 - val_loss: 0.9622 - val_acc: 0.6838\n",
      "Epoch 95/100\n",
      "5818/5818 [==============================] - 9s 2ms/step - loss: 0.2928 - acc: 0.8817 - val_loss: 0.9655 - val_acc: 0.6852\n",
      "Epoch 96/100\n",
      "5818/5818 [==============================] - 9s 2ms/step - loss: 0.2835 - acc: 0.8835 - val_loss: 0.9683 - val_acc: 0.6845\n",
      "Epoch 97/100\n",
      "5818/5818 [==============================] - 9s 2ms/step - loss: 0.2792 - acc: 0.8857 - val_loss: 0.9690 - val_acc: 0.6777\n",
      "Epoch 98/100\n",
      "5818/5818 [==============================] - 9s 2ms/step - loss: 0.2770 - acc: 0.8903 - val_loss: 0.9759 - val_acc: 0.6942\n",
      "Epoch 99/100\n",
      "5818/5818 [==============================] - 9s 2ms/step - loss: 0.2808 - acc: 0.8912 - val_loss: 0.9558 - val_acc: 0.6866\n",
      "Epoch 100/100\n",
      "5818/5818 [==============================] - 9s 2ms/step - loss: 0.2649 - acc: 0.8946 - val_loss: 0.9813 - val_acc: 0.6845\n"
     ]
    }
   ],
   "source": [
    "history_1 = lstm_mod1.fit(X_train, y_train,\n",
    "                    validation_split = 0.2, class_weight=class_weights,\n",
    "                    epochs=100, batch_size=256)"
   ]
  },
  {
   "cell_type": "code",
   "execution_count": 61,
   "metadata": {},
   "outputs": [
    {
     "data": {
      "image/png": "[encoded data removed]",
      "text/plain": [
       "<Figure size 576x396 with 1 Axes>"
      ]
     },
     "metadata": {},
     "output_type": "display_data"
    },
    {
     "data": {
      "image/png": "[encoded data removed]",
      "text/plain": [
       "<Figure size 576x396 with 1 Axes>"
      ]
     },
     "metadata": {},
     "output_type": "display_data"
    }
   ],
   "source": [
    "visualize_training_results(history_1)"
   ]
  },
  {
   "cell_type": "code",
   "execution_count": 62,
   "metadata": {},
   "outputs": [
    {
     "name": "stdout",
     "output_type": "stream",
     "text": [
      "Training Accuracy: 0.9076\n",
      "Testing Accuracy:  0.6619\n"
     ]
    }
   ],
   "source": [
    "# Find train and test accuracy\n",
    "loss, accuracy = lstm_mod1.evaluate(X_train, y_train, verbose=False)\n",
    "print(\"Training Accuracy: {:.4f}\".format(accuracy))\n",
    "loss, accuracy = lstm_mod1.evaluate(X_test, y_test, verbose=False)\n",
    "print(\"Testing Accuracy:  {:.4f}\".format(accuracy))\n",
    "#0.90/0.66"
   ]
  },
  {
   "cell_type": "markdown",
   "metadata": {},
   "source": [
    "### Model 2: LSTM with regularization, reduce dimensionality"
   ]
  },
  {
   "cell_type": "code",
   "execution_count": 63,
   "metadata": {},
   "outputs": [
    {
     "name": "stdout",
     "output_type": "stream",
     "text": [
      "_________________________________________________________________\n",
      "Layer (type)                 Output Shape              Param #   \n",
      "=================================================================\n",
      "embedding_1 (Embedding)      (None, 24, 50)            507400    \n",
      "_________________________________________________________________\n",
      "dropout_1 (Dropout)          (None, 24, 50)            0         \n",
      "_________________________________________________________________\n",
      "lstm_2 (LSTM)                (None, 100)               60400     \n",
      "_________________________________________________________________\n",
      "dense_2 (Dense)              (None, 3)                 303       \n",
      "=================================================================\n",
      "Total params: 568,103\n",
      "Trainable params: 60,703\n",
      "Non-trainable params: 507,400\n",
      "_________________________________________________________________\n"
     ]
    }
   ],
   "source": [
    "lstm_mod2 = Sequential()\n",
    "lstm_mod2.add(embedding_layer)\n",
    "lstm_mod2.add(Dropout(0.3))\n",
    "lstm_mod2.add(LSTM(100, \n",
    "               dropout = 0.3, \n",
    "               recurrent_dropout = 0.5))\n",
    "lstm_mod2.add(Dense(3, activation='softmax'))\n",
    "lstm_mod2.compile(optimizer='adam', loss='categorical_crossentropy', metrics=['acc'])\n",
    "lstm_mod2.summary()"
   ]
  },
  {
   "cell_type": "code",
   "execution_count": 64,
   "metadata": {},
   "outputs": [],
   "source": [
    "# Import EarlyStopping and ModelCheckpoint\n",
    "from keras.callbacks import EarlyStopping, ModelCheckpoint\n",
    "\n",
    "# Define the callbacks\n",
    "early_stopping = [EarlyStopping(monitor='val_loss', patience=15), \n",
    "                  ModelCheckpoint(filepath='best_model_lstm.h5', monitor='val_loss', save_best_only=True)]"
   ]
  },
  {
   "cell_type": "code",
   "execution_count": 65,
   "metadata": {},
   "outputs": [
    {
     "name": "stdout",
     "output_type": "stream",
     "text": [
      "Train on 5818 samples, validate on 1455 samples\n",
      "Epoch 1/200\n",
      "5818/5818 [==============================] - 7s 1ms/step - loss: 0.9016 - acc: 0.5743 - val_loss: 0.8494 - val_acc: 0.6000\n",
      "Epoch 2/200\n",
      "5818/5818 [==============================] - 3s 497us/step - loss: 0.8406 - acc: 0.6098 - val_loss: 0.8336 - val_acc: 0.6014\n",
      "Epoch 3/200\n",
      "5818/5818 [==============================] - 3s 584us/step - loss: 0.8199 - acc: 0.6134 - val_loss: 0.8173 - val_acc: 0.6034\n",
      "Epoch 4/200\n",
      "5818/5818 [==============================] - 3s 597us/step - loss: 0.8180 - acc: 0.6150 - val_loss: 0.8096 - val_acc: 0.6076\n",
      "Epoch 5/200\n",
      "5818/5818 [==============================] - 3s 443us/step - loss: 0.8121 - acc: 0.6157 - val_loss: 0.8182 - val_acc: 0.6041\n",
      "Epoch 6/200\n",
      "5818/5818 [==============================] - 3s 452us/step - loss: 0.8044 - acc: 0.6184 - val_loss: 0.8027 - val_acc: 0.6089\n",
      "Epoch 7/200\n",
      "5818/5818 [==============================] - 3s 476us/step - loss: 0.7986 - acc: 0.6179 - val_loss: 0.7993 - val_acc: 0.6069\n",
      "Epoch 8/200\n",
      "5818/5818 [==============================] - 3s 526us/step - loss: 0.8024 - acc: 0.6172 - val_loss: 0.8058 - val_acc: 0.6076\n",
      "Epoch 9/200\n",
      "5818/5818 [==============================] - 3s 505us/step - loss: 0.7977 - acc: 0.6177 - val_loss: 0.8039 - val_acc: 0.6089\n",
      "Epoch 10/200\n",
      "5818/5818 [==============================] - 3s 455us/step - loss: 0.7899 - acc: 0.6200 - val_loss: 0.7957 - val_acc: 0.6131\n",
      "Epoch 11/200\n",
      "5818/5818 [==============================] - 3s 460us/step - loss: 0.7927 - acc: 0.6227 - val_loss: 0.7908 - val_acc: 0.6165\n",
      "Epoch 12/200\n",
      "5818/5818 [==============================] - 3s 505us/step - loss: 0.7845 - acc: 0.6262 - val_loss: 0.7789 - val_acc: 0.6158\n",
      "Epoch 13/200\n",
      "5818/5818 [==============================] - 3s 465us/step - loss: 0.7854 - acc: 0.6198 - val_loss: 0.7785 - val_acc: 0.6158\n",
      "Epoch 14/200\n",
      "5818/5818 [==============================] - 3s 457us/step - loss: 0.7830 - acc: 0.6212 - val_loss: 0.7834 - val_acc: 0.6186\n",
      "Epoch 15/200\n",
      "5818/5818 [==============================] - 3s 460us/step - loss: 0.7831 - acc: 0.6188 - val_loss: 0.7813 - val_acc: 0.6234\n",
      "Epoch 16/200\n",
      "5818/5818 [==============================] - 3s 500us/step - loss: 0.7815 - acc: 0.6334 - val_loss: 0.7728 - val_acc: 0.6268\n",
      "Epoch 17/200\n",
      "5818/5818 [==============================] - 3s 471us/step - loss: 0.7780 - acc: 0.6305 - val_loss: 0.7753 - val_acc: 0.6247\n",
      "Epoch 18/200\n",
      "5818/5818 [==============================] - 3s 455us/step - loss: 0.7752 - acc: 0.6311 - val_loss: 0.7706 - val_acc: 0.6234\n",
      "Epoch 19/200\n",
      "5818/5818 [==============================] - 3s 476us/step - loss: 0.7734 - acc: 0.6305 - val_loss: 0.7667 - val_acc: 0.6296\n",
      "Epoch 20/200\n",
      "5818/5818 [==============================] - 4s 612us/step - loss: 0.7687 - acc: 0.6289 - val_loss: 0.7649 - val_acc: 0.6323\n",
      "Epoch 21/200\n",
      "5818/5818 [==============================] - 4s 608us/step - loss: 0.7710 - acc: 0.6296 - val_loss: 0.7634 - val_acc: 0.6351\n",
      "Epoch 22/200\n",
      "5818/5818 [==============================] - 3s 596us/step - loss: 0.7623 - acc: 0.6378 - val_loss: 0.7670 - val_acc: 0.6302\n",
      "Epoch 23/200\n",
      "5818/5818 [==============================] - 3s 587us/step - loss: 0.7661 - acc: 0.6337 - val_loss: 0.7638 - val_acc: 0.6330\n",
      "Epoch 24/200\n",
      "5818/5818 [==============================] - 3s 512us/step - loss: 0.7663 - acc: 0.6384 - val_loss: 0.7642 - val_acc: 0.6385\n",
      "Epoch 25/200\n",
      "5818/5818 [==============================] - 3s 493us/step - loss: 0.7601 - acc: 0.6356 - val_loss: 0.7633 - val_acc: 0.6351\n",
      "Epoch 26/200\n",
      "5818/5818 [==============================] - 3s 562us/step - loss: 0.7626 - acc: 0.6406 - val_loss: 0.7609 - val_acc: 0.6351\n",
      "Epoch 27/200\n",
      "5818/5818 [==============================] - 3s 460us/step - loss: 0.7647 - acc: 0.6373 - val_loss: 0.7562 - val_acc: 0.6405\n",
      "Epoch 28/200\n",
      "5818/5818 [==============================] - 3s 478us/step - loss: 0.7592 - acc: 0.6372 - val_loss: 0.7633 - val_acc: 0.6392\n",
      "Epoch 29/200\n",
      "5818/5818 [==============================] - 3s 481us/step - loss: 0.7531 - acc: 0.6425 - val_loss: 0.7528 - val_acc: 0.6433\n",
      "Epoch 30/200\n",
      "5818/5818 [==============================] - 3s 481us/step - loss: 0.7536 - acc: 0.6406 - val_loss: 0.7553 - val_acc: 0.6488\n",
      "Epoch 31/200\n",
      "5818/5818 [==============================] - 3s 489us/step - loss: 0.7553 - acc: 0.6473 - val_loss: 0.7523 - val_acc: 0.6412\n",
      "Epoch 32/200\n",
      "5818/5818 [==============================] - 3s 466us/step - loss: 0.7529 - acc: 0.6447 - val_loss: 0.7612 - val_acc: 0.6426\n",
      "Epoch 33/200\n",
      "5818/5818 [==============================] - 3s 472us/step - loss: 0.7473 - acc: 0.6461 - val_loss: 0.7491 - val_acc: 0.6474\n",
      "Epoch 34/200\n",
      "5818/5818 [==============================] - 3s 474us/step - loss: 0.7484 - acc: 0.6458 - val_loss: 0.7579 - val_acc: 0.6467\n",
      "Epoch 35/200\n",
      "5818/5818 [==============================] - 3s 492us/step - loss: 0.7496 - acc: 0.6476 - val_loss: 0.7468 - val_acc: 0.6433\n",
      "Epoch 36/200\n",
      "5818/5818 [==============================] - 3s 471us/step - loss: 0.7479 - acc: 0.6464 - val_loss: 0.7518 - val_acc: 0.6440\n",
      "Epoch 37/200\n",
      "5818/5818 [==============================] - 3s 507us/step - loss: 0.7466 - acc: 0.6432 - val_loss: 0.7456 - val_acc: 0.6536\n",
      "Epoch 38/200\n",
      "5818/5818 [==============================] - 3s 470us/step - loss: 0.7414 - acc: 0.6492 - val_loss: 0.7469 - val_acc: 0.6426\n",
      "Epoch 39/200\n",
      "5818/5818 [==============================] - 3s 538us/step - loss: 0.7411 - acc: 0.6583 - val_loss: 0.7419 - val_acc: 0.6454\n",
      "Epoch 40/200\n",
      "5818/5818 [==============================] - 3s 546us/step - loss: 0.7417 - acc: 0.6466 - val_loss: 0.7426 - val_acc: 0.6536\n",
      "Epoch 41/200\n",
      "5818/5818 [==============================] - 3s 446us/step - loss: 0.7344 - acc: 0.6538 - val_loss: 0.7417 - val_acc: 0.6591\n",
      "Epoch 42/200\n",
      "5818/5818 [==============================] - 3s 477us/step - loss: 0.7399 - acc: 0.6523 - val_loss: 0.7396 - val_acc: 0.6557\n",
      "Epoch 43/200\n",
      "5818/5818 [==============================] - 3s 467us/step - loss: 0.7333 - acc: 0.6581 - val_loss: 0.7395 - val_acc: 0.6632\n",
      "Epoch 44/200\n",
      "5818/5818 [==============================] - 3s 461us/step - loss: 0.7290 - acc: 0.6559 - val_loss: 0.7372 - val_acc: 0.6536\n",
      "Epoch 45/200\n",
      "5818/5818 [==============================] - 3s 472us/step - loss: 0.7281 - acc: 0.6507 - val_loss: 0.7426 - val_acc: 0.6584\n",
      "Epoch 46/200\n",
      "5818/5818 [==============================] - 3s 456us/step - loss: 0.7268 - acc: 0.6583 - val_loss: 0.7406 - val_acc: 0.6440\n",
      "Epoch 47/200\n",
      "5818/5818 [==============================] - 3s 464us/step - loss: 0.7335 - acc: 0.6556 - val_loss: 0.7540 - val_acc: 0.6385\n",
      "Epoch 48/200\n",
      "5818/5818 [==============================] - 3s 452us/step - loss: 0.7313 - acc: 0.6509 - val_loss: 0.7390 - val_acc: 0.6426\n",
      "Epoch 49/200\n",
      "5818/5818 [==============================] - 3s 460us/step - loss: 0.7333 - acc: 0.6535 - val_loss: 0.7326 - val_acc: 0.6612\n",
      "Epoch 50/200\n",
      "5818/5818 [==============================] - 3s 472us/step - loss: 0.7251 - acc: 0.6580 - val_loss: 0.7322 - val_acc: 0.6632\n",
      "Epoch 51/200\n",
      "5818/5818 [==============================] - 3s 481us/step - loss: 0.7235 - acc: 0.6578 - val_loss: 0.7305 - val_acc: 0.6625\n",
      "Epoch 52/200\n",
      "5818/5818 [==============================] - 3s 463us/step - loss: 0.7223 - acc: 0.6629 - val_loss: 0.7327 - val_acc: 0.6619\n",
      "Epoch 53/200\n",
      "5818/5818 [==============================] - 3s 530us/step - loss: 0.7192 - acc: 0.6623 - val_loss: 0.7282 - val_acc: 0.6653\n",
      "Epoch 54/200\n",
      "5818/5818 [==============================] - 3s 540us/step - loss: 0.7188 - acc: 0.6595 - val_loss: 0.7262 - val_acc: 0.6632\n",
      "Epoch 55/200\n",
      "5818/5818 [==============================] - 3s 461us/step - loss: 0.7196 - acc: 0.6684 - val_loss: 0.7274 - val_acc: 0.6619\n",
      "Epoch 56/200\n",
      "5818/5818 [==============================] - 3s 491us/step - loss: 0.7195 - acc: 0.6602 - val_loss: 0.7247 - val_acc: 0.6674\n",
      "Epoch 57/200\n",
      "5818/5818 [==============================] - 3s 601us/step - loss: 0.7128 - acc: 0.6690 - val_loss: 0.7404 - val_acc: 0.6515\n",
      "Epoch 58/200\n",
      "5818/5818 [==============================] - 3s 464us/step - loss: 0.7178 - acc: 0.6633 - val_loss: 0.7264 - val_acc: 0.6619\n",
      "Epoch 59/200\n",
      "5818/5818 [==============================] - 3s 462us/step - loss: 0.7114 - acc: 0.6714 - val_loss: 0.7299 - val_acc: 0.6653\n",
      "Epoch 60/200\n",
      "5818/5818 [==============================] - 3s 505us/step - loss: 0.7089 - acc: 0.6674 - val_loss: 0.7260 - val_acc: 0.6660\n",
      "Epoch 61/200\n",
      "5818/5818 [==============================] - 3s 475us/step - loss: 0.7107 - acc: 0.6674 - val_loss: 0.7289 - val_acc: 0.6653\n",
      "Epoch 62/200\n",
      "5818/5818 [==============================] - 3s 457us/step - loss: 0.7086 - acc: 0.6688 - val_loss: 0.7207 - val_acc: 0.6674\n",
      "Epoch 63/200\n",
      "5818/5818 [==============================] - 3s 483us/step - loss: 0.7084 - acc: 0.6708 - val_loss: 0.7203 - val_acc: 0.6722\n",
      "Epoch 64/200\n",
      "5818/5818 [==============================] - 3s 471us/step - loss: 0.7038 - acc: 0.6762 - val_loss: 0.7204 - val_acc: 0.6784\n",
      "Epoch 65/200\n",
      "5818/5818 [==============================] - 3s 455us/step - loss: 0.7060 - acc: 0.6681 - val_loss: 0.7182 - val_acc: 0.6784\n",
      "Epoch 66/200\n",
      "5818/5818 [==============================] - 3s 527us/step - loss: 0.6936 - acc: 0.6815 - val_loss: 0.7192 - val_acc: 0.6790\n",
      "Epoch 67/200\n",
      "5818/5818 [==============================] - 4s 602us/step - loss: 0.7009 - acc: 0.6741 - val_loss: 0.7222 - val_acc: 0.6729\n",
      "Epoch 68/200\n",
      "5818/5818 [==============================] - 4s 634us/step - loss: 0.7003 - acc: 0.6743 - val_loss: 0.7158 - val_acc: 0.6742\n",
      "Epoch 69/200\n",
      "5818/5818 [==============================] - 3s 462us/step - loss: 0.7032 - acc: 0.6782 - val_loss: 0.7277 - val_acc: 0.6694\n",
      "Epoch 70/200\n",
      "5818/5818 [==============================] - 3s 457us/step - loss: 0.6940 - acc: 0.6796 - val_loss: 0.7185 - val_acc: 0.6790\n",
      "Epoch 71/200\n",
      "5818/5818 [==============================] - 3s 473us/step - loss: 0.6891 - acc: 0.6757 - val_loss: 0.7173 - val_acc: 0.6735\n",
      "Epoch 72/200\n",
      "5818/5818 [==============================] - 3s 454us/step - loss: 0.7052 - acc: 0.6724 - val_loss: 0.7213 - val_acc: 0.6777\n",
      "Epoch 73/200\n",
      "5818/5818 [==============================] - 3s 528us/step - loss: 0.6865 - acc: 0.6858 - val_loss: 0.7179 - val_acc: 0.6749\n",
      "Epoch 74/200\n",
      "5818/5818 [==============================] - 3s 538us/step - loss: 0.6867 - acc: 0.6843 - val_loss: 0.7141 - val_acc: 0.6749\n",
      "Epoch 75/200\n",
      "5818/5818 [==============================] - 3s 466us/step - loss: 0.6883 - acc: 0.6786 - val_loss: 0.7155 - val_acc: 0.6715\n",
      "Epoch 76/200\n",
      "5818/5818 [==============================] - 3s 508us/step - loss: 0.6902 - acc: 0.6822 - val_loss: 0.7125 - val_acc: 0.6729\n",
      "Epoch 77/200\n",
      "5818/5818 [==============================] - 3s 504us/step - loss: 0.6876 - acc: 0.6789 - val_loss: 0.7125 - val_acc: 0.6777\n",
      "Epoch 78/200\n",
      "5818/5818 [==============================] - 3s 523us/step - loss: 0.6859 - acc: 0.6868 - val_loss: 0.7119 - val_acc: 0.6694\n",
      "Epoch 79/200\n",
      "5818/5818 [==============================] - 3s 467us/step - loss: 0.6842 - acc: 0.6865 - val_loss: 0.7085 - val_acc: 0.6729\n",
      "Epoch 80/200\n",
      "5818/5818 [==============================] - 3s 466us/step - loss: 0.6762 - acc: 0.6915 - val_loss: 0.7174 - val_acc: 0.6701\n",
      "Epoch 81/200\n",
      "5818/5818 [==============================] - 3s 466us/step - loss: 0.6812 - acc: 0.6820 - val_loss: 0.7148 - val_acc: 0.6715\n",
      "Epoch 82/200\n",
      "5818/5818 [==============================] - 3s 470us/step - loss: 0.6768 - acc: 0.6849 - val_loss: 0.7175 - val_acc: 0.6777\n",
      "Epoch 83/200\n",
      "5818/5818 [==============================] - 3s 460us/step - loss: 0.6799 - acc: 0.6849 - val_loss: 0.7145 - val_acc: 0.6687\n",
      "Epoch 84/200\n",
      "5818/5818 [==============================] - 3s 455us/step - loss: 0.6736 - acc: 0.6908 - val_loss: 0.7081 - val_acc: 0.6756\n",
      "Epoch 85/200\n",
      "5818/5818 [==============================] - 3s 491us/step - loss: 0.6808 - acc: 0.6779 - val_loss: 0.7088 - val_acc: 0.6784\n",
      "Epoch 86/200\n",
      "5818/5818 [==============================] - 3s 451us/step - loss: 0.6748 - acc: 0.6899 - val_loss: 0.7122 - val_acc: 0.6742\n",
      "Epoch 87/200\n",
      "5818/5818 [==============================] - 3s 460us/step - loss: 0.6660 - acc: 0.6877 - val_loss: 0.7091 - val_acc: 0.6790\n",
      "Epoch 88/200\n",
      "5818/5818 [==============================] - 4s 655us/step - loss: 0.6736 - acc: 0.6906 - val_loss: 0.7027 - val_acc: 0.6777\n",
      "Epoch 89/200\n",
      "5818/5818 [==============================] - 3s 562us/step - loss: 0.6788 - acc: 0.6860 - val_loss: 0.7094 - val_acc: 0.6742\n",
      "Epoch 90/200\n",
      "5818/5818 [==============================] - 3s 519us/step - loss: 0.6684 - acc: 0.6947 - val_loss: 0.7049 - val_acc: 0.6770\n",
      "Epoch 91/200\n",
      "5818/5818 [==============================] - 3s 494us/step - loss: 0.6658 - acc: 0.6934 - val_loss: 0.7046 - val_acc: 0.6811\n",
      "Epoch 92/200\n",
      "5818/5818 [==============================] - 3s 500us/step - loss: 0.6722 - acc: 0.6916 - val_loss: 0.7061 - val_acc: 0.6784\n",
      "Epoch 93/200\n",
      "5818/5818 [==============================] - 3s 468us/step - loss: 0.6661 - acc: 0.6951 - val_loss: 0.7107 - val_acc: 0.6825\n",
      "Epoch 94/200\n",
      "5818/5818 [==============================] - 3s 494us/step - loss: 0.6630 - acc: 0.6939 - val_loss: 0.7036 - val_acc: 0.6756\n",
      "Epoch 95/200\n",
      "5818/5818 [==============================] - 3s 535us/step - loss: 0.6711 - acc: 0.6855 - val_loss: 0.7079 - val_acc: 0.6777\n",
      "Epoch 96/200\n",
      "5818/5818 [==============================] - 3s 499us/step - loss: 0.6604 - acc: 0.6978 - val_loss: 0.7050 - val_acc: 0.6859\n",
      "Epoch 97/200\n",
      "5818/5818 [==============================] - 3s 478us/step - loss: 0.6639 - acc: 0.6903 - val_loss: 0.7064 - val_acc: 0.6866\n",
      "Epoch 98/200\n",
      "5818/5818 [==============================] - 3s 499us/step - loss: 0.6605 - acc: 0.6956 - val_loss: 0.7162 - val_acc: 0.6880\n",
      "Epoch 99/200\n",
      "5818/5818 [==============================] - 3s 580us/step - loss: 0.6587 - acc: 0.7016 - val_loss: 0.7100 - val_acc: 0.6832\n",
      "Epoch 100/200\n",
      "5818/5818 [==============================] - 3s 558us/step - loss: 0.6596 - acc: 0.6994 - val_loss: 0.7138 - val_acc: 0.6770\n",
      "Epoch 101/200\n",
      "5818/5818 [==============================] - 3s 521us/step - loss: 0.6600 - acc: 0.6949 - val_loss: 0.7045 - val_acc: 0.6818\n",
      "Epoch 102/200\n",
      "5818/5818 [==============================] - 3s 510us/step - loss: 0.6516 - acc: 0.7049 - val_loss: 0.7117 - val_acc: 0.6722\n",
      "Epoch 103/200\n",
      "5818/5818 [==============================] - 3s 470us/step - loss: 0.6550 - acc: 0.7006 - val_loss: 0.7009 - val_acc: 0.6838\n",
      "Epoch 104/200\n",
      "5818/5818 [==============================] - 3s 493us/step - loss: 0.6557 - acc: 0.7020 - val_loss: 0.7083 - val_acc: 0.6838\n",
      "Epoch 105/200\n",
      "5818/5818 [==============================] - 3s 495us/step - loss: 0.6481 - acc: 0.7047 - val_loss: 0.7092 - val_acc: 0.6838\n",
      "Epoch 106/200\n",
      "5818/5818 [==============================] - 3s 509us/step - loss: 0.6447 - acc: 0.7090 - val_loss: 0.7076 - val_acc: 0.6859\n",
      "Epoch 107/200\n",
      "5818/5818 [==============================] - 3s 582us/step - loss: 0.6509 - acc: 0.7011 - val_loss: 0.7061 - val_acc: 0.6859\n",
      "Epoch 108/200\n",
      "5818/5818 [==============================] - 3s 521us/step - loss: 0.6392 - acc: 0.7085 - val_loss: 0.7076 - val_acc: 0.6845\n",
      "Epoch 109/200\n",
      "5818/5818 [==============================] - 4s 621us/step - loss: 0.6426 - acc: 0.7094 - val_loss: 0.7156 - val_acc: 0.6818\n",
      "Epoch 110/200\n",
      "5818/5818 [==============================] - 5s 820us/step - loss: 0.6483 - acc: 0.7061 - val_loss: 0.7112 - val_acc: 0.6859\n",
      "Epoch 111/200\n",
      "5818/5818 [==============================] - 4s 773us/step - loss: 0.6476 - acc: 0.7021 - val_loss: 0.7061 - val_acc: 0.6873\n",
      "Epoch 112/200\n",
      "5818/5818 [==============================] - 4s 725us/step - loss: 0.6438 - acc: 0.7083 - val_loss: 0.7099 - val_acc: 0.6873\n",
      "Epoch 113/200\n",
      "5818/5818 [==============================] - 4s 673us/step - loss: 0.6484 - acc: 0.7032 - val_loss: 0.7135 - val_acc: 0.6797\n",
      "Epoch 114/200\n",
      "5818/5818 [==============================] - 3s 580us/step - loss: 0.6475 - acc: 0.7069 - val_loss: 0.7063 - val_acc: 0.6852\n",
      "Epoch 115/200\n",
      "5818/5818 [==============================] - 4s 714us/step - loss: 0.6426 - acc: 0.7075 - val_loss: 0.7076 - val_acc: 0.6797\n",
      "Epoch 116/200\n",
      "5818/5818 [==============================] - 4s 739us/step - loss: 0.6281 - acc: 0.7112 - val_loss: 0.7195 - val_acc: 0.6770\n",
      "Epoch 117/200\n",
      "5818/5818 [==============================] - 4s 669us/step - loss: 0.6454 - acc: 0.7030 - val_loss: 0.7078 - val_acc: 0.6756\n",
      "Epoch 118/200\n",
      "5818/5818 [==============================] - 4s 720us/step - loss: 0.6366 - acc: 0.7109 - val_loss: 0.7100 - val_acc: 0.6818\n"
     ]
    }
   ],
   "source": [
    "history_2 = lstm_mod2.fit(X_train, y_train,\n",
    "                    validation_split = 0.2, \n",
    "                    class_weight=class_weights,\n",
    "                    callbacks=early_stopping,\n",
    "                    epochs=200, batch_size=500)"
   ]
  },
  {
   "cell_type": "code",
   "execution_count": 66,
   "metadata": {},
   "outputs": [
    {
     "data": {
      "image/png": "[encoded data removed]",
      "text/plain": [
       "<Figure size 576x396 with 1 Axes>"
      ]
     },
     "metadata": {},
     "output_type": "display_data"
    },
    {
     "data": {
      "image/png": "[encoded data removed]",
      "text/plain": [
       "<Figure size 576x396 with 1 Axes>"
      ]
     },
     "metadata": {},
     "output_type": "display_data"
    }
   ],
   "source": [
    "visualize_training_results(history_2)"
   ]
  },
  {
   "cell_type": "code",
   "execution_count": 67,
   "metadata": {},
   "outputs": [
    {
     "name": "stdout",
     "output_type": "stream",
     "text": [
      "Training Accuracy: 0.7503\n",
      "Testing Accuracy:  0.6899\n"
     ]
    }
   ],
   "source": [
    "# Find train and test accuracy\n",
    "loss, accuracy = lstm_mod2.evaluate(X_train, y_train, verbose=False)\n",
    "print(\"Training Accuracy: {:.4f}\".format(accuracy))\n",
    "loss, accuracy = lstm_mod2.evaluate(X_test, y_test, verbose=False)\n",
    "print(\"Testing Accuracy:  {:.4f}\".format(accuracy))"
   ]
  },
  {
   "cell_type": "markdown",
   "metadata": {},
   "source": [
    "### Model 3: LSTM Layer Stacking"
   ]
  },
  {
   "cell_type": "code",
   "execution_count": 85,
   "metadata": {},
   "outputs": [
    {
     "name": "stdout",
     "output_type": "stream",
     "text": [
      "_________________________________________________________________\n",
      "Layer (type)                 Output Shape              Param #   \n",
      "=================================================================\n",
      "embedding_1 (Embedding)      (None, 24, 50)            507400    \n",
      "_________________________________________________________________\n",
      "lstm_7 (LSTM)                (None, 24, 80)            41920     \n",
      "_________________________________________________________________\n",
      "lstm_8 (LSTM)                (None, 20)                8080      \n",
      "_________________________________________________________________\n",
      "dense_5 (Dense)              (None, 3)                 63        \n",
      "=================================================================\n",
      "Total params: 557,463\n",
      "Trainable params: 50,063\n",
      "Non-trainable params: 507,400\n",
      "_________________________________________________________________\n"
     ]
    }
   ],
   "source": [
    "lstm_mod3 = Sequential()\n",
    "lstm_mod3.add(embedding_layer)\n",
    "# lstm_mod3.add(Dropout(0.3))\n",
    "lstm_mod3.add(LSTM(80, \n",
    "               dropout = 0.3, \n",
    "               recurrent_dropout = 0.5,\n",
    "               return_sequences = True))\n",
    "lstm_mod3.add(LSTM(20, \n",
    "               dropout = 0.3, \n",
    "               recurrent_dropout = 0.5))\n",
    "\n",
    "lstm_mod3.add(Dense(3, activation='softmax'))\n",
    "lstm_mod3.compile(optimizer='adam', loss='categorical_crossentropy', metrics=['acc'])\n",
    "lstm_mod3.summary()"
   ]
  },
  {
   "cell_type": "code",
   "execution_count": 86,
   "metadata": {},
   "outputs": [],
   "source": [
    "# Import EarlyStopping and ModelCheckpoint\n",
    "from keras.callbacks import EarlyStopping, ModelCheckpoint\n",
    "\n",
    "# Define the callbacks\n",
    "early_stopping = [EarlyStopping(monitor='val_loss', patience=15), \n",
    "                  ModelCheckpoint(filepath='best_model_lstm.h5', monitor='val_loss', save_best_only=True)]"
   ]
  },
  {
   "cell_type": "code",
   "execution_count": 87,
   "metadata": {},
   "outputs": [
    {
     "name": "stdout",
     "output_type": "stream",
     "text": [
      "Train on 5818 samples, validate on 1455 samples\n",
      "Epoch 1/200\n",
      "5818/5818 [==============================] - 13s 2ms/step - loss: 0.9679 - acc: 0.5313 - val_loss: 0.8574 - val_acc: 0.6034\n",
      "Epoch 2/200\n",
      "5818/5818 [==============================] - 4s 630us/step - loss: 0.8467 - acc: 0.6119 - val_loss: 0.8461 - val_acc: 0.6034\n",
      "Epoch 3/200\n",
      "5818/5818 [==============================] - 5s 809us/step - loss: 0.8386 - acc: 0.6119 - val_loss: 0.8452 - val_acc: 0.6034\n",
      "Epoch 4/200\n",
      "5818/5818 [==============================] - 4s 629us/step - loss: 0.8339 - acc: 0.6126 - val_loss: 0.8399 - val_acc: 0.6034\n",
      "Epoch 5/200\n",
      "5818/5818 [==============================] - 4s 680us/step - loss: 0.8293 - acc: 0.6119 - val_loss: 0.8332 - val_acc: 0.6034\n",
      "Epoch 6/200\n",
      "5818/5818 [==============================] - 4s 705us/step - loss: 0.8252 - acc: 0.6128 - val_loss: 0.8280 - val_acc: 0.6034\n",
      "Epoch 7/200\n",
      "5818/5818 [==============================] - 4s 707us/step - loss: 0.8185 - acc: 0.6146 - val_loss: 0.8186 - val_acc: 0.6014\n",
      "Epoch 8/200\n",
      "5818/5818 [==============================] - 3s 595us/step - loss: 0.8127 - acc: 0.6119 - val_loss: 0.8116 - val_acc: 0.6021\n",
      "Epoch 9/200\n",
      "5818/5818 [==============================] - 4s 680us/step - loss: 0.8104 - acc: 0.6131 - val_loss: 0.8048 - val_acc: 0.6055\n",
      "Epoch 10/200\n",
      "5818/5818 [==============================] - 4s 629us/step - loss: 0.8018 - acc: 0.6189 - val_loss: 0.7995 - val_acc: 0.6165\n",
      "Epoch 11/200\n",
      "5818/5818 [==============================] - 5s 794us/step - loss: 0.7952 - acc: 0.6231 - val_loss: 0.7962 - val_acc: 0.6144\n",
      "Epoch 12/200\n",
      "5818/5818 [==============================] - 4s 693us/step - loss: 0.7933 - acc: 0.6234 - val_loss: 0.7929 - val_acc: 0.6199\n",
      "Epoch 13/200\n",
      "5818/5818 [==============================] - 4s 683us/step - loss: 0.7880 - acc: 0.6201 - val_loss: 0.7901 - val_acc: 0.6172\n",
      "Epoch 14/200\n",
      "5818/5818 [==============================] - 4s 738us/step - loss: 0.7845 - acc: 0.6270 - val_loss: 0.7834 - val_acc: 0.6241\n",
      "Epoch 15/200\n",
      "5818/5818 [==============================] - 3s 596us/step - loss: 0.7798 - acc: 0.6256 - val_loss: 0.7821 - val_acc: 0.6323\n",
      "Epoch 16/200\n",
      "5818/5818 [==============================] - 4s 625us/step - loss: 0.7773 - acc: 0.6267 - val_loss: 0.7847 - val_acc: 0.6268\n",
      "Epoch 17/200\n",
      "5818/5818 [==============================] - 3s 535us/step - loss: 0.7760 - acc: 0.6272 - val_loss: 0.7775 - val_acc: 0.6351\n",
      "Epoch 18/200\n",
      "5818/5818 [==============================] - 4s 664us/step - loss: 0.7779 - acc: 0.6310 - val_loss: 0.7756 - val_acc: 0.6296\n",
      "Epoch 19/200\n",
      "5818/5818 [==============================] - 5s 843us/step - loss: 0.7653 - acc: 0.6353 - val_loss: 0.7731 - val_acc: 0.6351\n",
      "Epoch 20/200\n",
      "5818/5818 [==============================] - 3s 541us/step - loss: 0.7649 - acc: 0.6416 - val_loss: 0.7718 - val_acc: 0.6426\n",
      "Epoch 21/200\n",
      "5818/5818 [==============================] - 3s 553us/step - loss: 0.7612 - acc: 0.6387 - val_loss: 0.7708 - val_acc: 0.6330\n",
      "Epoch 22/200\n",
      "5818/5818 [==============================] - 3s 553us/step - loss: 0.7621 - acc: 0.6401 - val_loss: 0.7663 - val_acc: 0.6385\n",
      "Epoch 23/200\n",
      "5818/5818 [==============================] - 3s 546us/step - loss: 0.7593 - acc: 0.6372 - val_loss: 0.7686 - val_acc: 0.6474\n",
      "Epoch 24/200\n",
      "5818/5818 [==============================] - 3s 537us/step - loss: 0.7486 - acc: 0.6463 - val_loss: 0.7669 - val_acc: 0.6344\n",
      "Epoch 25/200\n",
      "5818/5818 [==============================] - 3s 599us/step - loss: 0.7505 - acc: 0.6423 - val_loss: 0.7643 - val_acc: 0.6405\n",
      "Epoch 26/200\n",
      "5818/5818 [==============================] - 4s 619us/step - loss: 0.7546 - acc: 0.6413 - val_loss: 0.7648 - val_acc: 0.6385\n",
      "Epoch 27/200\n",
      "5818/5818 [==============================] - 3s 578us/step - loss: 0.7449 - acc: 0.6452 - val_loss: 0.7598 - val_acc: 0.6502\n",
      "Epoch 28/200\n",
      "5818/5818 [==============================] - 3s 551us/step - loss: 0.7519 - acc: 0.6504 - val_loss: 0.7590 - val_acc: 0.6454\n",
      "Epoch 29/200\n",
      "5818/5818 [==============================] - 3s 558us/step - loss: 0.7415 - acc: 0.6488 - val_loss: 0.7566 - val_acc: 0.6515\n",
      "Epoch 30/200\n",
      "5818/5818 [==============================] - 3s 565us/step - loss: 0.7405 - acc: 0.6528 - val_loss: 0.7544 - val_acc: 0.6502\n",
      "Epoch 31/200\n",
      "5818/5818 [==============================] - 3s 543us/step - loss: 0.7417 - acc: 0.6504 - val_loss: 0.7529 - val_acc: 0.6564\n",
      "Epoch 32/200\n",
      "5818/5818 [==============================] - 3s 559us/step - loss: 0.7389 - acc: 0.6487 - val_loss: 0.7569 - val_acc: 0.6488\n",
      "Epoch 33/200\n",
      "5818/5818 [==============================] - 3s 551us/step - loss: 0.7320 - acc: 0.6549 - val_loss: 0.7508 - val_acc: 0.6488\n",
      "Epoch 34/200\n",
      "5818/5818 [==============================] - 3s 562us/step - loss: 0.7317 - acc: 0.6523 - val_loss: 0.7491 - val_acc: 0.6515\n",
      "Epoch 35/200\n",
      "5818/5818 [==============================] - 3s 549us/step - loss: 0.7321 - acc: 0.6573 - val_loss: 0.7558 - val_acc: 0.6447\n",
      "Epoch 36/200\n",
      "5818/5818 [==============================] - 3s 545us/step - loss: 0.7245 - acc: 0.6619 - val_loss: 0.7457 - val_acc: 0.6536\n",
      "Epoch 37/200\n",
      "5818/5818 [==============================] - 3s 563us/step - loss: 0.7283 - acc: 0.6586 - val_loss: 0.7491 - val_acc: 0.6543\n",
      "Epoch 38/200\n",
      "5818/5818 [==============================] - 3s 548us/step - loss: 0.7191 - acc: 0.6604 - val_loss: 0.7441 - val_acc: 0.6591\n",
      "Epoch 39/200\n",
      "5818/5818 [==============================] - 3s 568us/step - loss: 0.7238 - acc: 0.6631 - val_loss: 0.7477 - val_acc: 0.6564\n",
      "Epoch 40/200\n",
      "5818/5818 [==============================] - 4s 676us/step - loss: 0.7226 - acc: 0.6614 - val_loss: 0.7399 - val_acc: 0.6584\n",
      "Epoch 41/200\n",
      "5818/5818 [==============================] - 5s 832us/step - loss: 0.7109 - acc: 0.6662 - val_loss: 0.7417 - val_acc: 0.6598\n",
      "Epoch 42/200\n",
      "5818/5818 [==============================] - 4s 706us/step - loss: 0.7157 - acc: 0.6617 - val_loss: 0.7400 - val_acc: 0.6646\n",
      "Epoch 43/200\n",
      "5818/5818 [==============================] - 6s 966us/step - loss: 0.7087 - acc: 0.6717 - val_loss: 0.7376 - val_acc: 0.6625\n",
      "Epoch 44/200\n",
      "5818/5818 [==============================] - 4s 696us/step - loss: 0.7099 - acc: 0.6691 - val_loss: 0.7355 - val_acc: 0.6639\n",
      "Epoch 45/200\n",
      "5818/5818 [==============================] - 5s 883us/step - loss: 0.7105 - acc: 0.6666 - val_loss: 0.7338 - val_acc: 0.6687\n",
      "Epoch 46/200\n",
      "5818/5818 [==============================] - 6s 1ms/step - loss: 0.7089 - acc: 0.6748 - val_loss: 0.7380 - val_acc: 0.6598\n",
      "Epoch 47/200\n",
      "5818/5818 [==============================] - 4s 693us/step - loss: 0.7041 - acc: 0.6715 - val_loss: 0.7296 - val_acc: 0.6639\n",
      "Epoch 48/200\n",
      "5818/5818 [==============================] - 4s 702us/step - loss: 0.6983 - acc: 0.6817 - val_loss: 0.7361 - val_acc: 0.6584\n",
      "Epoch 49/200\n",
      "5818/5818 [==============================] - 4s 648us/step - loss: 0.7011 - acc: 0.6776 - val_loss: 0.7332 - val_acc: 0.6653\n",
      "Epoch 50/200\n",
      "5818/5818 [==============================] - 3s 558us/step - loss: 0.6998 - acc: 0.6755 - val_loss: 0.7273 - val_acc: 0.6687\n",
      "Epoch 51/200\n",
      "5818/5818 [==============================] - 3s 601us/step - loss: 0.6934 - acc: 0.6781 - val_loss: 0.7296 - val_acc: 0.6632\n",
      "Epoch 52/200\n",
      "5818/5818 [==============================] - 3s 554us/step - loss: 0.6912 - acc: 0.6839 - val_loss: 0.7332 - val_acc: 0.6557\n",
      "Epoch 53/200\n",
      "5818/5818 [==============================] - 3s 559us/step - loss: 0.6928 - acc: 0.6820 - val_loss: 0.7307 - val_acc: 0.6674\n",
      "Epoch 54/200\n",
      "5818/5818 [==============================] - 3s 552us/step - loss: 0.6812 - acc: 0.6868 - val_loss: 0.7298 - val_acc: 0.6749\n",
      "Epoch 55/200\n",
      "5818/5818 [==============================] - 3s 546us/step - loss: 0.6867 - acc: 0.6806 - val_loss: 0.7332 - val_acc: 0.6653\n",
      "Epoch 56/200\n",
      "5818/5818 [==============================] - 3s 557us/step - loss: 0.6830 - acc: 0.6875 - val_loss: 0.7326 - val_acc: 0.6570\n",
      "Epoch 57/200\n",
      "5818/5818 [==============================] - 4s 602us/step - loss: 0.6858 - acc: 0.6815 - val_loss: 0.7301 - val_acc: 0.6646\n",
      "Epoch 58/200\n",
      "5818/5818 [==============================] - 4s 654us/step - loss: 0.6811 - acc: 0.6867 - val_loss: 0.7256 - val_acc: 0.6605\n",
      "Epoch 59/200\n",
      "5818/5818 [==============================] - 3s 569us/step - loss: 0.6841 - acc: 0.6848 - val_loss: 0.7223 - val_acc: 0.6674\n",
      "Epoch 60/200\n",
      "5818/5818 [==============================] - 3s 585us/step - loss: 0.6747 - acc: 0.6923 - val_loss: 0.7265 - val_acc: 0.6674\n",
      "Epoch 61/200\n",
      "5818/5818 [==============================] - 3s 546us/step - loss: 0.6768 - acc: 0.6927 - val_loss: 0.7167 - val_acc: 0.6756\n",
      "Epoch 62/200\n",
      "5818/5818 [==============================] - 3s 598us/step - loss: 0.6838 - acc: 0.6839 - val_loss: 0.7225 - val_acc: 0.6708\n",
      "Epoch 63/200\n",
      "5818/5818 [==============================] - 3s 554us/step - loss: 0.6698 - acc: 0.6920 - val_loss: 0.7206 - val_acc: 0.6660\n",
      "Epoch 64/200\n",
      "5818/5818 [==============================] - 3s 557us/step - loss: 0.6690 - acc: 0.6930 - val_loss: 0.7223 - val_acc: 0.6660\n",
      "Epoch 65/200\n",
      "5818/5818 [==============================] - 3s 565us/step - loss: 0.6622 - acc: 0.6990 - val_loss: 0.7202 - val_acc: 0.6735\n",
      "Epoch 66/200\n",
      "5818/5818 [==============================] - 3s 556us/step - loss: 0.6647 - acc: 0.6934 - val_loss: 0.7200 - val_acc: 0.6777\n",
      "Epoch 67/200\n",
      "5818/5818 [==============================] - 3s 548us/step - loss: 0.6625 - acc: 0.7013 - val_loss: 0.7313 - val_acc: 0.6598\n",
      "Epoch 68/200\n",
      "5818/5818 [==============================] - 3s 598us/step - loss: 0.6639 - acc: 0.6997 - val_loss: 0.7158 - val_acc: 0.6729\n",
      "Epoch 69/200\n",
      "5818/5818 [==============================] - 4s 616us/step - loss: 0.6568 - acc: 0.7047 - val_loss: 0.7239 - val_acc: 0.6660\n",
      "Epoch 70/200\n",
      "5818/5818 [==============================] - 3s 548us/step - loss: 0.6611 - acc: 0.6965 - val_loss: 0.7205 - val_acc: 0.6660\n",
      "Epoch 71/200\n",
      "5818/5818 [==============================] - 3s 564us/step - loss: 0.6622 - acc: 0.7023 - val_loss: 0.7228 - val_acc: 0.6722\n",
      "Epoch 72/200\n",
      "5818/5818 [==============================] - 3s 537us/step - loss: 0.6559 - acc: 0.6983 - val_loss: 0.7210 - val_acc: 0.6674\n",
      "Epoch 73/200\n",
      "5818/5818 [==============================] - 3s 556us/step - loss: 0.6448 - acc: 0.7078 - val_loss: 0.7198 - val_acc: 0.6729\n",
      "Epoch 74/200\n",
      "5818/5818 [==============================] - 3s 546us/step - loss: 0.6459 - acc: 0.7042 - val_loss: 0.7197 - val_acc: 0.6722\n",
      "Epoch 75/200\n",
      "5818/5818 [==============================] - 3s 567us/step - loss: 0.6487 - acc: 0.7066 - val_loss: 0.7193 - val_acc: 0.6797\n",
      "Epoch 76/200\n",
      "5818/5818 [==============================] - 3s 543us/step - loss: 0.6585 - acc: 0.7069 - val_loss: 0.7153 - val_acc: 0.6845\n",
      "Epoch 77/200\n",
      "5818/5818 [==============================] - 3s 597us/step - loss: 0.6485 - acc: 0.7049 - val_loss: 0.7166 - val_acc: 0.6680\n",
      "Epoch 78/200\n",
      "5818/5818 [==============================] - 3s 579us/step - loss: 0.6433 - acc: 0.7100 - val_loss: 0.7196 - val_acc: 0.6680\n",
      "Epoch 79/200\n",
      "5818/5818 [==============================] - 4s 623us/step - loss: 0.6548 - acc: 0.6975 - val_loss: 0.7210 - val_acc: 0.6715\n",
      "Epoch 80/200\n",
      "5818/5818 [==============================] - 3s 591us/step - loss: 0.6470 - acc: 0.7109 - val_loss: 0.7180 - val_acc: 0.6708\n",
      "Epoch 81/200\n",
      "5818/5818 [==============================] - 3s 547us/step - loss: 0.6442 - acc: 0.7145 - val_loss: 0.7250 - val_acc: 0.6694\n",
      "Epoch 82/200\n",
      "5818/5818 [==============================] - 3s 556us/step - loss: 0.6312 - acc: 0.7044 - val_loss: 0.7177 - val_acc: 0.6687\n",
      "Epoch 83/200\n",
      "5818/5818 [==============================] - 3s 581us/step - loss: 0.6310 - acc: 0.7106 - val_loss: 0.7165 - val_acc: 0.6680\n",
      "Epoch 84/200\n",
      "5818/5818 [==============================] - 3s 546us/step - loss: 0.6402 - acc: 0.7102 - val_loss: 0.7154 - val_acc: 0.6763\n",
      "Epoch 85/200\n",
      "5818/5818 [==============================] - 3s 556us/step - loss: 0.6367 - acc: 0.7121 - val_loss: 0.7146 - val_acc: 0.6804\n",
      "Epoch 86/200\n",
      "5818/5818 [==============================] - 3s 545us/step - loss: 0.6304 - acc: 0.7190 - val_loss: 0.7241 - val_acc: 0.6680\n",
      "Epoch 87/200\n",
      "5818/5818 [==============================] - 3s 531us/step - loss: 0.6343 - acc: 0.7059 - val_loss: 0.7140 - val_acc: 0.6784\n",
      "Epoch 88/200\n",
      "5818/5818 [==============================] - 3s 584us/step - loss: 0.6308 - acc: 0.7109 - val_loss: 0.7284 - val_acc: 0.6715\n",
      "Epoch 89/200\n",
      "5818/5818 [==============================] - 4s 727us/step - loss: 0.6325 - acc: 0.7191 - val_loss: 0.7146 - val_acc: 0.6770\n",
      "Epoch 90/200\n",
      "5818/5818 [==============================] - 4s 614us/step - loss: 0.6239 - acc: 0.7191 - val_loss: 0.7192 - val_acc: 0.6763\n",
      "Epoch 91/200\n",
      "5818/5818 [==============================] - 3s 547us/step - loss: 0.6162 - acc: 0.7205 - val_loss: 0.7160 - val_acc: 0.6763\n",
      "Epoch 92/200\n",
      "5818/5818 [==============================] - 3s 543us/step - loss: 0.6279 - acc: 0.7204 - val_loss: 0.7231 - val_acc: 0.6756\n",
      "Epoch 93/200\n",
      "5818/5818 [==============================] - 4s 631us/step - loss: 0.6196 - acc: 0.7183 - val_loss: 0.7181 - val_acc: 0.6784\n",
      "Epoch 94/200\n",
      "5818/5818 [==============================] - 4s 765us/step - loss: 0.6205 - acc: 0.7222 - val_loss: 0.7180 - val_acc: 0.6818\n",
      "Epoch 95/200\n",
      "5818/5818 [==============================] - 4s 624us/step - loss: 0.6188 - acc: 0.7204 - val_loss: 0.7282 - val_acc: 0.6900\n",
      "Epoch 96/200\n",
      "5818/5818 [==============================] - 3s 565us/step - loss: 0.6141 - acc: 0.7216 - val_loss: 0.7175 - val_acc: 0.6866\n",
      "Epoch 97/200\n",
      "5818/5818 [==============================] - 3s 565us/step - loss: 0.6190 - acc: 0.7167 - val_loss: 0.7207 - val_acc: 0.6804\n",
      "Epoch 98/200\n",
      "5818/5818 [==============================] - 3s 537us/step - loss: 0.6067 - acc: 0.7272 - val_loss: 0.7198 - val_acc: 0.6804\n",
      "Epoch 99/200\n",
      "5818/5818 [==============================] - 3s 565us/step - loss: 0.6101 - acc: 0.7210 - val_loss: 0.7228 - val_acc: 0.6790\n",
      "Epoch 100/200\n",
      "5818/5818 [==============================] - 3s 576us/step - loss: 0.6122 - acc: 0.7224 - val_loss: 0.7243 - val_acc: 0.6777\n",
      "Epoch 101/200\n",
      "5818/5818 [==============================] - 3s 536us/step - loss: 0.6113 - acc: 0.7229 - val_loss: 0.7178 - val_acc: 0.6756\n",
      "Epoch 102/200\n",
      "5818/5818 [==============================] - 3s 555us/step - loss: 0.6108 - acc: 0.7253 - val_loss: 0.7214 - val_acc: 0.6838\n"
     ]
    }
   ],
   "source": [
    "history_3 = lstm_mod3.fit(X_train, y_train,\n",
    "                    validation_split = 0.2,\n",
    "                    callbacks=early_stopping, \n",
    "                    class_weight=class_weights,\n",
    "                    epochs=200, batch_size=500)"
   ]
  },
  {
   "cell_type": "code",
   "execution_count": 89,
   "metadata": {},
   "outputs": [
    {
     "data": {
      "image/png": "[encoded data removed]",
      "text/plain": [
       "<Figure size 576x396 with 1 Axes>"
      ]
     },
     "metadata": {},
     "output_type": "display_data"
    },
    {
     "data": {
      "image/png": "[encoded data removed]",
      "text/plain": [
       "<Figure size 576x396 with 1 Axes>"
      ]
     },
     "metadata": {},
     "output_type": "display_data"
    }
   ],
   "source": [
    "visualize_training_results(history_3)"
   ]
  },
  {
   "cell_type": "code",
   "execution_count": 90,
   "metadata": {},
   "outputs": [
    {
     "name": "stdout",
     "output_type": "stream",
     "text": [
      "Training Accuracy: 0.7570\n",
      "Testing Accuracy:  0.6971\n"
     ]
    }
   ],
   "source": [
    "# Find train and test accuracy\n",
    "loss, accuracy = lstm_mod3.evaluate(X_train, y_train, verbose=False)\n",
    "print(\"Training Accuracy: {:.4f}\".format(accuracy))\n",
    "loss, accuracy = lstm_mod3.evaluate(X_test, y_test, verbose=False)\n",
    "print(\"Testing Accuracy:  {:.4f}\".format(accuracy))"
   ]
  },
  {
   "cell_type": "code",
   "execution_count": 91,
   "metadata": {},
   "outputs": [],
   "source": [
    "y_pred = lstm_mod3.predict(X_test)\n",
    "y_pred = np.argmax(y_pred, axis=1)"
   ]
  },
  {
   "cell_type": "code",
   "execution_count": 92,
   "metadata": {},
   "outputs": [
    {
     "data": {
      "text/plain": [
       "array([1, 1, 1, ..., 0, 1, 1])"
      ]
     },
     "execution_count": 92,
     "metadata": {},
     "output_type": "execute_result"
    }
   ],
   "source": [
    "y_pred"
   ]
  },
  {
   "cell_type": "code",
   "execution_count": 93,
   "metadata": {},
   "outputs": [
    {
     "data": {
      "text/plain": [
       "array([1, 1, 1, ..., 2, 2, 2])"
      ]
     },
     "execution_count": 93,
     "metadata": {},
     "output_type": "execute_result"
    }
   ],
   "source": [
    "Y_test = np.argmax(y_test, axis=1)\n",
    "Y_test"
   ]
  },
  {
   "cell_type": "markdown",
   "metadata": {},
   "source": [
    "#### Plot confusion matrix"
   ]
  },
  {
   "cell_type": "code",
   "execution_count": 94,
   "metadata": {},
   "outputs": [],
   "source": [
    "class_names = np.array(['Negative', 'Positive', 'Neutral'])"
   ]
  },
  {
   "cell_type": "code",
   "execution_count": 95,
   "metadata": {},
   "outputs": [],
   "source": [
    "def plot_confusion_matrix(y_true, y_pred, classes,\n",
    "                          normalize=False,\n",
    "                          title=None,\n",
    "                          cmap=plt.cm.Blues):\n",
    "    \"\"\"\n",
    "    This function prints and plots the confusion matrix.\n",
    "    Normalization can be applied by setting `normalize=True`.\n",
    "    \"\"\"\n",
    "    if not title:\n",
    "        if normalize:\n",
    "            title = 'Normalized confusion matrix'\n",
    "        else:\n",
    "            title = 'Confusion matrix, without normalization'\n",
    "\n",
    "    # Compute confusion matrix\n",
    "    cm = confusion_matrix(y_true, y_pred)\n",
    "    # Only use the labels that appear in the data\n",
    "    classes = classes[unique_labels(y_true, y_pred)]\n",
    "    if normalize:\n",
    "        cm = cm.astype('float') / cm.sum(axis=1)[:, np.newaxis]\n",
    "        print(\"Normalized confusion matrix\")\n",
    "    else:\n",
    "        print('Confusion matrix, without normalization')\n",
    "\n",
    "    print(cm)\n",
    "\n",
    "    fig, ax = plt.subplots()\n",
    "    plt.grid(False)\n",
    "    im = ax.imshow(cm, interpolation='nearest', cmap=cmap)\n",
    "    ax.figure.colorbar(im, ax=ax)\n",
    "    # We want to show all ticks...\n",
    "    ax.set(xticks=np.arange(cm.shape[1]),\n",
    "           yticks=np.arange(cm.shape[0]),\n",
    "           # ... and label them with the respective list entries\n",
    "           xticklabels=classes, yticklabels=classes,\n",
    "           title=title,\n",
    "           ylabel='True label',\n",
    "           xlabel='Predicted label')\n",
    "\n",
    "    # Rotate the tick labels and set their alignment.\n",
    "    plt.setp(ax.get_xticklabels(), rotation=45, ha=\"right\",\n",
    "             rotation_mode=\"anchor\")\n",
    "\n",
    "    # Loop over data dimensions and create text annotations.\n",
    "    fmt = '.2f' if normalize else 'd'\n",
    "    thresh = cm.max() / 2.\n",
    "    for i in range(cm.shape[0]):\n",
    "        for j in range(cm.shape[1]):\n",
    "            ax.text(j, i, format(cm[i, j], fmt),\n",
    "                    ha=\"center\", va=\"center\",\n",
    "                    color=\"white\" if cm[i, j] > thresh else \"black\")\n",
    "    fig.tight_layout()\n",
    "    return ax"
   ]
  },
  {
   "cell_type": "code",
   "execution_count": 96,
   "metadata": {},
   "outputs": [
    {
     "name": "stdout",
     "output_type": "stream",
     "text": [
      "Confusion matrix, without normalization\n",
      "[[ 26  61  26]\n",
      " [ 19 971 112]\n",
      " [  7 326 271]]\n",
      "Normalized confusion matrix\n",
      "[[0.23 0.54 0.23]\n",
      " [0.02 0.88 0.1 ]\n",
      " [0.01 0.54 0.45]]\n"
     ]
    },
    {
     "data": {
      "image/png": "[encoded data removed]",
      "text/plain": [
       "<Figure size 576x396 with 2 Axes>"
      ]
     },
     "metadata": {},
     "output_type": "display_data"
    },
    {
     "data": {
      "image/png": "[encoded data removed]",
      "text/plain": [
       "<Figure size 576x396 with 2 Axes>"
      ]
     },
     "metadata": {},
     "output_type": "display_data"
    }
   ],
   "source": [
    "np.set_printoptions(precision=2)\n",
    "\n",
    "# Plot non-normalized confusion matrix\n",
    "plot_confusion_matrix(Y_test, y_pred, classes=class_names,\n",
    "                      title='Confusion matrix, without normalization')\n",
    "\n",
    "# Plot normalized confusion matrix\n",
    "plot_confusion_matrix(Y_test, y_pred, classes=class_names, normalize=True,\n",
    "                      title='Normalized confusion matrix')\n",
    "\n",
    "plt.show()"
   ]
  },
  {
   "cell_type": "markdown",
   "metadata": {},
   "source": [
    "### Model 4: GRU Layer Stacking"
   ]
  },
  {
   "cell_type": "code",
   "execution_count": 97,
   "metadata": {},
   "outputs": [
    {
     "name": "stdout",
     "output_type": "stream",
     "text": [
      "_________________________________________________________________\n",
      "Layer (type)                 Output Shape              Param #   \n",
      "=================================================================\n",
      "embedding_1 (Embedding)      (None, 24, 50)            507400    \n",
      "_________________________________________________________________\n",
      "gru_1 (GRU)                  (None, 24, 64)            22080     \n",
      "_________________________________________________________________\n",
      "gru_2 (GRU)                  (None, 32)                9312      \n",
      "_________________________________________________________________\n",
      "dense_6 (Dense)              (None, 3)                 99        \n",
      "=================================================================\n",
      "Total params: 538,891\n",
      "Trainable params: 31,491\n",
      "Non-trainable params: 507,400\n",
      "_________________________________________________________________\n"
     ]
    }
   ],
   "source": [
    "# GRU Model 2: reduce number of epochs\n",
    "model_4 = Sequential()\n",
    "model_4.add(embedding_layer)\n",
    "model_4.add(GRU(64, \n",
    "               dropout = 0.3, \n",
    "               recurrent_dropout = 0.5,\n",
    "                 return_sequences = True))\n",
    "model_4.add(GRU(32,\n",
    "                dropout = 0.3,\n",
    "                recurrent_dropout = 0.5))\n",
    "model_4.add(Dense(3, activation='softmax'))\n",
    "model_4.compile(optimizer='adam', loss='categorical_crossentropy', metrics=['acc'])\n",
    "model_4.summary()"
   ]
  },
  {
   "cell_type": "code",
   "execution_count": 98,
   "metadata": {},
   "outputs": [],
   "source": [
    "# Define the callbacks\n",
    "early_stopping = [EarlyStopping(monitor='val_loss', patience=15), \n",
    "                  ModelCheckpoint(filepath='best_model_gru.h5', monitor='val_loss', save_best_only=True)]"
   ]
  },
  {
   "cell_type": "code",
   "execution_count": 99,
   "metadata": {},
   "outputs": [
    {
     "name": "stdout",
     "output_type": "stream",
     "text": [
      "Train on 5818 samples, validate on 1455 samples\n",
      "Epoch 1/200\n",
      "5818/5818 [==============================] - 8s 1ms/step - loss: 1.0082 - acc: 0.4986 - val_loss: 0.8774 - val_acc: 0.6034\n",
      "Epoch 2/200\n",
      "5818/5818 [==============================] - 3s 473us/step - loss: 0.8697 - acc: 0.6030 - val_loss: 0.8474 - val_acc: 0.6034\n",
      "Epoch 3/200\n",
      "5818/5818 [==============================] - 3s 502us/step - loss: 0.8526 - acc: 0.5954 - val_loss: 0.8468 - val_acc: 0.6034\n",
      "Epoch 4/200\n",
      "5818/5818 [==============================] - 2s 408us/step - loss: 0.8361 - acc: 0.6033 - val_loss: 0.8313 - val_acc: 0.6041\n",
      "Epoch 5/200\n",
      "5818/5818 [==============================] - 2s 369us/step - loss: 0.8329 - acc: 0.6074 - val_loss: 0.8234 - val_acc: 0.6041\n",
      "Epoch 6/200\n",
      "5818/5818 [==============================] - 2s 363us/step - loss: 0.8298 - acc: 0.6117 - val_loss: 0.8215 - val_acc: 0.6034\n",
      "Epoch 7/200\n",
      "5818/5818 [==============================] - 2s 362us/step - loss: 0.8226 - acc: 0.6141 - val_loss: 0.8198 - val_acc: 0.6048\n",
      "Epoch 8/200\n",
      "5818/5818 [==============================] - 2s 372us/step - loss: 0.8203 - acc: 0.6131 - val_loss: 0.8160 - val_acc: 0.6041\n",
      "Epoch 9/200\n",
      "5818/5818 [==============================] - 2s 359us/step - loss: 0.8167 - acc: 0.6086 - val_loss: 0.8131 - val_acc: 0.6041\n",
      "Epoch 10/200\n",
      "5818/5818 [==============================] - 2s 360us/step - loss: 0.8162 - acc: 0.6141 - val_loss: 0.8111 - val_acc: 0.6048\n",
      "Epoch 11/200\n",
      "5818/5818 [==============================] - 2s 360us/step - loss: 0.8117 - acc: 0.6133 - val_loss: 0.8094 - val_acc: 0.6048\n",
      "Epoch 12/200\n",
      "5818/5818 [==============================] - 2s 387us/step - loss: 0.8039 - acc: 0.6215 - val_loss: 0.8085 - val_acc: 0.6082\n",
      "Epoch 13/200\n",
      "5818/5818 [==============================] - 2s 368us/step - loss: 0.8036 - acc: 0.6150 - val_loss: 0.8025 - val_acc: 0.6076\n",
      "Epoch 14/200\n",
      "5818/5818 [==============================] - 2s 357us/step - loss: 0.8044 - acc: 0.6128 - val_loss: 0.8044 - val_acc: 0.6055\n",
      "Epoch 15/200\n",
      "5818/5818 [==============================] - 2s 373us/step - loss: 0.7988 - acc: 0.6219 - val_loss: 0.7968 - val_acc: 0.6069\n",
      "Epoch 16/200\n",
      "5818/5818 [==============================] - 2s 362us/step - loss: 0.7945 - acc: 0.6227 - val_loss: 0.7963 - val_acc: 0.6034\n",
      "Epoch 17/200\n",
      "5818/5818 [==============================] - 2s 400us/step - loss: 0.7919 - acc: 0.6226 - val_loss: 0.7938 - val_acc: 0.6089\n",
      "Epoch 18/200\n",
      "5818/5818 [==============================] - 6s 1ms/step - loss: 0.7879 - acc: 0.6222 - val_loss: 0.7904 - val_acc: 0.6096\n",
      "Epoch 19/200\n",
      "5818/5818 [==============================] - 3s 520us/step - loss: 0.7856 - acc: 0.6248 - val_loss: 0.7883 - val_acc: 0.6117\n",
      "Epoch 20/200\n",
      "5818/5818 [==============================] - 3s 509us/step - loss: 0.7805 - acc: 0.6274 - val_loss: 0.7833 - val_acc: 0.6199\n",
      "Epoch 21/200\n",
      "5818/5818 [==============================] - 3s 566us/step - loss: 0.7744 - acc: 0.6380 - val_loss: 0.7822 - val_acc: 0.6199\n",
      "Epoch 22/200\n",
      "5818/5818 [==============================] - 3s 482us/step - loss: 0.7811 - acc: 0.6236 - val_loss: 0.7794 - val_acc: 0.6247\n",
      "Epoch 23/200\n",
      "5818/5818 [==============================] - 2s 393us/step - loss: 0.7712 - acc: 0.6349 - val_loss: 0.7754 - val_acc: 0.6316\n",
      "Epoch 24/200\n",
      "5818/5818 [==============================] - 2s 418us/step - loss: 0.7697 - acc: 0.6315 - val_loss: 0.7761 - val_acc: 0.6330\n",
      "Epoch 25/200\n",
      "5818/5818 [==============================] - 2s 377us/step - loss: 0.7698 - acc: 0.6334 - val_loss: 0.7698 - val_acc: 0.6309\n",
      "Epoch 26/200\n",
      "5818/5818 [==============================] - 2s 425us/step - loss: 0.7703 - acc: 0.6334 - val_loss: 0.7678 - val_acc: 0.6344\n",
      "Epoch 27/200\n",
      "5818/5818 [==============================] - 3s 501us/step - loss: 0.7643 - acc: 0.6413 - val_loss: 0.7630 - val_acc: 0.6357\n",
      "Epoch 28/200\n",
      "5818/5818 [==============================] - 2s 386us/step - loss: 0.7573 - acc: 0.6397 - val_loss: 0.7592 - val_acc: 0.6412\n",
      "Epoch 29/200\n",
      "5818/5818 [==============================] - 2s 419us/step - loss: 0.7596 - acc: 0.6418 - val_loss: 0.7616 - val_acc: 0.6412\n",
      "Epoch 30/200\n",
      "5818/5818 [==============================] - 3s 469us/step - loss: 0.7636 - acc: 0.6368 - val_loss: 0.7528 - val_acc: 0.6440\n",
      "Epoch 31/200\n",
      "5818/5818 [==============================] - 3s 511us/step - loss: 0.7539 - acc: 0.6404 - val_loss: 0.7558 - val_acc: 0.6467\n",
      "Epoch 32/200\n",
      "5818/5818 [==============================] - 3s 564us/step - loss: 0.7503 - acc: 0.6421 - val_loss: 0.7488 - val_acc: 0.6454\n",
      "Epoch 33/200\n",
      "5818/5818 [==============================] - 2s 427us/step - loss: 0.7496 - acc: 0.6569 - val_loss: 0.7460 - val_acc: 0.6488\n",
      "Epoch 34/200\n",
      "5818/5818 [==============================] - 3s 441us/step - loss: 0.7446 - acc: 0.6440 - val_loss: 0.7446 - val_acc: 0.6495\n",
      "Epoch 35/200\n",
      "5818/5818 [==============================] - 2s 390us/step - loss: 0.7402 - acc: 0.6518 - val_loss: 0.7465 - val_acc: 0.6557\n",
      "Epoch 36/200\n",
      "5818/5818 [==============================] - 2s 409us/step - loss: 0.7401 - acc: 0.6573 - val_loss: 0.7415 - val_acc: 0.6509\n",
      "Epoch 37/200\n",
      "5818/5818 [==============================] - 2s 386us/step - loss: 0.7386 - acc: 0.6543 - val_loss: 0.7402 - val_acc: 0.6495\n",
      "Epoch 38/200\n",
      "5818/5818 [==============================] - 3s 460us/step - loss: 0.7460 - acc: 0.6494 - val_loss: 0.7368 - val_acc: 0.6509\n",
      "Epoch 39/200\n",
      "5818/5818 [==============================] - 3s 435us/step - loss: 0.7386 - acc: 0.6523 - val_loss: 0.7359 - val_acc: 0.6653\n",
      "Epoch 40/200\n",
      "5818/5818 [==============================] - 2s 418us/step - loss: 0.7355 - acc: 0.6538 - val_loss: 0.7358 - val_acc: 0.6543\n",
      "Epoch 41/200\n",
      "5818/5818 [==============================] - 2s 407us/step - loss: 0.7351 - acc: 0.6581 - val_loss: 0.7327 - val_acc: 0.6598\n",
      "Epoch 42/200\n",
      "5818/5818 [==============================] - 2s 428us/step - loss: 0.7320 - acc: 0.6580 - val_loss: 0.7304 - val_acc: 0.6639\n",
      "Epoch 43/200\n",
      "5818/5818 [==============================] - 3s 458us/step - loss: 0.7255 - acc: 0.6672 - val_loss: 0.7309 - val_acc: 0.6564\n",
      "Epoch 44/200\n",
      "5818/5818 [==============================] - 3s 440us/step - loss: 0.7272 - acc: 0.6619 - val_loss: 0.7271 - val_acc: 0.6701\n",
      "Epoch 45/200\n",
      "5818/5818 [==============================] - 2s 426us/step - loss: 0.7233 - acc: 0.6653 - val_loss: 0.7247 - val_acc: 0.6674\n",
      "Epoch 46/200\n",
      "5818/5818 [==============================] - 2s 419us/step - loss: 0.7247 - acc: 0.6543 - val_loss: 0.7257 - val_acc: 0.6653\n",
      "Epoch 47/200\n",
      "5818/5818 [==============================] - 2s 406us/step - loss: 0.7170 - acc: 0.6652 - val_loss: 0.7241 - val_acc: 0.6680\n",
      "Epoch 48/200\n",
      "5818/5818 [==============================] - 2s 406us/step - loss: 0.7237 - acc: 0.6667 - val_loss: 0.7207 - val_acc: 0.6701\n",
      "Epoch 49/200\n",
      "5818/5818 [==============================] - 2s 375us/step - loss: 0.7139 - acc: 0.6669 - val_loss: 0.7193 - val_acc: 0.6680\n",
      "Epoch 50/200\n",
      "5818/5818 [==============================] - 2s 390us/step - loss: 0.7174 - acc: 0.6659 - val_loss: 0.7187 - val_acc: 0.6667\n",
      "Epoch 51/200\n",
      "5818/5818 [==============================] - 2s 376us/step - loss: 0.7119 - acc: 0.6750 - val_loss: 0.7195 - val_acc: 0.6742\n",
      "Epoch 52/200\n",
      "5818/5818 [==============================] - 2s 405us/step - loss: 0.7144 - acc: 0.6731 - val_loss: 0.7177 - val_acc: 0.6687\n",
      "Epoch 53/200\n",
      "5818/5818 [==============================] - 3s 447us/step - loss: 0.7139 - acc: 0.6707 - val_loss: 0.7135 - val_acc: 0.6701\n",
      "Epoch 54/200\n",
      "5818/5818 [==============================] - 2s 428us/step - loss: 0.7069 - acc: 0.6731 - val_loss: 0.7179 - val_acc: 0.6729\n",
      "Epoch 55/200\n",
      "5818/5818 [==============================] - 3s 455us/step - loss: 0.7088 - acc: 0.6662 - val_loss: 0.7129 - val_acc: 0.6715\n",
      "Epoch 56/200\n",
      "5818/5818 [==============================] - 2s 428us/step - loss: 0.6997 - acc: 0.6789 - val_loss: 0.7116 - val_acc: 0.6722\n",
      "Epoch 57/200\n",
      "5818/5818 [==============================] - 2s 374us/step - loss: 0.7032 - acc: 0.6684 - val_loss: 0.7110 - val_acc: 0.6790\n",
      "Epoch 58/200\n",
      "5818/5818 [==============================] - 2s 425us/step - loss: 0.7000 - acc: 0.6678 - val_loss: 0.7097 - val_acc: 0.6735\n",
      "Epoch 59/200\n",
      "5818/5818 [==============================] - 3s 588us/step - loss: 0.7007 - acc: 0.6760 - val_loss: 0.7083 - val_acc: 0.6729\n",
      "Epoch 60/200\n",
      "5818/5818 [==============================] - 3s 507us/step - loss: 0.6951 - acc: 0.6822 - val_loss: 0.7091 - val_acc: 0.6735\n",
      "Epoch 61/200\n",
      "5818/5818 [==============================] - 4s 664us/step - loss: 0.6973 - acc: 0.6813 - val_loss: 0.7072 - val_acc: 0.6756\n",
      "Epoch 62/200\n",
      "5818/5818 [==============================] - 4s 629us/step - loss: 0.6958 - acc: 0.6806 - val_loss: 0.7074 - val_acc: 0.6756\n",
      "Epoch 63/200\n",
      "5818/5818 [==============================] - 4s 621us/step - loss: 0.6993 - acc: 0.6741 - val_loss: 0.7070 - val_acc: 0.6818\n",
      "Epoch 64/200\n",
      "5818/5818 [==============================] - 2s 429us/step - loss: 0.6958 - acc: 0.6765 - val_loss: 0.7084 - val_acc: 0.6749\n",
      "Epoch 65/200\n",
      "5818/5818 [==============================] - 2s 374us/step - loss: 0.6969 - acc: 0.6788 - val_loss: 0.7048 - val_acc: 0.6756\n",
      "Epoch 66/200\n",
      "5818/5818 [==============================] - 3s 524us/step - loss: 0.6919 - acc: 0.6786 - val_loss: 0.7079 - val_acc: 0.6749\n",
      "Epoch 67/200\n",
      "5818/5818 [==============================] - 2s 429us/step - loss: 0.6926 - acc: 0.6806 - val_loss: 0.7049 - val_acc: 0.6784\n",
      "Epoch 68/200\n",
      "5818/5818 [==============================] - 2s 429us/step - loss: 0.6955 - acc: 0.6765 - val_loss: 0.7037 - val_acc: 0.6770\n",
      "Epoch 69/200\n",
      "5818/5818 [==============================] - 3s 457us/step - loss: 0.6923 - acc: 0.6843 - val_loss: 0.7025 - val_acc: 0.6749\n",
      "Epoch 70/200\n",
      "5818/5818 [==============================] - 2s 381us/step - loss: 0.6908 - acc: 0.6808 - val_loss: 0.7027 - val_acc: 0.6797\n",
      "Epoch 71/200\n",
      "5818/5818 [==============================] - 3s 517us/step - loss: 0.6844 - acc: 0.6832 - val_loss: 0.6998 - val_acc: 0.6797\n",
      "Epoch 72/200\n",
      "5818/5818 [==============================] - 3s 433us/step - loss: 0.6854 - acc: 0.6846 - val_loss: 0.7012 - val_acc: 0.6790\n",
      "Epoch 73/200\n",
      "5818/5818 [==============================] - 2s 382us/step - loss: 0.6862 - acc: 0.6851 - val_loss: 0.7011 - val_acc: 0.6763\n",
      "Epoch 74/200\n",
      "5818/5818 [==============================] - 2s 361us/step - loss: 0.6883 - acc: 0.6886 - val_loss: 0.7015 - val_acc: 0.6784\n",
      "Epoch 75/200\n",
      "5818/5818 [==============================] - 2s 360us/step - loss: 0.6830 - acc: 0.6934 - val_loss: 0.6994 - val_acc: 0.6790\n",
      "Epoch 76/200\n",
      "5818/5818 [==============================] - 2s 382us/step - loss: 0.6788 - acc: 0.6846 - val_loss: 0.6991 - val_acc: 0.6818\n",
      "Epoch 77/200\n",
      "5818/5818 [==============================] - 2s 369us/step - loss: 0.6763 - acc: 0.6834 - val_loss: 0.6981 - val_acc: 0.6784\n",
      "Epoch 78/200\n",
      "5818/5818 [==============================] - 2s 367us/step - loss: 0.6796 - acc: 0.6879 - val_loss: 0.6972 - val_acc: 0.6790\n",
      "Epoch 79/200\n",
      "5818/5818 [==============================] - 2s 365us/step - loss: 0.6784 - acc: 0.6867 - val_loss: 0.6998 - val_acc: 0.6763\n",
      "Epoch 80/200\n",
      "5818/5818 [==============================] - 2s 395us/step - loss: 0.6770 - acc: 0.6910 - val_loss: 0.6971 - val_acc: 0.6784\n",
      "Epoch 81/200\n",
      "5818/5818 [==============================] - 2s 425us/step - loss: 0.6718 - acc: 0.6877 - val_loss: 0.7005 - val_acc: 0.6784\n",
      "Epoch 82/200\n",
      "5818/5818 [==============================] - 2s 404us/step - loss: 0.6694 - acc: 0.6966 - val_loss: 0.6956 - val_acc: 0.6825\n",
      "Epoch 83/200\n",
      "5818/5818 [==============================] - 2s 369us/step - loss: 0.6696 - acc: 0.6911 - val_loss: 0.6977 - val_acc: 0.6818\n",
      "Epoch 84/200\n",
      "5818/5818 [==============================] - 2s 367us/step - loss: 0.6748 - acc: 0.6923 - val_loss: 0.6946 - val_acc: 0.6859\n",
      "Epoch 85/200\n",
      "5818/5818 [==============================] - 2s 385us/step - loss: 0.6709 - acc: 0.6935 - val_loss: 0.6974 - val_acc: 0.6804\n",
      "Epoch 86/200\n",
      "5818/5818 [==============================] - 2s 360us/step - loss: 0.6690 - acc: 0.6877 - val_loss: 0.6968 - val_acc: 0.6852\n",
      "Epoch 87/200\n",
      "5818/5818 [==============================] - 2s 407us/step - loss: 0.6716 - acc: 0.6958 - val_loss: 0.6969 - val_acc: 0.6852\n",
      "Epoch 88/200\n",
      "5818/5818 [==============================] - 2s 355us/step - loss: 0.6709 - acc: 0.6968 - val_loss: 0.6968 - val_acc: 0.6845\n",
      "Epoch 89/200\n",
      "5818/5818 [==============================] - 2s 360us/step - loss: 0.6723 - acc: 0.6963 - val_loss: 0.6969 - val_acc: 0.6832\n",
      "Epoch 90/200\n",
      "5818/5818 [==============================] - 2s 362us/step - loss: 0.6673 - acc: 0.7016 - val_loss: 0.6962 - val_acc: 0.6866\n",
      "Epoch 91/200\n",
      "5818/5818 [==============================] - 2s 363us/step - loss: 0.6658 - acc: 0.6983 - val_loss: 0.6960 - val_acc: 0.6852\n",
      "Epoch 92/200\n",
      "5818/5818 [==============================] - 2s 381us/step - loss: 0.6657 - acc: 0.6922 - val_loss: 0.6952 - val_acc: 0.6852\n",
      "Epoch 93/200\n",
      "5818/5818 [==============================] - 2s 359us/step - loss: 0.6655 - acc: 0.6977 - val_loss: 0.6967 - val_acc: 0.6797\n",
      "Epoch 94/200\n",
      "5818/5818 [==============================] - 2s 376us/step - loss: 0.6528 - acc: 0.7033 - val_loss: 0.6967 - val_acc: 0.6797\n",
      "Epoch 95/200\n",
      "5818/5818 [==============================] - 2s 363us/step - loss: 0.6619 - acc: 0.6958 - val_loss: 0.6934 - val_acc: 0.6804\n",
      "Epoch 96/200\n",
      "5818/5818 [==============================] - 2s 375us/step - loss: 0.6607 - acc: 0.6970 - val_loss: 0.6964 - val_acc: 0.6838\n",
      "Epoch 97/200\n",
      "5818/5818 [==============================] - 2s 387us/step - loss: 0.6553 - acc: 0.6959 - val_loss: 0.6979 - val_acc: 0.6790\n",
      "Epoch 98/200\n",
      "5818/5818 [==============================] - 2s 394us/step - loss: 0.6555 - acc: 0.7061 - val_loss: 0.6997 - val_acc: 0.6825\n",
      "Epoch 99/200\n",
      "5818/5818 [==============================] - 2s 382us/step - loss: 0.6564 - acc: 0.7052 - val_loss: 0.6982 - val_acc: 0.6784\n",
      "Epoch 100/200\n",
      "5818/5818 [==============================] - 2s 360us/step - loss: 0.6540 - acc: 0.6977 - val_loss: 0.7015 - val_acc: 0.6797\n",
      "Epoch 101/200\n",
      "5818/5818 [==============================] - 2s 371us/step - loss: 0.6514 - acc: 0.6994 - val_loss: 0.6964 - val_acc: 0.6845\n",
      "Epoch 102/200\n",
      "5818/5818 [==============================] - 2s 364us/step - loss: 0.6615 - acc: 0.7030 - val_loss: 0.6968 - val_acc: 0.6832\n",
      "Epoch 103/200\n",
      "5818/5818 [==============================] - 2s 418us/step - loss: 0.6483 - acc: 0.7042 - val_loss: 0.6968 - val_acc: 0.6797\n",
      "Epoch 104/200\n",
      "5818/5818 [==============================] - 2s 389us/step - loss: 0.6544 - acc: 0.7001 - val_loss: 0.6945 - val_acc: 0.6818\n",
      "Epoch 105/200\n",
      "5818/5818 [==============================] - 2s 413us/step - loss: 0.6487 - acc: 0.7023 - val_loss: 0.6931 - val_acc: 0.6838\n",
      "Epoch 106/200\n",
      "5818/5818 [==============================] - 2s 375us/step - loss: 0.6436 - acc: 0.7085 - val_loss: 0.6971 - val_acc: 0.6797\n",
      "Epoch 107/200\n",
      "5818/5818 [==============================] - 2s 364us/step - loss: 0.6530 - acc: 0.7014 - val_loss: 0.6926 - val_acc: 0.6804\n",
      "Epoch 108/200\n",
      "5818/5818 [==============================] - 2s 372us/step - loss: 0.6500 - acc: 0.7081 - val_loss: 0.6912 - val_acc: 0.6852\n",
      "Epoch 109/200\n",
      "5818/5818 [==============================] - 2s 370us/step - loss: 0.6488 - acc: 0.7040 - val_loss: 0.6931 - val_acc: 0.6790\n",
      "Epoch 110/200\n",
      "5818/5818 [==============================] - 2s 377us/step - loss: 0.6515 - acc: 0.7052 - val_loss: 0.6909 - val_acc: 0.6811\n",
      "Epoch 111/200\n",
      "5818/5818 [==============================] - 4s 630us/step - loss: 0.6449 - acc: 0.7109 - val_loss: 0.6934 - val_acc: 0.6873\n",
      "Epoch 112/200\n",
      "5818/5818 [==============================] - 3s 439us/step - loss: 0.6428 - acc: 0.7083 - val_loss: 0.6904 - val_acc: 0.6825\n",
      "Epoch 113/200\n",
      "5818/5818 [==============================] - 2s 392us/step - loss: 0.6531 - acc: 0.7118 - val_loss: 0.6938 - val_acc: 0.6825\n",
      "Epoch 114/200\n",
      "5818/5818 [==============================] - 2s 412us/step - loss: 0.6422 - acc: 0.7123 - val_loss: 0.6955 - val_acc: 0.6777\n",
      "Epoch 115/200\n",
      "5818/5818 [==============================] - 2s 369us/step - loss: 0.6412 - acc: 0.7063 - val_loss: 0.6920 - val_acc: 0.6832\n",
      "Epoch 116/200\n",
      "5818/5818 [==============================] - 2s 374us/step - loss: 0.6405 - acc: 0.7112 - val_loss: 0.6935 - val_acc: 0.6852\n",
      "Epoch 117/200\n",
      "5818/5818 [==============================] - 2s 397us/step - loss: 0.6323 - acc: 0.7112 - val_loss: 0.6950 - val_acc: 0.6797\n",
      "Epoch 118/200\n",
      "5818/5818 [==============================] - 2s 372us/step - loss: 0.6476 - acc: 0.7081 - val_loss: 0.6931 - val_acc: 0.6845\n",
      "Epoch 119/200\n",
      "5818/5818 [==============================] - 2s 370us/step - loss: 0.6444 - acc: 0.7107 - val_loss: 0.6914 - val_acc: 0.6838\n",
      "Epoch 120/200\n",
      "5818/5818 [==============================] - 2s 365us/step - loss: 0.6344 - acc: 0.7068 - val_loss: 0.6917 - val_acc: 0.6825\n",
      "Epoch 121/200\n",
      "5818/5818 [==============================] - 2s 404us/step - loss: 0.6386 - acc: 0.7130 - val_loss: 0.6916 - val_acc: 0.6845\n",
      "Epoch 122/200\n",
      "5818/5818 [==============================] - 3s 599us/step - loss: 0.6355 - acc: 0.7112 - val_loss: 0.6926 - val_acc: 0.6825\n",
      "Epoch 123/200\n",
      "5818/5818 [==============================] - 3s 517us/step - loss: 0.6369 - acc: 0.7140 - val_loss: 0.6913 - val_acc: 0.6832\n",
      "Epoch 124/200\n",
      "5818/5818 [==============================] - 3s 529us/step - loss: 0.6337 - acc: 0.7147 - val_loss: 0.6904 - val_acc: 0.6852\n",
      "Epoch 125/200\n",
      "5818/5818 [==============================] - 2s 398us/step - loss: 0.6282 - acc: 0.7145 - val_loss: 0.6906 - val_acc: 0.6818\n",
      "Epoch 126/200\n",
      "5818/5818 [==============================] - 2s 381us/step - loss: 0.6294 - acc: 0.7166 - val_loss: 0.6931 - val_acc: 0.6763\n",
      "Epoch 127/200\n",
      "5818/5818 [==============================] - 2s 375us/step - loss: 0.6306 - acc: 0.7176 - val_loss: 0.6953 - val_acc: 0.6832\n"
     ]
    }
   ],
   "source": [
    "history_4 = model_4.fit(X_train, y_train,\n",
    "                    validation_split = 0.2,\n",
    "                    callbacks=early_stopping, \n",
    "                    class_weight=class_weights,\n",
    "                    epochs=200, batch_size=600)"
   ]
  },
  {
   "cell_type": "code",
   "execution_count": 101,
   "metadata": {},
   "outputs": [
    {
     "data": {
      "image/png": "[encoded data removed]",
      "text/plain": [
       "<Figure size 576x396 with 1 Axes>"
      ]
     },
     "metadata": {},
     "output_type": "display_data"
    },
    {
     "data": {
      "image/png": "[encoded data removed]",
      "text/plain": [
       "<Figure size 576x396 with 1 Axes>"
      ]
     },
     "metadata": {},
     "output_type": "display_data"
    }
   ],
   "source": [
    "visualize_training_results(history_4)"
   ]
  },
  {
   "cell_type": "code",
   "execution_count": 102,
   "metadata": {},
   "outputs": [
    {
     "name": "stdout",
     "output_type": "stream",
     "text": [
      "Training Accuracy: 0.7499\n",
      "Testing Accuracy:  0.6872\n"
     ]
    }
   ],
   "source": [
    "# Find train and test accuracy\n",
    "loss, accuracy = model_4.evaluate(X_train, y_train, verbose=False)\n",
    "print(\"Training Accuracy: {:.4f}\".format(accuracy))\n",
    "loss, accuracy = model_4.evaluate(X_test, y_test, verbose=False)\n",
    "print(\"Testing Accuracy:  {:.4f}\".format(accuracy))"
   ]
  },
  {
   "cell_type": "markdown",
   "metadata": {},
   "source": [
    "### Make predictions"
   ]
  },
  {
   "cell_type": "code",
   "execution_count": 185,
   "metadata": {},
   "outputs": [
    {
     "data": {
      "text/plain": [
       "{0: 'Negative emotion', 1: 'Neutral emotion', 2: 'Positive emotion'}"
      ]
     },
     "execution_count": 185,
     "metadata": {},
     "output_type": "execute_result"
    }
   ],
   "source": [
    "label_names"
   ]
  },
  {
   "cell_type": "code",
   "execution_count": 107,
   "metadata": {},
   "outputs": [
    {
     "name": "stdout",
     "output_type": "stream",
     "text": [
      "[[0.02 0.25 0.73]] [ 2 ] Positive emotion\n"
     ]
    }
   ],
   "source": [
    "new_tweet = ['I love the new iphone']\n",
    "seq = t.texts_to_sequences(new_tweet)\n",
    "padded = pad_sequences(seq, maxlen=max_tweet_len)\n",
    "pred = lstm_mod3.predict(padded)\n",
    "print(pred, \"[\", np.argmax(pred), \"]\", label_names[np.argmax(pred)])"
   ]
  },
  {
   "cell_type": "code",
   "execution_count": 115,
   "metadata": {},
   "outputs": [
    {
     "name": "stdout",
     "output_type": "stream",
     "text": [
      "[[0.02 0.69 0.29]] [ 1 ] Neutral emotion\n"
     ]
    }
   ],
   "source": [
    "new_tweet = ['I recently saw the new apple computer']\n",
    "seq = t.texts_to_sequences(new_tweet)\n",
    "padded = pad_sequences(seq, maxlen=max_tweet_len)\n",
    "pred = lstm_mod3.predict(padded)\n",
    "print(pred, \"[\", np.argmax(pred), \"]\", label_names[np.argmax(pred)])"
   ]
  },
  {
   "cell_type": "markdown",
   "metadata": {},
   "source": [
    "### Testing other classification models"
   ]
  },
  {
   "cell_type": "markdown",
   "metadata": {},
   "source": [
    "Since our data contains tweets and not just words, we’ll have to figure out a way to use the word vectors from GloVe model to create vector representation for an entire tweet. There is a simple solution to this problem, we can simply take mean of all the word vectors present in the tweet. The length of the resultant vector will be the same, i.e. 50. We will repeat the same process for all the tweets in our data and obtain their vectors. Now we have 200 word2vec features for our data.\n",
    "\n",
    "We will use the below function to create a vector for each tweet by taking the average of the vectors of the words present in the tweet."
   ]
  },
  {
   "cell_type": "code",
   "execution_count": 138,
   "metadata": {},
   "outputs": [],
   "source": [
    "class GloVeVectorizer(object):\n",
    "    \n",
    "    def __init__(self, w2v):\n",
    "        # Takes in a dictionary of words and vectors as input\n",
    "        self.w2v = w2v\n",
    "        if len(w2v) == 0:\n",
    "            self.dimensions = 0\n",
    "        else:\n",
    "            self.dimensions = len(w2v[next(iter(embeddings_index))])\n",
    "    \n",
    "    # Note: Even though it doesn't do anything, it's required that this object implement a fit method or else\n",
    "    # it can't be used in a scikit-learn pipeline  \n",
    "    def fit(self, X, y):\n",
    "        return self\n",
    "            \n",
    "    def transform(self, X):\n",
    "        return np.array([\n",
    "            np.mean([self.w2v[w] for w in words if w in self.w2v]\n",
    "                   or [np.zeros(self.dimensions)], axis=0) for words in X])"
   ]
  },
  {
   "cell_type": "code",
   "execution_count": 80,
   "metadata": {},
   "outputs": [],
   "source": [
    "from sklearn.ensemble import RandomForestClassifier\n",
    "from sklearn.svm import SVC\n",
    "from sklearn.linear_model import LogisticRegression\n",
    "from sklearn.pipeline import Pipeline\n",
    "from sklearn.model_selection import cross_val_score\n",
    "\n",
    "rf =  Pipeline([('Random Forest', RandomForestClassifier(n_estimators=100, verbose=True))])\n",
    "svc = Pipeline([('Support Vector Machine', SVC())])\n",
    "lr = Pipeline([('Logistic Regression', LogisticRegression())])"
   ]
  },
  {
   "cell_type": "code",
   "execution_count": 81,
   "metadata": {},
   "outputs": [],
   "source": [
    "models = [('Random Forest', rf),\n",
    "          ('Support Vector Machine', svc),\n",
    "          ('Logistic Regression', lr)]"
   ]
  },
  {
   "cell_type": "code",
   "execution_count": 85,
   "metadata": {},
   "outputs": [
    {
     "name": "stderr",
     "output_type": "stream",
     "text": [
      "[Parallel(n_jobs=1)]: Using backend SequentialBackend with 1 concurrent workers.\n",
      "[Parallel(n_jobs=1)]: Done 100 out of 100 | elapsed:    1.3s finished\n",
      "[Parallel(n_jobs=1)]: Using backend SequentialBackend with 1 concurrent workers.\n",
      "[Parallel(n_jobs=1)]: Done 100 out of 100 | elapsed:    0.1s finished\n",
      "[Parallel(n_jobs=1)]: Using backend SequentialBackend with 1 concurrent workers.\n",
      "[Parallel(n_jobs=1)]: Done 100 out of 100 | elapsed:    1.1s finished\n",
      "[Parallel(n_jobs=1)]: Using backend SequentialBackend with 1 concurrent workers.\n",
      "[Parallel(n_jobs=1)]: Done 100 out of 100 | elapsed:    0.1s finished\n"
     ]
    }
   ],
   "source": [
    "# ⏰ This cell may take several minutes to run\n",
    "scores = [(name, cross_val_score(model, padded_data, target, cv=2).mean()) for name, model, in models]"
   ]
  },
  {
   "cell_type": "code",
   "execution_count": 86,
   "metadata": {},
   "outputs": [
    {
     "data": {
      "text/plain": [
       "[('Random Forest', 0.62384513858337),\n",
       " ('Support Vector Machine', 0.605917289925209),\n",
       " ('Logistic Regression', 0.6055873295204576)]"
      ]
     },
     "execution_count": 86,
     "metadata": {},
     "output_type": "execute_result"
    }
   ],
   "source": [
    "scores"
   ]
  },
  {
   "cell_type": "code",
   "execution_count": 91,
   "metadata": {},
   "outputs": [],
   "source": [
    "rf =  Pipeline([('Word2Vec Vectorizer', GloVeVectorizer(embeddings_index)),\n",
    "              ('Random Forest', RandomForestClassifier(n_estimators=100, verbose=True))])\n",
    "svc = Pipeline([('Word2Vec Vectorizer', GloVeVectorizer(embeddings_index)),\n",
    "                ('Support Vector Machine', SVC())])\n",
    "lr = Pipeline([('Word2Vec Vectorizer', GloVeVectorizer(embeddings_index)),\n",
    "              ('Logistic Regression', LogisticRegression())])"
   ]
  },
  {
   "cell_type": "code",
   "execution_count": 92,
   "metadata": {},
   "outputs": [],
   "source": [
    "models = [('Random Forest', rf),\n",
    "          ('Support Vector Machine', svc),\n",
    "          ('Logistic Regression', lr)]"
   ]
  },
  {
   "cell_type": "code",
   "execution_count": 93,
   "metadata": {},
   "outputs": [
    {
     "name": "stderr",
     "output_type": "stream",
     "text": [
      "[Parallel(n_jobs=1)]: Using backend SequentialBackend with 1 concurrent workers.\n",
      "[Parallel(n_jobs=1)]: Done 100 out of 100 | elapsed:    0.2s finished\n",
      "[Parallel(n_jobs=1)]: Using backend SequentialBackend with 1 concurrent workers.\n",
      "[Parallel(n_jobs=1)]: Done 100 out of 100 | elapsed:    0.0s finished\n",
      "[Parallel(n_jobs=1)]: Using backend SequentialBackend with 1 concurrent workers.\n",
      "[Parallel(n_jobs=1)]: Done 100 out of 100 | elapsed:    0.2s finished\n",
      "[Parallel(n_jobs=1)]: Using backend SequentialBackend with 1 concurrent workers.\n",
      "[Parallel(n_jobs=1)]: Done 100 out of 100 | elapsed:    0.0s finished\n"
     ]
    }
   ],
   "source": [
    "# ⏰ This cell may take several minutes to run\n",
    "scores = [(name, cross_val_score(model, padded_data, target, cv=2).mean()) for name, model, in models]"
   ]
  },
  {
   "cell_type": "code",
   "execution_count": 94,
   "metadata": {},
   "outputs": [
    {
     "data": {
      "text/plain": [
       "[('Random Forest', 0.6097668279806423),\n",
       " ('Support Vector Machine', 0.6097668279806423),\n",
       " ('Logistic Regression', 0.6097668279806423)]"
      ]
     },
     "execution_count": 94,
     "metadata": {},
     "output_type": "execute_result"
    }
   ],
   "source": [
    "scores"
   ]
  },
  {
   "cell_type": "markdown",
   "metadata": {},
   "source": [
    "### Summary"
   ]
  },
  {
   "cell_type": "markdown",
   "metadata": {},
   "source": [
    "#### General Architecture\n",
    "The inputs for each of the following models are our training data which consists of 7,273 with 20% withheld for validation. Each one of these observations contains 50 “features” which correspond to each word in the tweet. Any 0’s indicate the absence of a word.\n",
    "\n",
    "Each model ends with a dense layer with 3 nodes, because we have 3 possible labels: positive, neutral, or negative. Because we one-hot encoded our labels, we use softmax for this multiclass classification problem to get a probability for each class. Additionally, we use accuracy as our metric, because this is a classification problem. When we use the predict method from Keras, we get a 3 element row vector for each input. Each element corresponds to a probability of one of the 3 labels. Therefore, the label with the highest probability is the predicted outcome.\n",
    "We compile each model with adam and categorical crossentropy.\n",
    "\n",
    "#### Incorporating the GloVe \n",
    "GloVe is defined to be an “unsupervised learning algorithm for obtaining vector representations for words”. Pre-trained word vectors data was downloaded from the Standford University website. The models specifically use the 50 -dimensional embeddings of 1.2M words from 2B tweets. This is represented in a txt file that was parsed to create an index that maps words to their vector representation. Using GloVe data improved the accuracy of the model about 3-4%.\n",
    "\n",
    "#### Best model\n",
    "All models perform quite well, however, Model 3 with two stacked LSTM layers, seems to have the best train/validation accuracy based on the training/validation results plot (history_3). \n",
    "\n",
    "All models have some difficulties with predicting negative emotions due to the class imbalance - small amount of negative labels in the original dataset. In order to mitigate the class imbalace, we passed the pass the class_wieght argument to the fit() functions. This improved the results and reduced overfitting.\n",
    "\n",
    "Other models performance was significatly lower than NN."
   ]
  }
 ],
 "metadata": {
  "kernelspec": {
   "display_name": "learn-env",
   "language": "python",
   "name": "learn-env"
  },
  "language_info": {
   "codemirror_mode": {
    "name": "ipython",
    "version": 3
   },
   "file_extension": ".py",
   "mimetype": "text/x-python",
   "name": "python",
   "nbconvert_exporter": "python",
   "pygments_lexer": "ipython3",
   "version": "3.6.9"
  }
 },
 "nbformat": 4,
 "nbformat_minor": 4
}
