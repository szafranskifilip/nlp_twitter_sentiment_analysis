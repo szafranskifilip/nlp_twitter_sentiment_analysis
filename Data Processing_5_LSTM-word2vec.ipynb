{
 "cells": [
  {
   "cell_type": "markdown",
   "metadata": {},
   "source": [
    "### Import Necessary Dependencies"
   ]
  },
  {
   "cell_type": "code",
   "execution_count": 491,
   "metadata": {},
   "outputs": [
    {
     "name": "stderr",
     "output_type": "stream",
     "text": [
      "[nltk_data] Downloading package stopwords to /Users/Filip/nltk_data...\n",
      "[nltk_data]   Package stopwords is already up-to-date!\n",
      "[nltk_data] Downloading package punkt to /Users/Filip/nltk_data...\n",
      "[nltk_data]   Package punkt is already up-to-date!\n"
     ]
    }
   ],
   "source": [
    "#Import libraries\n",
    "import nltk\n",
    "nltk.download('stopwords')\n",
    "nltk.download('punkt')\n",
    "from nltk.corpus import stopwords\n",
    "from nltk import word_tokenize, FreqDist\n",
    "\n",
    "import string\n",
    "\n",
    "from sklearn.feature_extraction.text import TfidfVectorizer, CountVectorizer, TfidfTransformer\n",
    "from sklearn.pipeline import Pipeline\n",
    "from sklearn.metrics import accuracy_score\n",
    "from sklearn.datasets import fetch_20newsgroups\n",
    "from sklearn.ensemble import RandomForestClassifier\n",
    "from sklearn.naive_bayes import MultinomialNB\n",
    "from sklearn.model_selection import train_test_split\n",
    "from sklearn import preprocessing\n",
    "\n",
    "\n",
    "import matplotlib.pyplot as plt\n",
    "import pandas as pd\n",
    "import numpy as np\n",
    "import seaborn as sns\n",
    "\n",
    "from keras.utils import to_categorical\n",
    "from keras.preprocessing.sequence import pad_sequences\n",
    "from keras.preprocessing.text import Tokenizer\n",
    "from keras import models\n",
    "from keras import layers\n",
    "from keras import optimizers\n",
    "from keras.layers import Dense, Dropout, Embedding, LSTM, GlobalMaxPooling1D, SpatialDropout1D\n",
    "\n",
    "import gensim\n",
    "from gensim.models import Word2Vec\n",
    "\n",
    "np.random.seed(0)\n",
    "\n",
    "%matplotlib inline\n",
    "plt.style.use('seaborn')\n",
    "\n",
    "import warnings\n",
    "warnings.filterwarnings('ignore')"
   ]
  },
  {
   "cell_type": "markdown",
   "metadata": {},
   "source": [
    "### Read and Load the Dataset"
   ]
  },
  {
   "cell_type": "code",
   "execution_count": 158,
   "metadata": {},
   "outputs": [
    {
     "data": {
      "text/html": [
       "<div>\n",
       "<style scoped>\n",
       "    .dataframe tbody tr th:only-of-type {\n",
       "        vertical-align: middle;\n",
       "    }\n",
       "\n",
       "    .dataframe tbody tr th {\n",
       "        vertical-align: top;\n",
       "    }\n",
       "\n",
       "    .dataframe thead th {\n",
       "        text-align: right;\n",
       "    }\n",
       "</style>\n",
       "<table border=\"1\" class=\"dataframe\">\n",
       "  <thead>\n",
       "    <tr style=\"text-align: right;\">\n",
       "      <th></th>\n",
       "      <th>tweet_text</th>\n",
       "      <th>emotion_in_tweet_is_directed_at</th>\n",
       "      <th>is_there_an_emotion_directed_at_a_brand_or_product</th>\n",
       "    </tr>\n",
       "  </thead>\n",
       "  <tbody>\n",
       "    <tr>\n",
       "      <th>0</th>\n",
       "      <td>.@wesley83 I have a 3G iPhone. After 3 hrs twe...</td>\n",
       "      <td>iPhone</td>\n",
       "      <td>Negative emotion</td>\n",
       "    </tr>\n",
       "    <tr>\n",
       "      <th>1</th>\n",
       "      <td>@jessedee Know about @fludapp ? Awesome iPad/i...</td>\n",
       "      <td>iPad or iPhone App</td>\n",
       "      <td>Positive emotion</td>\n",
       "    </tr>\n",
       "    <tr>\n",
       "      <th>2</th>\n",
       "      <td>@swonderlin Can not wait for #iPad 2 also. The...</td>\n",
       "      <td>iPad</td>\n",
       "      <td>Positive emotion</td>\n",
       "    </tr>\n",
       "    <tr>\n",
       "      <th>3</th>\n",
       "      <td>@sxsw I hope this year's festival isn't as cra...</td>\n",
       "      <td>iPad or iPhone App</td>\n",
       "      <td>Negative emotion</td>\n",
       "    </tr>\n",
       "    <tr>\n",
       "      <th>4</th>\n",
       "      <td>@sxtxstate great stuff on Fri #SXSW: Marissa M...</td>\n",
       "      <td>Google</td>\n",
       "      <td>Positive emotion</td>\n",
       "    </tr>\n",
       "  </tbody>\n",
       "</table>\n",
       "</div>"
      ],
      "text/plain": [
       "                                          tweet_text  \\\n",
       "0  .@wesley83 I have a 3G iPhone. After 3 hrs twe...   \n",
       "1  @jessedee Know about @fludapp ? Awesome iPad/i...   \n",
       "2  @swonderlin Can not wait for #iPad 2 also. The...   \n",
       "3  @sxsw I hope this year's festival isn't as cra...   \n",
       "4  @sxtxstate great stuff on Fri #SXSW: Marissa M...   \n",
       "\n",
       "  emotion_in_tweet_is_directed_at  \\\n",
       "0                          iPhone   \n",
       "1              iPad or iPhone App   \n",
       "2                            iPad   \n",
       "3              iPad or iPhone App   \n",
       "4                          Google   \n",
       "\n",
       "  is_there_an_emotion_directed_at_a_brand_or_product  \n",
       "0                                   Negative emotion  \n",
       "1                                   Positive emotion  \n",
       "2                                   Positive emotion  \n",
       "3                                   Negative emotion  \n",
       "4                                   Positive emotion  "
      ]
     },
     "execution_count": 158,
     "metadata": {},
     "output_type": "execute_result"
    }
   ],
   "source": [
    "# Upload datasets\n",
    "df = pd.read_csv('tweet_product_company.csv', encoding = 'unicode_escape')\n",
    "df.head()"
   ]
  },
  {
   "cell_type": "markdown",
   "metadata": {},
   "source": [
    "### Exploratory Data Analysis"
   ]
  },
  {
   "cell_type": "code",
   "execution_count": 159,
   "metadata": {},
   "outputs": [
    {
     "name": "stdout",
     "output_type": "stream",
     "text": [
      "<class 'pandas.core.frame.DataFrame'>\n",
      "RangeIndex: 9093 entries, 0 to 9092\n",
      "Data columns (total 3 columns):\n",
      " #   Column                                              Non-Null Count  Dtype \n",
      "---  ------                                              --------------  ----- \n",
      " 0   tweet_text                                          9092 non-null   object\n",
      " 1   emotion_in_tweet_is_directed_at                     3291 non-null   object\n",
      " 2   is_there_an_emotion_directed_at_a_brand_or_product  9093 non-null   object\n",
      "dtypes: object(3)\n",
      "memory usage: 213.2+ KB\n"
     ]
    }
   ],
   "source": [
    "df.info()"
   ]
  },
  {
   "cell_type": "code",
   "execution_count": 160,
   "metadata": {},
   "outputs": [
    {
     "data": {
      "text/plain": [
       "10"
      ]
     },
     "execution_count": 160,
     "metadata": {},
     "output_type": "execute_result"
    }
   ],
   "source": [
    "len(df.emotion_in_tweet_is_directed_at.unique())"
   ]
  },
  {
   "cell_type": "code",
   "execution_count": 161,
   "metadata": {},
   "outputs": [
    {
     "data": {
      "text/html": [
       "<div>\n",
       "<style scoped>\n",
       "    .dataframe tbody tr th:only-of-type {\n",
       "        vertical-align: middle;\n",
       "    }\n",
       "\n",
       "    .dataframe tbody tr th {\n",
       "        vertical-align: top;\n",
       "    }\n",
       "\n",
       "    .dataframe thead th {\n",
       "        text-align: right;\n",
       "    }\n",
       "</style>\n",
       "<table border=\"1\" class=\"dataframe\">\n",
       "  <thead>\n",
       "    <tr style=\"text-align: right;\">\n",
       "      <th></th>\n",
       "      <th>tweet_text</th>\n",
       "      <th>product</th>\n",
       "      <th>label</th>\n",
       "    </tr>\n",
       "  </thead>\n",
       "  <tbody>\n",
       "    <tr>\n",
       "      <th>0</th>\n",
       "      <td>.@wesley83 I have a 3G iPhone. After 3 hrs twe...</td>\n",
       "      <td>iPhone</td>\n",
       "      <td>Negative emotion</td>\n",
       "    </tr>\n",
       "    <tr>\n",
       "      <th>1</th>\n",
       "      <td>@jessedee Know about @fludapp ? Awesome iPad/i...</td>\n",
       "      <td>iPad or iPhone App</td>\n",
       "      <td>Positive emotion</td>\n",
       "    </tr>\n",
       "    <tr>\n",
       "      <th>2</th>\n",
       "      <td>@swonderlin Can not wait for #iPad 2 also. The...</td>\n",
       "      <td>iPad</td>\n",
       "      <td>Positive emotion</td>\n",
       "    </tr>\n",
       "    <tr>\n",
       "      <th>3</th>\n",
       "      <td>@sxsw I hope this year's festival isn't as cra...</td>\n",
       "      <td>iPad or iPhone App</td>\n",
       "      <td>Negative emotion</td>\n",
       "    </tr>\n",
       "    <tr>\n",
       "      <th>4</th>\n",
       "      <td>@sxtxstate great stuff on Fri #SXSW: Marissa M...</td>\n",
       "      <td>Google</td>\n",
       "      <td>Positive emotion</td>\n",
       "    </tr>\n",
       "  </tbody>\n",
       "</table>\n",
       "</div>"
      ],
      "text/plain": [
       "                                          tweet_text             product  \\\n",
       "0  .@wesley83 I have a 3G iPhone. After 3 hrs twe...              iPhone   \n",
       "1  @jessedee Know about @fludapp ? Awesome iPad/i...  iPad or iPhone App   \n",
       "2  @swonderlin Can not wait for #iPad 2 also. The...                iPad   \n",
       "3  @sxsw I hope this year's festival isn't as cra...  iPad or iPhone App   \n",
       "4  @sxtxstate great stuff on Fri #SXSW: Marissa M...              Google   \n",
       "\n",
       "              label  \n",
       "0  Negative emotion  \n",
       "1  Positive emotion  \n",
       "2  Positive emotion  \n",
       "3  Negative emotion  \n",
       "4  Positive emotion  "
      ]
     },
     "execution_count": 161,
     "metadata": {},
     "output_type": "execute_result"
    }
   ],
   "source": [
    "df.columns = ['tweet_text', 'product', 'label']\n",
    "df.head()"
   ]
  },
  {
   "cell_type": "code",
   "execution_count": 162,
   "metadata": {},
   "outputs": [
    {
     "name": "stdout",
     "output_type": "stream",
     "text": [
      "Column:  product\n",
      "Unique values count: 10\n",
      "Values:  ['iPhone' 'iPad or iPhone App' 'iPad' 'Google' nan 'Android' 'Apple'\n",
      " 'Android App' 'Other Google product or service'\n",
      " 'Other Apple product or service']\n",
      "----------------\n",
      "Column:  label\n",
      "Unique values count: 4\n",
      "Values:  ['Negative emotion' 'Positive emotion'\n",
      " 'No emotion toward brand or product' \"I can't tell\"]\n",
      "----------------\n"
     ]
    }
   ],
   "source": [
    "for column in df.columns[1:]:\n",
    "    print('Column: ', column)\n",
    "    print('Unique values count:', len(df[column].unique()))\n",
    "    print('Values: ', df[column].unique())\n",
    "    print('----------------')"
   ]
  },
  {
   "cell_type": "code",
   "execution_count": 163,
   "metadata": {},
   "outputs": [
    {
     "data": {
      "text/html": [
       "<div>\n",
       "<style scoped>\n",
       "    .dataframe tbody tr th:only-of-type {\n",
       "        vertical-align: middle;\n",
       "    }\n",
       "\n",
       "    .dataframe tbody tr th {\n",
       "        vertical-align: top;\n",
       "    }\n",
       "\n",
       "    .dataframe thead th {\n",
       "        text-align: right;\n",
       "    }\n",
       "</style>\n",
       "<table border=\"1\" class=\"dataframe\">\n",
       "  <thead>\n",
       "    <tr style=\"text-align: right;\">\n",
       "      <th></th>\n",
       "      <th>NaN count</th>\n",
       "      <th>Zero values count</th>\n",
       "      <th>Unique_val count</th>\n",
       "      <th>Data type</th>\n",
       "    </tr>\n",
       "  </thead>\n",
       "  <tbody>\n",
       "    <tr>\n",
       "      <th>product</th>\n",
       "      <td>5802</td>\n",
       "      <td>0</td>\n",
       "      <td>9</td>\n",
       "      <td>object</td>\n",
       "    </tr>\n",
       "    <tr>\n",
       "      <th>tweet_text</th>\n",
       "      <td>1</td>\n",
       "      <td>0</td>\n",
       "      <td>9065</td>\n",
       "      <td>object</td>\n",
       "    </tr>\n",
       "    <tr>\n",
       "      <th>label</th>\n",
       "      <td>0</td>\n",
       "      <td>0</td>\n",
       "      <td>4</td>\n",
       "      <td>object</td>\n",
       "    </tr>\n",
       "  </tbody>\n",
       "</table>\n",
       "</div>"
      ],
      "text/plain": [
       "            NaN count  Zero values count  Unique_val count Data type\n",
       "product          5802                  0                 9    object\n",
       "tweet_text          1                  0              9065    object\n",
       "label               0                  0                 4    object"
      ]
     },
     "execution_count": 163,
     "metadata": {},
     "output_type": "execute_result"
    }
   ],
   "source": [
    "# Create summary of Nan and unique values counts and data types\n",
    "X_info = pd.DataFrame(df.isna().sum(), columns=['NaN count'])\n",
    "\n",
    "unique_val = []\n",
    "types_val = []\n",
    "zero_val = []\n",
    "\n",
    "for column in df.columns:\n",
    "    unique = df[column].nunique()\n",
    "    types = str(df[column].dtype)\n",
    "    zeros = len(df[df[column]==0])\n",
    "    \n",
    "    unique_val.append(unique)\n",
    "    types_val.append(types)\n",
    "    zero_val.append(zeros)\n",
    "\n",
    "X_info['Zero values count'] = zero_val\n",
    "X_info['Unique_val count'] = unique_val\n",
    "X_info['Data type'] = types_val\n",
    "\n",
    "X_info.sort_values(by=['NaN count', 'Zero values count'], ascending=False)"
   ]
  },
  {
   "cell_type": "markdown",
   "metadata": {},
   "source": [
    "### Data Visualization of Target Variables"
   ]
  },
  {
   "cell_type": "code",
   "execution_count": 164,
   "metadata": {},
   "outputs": [
    {
     "data": {
      "image/png": "[encoded data removed]",
      "text/plain": [
       "<Figure size 576x396 with 1 Axes>"
      ]
     },
     "metadata": {},
     "output_type": "display_data"
    }
   ],
   "source": [
    "ax = sns.countplot(x='label', data=df)\n",
    "ax.tick_params(axis='x', rotation=90)"
   ]
  },
  {
   "cell_type": "code",
   "execution_count": 165,
   "metadata": {},
   "outputs": [
    {
     "data": {
      "text/plain": [
       "No emotion toward brand or product    0.592654\n",
       "Positive emotion                      0.327505\n",
       "Negative emotion                      0.062686\n",
       "I can't tell                          0.017156\n",
       "Name: label, dtype: float64"
      ]
     },
     "execution_count": 165,
     "metadata": {},
     "output_type": "execute_result"
    }
   ],
   "source": [
    "df['label'].value_counts(normalize=True)"
   ]
  },
  {
   "cell_type": "code",
   "execution_count": 166,
   "metadata": {},
   "outputs": [
    {
     "data": {
      "text/html": [
       "<div>\n",
       "<style scoped>\n",
       "    .dataframe tbody tr th:only-of-type {\n",
       "        vertical-align: middle;\n",
       "    }\n",
       "\n",
       "    .dataframe tbody tr th {\n",
       "        vertical-align: top;\n",
       "    }\n",
       "\n",
       "    .dataframe thead th {\n",
       "        text-align: right;\n",
       "    }\n",
       "</style>\n",
       "<table border=\"1\" class=\"dataframe\">\n",
       "  <thead>\n",
       "    <tr style=\"text-align: right;\">\n",
       "      <th></th>\n",
       "      <th>tweet_text</th>\n",
       "      <th>label</th>\n",
       "    </tr>\n",
       "    <tr>\n",
       "      <th>product</th>\n",
       "      <th></th>\n",
       "      <th></th>\n",
       "    </tr>\n",
       "  </thead>\n",
       "  <tbody>\n",
       "    <tr>\n",
       "      <th>Android</th>\n",
       "      <td>78</td>\n",
       "      <td>78</td>\n",
       "    </tr>\n",
       "    <tr>\n",
       "      <th>Android App</th>\n",
       "      <td>81</td>\n",
       "      <td>81</td>\n",
       "    </tr>\n",
       "    <tr>\n",
       "      <th>Apple</th>\n",
       "      <td>661</td>\n",
       "      <td>661</td>\n",
       "    </tr>\n",
       "    <tr>\n",
       "      <th>Google</th>\n",
       "      <td>430</td>\n",
       "      <td>430</td>\n",
       "    </tr>\n",
       "    <tr>\n",
       "      <th>Other Apple product or service</th>\n",
       "      <td>35</td>\n",
       "      <td>35</td>\n",
       "    </tr>\n",
       "    <tr>\n",
       "      <th>Other Google product or service</th>\n",
       "      <td>293</td>\n",
       "      <td>293</td>\n",
       "    </tr>\n",
       "    <tr>\n",
       "      <th>iPad</th>\n",
       "      <td>946</td>\n",
       "      <td>946</td>\n",
       "    </tr>\n",
       "    <tr>\n",
       "      <th>iPad or iPhone App</th>\n",
       "      <td>470</td>\n",
       "      <td>470</td>\n",
       "    </tr>\n",
       "    <tr>\n",
       "      <th>iPhone</th>\n",
       "      <td>297</td>\n",
       "      <td>297</td>\n",
       "    </tr>\n",
       "  </tbody>\n",
       "</table>\n",
       "</div>"
      ],
      "text/plain": [
       "                                 tweet_text  label\n",
       "product                                           \n",
       "Android                                  78     78\n",
       "Android App                              81     81\n",
       "Apple                                   661    661\n",
       "Google                                  430    430\n",
       "Other Apple product or service           35     35\n",
       "Other Google product or service         293    293\n",
       "iPad                                    946    946\n",
       "iPad or iPhone App                      470    470\n",
       "iPhone                                  297    297"
      ]
     },
     "execution_count": 166,
     "metadata": {},
     "output_type": "execute_result"
    }
   ],
   "source": [
    "df.groupby(by=['product']).count()"
   ]
  },
  {
   "cell_type": "markdown",
   "metadata": {},
   "source": [
    "### Cleaning and Preprocessing Data"
   ]
  },
  {
   "cell_type": "code",
   "execution_count": 167,
   "metadata": {},
   "outputs": [],
   "source": [
    "df.dropna(subset=['tweet_text'], axis='rows', inplace=True)"
   ]
  },
  {
   "cell_type": "markdown",
   "metadata": {},
   "source": [
    "#### Break apart the data and the labels, and then inspect the class names"
   ]
  },
  {
   "cell_type": "code",
   "execution_count": 421,
   "metadata": {},
   "outputs": [],
   "source": [
    "data = df.drop(columns=['label','product'])\n",
    "target = df.drop(columns=['tweet_text','product'])"
   ]
  },
  {
   "cell_type": "code",
   "execution_count": 422,
   "metadata": {},
   "outputs": [],
   "source": [
    "#change type of column\n",
    "target['label'] = pd.Categorical(target['label'])"
   ]
  },
  {
   "cell_type": "code",
   "execution_count": 423,
   "metadata": {},
   "outputs": [],
   "source": [
    "target['label'] = target['label'].cat.codes"
   ]
  },
  {
   "cell_type": "code",
   "execution_count": 424,
   "metadata": {},
   "outputs": [
    {
     "data": {
      "text/plain": [
       "[1, 3, 2, 0]"
      ]
     },
     "execution_count": 424,
     "metadata": {},
     "output_type": "execute_result"
    }
   ],
   "source": [
    "label_names = list(target['label'].unique())\n",
    "label_names"
   ]
  },
  {
   "cell_type": "code",
   "execution_count": 425,
   "metadata": {},
   "outputs": [],
   "source": [
    "# Split data into train and test sets\n",
    "X_train, X_test, y_train, y_test = train_test_split(data, target, test_size=0.25, random_state=42)"
   ]
  },
  {
   "cell_type": "code",
   "execution_count": 426,
   "metadata": {},
   "outputs": [],
   "source": [
    "y_train = to_categorical(y_train)\n",
    "y_test = to_categorical(y_test)"
   ]
  },
  {
   "cell_type": "code",
   "execution_count": 427,
   "metadata": {},
   "outputs": [
    {
     "data": {
      "text/html": [
       "<div>\n",
       "<style scoped>\n",
       "    .dataframe tbody tr th:only-of-type {\n",
       "        vertical-align: middle;\n",
       "    }\n",
       "\n",
       "    .dataframe tbody tr th {\n",
       "        vertical-align: top;\n",
       "    }\n",
       "\n",
       "    .dataframe thead th {\n",
       "        text-align: right;\n",
       "    }\n",
       "</style>\n",
       "<table border=\"1\" class=\"dataframe\">\n",
       "  <thead>\n",
       "    <tr style=\"text-align: right;\">\n",
       "      <th></th>\n",
       "      <th>tweet_text</th>\n",
       "    </tr>\n",
       "  </thead>\n",
       "  <tbody>\n",
       "    <tr>\n",
       "      <th>8605</th>\n",
       "      <td>Perfect attention to detail RT @mention Google...</td>\n",
       "    </tr>\n",
       "  </tbody>\n",
       "</table>\n",
       "</div>"
      ],
      "text/plain": [
       "                                             tweet_text\n",
       "8605  Perfect attention to detail RT @mention Google..."
      ]
     },
     "execution_count": 427,
     "metadata": {},
     "output_type": "execute_result"
    }
   ],
   "source": [
    "X_train[:1]"
   ]
  },
  {
   "cell_type": "code",
   "execution_count": 428,
   "metadata": {},
   "outputs": [
    {
     "data": {
      "text/plain": [
       "array([[0., 1., 0., 0.],\n",
       "       [0., 0., 1., 0.],\n",
       "       [0., 0., 0., 1.],\n",
       "       ...,\n",
       "       [0., 0., 1., 0.],\n",
       "       [0., 0., 0., 1.],\n",
       "       [1., 0., 0., 0.]], dtype=float32)"
      ]
     },
     "execution_count": 428,
     "metadata": {},
     "output_type": "execute_result"
    }
   ],
   "source": [
    "y_train"
   ]
  },
  {
   "cell_type": "markdown",
   "metadata": {},
   "source": [
    "#### Check tweet lenghts distrubution and max value"
   ]
  },
  {
   "cell_type": "code",
   "execution_count": 429,
   "metadata": {},
   "outputs": [
    {
     "name": "stdout",
     "output_type": "stream",
     "text": [
      "max phrase len: 33\n"
     ]
    },
    {
     "data": {
      "image/png": "[encoded data removed]",
      "text/plain": [
       "<Figure size 720x576 with 1 Axes>"
      ]
     },
     "metadata": {},
     "output_type": "display_data"
    }
   ],
   "source": [
    "phrase_len = X_train['tweet_text'].apply(lambda p: len(p.split(' ')))\n",
    "max_phrase_len = phrase_len.max()\n",
    "print('max phrase len: {0}'.format(max_phrase_len))\n",
    "\n",
    "#Plot results\n",
    "plt.figure(figsize = (10, 8))\n",
    "plt.hist(phrase_len, alpha = 0.2, density = True)\n",
    "plt.xlabel('phrase len')\n",
    "plt.ylabel('probability')\n",
    "plt.grid(alpha = 0.25)"
   ]
  },
  {
   "cell_type": "code",
   "execution_count": 461,
   "metadata": {},
   "outputs": [],
   "source": [
    "# #### Getting a list of all of the english stopwords, and concatenating \n",
    "# them with a list of all the punctuation.\n",
    "stopwords_list = stopwords.words('english') + list(string.punctuation)\n",
    "stopwords_list += [\"''\", '\"\"', '...', '``']"
   ]
  },
  {
   "cell_type": "code",
   "execution_count": 462,
   "metadata": {},
   "outputs": [],
   "source": [
    "def process_tweet(tweet):\n",
    "    tokens = nltk.word_tokenize(tweet)\n",
    "    stopwords_removed = [token.lower() for token in tokens if token.lower() not in stopwords_list]\n",
    "    return stopwords_removed"
   ]
  },
  {
   "cell_type": "code",
   "execution_count": 463,
   "metadata": {},
   "outputs": [
    {
     "data": {
      "text/html": [
       "<div>\n",
       "<style scoped>\n",
       "    .dataframe tbody tr th:only-of-type {\n",
       "        vertical-align: middle;\n",
       "    }\n",
       "\n",
       "    .dataframe tbody tr th {\n",
       "        vertical-align: top;\n",
       "    }\n",
       "\n",
       "    .dataframe thead th {\n",
       "        text-align: right;\n",
       "    }\n",
       "</style>\n",
       "<table border=\"1\" class=\"dataframe\">\n",
       "  <thead>\n",
       "    <tr style=\"text-align: right;\">\n",
       "      <th></th>\n",
       "      <th>tweet_text</th>\n",
       "    </tr>\n",
       "  </thead>\n",
       "  <tbody>\n",
       "    <tr>\n",
       "      <th>8605</th>\n",
       "      <td>[perfect, attention, detail, rt, mention, goog...</td>\n",
       "    </tr>\n",
       "    <tr>\n",
       "      <th>1303</th>\n",
       "      <td>[iphone, stolen, got, back, sxsw]</td>\n",
       "    </tr>\n",
       "    <tr>\n",
       "      <th>8759</th>\n",
       "      <td>[fuck, love, austin, left, youtube, google, pa...</td>\n",
       "    </tr>\n",
       "    <tr>\n",
       "      <th>5021</th>\n",
       "      <td>[spotted, something, rare, minutes, ago, phone...</td>\n",
       "    </tr>\n",
       "    <tr>\n",
       "      <th>3210</th>\n",
       "      <td>[mention, fyi, rt, mention, 'll, austin, conve...</td>\n",
       "    </tr>\n",
       "    <tr>\n",
       "      <th>...</th>\n",
       "      <td>...</td>\n",
       "    </tr>\n",
       "    <tr>\n",
       "      <th>5735</th>\n",
       "      <td>[rt, mention, notatsxsw, sxsw, 's, link, free,...</td>\n",
       "    </tr>\n",
       "    <tr>\n",
       "      <th>5192</th>\n",
       "      <td>[rt, mention, quot, future, local, contextual,...</td>\n",
       "    </tr>\n",
       "    <tr>\n",
       "      <th>5391</th>\n",
       "      <td>[rt, mention, android, may, gaining, market, s...</td>\n",
       "    </tr>\n",
       "    <tr>\n",
       "      <th>861</th>\n",
       "      <td>[mention, love, mention, mention, sxsw, quot, ...</td>\n",
       "    </tr>\n",
       "    <tr>\n",
       "      <th>7271</th>\n",
       "      <td>[anyone, know, status, ipad, 2s, austin, pop-u...</td>\n",
       "    </tr>\n",
       "  </tbody>\n",
       "</table>\n",
       "<p>6819 rows × 1 columns</p>\n",
       "</div>"
      ],
      "text/plain": [
       "                                             tweet_text\n",
       "8605  [perfect, attention, detail, rt, mention, goog...\n",
       "1303                  [iphone, stolen, got, back, sxsw]\n",
       "8759  [fuck, love, austin, left, youtube, google, pa...\n",
       "5021  [spotted, something, rare, minutes, ago, phone...\n",
       "3210  [mention, fyi, rt, mention, 'll, austin, conve...\n",
       "...                                                 ...\n",
       "5735  [rt, mention, notatsxsw, sxsw, 's, link, free,...\n",
       "5192  [rt, mention, quot, future, local, contextual,...\n",
       "5391  [rt, mention, android, may, gaining, market, s...\n",
       "861   [mention, love, mention, mention, sxsw, quot, ...\n",
       "7271  [anyone, know, status, ipad, 2s, austin, pop-u...\n",
       "\n",
       "[6819 rows x 1 columns]"
      ]
     },
     "execution_count": 463,
     "metadata": {},
     "output_type": "execute_result"
    }
   ],
   "source": [
    "X_train_processed = X_train.applymap(process_tweet)\n",
    "\n",
    "# X_train_processed['tweet_text'] = X_train_processed['tweet_text'].apply(lambda x: ' '.join(map(str, x)))\n",
    "X_train_processed"
   ]
  },
  {
   "cell_type": "code",
   "execution_count": 464,
   "metadata": {},
   "outputs": [
    {
     "data": {
      "text/html": [
       "<div>\n",
       "<style scoped>\n",
       "    .dataframe tbody tr th:only-of-type {\n",
       "        vertical-align: middle;\n",
       "    }\n",
       "\n",
       "    .dataframe tbody tr th {\n",
       "        vertical-align: top;\n",
       "    }\n",
       "\n",
       "    .dataframe thead th {\n",
       "        text-align: right;\n",
       "    }\n",
       "</style>\n",
       "<table border=\"1\" class=\"dataframe\">\n",
       "  <thead>\n",
       "    <tr style=\"text-align: right;\">\n",
       "      <th></th>\n",
       "      <th>tweet_text</th>\n",
       "    </tr>\n",
       "  </thead>\n",
       "  <tbody>\n",
       "    <tr>\n",
       "      <th>7169</th>\n",
       "      <td>[google, close, launching, new, social, networ...</td>\n",
       "    </tr>\n",
       "    <tr>\n",
       "      <th>2089</th>\n",
       "      <td>[iphone, charging, sxsw, link]</td>\n",
       "    </tr>\n",
       "    <tr>\n",
       "      <th>2303</th>\n",
       "      <td>[walk, lady, bird, lake, lovely, google, maps,...</td>\n",
       "    </tr>\n",
       "    <tr>\n",
       "      <th>928</th>\n",
       "      <td>[ûï, mention, rumor, apple, popup, store, dow...</td>\n",
       "    </tr>\n",
       "    <tr>\n",
       "      <th>5895</th>\n",
       "      <td>[rt, mention, google, launch, major, new, soci...</td>\n",
       "    </tr>\n",
       "    <tr>\n",
       "      <th>...</th>\n",
       "      <td>...</td>\n",
       "    </tr>\n",
       "    <tr>\n",
       "      <th>4565</th>\n",
       "      <td>[mention, needs, driving, buddy, 30, hours, al...</td>\n",
       "    </tr>\n",
       "    <tr>\n",
       "      <th>548</th>\n",
       "      <td>[go, sxsw, next, year, rt, mention, apple, ope...</td>\n",
       "    </tr>\n",
       "    <tr>\n",
       "      <th>27</th>\n",
       "      <td>[someone, started, austin, partnerhub, group, ...</td>\n",
       "    </tr>\n",
       "    <tr>\n",
       "      <th>6220</th>\n",
       "      <td>[mention, spilled, beans, next, platform, flip...</td>\n",
       "    </tr>\n",
       "    <tr>\n",
       "      <th>7862</th>\n",
       "      <td>[ipad, users, slow, resting, heart, rate, leis...</td>\n",
       "    </tr>\n",
       "  </tbody>\n",
       "</table>\n",
       "<p>2273 rows × 1 columns</p>\n",
       "</div>"
      ],
      "text/plain": [
       "                                             tweet_text\n",
       "7169  [google, close, launching, new, social, networ...\n",
       "2089                     [iphone, charging, sxsw, link]\n",
       "2303  [walk, lady, bird, lake, lovely, google, maps,...\n",
       "928   [ûï, mention, rumor, apple, popup, store, dow...\n",
       "5895  [rt, mention, google, launch, major, new, soci...\n",
       "...                                                 ...\n",
       "4565  [mention, needs, driving, buddy, 30, hours, al...\n",
       "548   [go, sxsw, next, year, rt, mention, apple, ope...\n",
       "27    [someone, started, austin, partnerhub, group, ...\n",
       "6220  [mention, spilled, beans, next, platform, flip...\n",
       "7862  [ipad, users, slow, resting, heart, rate, leis...\n",
       "\n",
       "[2273 rows x 1 columns]"
      ]
     },
     "execution_count": 464,
     "metadata": {},
     "output_type": "execute_result"
    }
   ],
   "source": [
    "X_test_processed = X_test.applymap(process_tweet)\n",
    "\n",
    "# X_test_processed['tweet_text'] = X_test_processed['tweet_text'].apply(lambda x: ' '.join(map(str, x)))\n",
    "X_test_processed"
   ]
  },
  {
   "cell_type": "markdown",
   "metadata": {},
   "source": [
    "### Word2vec"
   ]
  },
  {
   "cell_type": "code",
   "execution_count": 523,
   "metadata": {},
   "outputs": [],
   "source": [
    "data_processed = data.applymap(process_tweet)\n",
    "# data_processed['tweet_text'] = data_processed['tweet_text'].apply(lambda x: ' '.join(map(str, x)))"
   ]
  },
  {
   "cell_type": "code",
   "execution_count": 524,
   "metadata": {},
   "outputs": [
    {
     "data": {
      "text/html": [
       "<div>\n",
       "<style scoped>\n",
       "    .dataframe tbody tr th:only-of-type {\n",
       "        vertical-align: middle;\n",
       "    }\n",
       "\n",
       "    .dataframe tbody tr th {\n",
       "        vertical-align: top;\n",
       "    }\n",
       "\n",
       "    .dataframe thead th {\n",
       "        text-align: right;\n",
       "    }\n",
       "</style>\n",
       "<table border=\"1\" class=\"dataframe\">\n",
       "  <thead>\n",
       "    <tr style=\"text-align: right;\">\n",
       "      <th></th>\n",
       "      <th>tweet_text</th>\n",
       "    </tr>\n",
       "  </thead>\n",
       "  <tbody>\n",
       "    <tr>\n",
       "      <th>0</th>\n",
       "      <td>[wesley83, 3g, iphone, 3, hrs, tweeting, rise_...</td>\n",
       "    </tr>\n",
       "    <tr>\n",
       "      <th>1</th>\n",
       "      <td>[jessedee, know, fludapp, awesome, ipad/iphone...</td>\n",
       "    </tr>\n",
       "    <tr>\n",
       "      <th>2</th>\n",
       "      <td>[swonderlin, wait, ipad, 2, also, sale, sxsw]</td>\n",
       "    </tr>\n",
       "    <tr>\n",
       "      <th>3</th>\n",
       "      <td>[sxsw, hope, year, 's, festival, n't, crashy, ...</td>\n",
       "    </tr>\n",
       "    <tr>\n",
       "      <th>4</th>\n",
       "      <td>[sxtxstate, great, stuff, fri, sxsw, marissa, ...</td>\n",
       "    </tr>\n",
       "    <tr>\n",
       "      <th>...</th>\n",
       "      <td>...</td>\n",
       "    </tr>\n",
       "    <tr>\n",
       "      <th>9088</th>\n",
       "      <td>[ipad, everywhere, sxsw, link]</td>\n",
       "    </tr>\n",
       "    <tr>\n",
       "      <th>9089</th>\n",
       "      <td>[wave, buzz, rt, mention, interrupt, regularly...</td>\n",
       "    </tr>\n",
       "    <tr>\n",
       "      <th>9090</th>\n",
       "      <td>[google, 's, zeiger, physician, never, reporte...</td>\n",
       "    </tr>\n",
       "    <tr>\n",
       "      <th>9091</th>\n",
       "      <td>[verizon, iphone, customers, complained, time,...</td>\n",
       "    </tr>\n",
       "    <tr>\n",
       "      <th>9092</th>\n",
       "      <td>[ï¡ïàü_êîò£áââ_£â_ûârt,...</td>\n",
       "    </tr>\n",
       "  </tbody>\n",
       "</table>\n",
       "<p>9092 rows × 1 columns</p>\n",
       "</div>"
      ],
      "text/plain": [
       "                                             tweet_text\n",
       "0     [wesley83, 3g, iphone, 3, hrs, tweeting, rise_...\n",
       "1     [jessedee, know, fludapp, awesome, ipad/iphone...\n",
       "2         [swonderlin, wait, ipad, 2, also, sale, sxsw]\n",
       "3     [sxsw, hope, year, 's, festival, n't, crashy, ...\n",
       "4     [sxtxstate, great, stuff, fri, sxsw, marissa, ...\n",
       "...                                                 ...\n",
       "9088                     [ipad, everywhere, sxsw, link]\n",
       "9089  [wave, buzz, rt, mention, interrupt, regularly...\n",
       "9090  [google, 's, zeiger, physician, never, reporte...\n",
       "9091  [verizon, iphone, customers, complained, time,...\n",
       "9092  [ï¡ïàü_êîò£áââ_£â_ûârt,...\n",
       "\n",
       "[9092 rows x 1 columns]"
      ]
     },
     "execution_count": 524,
     "metadata": {},
     "output_type": "execute_result"
    }
   ],
   "source": [
    "data_processed"
   ]
  },
  {
   "cell_type": "code",
   "execution_count": 525,
   "metadata": {},
   "outputs": [],
   "source": [
    "target = to_categorical(target)"
   ]
  },
  {
   "cell_type": "code",
   "execution_count": 577,
   "metadata": {},
   "outputs": [
    {
     "name": "stdout",
     "output_type": "stream",
     "text": [
      "CPU times: user 1.54 s, sys: 29 ms, total: 1.57 s\n",
      "Wall time: 943 ms\n"
     ]
    },
    {
     "data": {
      "text/plain": [
       "(25, 50)"
      ]
     },
     "execution_count": 577,
     "metadata": {},
     "output_type": "execute_result"
    }
   ],
   "source": [
    "%%time\n",
    "model_w2v = gensim.models.Word2Vec(\n",
    "            data_processed['tweet_text'],\n",
    "            size=10, # desired no. of features/independent variables\n",
    "            window=5, # context window size\n",
    "            min_count=1, # Ignores all words with total frequency lower than 2.                                  \n",
    "            workers= 4, # no.of cores\n",
    ") \n",
    "\n",
    "model_w2v.train(data_processed, total_examples=model.corpus_count, epochs=model_w2v.epochs)"
   ]
  },
  {
   "cell_type": "code",
   "execution_count": 578,
   "metadata": {},
   "outputs": [],
   "source": [
    "# model_w2v.wv.vocab"
   ]
  },
  {
   "cell_type": "code",
   "execution_count": 579,
   "metadata": {},
   "outputs": [],
   "source": [
    "wv=model_w2v.wv"
   ]
  },
  {
   "cell_type": "code",
   "execution_count": 580,
   "metadata": {},
   "outputs": [
    {
     "data": {
      "text/plain": [
       "[('open', 0.9979462027549744),\n",
       " ('heads', 0.9973016977310181),\n",
       " ('shop', 0.9967005252838135),\n",
       " ('sets', 0.9962363243103027),\n",
       " ('core', 0.9961278438568115),\n",
       " ('til', 0.9959115982055664),\n",
       " ('setting', 0.9948117136955261),\n",
       " ('congress', 0.9935564994812012),\n",
       " ('store', 0.9932241439819336),\n",
       " ('ipad2', 0.9924846291542053)]"
      ]
     },
     "execution_count": 580,
     "metadata": {},
     "output_type": "execute_result"
    }
   ],
   "source": [
    "wv.most_similar(positive=\"apple\")"
   ]
  },
  {
   "cell_type": "code",
   "execution_count": 581,
   "metadata": {},
   "outputs": [
    {
     "data": {
      "text/plain": [
       "<gensim.models.keyedvectors.Vocab at 0x7ff4c0df5c18>"
      ]
     },
     "execution_count": 581,
     "metadata": {},
     "output_type": "execute_result"
    }
   ],
   "source": [
    "wv.vocab['apple']"
   ]
  },
  {
   "cell_type": "code",
   "execution_count": 582,
   "metadata": {},
   "outputs": [
    {
     "data": {
      "text/plain": [
       "array([ 2.4460669 ,  1.2359698 ,  0.16042934, -1.5301412 , -3.1152124 ,\n",
       "        6.190656  ,  4.209402  , -2.029335  ,  1.5898981 , -5.158054  ],\n",
       "      dtype=float32)"
      ]
     },
     "execution_count": 582,
     "metadata": {},
     "output_type": "execute_result"
    }
   ],
   "source": [
    "model_w2v['apple']"
   ]
  },
  {
   "cell_type": "code",
   "execution_count": 583,
   "metadata": {},
   "outputs": [],
   "source": [
    "w2v_dict = dict(zip(wv.index2word, wv.syn0))"
   ]
  },
  {
   "cell_type": "markdown",
   "metadata": {},
   "source": [
    "#### Preparing Vectors for Tweets"
   ]
  },
  {
   "cell_type": "markdown",
   "metadata": {},
   "source": [
    "Since our data contains tweets and not just words, we’ll have to figure out a way to use the word vectors from word2vec model to create vector representation for an entire tweet. There is a simple solution to this problem, we can simply take mean of all the word vectors present in the tweet. The length of the resultant vector will be the same, i.e. 200. We will repeat the same process for all the tweets in our data and obtain their vectors. Now we have 200 word2vec features for our data.\n",
    "\n",
    "We will use the below function to create a vector for each tweet by taking the average of the vectors of the words present in the tweet."
   ]
  },
  {
   "cell_type": "code",
   "execution_count": 584,
   "metadata": {},
   "outputs": [],
   "source": [
    "class W2vVectorizer(object):\n",
    "    \n",
    "    def __init__(self, w2v):\n",
    "        # Takes in a dictionary of words and vectors as input\n",
    "        self.w2v = w2v\n",
    "        if len(w2v) == 0:\n",
    "            self.dimensions = 0\n",
    "        else:\n",
    "            self.dimensions = len(w2v[next(iter(w2v_dict))])\n",
    "    \n",
    "    # Note: Even though it doesn't do anything, it's required that this object implement a fit method or else\n",
    "    # it can't be used in a scikit-learn pipeline  \n",
    "    def fit(self, X, y):\n",
    "        return self\n",
    "            \n",
    "    def transform(self, X):\n",
    "        return np.array([\n",
    "            np.mean([self.w2v[w] for w in words if w in self.w2v]\n",
    "                   or [np.zeros(self.dimensions)], axis=0) for words in X])\n"
   ]
  },
  {
   "cell_type": "code",
   "execution_count": 585,
   "metadata": {},
   "outputs": [],
   "source": [
    "vectorizer = W2vVectorizer(w2v_dict)"
   ]
  },
  {
   "cell_type": "code",
   "execution_count": 614,
   "metadata": {},
   "outputs": [],
   "source": [
    "X_train_processed_mean = vectorizer.transform(X_train_processed['tweet_text'])"
   ]
  },
  {
   "cell_type": "code",
   "execution_count": 617,
   "metadata": {},
   "outputs": [
    {
     "data": {
      "text/plain": [
       "array([[ 0.07366225, -0.5588233 , -0.51509637, ...,  0.27175903,\n",
       "         0.262583  , -1.1410797 ],\n",
       "       [-0.00447785, -0.6876461 , -1.1996212 , ..., -0.03787825,\n",
       "        -0.05701221, -2.3166475 ],\n",
       "       [ 0.24799654, -0.47710997, -0.60808253, ...,  0.04175477,\n",
       "         0.2726131 , -1.6937029 ],\n",
       "       ...,\n",
       "       [ 0.20331241, -0.4003264 , -0.57564193, ...,  0.03215329,\n",
       "         0.22798003, -1.7028625 ],\n",
       "       [ 0.41246516, -0.40693516, -0.84617233, ..., -0.10189325,\n",
       "         0.3456574 , -2.6916993 ],\n",
       "       [ 0.76031333,  0.15533613, -0.39618683, ..., -0.76201767,\n",
       "         0.69359684, -2.4768147 ]], dtype=float32)"
      ]
     },
     "execution_count": 617,
     "metadata": {},
     "output_type": "execute_result"
    }
   ],
   "source": [
    "X_train_processed_mean"
   ]
  },
  {
   "cell_type": "code",
   "execution_count": 588,
   "metadata": {},
   "outputs": [],
   "source": [
    "X_test_processed_mean = vectorizer.transform(X_test_processed['tweet_text'])"
   ]
  },
  {
   "cell_type": "code",
   "execution_count": 589,
   "metadata": {},
   "outputs": [
    {
     "data": {
      "text/plain": [
       "10"
      ]
     },
     "execution_count": 589,
     "metadata": {},
     "output_type": "execute_result"
    }
   ],
   "source": [
    "len(X_test_processed_mean[0])"
   ]
  },
  {
   "cell_type": "code",
   "execution_count": 590,
   "metadata": {},
   "outputs": [
    {
     "data": {
      "text/plain": [
       "array([[-5.86643994e-01, -3.01160955e+00, -2.41641951e+00, ...,\n",
       "         1.67354369e+00,  1.07939065e+00, -2.23581457e+00],\n",
       "       [ 7.73102492e-02, -1.06957221e+00, -1.36309874e+00, ...,\n",
       "         1.49245597e-02,  3.99593145e-01, -2.33504581e+00],\n",
       "       [ 1.95715204e-01, -7.35991299e-01, -6.52222812e-01, ...,\n",
       "         3.94339532e-01,  1.15929715e-01, -1.22667658e+00],\n",
       "       ...,\n",
       "       [ 2.15317950e-01, -6.36330783e-01, -7.28735924e-01, ...,\n",
       "         1.52555764e-01,  2.44872585e-01, -1.74201393e+00],\n",
       "       [ 5.43768518e-03, -7.38498032e-01, -9.34674799e-01, ...,\n",
       "         1.75071627e-01,  6.83442652e-02, -1.76145113e+00],\n",
       "       [ 1.83240652e-01, -3.65084380e-01, -5.34946620e-01, ...,\n",
       "        -2.51860172e-03,  6.04288019e-02, -1.29306495e+00]], dtype=float32)"
      ]
     },
     "execution_count": 590,
     "metadata": {},
     "output_type": "execute_result"
    }
   ],
   "source": [
    "X_test_processed_mean"
   ]
  },
  {
   "cell_type": "code",
   "execution_count": 591,
   "metadata": {},
   "outputs": [
    {
     "name": "stdout",
     "output_type": "stream",
     "text": [
      "(6819, 10) (6819, 4)\n",
      "(2273, 10) (2273, 4)\n"
     ]
    }
   ],
   "source": [
    "print(X_train_processed_mean.shape, y_train.shape)\n",
    "print(X_test_processed_mean.shape, y_test.shape)"
   ]
  },
  {
   "cell_type": "code",
   "execution_count": 592,
   "metadata": {},
   "outputs": [],
   "source": [
    "X_train = X_train_processed_mean\n",
    "X_test = X_test_processed_mean"
   ]
  },
  {
   "cell_type": "code",
   "execution_count": 593,
   "metadata": {},
   "outputs": [
    {
     "data": {
      "text/plain": [
       "(6819, 10)"
      ]
     },
     "execution_count": 593,
     "metadata": {},
     "output_type": "execute_result"
    }
   ],
   "source": [
    "X_train.shape"
   ]
  },
  {
   "cell_type": "code",
   "execution_count": 594,
   "metadata": {},
   "outputs": [],
   "source": [
    "def visualize_training_results(results):\n",
    "    history = results.history\n",
    "    plt.figure()\n",
    "    plt.plot(history['val_loss'])\n",
    "    plt.plot(history['loss'])\n",
    "    plt.legend(['val_loss', 'loss'])\n",
    "    plt.title('Loss')\n",
    "    plt.xlabel('Epochs')\n",
    "    plt.ylabel('Loss')\n",
    "    plt.show()\n",
    "    \n",
    "    plt.figure()\n",
    "    plt.plot(history['val_acc'])\n",
    "    plt.plot(history['acc'])\n",
    "    plt.legend(['val_acc', 'acc'])\n",
    "    plt.title('Accuracy')\n",
    "    plt.xlabel('Epochs')\n",
    "    plt.ylabel('Accuracy')\n",
    "    plt.show()"
   ]
  },
  {
   "cell_type": "markdown",
   "metadata": {},
   "source": [
    "### LSTM Model 4"
   ]
  },
  {
   "cell_type": "markdown",
   "metadata": {},
   "source": [
    "#### Early Stopping"
   ]
  },
  {
   "cell_type": "code",
   "execution_count": 595,
   "metadata": {},
   "outputs": [],
   "source": [
    "# Import EarlyStopping and ModelCheckpoint\n",
    "from keras.callbacks import EarlyStopping, ModelCheckpoint\n",
    "\n",
    "# Define the callbacks\n",
    "early_stopping = [EarlyStopping(monitor='val_loss', patience=10), \n",
    "                  ModelCheckpoint(filepath='best_model_2.h5', monitor='val_loss', save_best_only=True)]"
   ]
  },
  {
   "cell_type": "markdown",
   "metadata": {},
   "source": [
    "First up, LSTM, like all layers in Keras, accepts two arguments: input_shape and batch_input_shape. The difference is in convention that input_shape does not contain the batch size, while batch_input_shape is the full input shape including the batch size.\n",
    "\n",
    "Hence, the specification input_shape=(None, 20, 64) tells keras to expect a 4-dimensional input, which is not what you want. The correct would have been just (20,).\n",
    "\n",
    "But that's not all. LSTM layer is a recurrent layer, hence it expects a 3-dimensional input (batch_size, timesteps, input_dim). That's why the correct specification is input_shape=(20, 1) or batch_input_shape=(10000, 20, 1). Plus, your training array should also be reshaped to denote that it has 20 time steps and 1 input feature per each step."
   ]
  },
  {
   "cell_type": "code",
   "execution_count": 596,
   "metadata": {},
   "outputs": [],
   "source": [
    "X_train = np.expand_dims(X_train, 2) # makes it (6819, 200, 1)"
   ]
  },
  {
   "cell_type": "code",
   "execution_count": 597,
   "metadata": {},
   "outputs": [
    {
     "data": {
      "text/plain": [
       "(10, 1)"
      ]
     },
     "execution_count": 597,
     "metadata": {},
     "output_type": "execute_result"
    }
   ],
   "source": [
    "X_train[0].shape"
   ]
  },
  {
   "cell_type": "code",
   "execution_count": 609,
   "metadata": {},
   "outputs": [],
   "source": [
    "model_lstm_2 = models.Sequential()\n",
    "\n",
    "# model_lstm_2.add(Embedding(input_dim = 2000, output_dim = 50, input_length = 200))\n",
    "# model_lstm_2.add(SpatialDropout1D(0.3))\n",
    "model_lstm_2.add(LSTM(5, input_shape=(10,1)))\n",
    "model_lstm_2.add(Dropout(0.3))\n",
    "# model_lstm_2.add(Dense(5, activation = 'relu'))\n",
    "# model_lstm_2.add(Dropout(0.3))\n",
    "model_lstm_2.add(Dense(4, activation = 'softmax'))\n",
    "\n",
    "model_lstm_2.compile(\n",
    "    loss='categorical_crossentropy',\n",
    "    optimizer='adam',\n",
    "    metrics=['accuracy']\n",
    ")"
   ]
  },
  {
   "cell_type": "code",
   "execution_count": 610,
   "metadata": {},
   "outputs": [
    {
     "name": "stdout",
     "output_type": "stream",
     "text": [
      "Train on 5455 samples, validate on 1364 samples\n",
      "Epoch 1/70\n",
      "5455/5455 [==============================] - 6s 1ms/step - loss: 1.3881 - acc: 0.3162 - val_loss: 1.3783 - val_acc: 0.3130\n",
      "Epoch 2/70\n",
      "5455/5455 [==============================] - 0s 41us/step - loss: 1.3708 - acc: 0.3272 - val_loss: 1.3607 - val_acc: 0.3145\n",
      "Epoch 3/70\n",
      "5455/5455 [==============================] - 0s 41us/step - loss: 1.3531 - acc: 0.3435 - val_loss: 1.3438 - val_acc: 0.3534\n",
      "Epoch 4/70\n",
      "5455/5455 [==============================] - 0s 42us/step - loss: 1.3370 - acc: 0.3701 - val_loss: 1.3272 - val_acc: 0.3563\n",
      "Epoch 5/70\n",
      "5455/5455 [==============================] - 0s 42us/step - loss: 1.3205 - acc: 0.3877 - val_loss: 1.3102 - val_acc: 0.3651\n",
      "Epoch 6/70\n",
      "5455/5455 [==============================] - 0s 42us/step - loss: 1.3045 - acc: 0.4163 - val_loss: 1.2924 - val_acc: 0.3790\n",
      "Epoch 7/70\n",
      "5455/5455 [==============================] - 0s 43us/step - loss: 1.2867 - acc: 0.4315 - val_loss: 1.2731 - val_acc: 0.4091\n",
      "Epoch 8/70\n",
      "5455/5455 [==============================] - 0s 65us/step - loss: 1.2663 - acc: 0.4590 - val_loss: 1.2516 - val_acc: 0.4868\n",
      "Epoch 9/70\n",
      "5455/5455 [==============================] - 0s 50us/step - loss: 1.2462 - acc: 0.4770 - val_loss: 1.2270 - val_acc: 0.5513\n",
      "Epoch 10/70\n",
      "5455/5455 [==============================] - 0s 43us/step - loss: 1.2213 - acc: 0.5155 - val_loss: 1.1986 - val_acc: 0.6078\n",
      "Epoch 11/70\n",
      "5455/5455 [==============================] - 0s 43us/step - loss: 1.1933 - acc: 0.5283 - val_loss: 1.1651 - val_acc: 0.6070\n",
      "Epoch 12/70\n",
      "5455/5455 [==============================] - 0s 59us/step - loss: 1.1608 - acc: 0.5577 - val_loss: 1.1258 - val_acc: 0.6070\n",
      "Epoch 13/70\n",
      "5455/5455 [==============================] - 1s 101us/step - loss: 1.1253 - acc: 0.5657 - val_loss: 1.0817 - val_acc: 0.6070\n",
      "Epoch 14/70\n",
      "5455/5455 [==============================] - 0s 47us/step - loss: 1.0866 - acc: 0.5676 - val_loss: 1.0382 - val_acc: 0.6070\n",
      "Epoch 15/70\n",
      "5455/5455 [==============================] - 0s 44us/step - loss: 1.0544 - acc: 0.5738 - val_loss: 1.0001 - val_acc: 0.6070\n",
      "Epoch 16/70\n",
      "5455/5455 [==============================] - 0s 45us/step - loss: 1.0345 - acc: 0.5677 - val_loss: 0.9735 - val_acc: 0.6070\n",
      "Epoch 17/70\n",
      "5455/5455 [==============================] - 0s 45us/step - loss: 1.0222 - acc: 0.5610 - val_loss: 0.9565 - val_acc: 0.6070\n",
      "Epoch 18/70\n",
      "5455/5455 [==============================] - 0s 47us/step - loss: 1.0056 - acc: 0.5626 - val_loss: 0.9456 - val_acc: 0.6070\n",
      "Epoch 19/70\n",
      "5455/5455 [==============================] - 1s 128us/step - loss: 0.9998 - acc: 0.5621 - val_loss: 0.9385 - val_acc: 0.6070\n",
      "Epoch 20/70\n",
      "5455/5455 [==============================] - 0s 49us/step - loss: 1.0000 - acc: 0.5593 - val_loss: 0.9344 - val_acc: 0.6070\n",
      "Epoch 21/70\n",
      "5455/5455 [==============================] - 0s 47us/step - loss: 0.9922 - acc: 0.5595 - val_loss: 0.9311 - val_acc: 0.6070\n",
      "Epoch 22/70\n",
      "5455/5455 [==============================] - 0s 45us/step - loss: 0.9840 - acc: 0.5721 - val_loss: 0.9279 - val_acc: 0.6070\n",
      "Epoch 23/70\n",
      "5455/5455 [==============================] - 0s 44us/step - loss: 0.9848 - acc: 0.5716 - val_loss: 0.9256 - val_acc: 0.6070\n",
      "Epoch 24/70\n",
      "5455/5455 [==============================] - 0s 46us/step - loss: 0.9802 - acc: 0.5657 - val_loss: 0.9235 - val_acc: 0.6070\n",
      "Epoch 25/70\n",
      "5455/5455 [==============================] - 0s 44us/step - loss: 0.9787 - acc: 0.5599 - val_loss: 0.9218 - val_acc: 0.6070\n",
      "Epoch 26/70\n",
      "5455/5455 [==============================] - 0s 43us/step - loss: 0.9767 - acc: 0.5650 - val_loss: 0.9193 - val_acc: 0.6070\n",
      "Epoch 27/70\n",
      "5455/5455 [==============================] - 0s 43us/step - loss: 0.9767 - acc: 0.5723 - val_loss: 0.9183 - val_acc: 0.6070\n",
      "Epoch 28/70\n",
      "5455/5455 [==============================] - 0s 45us/step - loss: 0.9741 - acc: 0.5698 - val_loss: 0.9174 - val_acc: 0.6070\n",
      "Epoch 29/70\n",
      "5455/5455 [==============================] - 0s 45us/step - loss: 0.9712 - acc: 0.5738 - val_loss: 0.9166 - val_acc: 0.6070\n",
      "Epoch 30/70\n",
      "5455/5455 [==============================] - 0s 47us/step - loss: 0.9725 - acc: 0.5659 - val_loss: 0.9153 - val_acc: 0.6070\n",
      "Epoch 31/70\n",
      "5455/5455 [==============================] - 0s 81us/step - loss: 0.9702 - acc: 0.5685 - val_loss: 0.9143 - val_acc: 0.6070\n",
      "Epoch 32/70\n",
      "5455/5455 [==============================] - 1s 147us/step - loss: 0.9684 - acc: 0.5690 - val_loss: 0.9133 - val_acc: 0.6070\n",
      "Epoch 33/70\n",
      "5455/5455 [==============================] - 0s 62us/step - loss: 0.9619 - acc: 0.5749 - val_loss: 0.9125 - val_acc: 0.6070\n",
      "Epoch 34/70\n",
      "5455/5455 [==============================] - 0s 44us/step - loss: 0.9655 - acc: 0.5756 - val_loss: 0.9113 - val_acc: 0.6070\n",
      "Epoch 35/70\n",
      "5455/5455 [==============================] - 0s 44us/step - loss: 0.9614 - acc: 0.5727 - val_loss: 0.9103 - val_acc: 0.6070\n",
      "Epoch 36/70\n",
      "5455/5455 [==============================] - 0s 44us/step - loss: 0.9562 - acc: 0.5751 - val_loss: 0.9093 - val_acc: 0.6070\n",
      "Epoch 37/70\n",
      "5455/5455 [==============================] - 0s 45us/step - loss: 0.9562 - acc: 0.5787 - val_loss: 0.9084 - val_acc: 0.6070\n",
      "Epoch 38/70\n",
      "5455/5455 [==============================] - 0s 44us/step - loss: 0.9584 - acc: 0.5786 - val_loss: 0.9078 - val_acc: 0.6070\n",
      "Epoch 39/70\n",
      "5455/5455 [==============================] - 0s 45us/step - loss: 0.9572 - acc: 0.5762 - val_loss: 0.9074 - val_acc: 0.6070\n",
      "Epoch 40/70\n",
      "5455/5455 [==============================] - 0s 46us/step - loss: 0.9554 - acc: 0.5725 - val_loss: 0.9067 - val_acc: 0.6070\n",
      "Epoch 41/70\n",
      "5455/5455 [==============================] - 0s 43us/step - loss: 0.9565 - acc: 0.5727 - val_loss: 0.9064 - val_acc: 0.6070\n",
      "Epoch 42/70\n",
      "5455/5455 [==============================] - 0s 47us/step - loss: 0.9483 - acc: 0.5842 - val_loss: 0.9060 - val_acc: 0.6070\n",
      "Epoch 43/70\n",
      "5455/5455 [==============================] - 0s 45us/step - loss: 0.9490 - acc: 0.5802 - val_loss: 0.9053 - val_acc: 0.6070\n",
      "Epoch 44/70\n",
      "5455/5455 [==============================] - 0s 48us/step - loss: 0.9485 - acc: 0.5795 - val_loss: 0.9043 - val_acc: 0.6070\n",
      "Epoch 45/70\n",
      "5455/5455 [==============================] - 1s 104us/step - loss: 0.9487 - acc: 0.5786 - val_loss: 0.9041 - val_acc: 0.6070\n",
      "Epoch 46/70\n",
      "5455/5455 [==============================] - 0s 46us/step - loss: 0.9478 - acc: 0.5765 - val_loss: 0.9042 - val_acc: 0.6070\n",
      "Epoch 47/70\n",
      "5455/5455 [==============================] - 0s 44us/step - loss: 0.9528 - acc: 0.5753 - val_loss: 0.9036 - val_acc: 0.6070\n",
      "Epoch 48/70\n",
      "5455/5455 [==============================] - 0s 45us/step - loss: 0.9513 - acc: 0.5797 - val_loss: 0.9031 - val_acc: 0.6070\n",
      "Epoch 49/70\n",
      "5455/5455 [==============================] - 0s 44us/step - loss: 0.9481 - acc: 0.5839 - val_loss: 0.9033 - val_acc: 0.6070\n",
      "Epoch 50/70\n",
      "5455/5455 [==============================] - 0s 77us/step - loss: 0.9462 - acc: 0.5817 - val_loss: 0.9029 - val_acc: 0.6070\n",
      "Epoch 51/70\n",
      "5455/5455 [==============================] - 0s 72us/step - loss: 0.9479 - acc: 0.5798 - val_loss: 0.9027 - val_acc: 0.6070\n",
      "Epoch 52/70\n",
      "5455/5455 [==============================] - 0s 48us/step - loss: 0.9446 - acc: 0.5780 - val_loss: 0.9021 - val_acc: 0.6070\n",
      "Epoch 53/70\n",
      "5455/5455 [==============================] - 0s 47us/step - loss: 0.9423 - acc: 0.5831 - val_loss: 0.9013 - val_acc: 0.6070\n",
      "Epoch 54/70\n",
      "5455/5455 [==============================] - 0s 84us/step - loss: 0.9390 - acc: 0.5870 - val_loss: 0.9014 - val_acc: 0.6070\n",
      "Epoch 55/70\n",
      "5455/5455 [==============================] - 0s 78us/step - loss: 0.9442 - acc: 0.5855 - val_loss: 0.9009 - val_acc: 0.6070\n",
      "Epoch 56/70\n",
      "5455/5455 [==============================] - 0s 54us/step - loss: 0.9398 - acc: 0.5828 - val_loss: 0.9009 - val_acc: 0.6070\n",
      "Epoch 57/70\n",
      "5455/5455 [==============================] - 0s 45us/step - loss: 0.9433 - acc: 0.5793 - val_loss: 0.9006 - val_acc: 0.6070\n",
      "Epoch 58/70\n",
      "5455/5455 [==============================] - 0s 60us/step - loss: 0.9398 - acc: 0.5844 - val_loss: 0.9005 - val_acc: 0.6070\n",
      "Epoch 59/70\n",
      "5455/5455 [==============================] - 0s 62us/step - loss: 0.9394 - acc: 0.5846 - val_loss: 0.9004 - val_acc: 0.6070\n",
      "Epoch 60/70\n",
      "5455/5455 [==============================] - 0s 49us/step - loss: 0.9412 - acc: 0.5839 - val_loss: 0.9002 - val_acc: 0.6070\n",
      "Epoch 61/70\n",
      "5455/5455 [==============================] - 0s 43us/step - loss: 0.9368 - acc: 0.5855 - val_loss: 0.8998 - val_acc: 0.6070\n",
      "Epoch 62/70\n",
      "5455/5455 [==============================] - 0s 44us/step - loss: 0.9402 - acc: 0.5853 - val_loss: 0.8997 - val_acc: 0.6070\n",
      "Epoch 63/70\n",
      "5455/5455 [==============================] - 0s 44us/step - loss: 0.9376 - acc: 0.5874 - val_loss: 0.8997 - val_acc: 0.6070\n",
      "Epoch 64/70\n",
      "5455/5455 [==============================] - 0s 43us/step - loss: 0.9343 - acc: 0.5890 - val_loss: 0.8994 - val_acc: 0.6070\n",
      "Epoch 65/70\n",
      "5455/5455 [==============================] - 0s 44us/step - loss: 0.9363 - acc: 0.5907 - val_loss: 0.8992 - val_acc: 0.6070\n",
      "Epoch 66/70\n",
      "5455/5455 [==============================] - 0s 52us/step - loss: 0.9370 - acc: 0.5885 - val_loss: 0.8989 - val_acc: 0.6070\n",
      "Epoch 67/70\n",
      "5455/5455 [==============================] - 0s 47us/step - loss: 0.9370 - acc: 0.5868 - val_loss: 0.8996 - val_acc: 0.6070\n",
      "Epoch 68/70\n",
      "5455/5455 [==============================] - 0s 49us/step - loss: 0.9333 - acc: 0.5890 - val_loss: 0.8988 - val_acc: 0.6070\n",
      "Epoch 69/70\n",
      "5455/5455 [==============================] - 0s 47us/step - loss: 0.9377 - acc: 0.5890 - val_loss: 0.8985 - val_acc: 0.6070\n",
      "Epoch 70/70\n",
      "5455/5455 [==============================] - 1s 98us/step - loss: 0.9342 - acc: 0.5888 - val_loss: 0.8985 - val_acc: 0.6070\n"
     ]
    }
   ],
   "source": [
    "history = model_lstm_2.fit(\n",
    "    X_train,\n",
    "    y_train,\n",
    "    validation_split = 0.2,\n",
    "    callbacks=early_stopping,\n",
    "    epochs = 70,\n",
    "    batch_size = 500\n",
    ")"
   ]
  },
  {
   "cell_type": "code",
   "execution_count": 611,
   "metadata": {},
   "outputs": [
    {
     "data": {
      "image/png": "[encoded data removed]",
      "text/plain": [
       "<Figure size 576x396 with 1 Axes>"
      ]
     },
     "metadata": {},
     "output_type": "display_data"
    },
    {
     "data": {
      "image/png": "[encoded data removed]",
      "text/plain": [
       "<Figure size 576x396 with 1 Axes>"
      ]
     },
     "metadata": {},
     "output_type": "display_data"
    }
   ],
   "source": [
    "visualize_training_results(history)"
   ]
  },
  {
   "cell_type": "markdown",
   "metadata": {},
   "source": [
    "### LSTM Model 3"
   ]
  },
  {
   "cell_type": "code",
   "execution_count": 512,
   "metadata": {},
   "outputs": [],
   "source": [
    "# Define the callbacks\n",
    "early_stopping = [EarlyStopping(monitor='val_loss', patience=10), \n",
    "                  ModelCheckpoint(filepath='best_model_3.h5', monitor='val_loss', save_best_only=True)]"
   ]
  },
  {
   "cell_type": "code",
   "execution_count": 520,
   "metadata": {},
   "outputs": [],
   "source": [
    "model_lstm_3 = models.Sequential()\n",
    "\n",
    "\n",
    "model_lstm_3.add(Dropout(0.5))\n",
    "model_lstm_3.add(LSTM(50))\n",
    "model_lstm_3.add(Dropout(0.5))\n",
    "model_lstm_3.add(Dense(25, activation = 'relu'))\n",
    "model_lstm_3.add(Dropout(0.5))\n",
    "\n",
    "model_lstm_3.add(Dense(4, activation = 'softmax'))\n",
    "\n",
    "model_lstm_3.compile(\n",
    "    loss='categorical_crossentropy',\n",
    "    optimizer='adam',\n",
    "    metrics=['accuracy']\n",
    ")"
   ]
  },
  {
   "cell_type": "code",
   "execution_count": 521,
   "metadata": {},
   "outputs": [
    {
     "name": "stdout",
     "output_type": "stream",
     "text": [
      "Train on 5455 samples, validate on 1364 samples\n",
      "Epoch 1/32\n",
      "5455/5455 [==============================] - 12s 2ms/step - loss: 1.3582 - acc: 0.5072 - val_loss: 1.3105 - val_acc: 0.6070\n",
      "Epoch 2/32\n",
      "5455/5455 [==============================] - 10s 2ms/step - loss: 1.2383 - acc: 0.5575 - val_loss: 1.0081 - val_acc: 0.6070\n",
      "Epoch 3/32\n",
      "5455/5455 [==============================] - 9s 2ms/step - loss: 1.0631 - acc: 0.5531 - val_loss: 0.9841 - val_acc: 0.6070\n",
      "Epoch 4/32\n",
      "5455/5455 [==============================] - 9s 2ms/step - loss: 1.0392 - acc: 0.5364 - val_loss: 0.9150 - val_acc: 0.6070\n",
      "Epoch 5/32\n",
      "5455/5455 [==============================] - 9s 2ms/step - loss: 1.0148 - acc: 0.5446 - val_loss: 0.9244 - val_acc: 0.6070\n",
      "Epoch 6/32\n",
      "5455/5455 [==============================] - 8s 2ms/step - loss: 1.0002 - acc: 0.5553 - val_loss: 0.9129 - val_acc: 0.6070\n",
      "Epoch 7/32\n",
      "5455/5455 [==============================] - 10s 2ms/step - loss: 0.9905 - acc: 0.5615 - val_loss: 0.9131 - val_acc: 0.6070\n",
      "Epoch 8/32\n",
      "5455/5455 [==============================] - 9s 2ms/step - loss: 0.9865 - acc: 0.5632 - val_loss: 0.9080 - val_acc: 0.6070\n",
      "Epoch 9/32\n",
      "5455/5455 [==============================] - 8s 1ms/step - loss: 0.9886 - acc: 0.5666 - val_loss: 0.9132 - val_acc: 0.6070\n",
      "Epoch 10/32\n",
      "5455/5455 [==============================] - 9s 2ms/step - loss: 0.9840 - acc: 0.5688 - val_loss: 0.9094 - val_acc: 0.6070\n",
      "Epoch 11/32\n",
      "5455/5455 [==============================] - 10s 2ms/step - loss: 0.9792 - acc: 0.5727 - val_loss: 0.9086 - val_acc: 0.6070\n",
      "Epoch 12/32\n",
      "5455/5455 [==============================] - 12s 2ms/step - loss: 0.9693 - acc: 0.5804 - val_loss: 0.9048 - val_acc: 0.6070\n",
      "Epoch 13/32\n",
      "5455/5455 [==============================] - 10s 2ms/step - loss: 0.9639 - acc: 0.5749 - val_loss: 0.9060 - val_acc: 0.6070\n",
      "Epoch 14/32\n",
      "5455/5455 [==============================] - 14s 3ms/step - loss: 0.9689 - acc: 0.5797 - val_loss: 0.9054 - val_acc: 0.6070\n",
      "Epoch 15/32\n",
      "5455/5455 [==============================] - 8s 2ms/step - loss: 0.9708 - acc: 0.5824 - val_loss: 0.9081 - val_acc: 0.6070\n",
      "Epoch 16/32\n",
      "5455/5455 [==============================] - 8s 1ms/step - loss: 0.9642 - acc: 0.5813 - val_loss: 0.9034 - val_acc: 0.6070\n",
      "Epoch 17/32\n",
      "5455/5455 [==============================] - 7s 1ms/step - loss: 0.9596 - acc: 0.5833 - val_loss: 0.9058 - val_acc: 0.6070\n",
      "Epoch 18/32\n",
      "5455/5455 [==============================] - 8s 1ms/step - loss: 0.9575 - acc: 0.5848 - val_loss: 0.9037 - val_acc: 0.6070\n",
      "Epoch 19/32\n",
      "5455/5455 [==============================] - 7s 1ms/step - loss: 0.9529 - acc: 0.5863 - val_loss: 0.9049 - val_acc: 0.6070\n",
      "Epoch 20/32\n",
      "5455/5455 [==============================] - 7s 1ms/step - loss: 0.9568 - acc: 0.5852 - val_loss: 0.9035 - val_acc: 0.6070\n",
      "Epoch 21/32\n",
      "5455/5455 [==============================] - 7s 1ms/step - loss: 0.9495 - acc: 0.5872 - val_loss: 0.9025 - val_acc: 0.6070\n",
      "Epoch 22/32\n",
      "5455/5455 [==============================] - 9s 2ms/step - loss: 0.9545 - acc: 0.5881 - val_loss: 0.9050 - val_acc: 0.6070\n",
      "Epoch 23/32\n",
      "5455/5455 [==============================] - 7s 1ms/step - loss: 0.9548 - acc: 0.5910 - val_loss: 0.9034 - val_acc: 0.6070\n",
      "Epoch 24/32\n",
      "5455/5455 [==============================] - 8s 1ms/step - loss: 0.9528 - acc: 0.5916 - val_loss: 0.9045 - val_acc: 0.6070\n",
      "Epoch 25/32\n",
      "5455/5455 [==============================] - 7s 1ms/step - loss: 0.9496 - acc: 0.5901 - val_loss: 0.9017 - val_acc: 0.6070\n",
      "Epoch 26/32\n",
      "5455/5455 [==============================] - 7s 1ms/step - loss: 0.9524 - acc: 0.5927 - val_loss: 0.9031 - val_acc: 0.6070\n",
      "Epoch 27/32\n",
      "5455/5455 [==============================] - 11s 2ms/step - loss: 0.9473 - acc: 0.5921 - val_loss: 0.9027 - val_acc: 0.6070\n",
      "Epoch 28/32\n",
      "5455/5455 [==============================] - 10s 2ms/step - loss: 0.9440 - acc: 0.5925 - val_loss: 0.9011 - val_acc: 0.6070\n",
      "Epoch 29/32\n",
      "5455/5455 [==============================] - 9s 2ms/step - loss: 0.9502 - acc: 0.5923 - val_loss: 0.9036 - val_acc: 0.6070\n",
      "Epoch 30/32\n",
      "5455/5455 [==============================] - 8s 1ms/step - loss: 0.9457 - acc: 0.5934 - val_loss: 0.9019 - val_acc: 0.6070\n",
      "Epoch 31/32\n",
      "5455/5455 [==============================] - 9s 2ms/step - loss: 0.9438 - acc: 0.5925 - val_loss: 0.9023 - val_acc: 0.6070\n",
      "Epoch 32/32\n",
      "5455/5455 [==============================] - 7s 1ms/step - loss: 0.9478 - acc: 0.5936 - val_loss: 0.9021 - val_acc: 0.6070\n"
     ]
    }
   ],
   "source": [
    "history_3 = model_lstm_3.fit(\n",
    "    X_train,\n",
    "    y_train,\n",
    "    validation_split = 0.2,\n",
    "    callbacks=early_stopping,\n",
    "    epochs = 32,\n",
    "    batch_size = 500\n",
    ")"
   ]
  },
  {
   "cell_type": "code",
   "execution_count": 522,
   "metadata": {},
   "outputs": [
    {
     "data": {
      "image/png": "[encoded data removed]",
      "text/plain": [
       "<Figure size 576x396 with 1 Axes>"
      ]
     },
     "metadata": {},
     "output_type": "display_data"
    },
    {
     "data": {
      "image/png": "[encoded data removed]",
      "text/plain": [
       "<Figure size 576x396 with 1 Axes>"
      ]
     },
     "metadata": {},
     "output_type": "display_data"
    }
   ],
   "source": [
    "visualize_training_results(history_3)"
   ]
  },
  {
   "cell_type": "code",
   "execution_count": 450,
   "metadata": {},
   "outputs": [],
   "source": [
    "from sklearn.ensemble import RandomForestClassifier\n",
    "from sklearn.svm import SVC\n",
    "from sklearn.linear_model import LogisticRegression\n",
    "from sklearn.pipeline import Pipeline\n",
    "from sklearn.model_selection import cross_val_score\n",
    "\n",
    "rf =  Pipeline([('Word2Vec Vectorizer', W2vVectorizer(w2v_dict)),\n",
    "              ('Random Forest', RandomForestClassifier(n_estimators=100, verbose=True))])\n",
    "svc = Pipeline([('Word2Vec Vectorizer', W2vVectorizer(w2v_dict)),\n",
    "                ('Support Vector Machine', SVC())])\n",
    "lr = Pipeline([('Word2Vec Vectorizer', W2vVectorizer(w2v_dict)),\n",
    "              ('Logistic Regression', LogisticRegression())])"
   ]
  },
  {
   "cell_type": "code",
   "execution_count": 456,
   "metadata": {},
   "outputs": [
    {
     "data": {
      "text/plain": [
       "0       [wesley83, 3g, iphone, 3, hrs, tweeting, rise_...\n",
       "1       [jessedee, know, fludapp, awesome, ipad/iphone...\n",
       "2           [swonderlin, wait, ipad, 2, also, sale, sxsw]\n",
       "3       [sxsw, hope, year, 's, festival, n't, crashy, ...\n",
       "4       [sxtxstate, great, stuff, fri, sxsw, marissa, ...\n",
       "                              ...                        \n",
       "9088                       [ipad, everywhere, sxsw, link]\n",
       "9089    [wave, buzz, rt, mention, interrupt, regularly...\n",
       "9090    [google, 's, zeiger, physician, never, reporte...\n",
       "9091    [verizon, iphone, customers, complained, time,...\n",
       "9092    [ï¡ïàü_êîò£áââ_£â_ûârt,...\n",
       "Name: tweet_text, Length: 9092, dtype: object"
      ]
     },
     "execution_count": 456,
     "metadata": {},
     "output_type": "execute_result"
    }
   ],
   "source": [
    "data_processed['tweet_text']"
   ]
  },
  {
   "cell_type": "code",
   "execution_count": 455,
   "metadata": {},
   "outputs": [
    {
     "data": {
      "text/plain": [
       "array([[0., 1., 0., 0.],\n",
       "       [0., 0., 0., 1.],\n",
       "       [0., 0., 0., 1.],\n",
       "       ...,\n",
       "       [0., 0., 1., 0.],\n",
       "       [0., 0., 1., 0.],\n",
       "       [0., 0., 1., 0.]], dtype=float32)"
      ]
     },
     "execution_count": 455,
     "metadata": {},
     "output_type": "execute_result"
    }
   ],
   "source": [
    "target"
   ]
  },
  {
   "cell_type": "code",
   "execution_count": 457,
   "metadata": {},
   "outputs": [],
   "source": [
    "models = [('Random Forest', rf),\n",
    "          ('Support Vector Machine', svc),\n",
    "          ('Logistic Regression', lr)]"
   ]
  },
  {
   "cell_type": "code",
   "execution_count": 458,
   "metadata": {},
   "outputs": [
    {
     "name": "stderr",
     "output_type": "stream",
     "text": [
      "[Parallel(n_jobs=1)]: Using backend SequentialBackend with 1 concurrent workers.\n",
      "[Parallel(n_jobs=1)]: Done 100 out of 100 | elapsed:    7.2s finished\n",
      "[Parallel(n_jobs=1)]: Using backend SequentialBackend with 1 concurrent workers.\n",
      "[Parallel(n_jobs=1)]: Done 100 out of 100 | elapsed:    0.3s finished\n",
      "[Parallel(n_jobs=1)]: Using backend SequentialBackend with 1 concurrent workers.\n",
      "[Parallel(n_jobs=1)]: Done 100 out of 100 | elapsed:    7.3s finished\n",
      "[Parallel(n_jobs=1)]: Using backend SequentialBackend with 1 concurrent workers.\n",
      "[Parallel(n_jobs=1)]: Done 100 out of 100 | elapsed:    0.3s finished\n"
     ]
    }
   ],
   "source": [
    "# ⏰ This cell may take several minutes to run\n",
    "scores = [(name, cross_val_score(model, data_processed['tweet_text'], target, cv=2).mean()) for name, model, in models]"
   ]
  },
  {
   "cell_type": "code",
   "execution_count": 459,
   "metadata": {},
   "outputs": [
    {
     "data": {
      "text/plain": [
       "[('Random Forest', 0.5073691157061153),\n",
       " ('Support Vector Machine', nan),\n",
       " ('Logistic Regression', nan)]"
      ]
     },
     "execution_count": 459,
     "metadata": {},
     "output_type": "execute_result"
    }
   ],
   "source": [
    "scores"
   ]
  },
  {
   "cell_type": "code",
   "execution_count": null,
   "metadata": {},
   "outputs": [],
   "source": []
  }
 ],
 "metadata": {
  "kernelspec": {
   "display_name": "learn-env",
   "language": "python",
   "name": "learn-env"
  },
  "language_info": {
   "codemirror_mode": {
    "name": "ipython",
    "version": 3
   },
   "file_extension": ".py",
   "mimetype": "text/x-python",
   "name": "python",
   "nbconvert_exporter": "python",
   "pygments_lexer": "ipython3",
   "version": "3.6.9"
  }
 },
 "nbformat": 4,
 "nbformat_minor": 4
}
